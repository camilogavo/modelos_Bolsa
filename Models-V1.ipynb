{
 "cells": [
  {
   "cell_type": "code",
   "execution_count": 37,
   "metadata": {},
   "outputs": [],
   "source": [
    "library(tidyverse)\n",
    "library(lubridate)\n",
    "library(forecast) # Para modelos AR\n",
    "library(readxl)"
   ]
  },
  {
   "cell_type": "code",
   "execution_count": 38,
   "metadata": {},
   "outputs": [],
   "source": [
    "df<-read_csv('df.csv',col_names = TRUE,cols(\n",
    "  Ano = col_double(),\n",
    "  Mes = col_double(),\n",
    "  Ano_Mes = col_character(),\n",
    "  Fecha = col_date(format = \"\"),\n",
    "  Precios_Mensuales = col_double(),\n",
    "  Aportes_Energia_GWh = col_double(),\n",
    "  Volumen_Util_Diario_Energia_GWh = col_double(),\n",
    "  Demanda_Energia_SIN_GWh = col_double(),\n",
    "  ONI = col_double(),\n",
    "  CEN_Total = col_double(),\n",
    "  CEN_Hidro = col_double(),\n",
    "  CEN_Termica = col_double()\n",
    "))"
   ]
  },
  {
   "cell_type": "markdown",
   "metadata": {},
   "source": [
    "# Creacion de funciones"
   ]
  },
  {
   "cell_type": "code",
   "execution_count": 39,
   "metadata": {},
   "outputs": [],
   "source": [
    "oni<-function(df, start_at){\n",
    "    \n",
    "    fechaini<-as.Date(start_at)\n",
    "    \n",
    "    n_pronosticos<-df%>%filter(Fecha>=start_at)%>%select(ONI)%>%nrow\n",
    "    \n",
    "    \n",
    "    while(any(is.na(df$ONI))){\n",
    "        fila<-sum(complete.cases(df$ONI))+1\n",
    "        m<-auto.arima(unlist(unname(df[1:fila-1,'ONI'])),max.q = 0,max.Q = 0,max.d = 0,max.D = 0)\n",
    "        y_est<-round(as.vector(unlist(forecast(m, 24)['mean'])),1)\n",
    "        df$ONI[is.na(df$ONI)]<-y_est\n",
    "    }\n",
    "    #df$ONI[df$Fecha>=as.Date(start_at)]<-round(runif(n_pronosticos,-0.5,0.5),1)\n",
    "    \n",
    "    return(df)\n",
    "}\n",
    "#ok"
   ]
  },
  {
   "cell_type": "code",
   "execution_count": 40,
   "metadata": {},
   "outputs": [],
   "source": [
    "aportes<-function(df, start_at, rezagos_oni=12,rezagos_aportes=24){\n",
    "    \n",
    "    fechaini<-as.Date(start_at)\n",
    "    #n_aleatorios<-df%>%filter(Fecha>=start_at)%>%select(Aportes_Energia_GWh)%>%nrow\n",
    "    #df$Aportes_Energia_GWh[df$Fecha>=as.Date(start_at)]<-round(runif(n_aleatorios,min(df$Aportes_Energia_GWh,na.rm = TRUE),max(df$Aportes_Energia_GWh,na.rm = TRUE)),3)\n",
    "\n",
    "    fecha_forecast<-seq.Date(from = as.Date(fechaini),length.out = 24,by = 'month')  # Meses para iterar\n",
    "\n",
    "    for(i in seq(length(fecha_forecast))){                                       # Inicia el pronostico un paso adelante\n",
    "    \n",
    "        temp<-df%>%select(Fecha, Aportes_Energia_GWh, ONI, Aportes_Normalizados) \n",
    "        rezagos_oni<-rezagos_oni                                                #Rezagos para el ONI (parametrizable)\n",
    "        rezagos_aportes<-rezagos_aportes                                        #Rezagos para los Aportes (parametrizable)\n",
    "\n",
    "        for(j in seq(rezagos_oni)){                                             #Creacion de columnas rezagadas ONI\n",
    "            col_oni<-paste0('ONI_',j)                                           #   \n",
    "            temp[[col_oni]]<-lag(df$ONI,j)                                      #\n",
    "        }                                                                       #\n",
    "\n",
    "        for(k in seq(rezagos_aportes)){                                         #Creacion de columnas rezagadas Aportes\n",
    "            col_aportes<-paste0('Aportes_',k)                                   #\n",
    "            temp[[col_aportes]]<-lag(df$Aportes_Normalizados,k)                 #\n",
    "        }                                                                       #\n",
    "\n",
    "        new_data<-temp\n",
    "        \n",
    "        \n",
    "        \n",
    "        temp<-temp%>%select(-1,-2,-3,Aportes_Normalizados,                      #Elimina Fecha, Aportes_Energia, ONI\n",
    "                                    starts_with('Aportes_[0-9]'),               #Trae los rezagos de Aportes\n",
    "                                    starts_with('ONI_'))                        #Trae los rezagos de ONI\n",
    "\n",
    "\n",
    "        temp<-temp%>%drop_na()                                                  #Elimina las fechas con valores NA\n",
    "\n",
    "        #Aplicamos un modelo Forward Selection\n",
    "        m_FitAll<-lm(Aportes_Normalizados~.,data = temp)                        #Ajusta un modelo con todas las vars\n",
    "        m<-(step(lm(Aportes_Normalizados~1,data=temp),direction = 'forward',scope = formula(m_FitAll),trace = 0))\n",
    "\n",
    "        # Seleccionar solo variables significativas\n",
    "        toselect.x<-summary(m)$coeff[,4] < 0.01                                 #Define el parametro de tolerancia\n",
    "        relevant.x <- names(toselect.x)[toselect.x == TRUE]                  \n",
    "        sig.formula <- as.formula(paste(\"Aportes_Normalizados ~\",paste(relevant.x,collapse = '+'))) \n",
    "\n",
    "        m<-lm(formula = sig.formula,data = temp)                                #Ajusta el modelo final\n",
    "        \n",
    "        y_est<-round(as.vector(unlist(unname(forecast(m,h = 1,newdata = new_data%>%filter(Fecha==fecha_forecast[i]%m+%months(-1))%>%select(Fecha, one_of(names(summary(m)$coeff[-1,1])))%>%select(-Fecha))['mean']))),4)\n",
    "        \n",
    "        df$Aportes_Normalizados[df$Fecha==fecha_forecast[i]]<-y_est\n",
    "\n",
    "    }\n",
    "    \n",
    "    return(df)\n",
    "}"
   ]
  },
  {
   "cell_type": "code",
   "execution_count": 41,
   "metadata": {},
   "outputs": [],
   "source": [
    "reservas<-function(df, start_at, rezagos_aportes, rezagos_oni,rezagos_reserva, rezagos_termica_hidrica){\n",
    "    \n",
    "    fechaini<-as.Date(start_at)\n",
    "    #n_aleatorios<-df%>%filter(Fecha>=start_at)%>%select(Volumen_Util_Diario_Energia_GWh)%>%nrow\n",
    "    #df$Volumen_Util_Diario_Energia_GWh[df$Fecha>=as.Date(start_at)]<-round(runif(n_aleatorios,min(df$Volumen_Util_Diario_Energia_GWh,na.rm = TRUE),max(df$Volumen_Util_Diario_Energia_GWh,na.rm = TRUE)),3)\n",
    "    \n",
    "    fecha_forecast<-seq.Date(from = as.Date(fechaini),length.out = 24,by = 'month')  # Meses para iterar\n",
    "\n",
    "    for(i in seq(length(fecha_forecast))){                                       # Inicia el pronostico un paso adelante\n",
    "    \n",
    "        temp<-df%>%select(Fecha, Aportes_Energia_GWh, ONI, Aportes_Normalizados,Reservas_Normalizadas) \n",
    "        \n",
    "        rezagos_oni<-rezagos_oni                                                #Rezagos para el ONI (parametrizable)\n",
    "        rezagos_aportes<-rezagos_aportes                                        #Rezagos para los Aportes (parametrizable)\n",
    "        rezagos_reserva<-rezagos_reserva\n",
    "        rezagos_termica_hidrica<-rezagos_termica_hidrica\n",
    "        \n",
    "        for(j in seq(rezagos_oni)){                                             #Creacion de columnas rezagadas ONI\n",
    "            col_oni<-paste0('ONI_',j)                                           #   \n",
    "            temp[[col_oni]]<-lag(df$ONI,j)                                      #\n",
    "        }                                                                       #\n",
    "\n",
    "        for(k in seq(rezagos_aportes)){                                         #Creacion de columnas rezagadas Aportes\n",
    "            col_aportes<-paste0('Aportes_',k)                                   #\n",
    "            temp[[col_aportes]]<-lag(df$Aportes_Normalizados,k)                 #\n",
    "        }                                                                       #\n",
    "        \n",
    "        for(p in seq(rezagos_reserva)){                                         #Creacion de columnas rezagadas Aportes\n",
    "            col_reservas<-paste0('Reservas_',p)                                 #\n",
    "            temp[[col_reservas]]<-lag(df$Reservas_Normalizadas,p)               #\n",
    "        }                                                                       #\n",
    "        \n",
    "        for(p in seq(rezagos_termica_hidrica)){                                         #Creacion de columnas rezagadas Aportes\n",
    "            col_calc<-paste0('Term_Hidraulica_',p)                                 #\n",
    "            temp[[col_calc]]<-lag(df$Termica_Hidraulica,p)               #\n",
    "        }                                                                       #\n",
    "\n",
    "\n",
    "\n",
    "        new_data<-temp\n",
    "        \n",
    "        \n",
    "        \n",
    "        temp<-temp%>%select(-1,-2,-3,\n",
    "                                    -Aportes_Normalizados,\n",
    "                                    Reservas_Normalizadas,                     #Elimina Fecha, Aportes_Energia, ONI\n",
    "                                    starts_with('Aportes_[0-9]'),               #Trae los rezagos de Aportes\n",
    "                                    starts_with('Reservas_[0-9]'),              #Trae los rezagos de Reservas\n",
    "                                    starts_with('Term_Hidraulica_[0-9]'),       #Trae los rezagos de Term_Hidraulica (calculada)\n",
    "                                    starts_with('ONI_'))                        #Trae los rezagos de ONI\n",
    "\n",
    "\n",
    "        temp<-temp%>%drop_na()                                                  #Elimina las fechas con valores NA\n",
    "\n",
    "        #Aplicamos un modelo Forward Selection\n",
    "        m_FitAll<-lm(Reservas_Normalizadas~.,data = temp)                        #Ajusta un modelo con todas las vars\n",
    "        m<-(step(lm(Reservas_Normalizadas~1,data=temp),direction = 'forward',scope = formula(m_FitAll),trace = 0))\n",
    "\n",
    "        # Seleccionar solo variables significativas\n",
    "        toselect.x<-summary(m)$coeff[,4] < 0.01                                 #Define el parametro de tolerancia\n",
    "        relevant.x <- names(toselect.x)[toselect.x == TRUE]                  \n",
    "        sig.formula <- as.formula(paste(\"Reservas_Normalizadas ~\",paste(relevant.x,collapse = '+'))) \n",
    "\n",
    "        m<-lm(formula = sig.formula,data = temp)                                #Ajusta el modelo final\n",
    "        y_est<-round(as.vector(unlist(unname(forecast(m,h = 1,newdata = new_data%>%filter(Fecha==fecha_forecast[i]%m+%months(-1))%>%select(Fecha, one_of(names(summary(m)$coeff[-1,1])))%>%select(-Fecha))['mean']))),4)\n",
    "        \n",
    "        df$Reservas_Normalizadas[df$Fecha==fecha_forecast[i]]<-y_est\n",
    "\n",
    "    }\n",
    "\n",
    "\n",
    "    \n",
    "    return(df)\n",
    "}"
   ]
  },
  {
   "cell_type": "code",
   "execution_count": 42,
   "metadata": {},
   "outputs": [
    {
     "data": {
      "text/html": [
       "<table>\n",
       "<caption>A tibble: 1 × 12</caption>\n",
       "<thead>\n",
       "\t<tr><th scope=col>Ano</th><th scope=col>Mes</th><th scope=col>Ano_Mes</th><th scope=col>Fecha</th><th scope=col>Precios_Mensuales</th><th scope=col>Aportes_Energia_GWh</th><th scope=col>Volumen_Util_Diario_Energia_GWh</th><th scope=col>Demanda_Energia_SIN_GWh</th><th scope=col>ONI</th><th scope=col>CEN_Total</th><th scope=col>CEN_Hidro</th><th scope=col>CEN_Termica</th></tr>\n",
       "\t<tr><th scope=col>&lt;dbl&gt;</th><th scope=col>&lt;dbl&gt;</th><th scope=col>&lt;chr&gt;</th><th scope=col>&lt;date&gt;</th><th scope=col>&lt;dbl&gt;</th><th scope=col>&lt;dbl&gt;</th><th scope=col>&lt;dbl&gt;</th><th scope=col>&lt;dbl&gt;</th><th scope=col>&lt;dbl&gt;</th><th scope=col>&lt;dbl&gt;</th><th scope=col>&lt;dbl&gt;</th><th scope=col>&lt;dbl&gt;</th></tr>\n",
       "</thead>\n",
       "<tbody>\n",
       "\t<tr><td>2021</td><td>5</td><td>2021-05</td><td>2021-05-01</td><td>NA</td><td>NA</td><td>NA</td><td>NA</td><td>NA</td><td>13.16023</td><td>8.68223</td><td>4.464</td></tr>\n",
       "</tbody>\n",
       "</table>\n"
      ],
      "text/latex": [
       "A tibble: 1 × 12\n",
       "\\begin{tabular}{r|llllllllllll}\n",
       " Ano & Mes & Ano\\_Mes & Fecha & Precios\\_Mensuales & Aportes\\_Energia\\_GWh & Volumen\\_Util\\_Diario\\_Energia\\_GWh & Demanda\\_Energia\\_SIN\\_GWh & ONI & CEN\\_Total & CEN\\_Hidro & CEN\\_Termica\\\\\n",
       " <dbl> & <dbl> & <chr> & <date> & <dbl> & <dbl> & <dbl> & <dbl> & <dbl> & <dbl> & <dbl> & <dbl>\\\\\n",
       "\\hline\n",
       "\t 2021 & 5 & 2021-05 & 2021-05-01 & NA & NA & NA & NA & NA & 13.16023 & 8.68223 & 4.464\\\\\n",
       "\\end{tabular}\n"
      ],
      "text/markdown": [
       "\n",
       "A tibble: 1 × 12\n",
       "\n",
       "| Ano &lt;dbl&gt; | Mes &lt;dbl&gt; | Ano_Mes &lt;chr&gt; | Fecha &lt;date&gt; | Precios_Mensuales &lt;dbl&gt; | Aportes_Energia_GWh &lt;dbl&gt; | Volumen_Util_Diario_Energia_GWh &lt;dbl&gt; | Demanda_Energia_SIN_GWh &lt;dbl&gt; | ONI &lt;dbl&gt; | CEN_Total &lt;dbl&gt; | CEN_Hidro &lt;dbl&gt; | CEN_Termica &lt;dbl&gt; |\n",
       "|---|---|---|---|---|---|---|---|---|---|---|---|\n",
       "| 2021 | 5 | 2021-05 | 2021-05-01 | NA | NA | NA | NA | NA | 13.16023 | 8.68223 | 4.464 |\n",
       "\n"
      ],
      "text/plain": [
       "  Ano  Mes Ano_Mes Fecha      Precios_Mensuales Aportes_Energia_GWh\n",
       "1 2021 5   2021-05 2021-05-01 NA                NA                 \n",
       "  Volumen_Util_Diario_Energia_GWh Demanda_Energia_SIN_GWh ONI CEN_Total\n",
       "1 NA                              NA                      NA  13.16023 \n",
       "  CEN_Hidro CEN_Termica\n",
       "1 8.68223   4.464      "
      ]
     },
     "metadata": {},
     "output_type": "display_data"
    }
   ],
   "source": [
    "df%>%tail(1)#%>%select(Fecha, ONI,Aportes_Normalizados,Reservas_Normalizadas)"
   ]
  },
  {
   "cell_type": "code",
   "execution_count": 43,
   "metadata": {},
   "outputs": [
    {
     "ename": "ERROR",
     "evalue": "Error in .f(.x[[i]], ...): objeto 'Aportes_Normalizados' no encontrado\n",
     "output_type": "error",
     "traceback": [
      "Error in .f(.x[[i]], ...): objeto 'Aportes_Normalizados' no encontrado\nTraceback:\n",
      "1. df %>% select(Fecha, Aportes_Normalizados, Reservas_Normalizadas, \n .     Demanda_Energia_SIN_GWh, Dem_CEN, Precios_Mensuales)",
      "2. withVisible(eval(quote(`_fseq`(`_lhs`)), env, env))",
      "3. eval(quote(`_fseq`(`_lhs`)), env, env)",
      "4. eval(quote(`_fseq`(`_lhs`)), env, env)",
      "5. `_fseq`(`_lhs`)",
      "6. freduce(value, `_function_list`)",
      "7. withVisible(function_list[[k]](value))",
      "8. function_list[[k]](value)",
      "9. select(., Fecha, Aportes_Normalizados, Reservas_Normalizadas, \n .     Demanda_Energia_SIN_GWh, Dem_CEN, Precios_Mensuales)",
      "10. select.data.frame(., Fecha, Aportes_Normalizados, Reservas_Normalizadas, \n  .     Demanda_Energia_SIN_GWh, Dem_CEN, Precios_Mensuales)",
      "11. tidyselect::vars_select(names(.data), !!!quos(...))",
      "12. vars_select_eval(.vars, quos)",
      "13. map_if(quos, !is_helper, eval_tidy, mask)",
      "14. map(.x[sel], .f, ...)",
      "15. .f(.x[[i]], ...)"
     ]
    }
   ],
   "source": [
    "fecha_forecast<-seq.Date(from = as.Date('2016-06-01'),length.out = 24,by = 'month')  # Meses para iterar\n",
    "\n",
    "        \n",
    "\n",
    "        temp<-df%>%select(Fecha,  Aportes_Normalizados,Reservas_Normalizadas, Demanda_Energia_SIN_GWh, Dem_CEN, Precios_Mensuales) \n",
    "        \n",
    "        rezagos_precios<-24\n",
    "        rezagos_aportes<-24                                        #Rezagos para los Aportes (parametrizable)\n",
    "        rezagos_reserva<-24\n",
    "        rezagos_demanda<-24\n",
    "        rezagos_dem_cen<-24\n",
    "\n",
    "        \n",
    "         for(k in seq(rezagos_precios)){                                         #Creacion de columnas rezagadas Aportes\n",
    "            col_precios<-paste0('Precios_',k)                                   #\n",
    "            temp[[col_precios]]<-lag(df$Precios_Mensuales,k)                 #\n",
    "        }                                                                       #\n",
    "\n",
    "\n",
    "        for(k in seq(rezagos_aportes)){                                         #Creacion de columnas rezagadas Aportes\n",
    "            col_aportes<-paste0('Aportes_',k)                                   #\n",
    "            temp[[col_aportes]]<-lag(df$Aportes_Normalizados,k)                 #\n",
    "        }                                                                       #\n",
    "        \n",
    "        for(p in seq(rezagos_reserva)){                                         #Creacion de columnas rezagadas Aportes\n",
    "            col_reservas<-paste0('Reservas_',p)                                 #\n",
    "            temp[[col_reservas]]<-lag(df$Reservas_Normalizadas,p)               #\n",
    "        }                                                                       #\n",
    "        \n",
    "        for(p in seq(rezagos_demanda)){                                         #Creacion de columnas rezagadas Aportes\n",
    "            col_demanda<-paste0('Demanda_GWh_',p)                                  #\n",
    "            temp[[col_demanda]]<-lag(df$Demanda_Energia_SIN_GWh,p)                 #\n",
    "        }                                                                       #\n",
    "\n",
    "\n",
    "        for(p in seq(rezagos_dem_cen)){                                         #Creacion de columnas rezagadas Aportes\n",
    "            col_dem_cen<-paste0('Dem_cen_',p)                                      #\n",
    "            temp[[col_dem_cen]]<-lag(df$Dem_CEN,p)                                 #\n",
    "        }                                                                       #\n",
    "\n",
    "\n",
    "\n",
    "        new_data<-temp\n",
    "\n",
    "        \n",
    "\n",
    "        temp<-temp%>%select(-1,-2,-3,-4,-5, Precios_Mensuales, \n",
    "                                      starts_with('Precios_'),\n",
    "                                      starts_with('Aportes_[0-9]'),\n",
    "                                      starts_with('Reservas_[0-9]'),\n",
    "                                      starts_with('Demanda_GWh_[0-9]'),\n",
    "                                      starts_with('Dem_cen_[0-9]'))\n",
    "        temp<-temp%>%drop_na()\n",
    "\n",
    "        #Aplicamos un modelo Forward Selection\n",
    "        m_FitAll<-lm(Precios_Mensuales~.,data = temp)                        #Ajusta un modelo con todas las vars\n",
    "        m<-(step(lm(Precios_Mensuales~1,data=temp),direction = 'forward',scope = formula(m_FitAll),trace = 0))\n",
    "\n",
    "        # Seleccionar solo variables significativas\n",
    "        toselect.x<-summary(m)$coeff[,4] < 0.01                                 #Define el parametro de tolerancia\n",
    "        relevant.x <- names(toselect.x)[toselect.x == TRUE]\n",
    "        relevant.x<-relevant.x[relevant.x != '(Intercept)']\n",
    "        sig.formula <- as.formula(paste(\"Precios_Mensuales ~\",paste(relevant.x,collapse = '+'))) \n",
    "\n",
    "         m<-lm(formula = sig.formula,data = temp)                                #Ajusta el modelo final\n",
    "         y_est<-round(as.vector(unlist(unname(forecast(m,h = 1,newdata = new_data%>%filter(Fecha==fecha_forecast[1]%m+%months(-1))%>%select(Fecha, one_of(names(summary(m)$coeff[-1,1])))%>%select(-Fecha))['mean']))),4)\n",
    "         df$Precios_Mensuales[df$Fecha==fecha_forecast[1]]<-y_est\n"
   ]
  },
  {
   "cell_type": "code",
   "execution_count": 44,
   "metadata": {},
   "outputs": [],
   "source": [
    "precios<-function(df, start_at,\n",
    "                  rezagos_precios,\n",
    "                  rezagos_aportes,\n",
    "                  rezagos_reserva,\n",
    "                  rezagos_demanda,\n",
    "                  rezagos_dem_cen){\n",
    "    \n",
    "    fechaini<-as.Date(start_at)\n",
    "    #n_aleatorios<-df%>%filter(Fecha>=start_at)%>%select(Precios_Mensuales)%>%nrow\n",
    "    #df$Precios_Mensuales[df$Fecha>=as.Date(start_at)]<-round(runif(n_aleatorios,min(df$Precios_Mensuales,na.rm = TRUE),max(df$Precios_Mensuales,na.rm = TRUE)),3)\n",
    "    \n",
    "    fecha_forecast<-seq.Date(from = as.Date(fechaini),length.out = 24,by = 'month')  # Meses para iterar\n",
    "\n",
    "    for(i in seq(length(fecha_forecast))){                                       # Inicia el pronostico un paso adelante\n",
    "\n",
    "        temp<-df%>%select(Fecha,  Aportes_Normalizados,Reservas_Normalizadas, Demanda_Energia_SIN_GWh, Dem_CEN, Precios_Mensuales) \n",
    "        \n",
    "        rezagos_precios<-24\n",
    "        rezagos_aportes<-24                                        #Rezagos para los Aportes (parametrizable)\n",
    "        rezagos_reserva<-24\n",
    "        rezagos_demanda<-24\n",
    "        rezagos_dem_cen<-24\n",
    "\n",
    "        \n",
    "         for(k in seq(rezagos_precios)){                                         #Creacion de columnas rezagadas Aportes\n",
    "            col_precios<-paste0('Precios_',k)                                   #\n",
    "            temp[[col_precios]]<-lag(df$Precios_Mensuales,k)                 #\n",
    "        }                                                                       #\n",
    "\n",
    "\n",
    "        for(k in seq(rezagos_aportes)){                                         #Creacion de columnas rezagadas Aportes\n",
    "            col_aportes<-paste0('Aportes_',k)                                   #\n",
    "            temp[[col_aportes]]<-lag(df$Aportes_Normalizados,k)                 #\n",
    "        }                                                                       #\n",
    "        \n",
    "        for(p in seq(rezagos_reserva)){                                         #Creacion de columnas rezagadas Aportes\n",
    "            col_reservas<-paste0('Reservas_',p)                                 #\n",
    "            temp[[col_reservas]]<-lag(df$Reservas_Normalizadas,p)               #\n",
    "        }                                                                       #\n",
    "        \n",
    "        for(p in seq(rezagos_demanda)){                                         #Creacion de columnas rezagadas Aportes\n",
    "            col_demanda<-paste0('Demanda_GWh_',p)                                  #\n",
    "            temp[[col_demanda]]<-lag(df$Demanda_Energia_SIN_GWh,p)                 #\n",
    "        }                                                                       #\n",
    "\n",
    "\n",
    "        for(p in seq(rezagos_dem_cen)){                                         #Creacion de columnas rezagadas Aportes\n",
    "            col_dem_cen<-paste0('Dem_cen_',p)                                      #\n",
    "            temp[[col_dem_cen]]<-lag(df$Dem_CEN,p)                                 #\n",
    "        }                                                                       #\n",
    "\n",
    "\n",
    "\n",
    "        new_data<-temp\n",
    "\n",
    "        \n",
    "\n",
    "        temp<-temp%>%select(-1,-2,-3,-4,-5, Precios_Mensuales, \n",
    "                                      starts_with('Precios_'),\n",
    "                                      starts_with('Aportes_[0-9]'),\n",
    "                                      starts_with('Reservas_[0-9]'),\n",
    "                                      starts_with('Demanda_GWh_[0-9]'),\n",
    "                                      starts_with('Dem_cen_[0-9]'))\n",
    "        temp<-temp%>%drop_na()\n",
    "\n",
    "        #Aplicamos un modelo Forward Selection\n",
    "        m_FitAll<-lm(Precios_Mensuales~.,data = temp)                        #Ajusta un modelo con todas las vars\n",
    "        m<-(step(lm(Precios_Mensuales~1,data=temp),direction = 'forward',scope = formula(m_FitAll),trace = 0))\n",
    "\n",
    "        # Seleccionar solo variables significativas\n",
    "        toselect.x<-summary(m)$coeff[,4] < 0.01                                 #Define el parametro de tolerancia\n",
    "        relevant.x <- names(toselect.x)[toselect.x == TRUE]\n",
    "        relevant.x<-relevant.x[relevant.x != '(Intercept)']\n",
    "        sig.formula <- as.formula(paste(\"Precios_Mensuales ~\",paste(relevant.x,collapse = '+'))) \n",
    "\n",
    "         m<-lm(formula = sig.formula,data = temp)                                #Ajusta el modelo final\n",
    "         y_est<-round(as.vector(unlist(unname(forecast(m,h = 1,newdata = new_data%>%filter(Fecha==fecha_forecast[i]%m+%months(-1))%>%select(Fecha, one_of(names(summary(m)$coeff[-1,1])))%>%select(-Fecha))['mean']))),4)\n",
    "         df$Precios_Mensuales[df$Fecha==fecha_forecast[i]]<-y_est\n",
    "        \n",
    "\n",
    "    }\n",
    "\n",
    "\n",
    "    \n",
    "    return(df)\n",
    "}"
   ]
  },
  {
   "cell_type": "code",
   "execution_count": 45,
   "metadata": {},
   "outputs": [],
   "source": [
    "# esc<-'Bajo'\n",
    "# escenarios<-read_excel(list.files(pattern = 'UPME'))\n",
    "# escenarios$Fecha<-as.Date(escenarios$Fecha)\n",
    "# escenarios%>%select('Fecha',esc)%>%head\n",
    "# df%>%left_join(escenarios,by='Fecha')"
   ]
  },
  {
   "cell_type": "code",
   "execution_count": 46,
   "metadata": {},
   "outputs": [],
   "source": [
    "demanda<-function(df, start_at,tipo_escenario){\n",
    "    \n",
    "\n",
    "    escenarios<-read_excel(list.files(pattern = 'UPME'))\n",
    "    escenarios$Fecha<-as.Date(escenarios$Fecha)\n",
    "    fechaini<-as.Date(start_at)\n",
    "    \n",
    "    #n_aleatorios<-df%>%filter(Fecha>=start_at)%>%select(Demanda_Energia_SIN_GWh)%>%nrow\n",
    "    df$Demanda_Energia_SIN_GWh[df$Fecha>=as.Date(start_at)]<-unlist(unname(escenarios%>%filter(Fecha>=start_at)%>%filter(Fecha<=max(seq.Date(from = as.Date(start_at),length.out = 24,by='month')))%>%select(tipo_escenario)))\n",
    "    return(df)\n",
    "}"
   ]
  },
  {
   "cell_type": "code",
   "execution_count": 47,
   "metadata": {},
   "outputs": [],
   "source": [
    "columnas_calculadas<-function(df){\n",
    "    #debo montar dem_CEN\n",
    "    df$Dem_CEN<-round(df$Demanda_Energia_SIN_GWh/(as.vector(days_in_month(df$Fecha))*df$CEN_Total*24),4)\n",
    "    #debo montar Term_Hidro\n",
    "    df$Termica_Hidraulica<-round(df$CEN_Termica/df$CEN_Hidro,4)\n",
    "    \n",
    "    return(df)\n",
    "}"
   ]
  },
  {
   "cell_type": "code",
   "execution_count": 48,
   "metadata": {},
   "outputs": [],
   "source": [
    "normalizar_hidrologia<-function(df){\n",
    "    df<-df%>%\n",
    "        left_join(\n",
    "                df%>%arrange(Mes)%>%group_by(Mes)%>%summarize(mean_aportes = mean(Aportes_Energia_GWh,na.rm = TRUE), \n",
    "                                                              mean_reservas = mean(Volumen_Util_Diario_Energia_GWh,na.rm = TRUE),\n",
    "                                                              sd_aportes = sd(Aportes_Energia_GWh, na.rm = TRUE),\n",
    "                                                              sd_reservas = sd(Volumen_Util_Diario_Energia_GWh,na.rm = TRUE)),by='Mes')%>%\n",
    "    mutate(\n",
    "        Aportes_Normalizados = (Aportes_Energia_GWh-mean_aportes)/sd_aportes,\n",
    "        Reservas_Normalizadas = (Volumen_Util_Diario_Energia_GWh-mean_reservas)/sd_reservas)\n",
    "    \n",
    "    return(df)\n",
    "}"
   ]
  },
  {
   "cell_type": "markdown",
   "metadata": {},
   "source": [
    "# Probar funciones"
   ]
  },
  {
   "cell_type": "code",
   "execution_count": 49,
   "metadata": {
    "scrolled": false
   },
   "outputs": [
    {
     "name": "stderr",
     "output_type": "stream",
     "text": [
      "Warning message in df$Demanda_Energia_SIN_GWh[df$Fecha >= as.Date(start_at)] <- unlist(unname(escenarios %>% :\n",
      "“número de items para para sustituir no es un múltiplo de la longitud del reemplazo”"
     ]
    }
   ],
   "source": [
    "df<-normalizar_hidrologia(df)\n",
    "df<-demanda(df,start_at = '2018-01-01',tipo_escenario = 'Medio')\n",
    "df<-columnas_calculadas(df)\n",
    "df<-oni(df,start_at = '2018-01-01')\n",
    "df<-aportes(df,start_at = '2018-01-01',rezagos_oni = 12,rezagos_aportes = 24)\n",
    "df<-reservas(df,start_at = '2018-01-01', rezagos_oni = 12,rezagos_aportes = 24,rezagos_reserva = 24,rezagos_termica_hidrica = 12)\n",
    "df<-precios(df,start_at = '2018-01-01',rezagos_precios = 24,rezagos_aportes = 24,rezagos_reserva = 24,rezagos_demanda = 24,rezagos_dem_cen = 24)"
   ]
  },
  {
   "cell_type": "code",
   "execution_count": 50,
   "metadata": {},
   "outputs": [
    {
     "data": {
      "text/html": [
       "<table>\n",
       "<caption>A tibble: 6 × 20</caption>\n",
       "<thead>\n",
       "\t<tr><th scope=col>Ano</th><th scope=col>Mes</th><th scope=col>Ano_Mes</th><th scope=col>Fecha</th><th scope=col>Precios_Mensuales</th><th scope=col>Aportes_Energia_GWh</th><th scope=col>Volumen_Util_Diario_Energia_GWh</th><th scope=col>Demanda_Energia_SIN_GWh</th><th scope=col>ONI</th><th scope=col>CEN_Total</th><th scope=col>CEN_Hidro</th><th scope=col>CEN_Termica</th><th scope=col>mean_aportes</th><th scope=col>mean_reservas</th><th scope=col>sd_aportes</th><th scope=col>sd_reservas</th><th scope=col>Aportes_Normalizados</th><th scope=col>Reservas_Normalizadas</th><th scope=col>Dem_CEN</th><th scope=col>Termica_Hidraulica</th></tr>\n",
       "\t<tr><th scope=col>&lt;dbl&gt;</th><th scope=col>&lt;dbl&gt;</th><th scope=col>&lt;chr&gt;</th><th scope=col>&lt;date&gt;</th><th scope=col>&lt;dbl&gt;</th><th scope=col>&lt;dbl&gt;</th><th scope=col>&lt;dbl&gt;</th><th scope=col>&lt;dbl&gt;</th><th scope=col>&lt;dbl&gt;</th><th scope=col>&lt;dbl&gt;</th><th scope=col>&lt;dbl&gt;</th><th scope=col>&lt;dbl&gt;</th><th scope=col>&lt;dbl&gt;</th><th scope=col>&lt;dbl&gt;</th><th scope=col>&lt;dbl&gt;</th><th scope=col>&lt;dbl&gt;</th><th scope=col>&lt;dbl&gt;</th><th scope=col>&lt;dbl&gt;</th><th scope=col>&lt;dbl&gt;</th><th scope=col>&lt;dbl&gt;</th></tr>\n",
       "</thead>\n",
       "<tbody>\n",
       "\t<tr><td>2020</td><td>12</td><td>2020-12</td><td>2020-12-01</td><td>NA</td><td>NA</td><td>NA</td><td>6200.000</td><td>-0.1</td><td>13.15767</td><td>8.67967</td><td>4.464</td><td>3587.722</td><td>11823.708</td><td>1308.8344</td><td> 948.6318</td><td>NA</td><td>NA</td><td>0.6333</td><td>0.5143</td></tr>\n",
       "\t<tr><td>2021</td><td> 1</td><td>2021-01</td><td>2021-01-01</td><td>NA</td><td>NA</td><td>NA</td><td>6300.000</td><td>-0.1</td><td>13.15767</td><td>8.67967</td><td>4.464</td><td>2387.357</td><td>10418.906</td><td> 860.5643</td><td>1018.8277</td><td>NA</td><td>NA</td><td>0.6436</td><td>0.5143</td></tr>\n",
       "\t<tr><td>2021</td><td> 2</td><td>2021-02</td><td>2021-02-01</td><td>NA</td><td>NA</td><td>NA</td><td>6400.000</td><td> 0.0</td><td>13.15867</td><td>8.68067</td><td>4.464</td><td>1977.469</td><td> 8931.573</td><td> 571.9035</td><td> 947.0586</td><td>NA</td><td>NA</td><td>0.7238</td><td>0.5142</td></tr>\n",
       "\t<tr><td>2021</td><td> 3</td><td>2021-03</td><td>2021-03-01</td><td>NA</td><td>NA</td><td>NA</td><td>6456.000</td><td> 0.0</td><td>13.15867</td><td>8.68067</td><td>4.464</td><td>2921.435</td><td> 7971.466</td><td>1105.0457</td><td>1191.9835</td><td>NA</td><td>NA</td><td>0.6594</td><td>0.5142</td></tr>\n",
       "\t<tr><td>2021</td><td> 4</td><td>2021-04</td><td>2021-04-01</td><td>NA</td><td>NA</td><td>NA</td><td>6239.210</td><td> 0.0</td><td>13.15867</td><td>8.68067</td><td>4.464</td><td>4456.870</td><td> 8298.807</td><td>1832.5230</td><td>1671.8904</td><td>NA</td><td>NA</td><td>0.6585</td><td>0.5142</td></tr>\n",
       "\t<tr><td>2021</td><td> 5</td><td>2021-05</td><td>2021-05-01</td><td>NA</td><td>NA</td><td>NA</td><td>6071.396</td><td> 0.0</td><td>13.16023</td><td>8.68223</td><td>4.464</td><td>6027.007</td><td> 9605.625</td><td>1735.7382</td><td>1865.8465</td><td>NA</td><td>NA</td><td>0.6201</td><td>0.5142</td></tr>\n",
       "</tbody>\n",
       "</table>\n"
      ],
      "text/latex": [
       "A tibble: 6 × 20\n",
       "\\begin{tabular}{r|llllllllllllllllllll}\n",
       " Ano & Mes & Ano\\_Mes & Fecha & Precios\\_Mensuales & Aportes\\_Energia\\_GWh & Volumen\\_Util\\_Diario\\_Energia\\_GWh & Demanda\\_Energia\\_SIN\\_GWh & ONI & CEN\\_Total & CEN\\_Hidro & CEN\\_Termica & mean\\_aportes & mean\\_reservas & sd\\_aportes & sd\\_reservas & Aportes\\_Normalizados & Reservas\\_Normalizadas & Dem\\_CEN & Termica\\_Hidraulica\\\\\n",
       " <dbl> & <dbl> & <chr> & <date> & <dbl> & <dbl> & <dbl> & <dbl> & <dbl> & <dbl> & <dbl> & <dbl> & <dbl> & <dbl> & <dbl> & <dbl> & <dbl> & <dbl> & <dbl> & <dbl>\\\\\n",
       "\\hline\n",
       "\t 2020 & 12 & 2020-12 & 2020-12-01 & NA & NA & NA & 6200.000 & -0.1 & 13.15767 & 8.67967 & 4.464 & 3587.722 & 11823.708 & 1308.8344 &  948.6318 & NA & NA & 0.6333 & 0.5143\\\\\n",
       "\t 2021 &  1 & 2021-01 & 2021-01-01 & NA & NA & NA & 6300.000 & -0.1 & 13.15767 & 8.67967 & 4.464 & 2387.357 & 10418.906 &  860.5643 & 1018.8277 & NA & NA & 0.6436 & 0.5143\\\\\n",
       "\t 2021 &  2 & 2021-02 & 2021-02-01 & NA & NA & NA & 6400.000 &  0.0 & 13.15867 & 8.68067 & 4.464 & 1977.469 &  8931.573 &  571.9035 &  947.0586 & NA & NA & 0.7238 & 0.5142\\\\\n",
       "\t 2021 &  3 & 2021-03 & 2021-03-01 & NA & NA & NA & 6456.000 &  0.0 & 13.15867 & 8.68067 & 4.464 & 2921.435 &  7971.466 & 1105.0457 & 1191.9835 & NA & NA & 0.6594 & 0.5142\\\\\n",
       "\t 2021 &  4 & 2021-04 & 2021-04-01 & NA & NA & NA & 6239.210 &  0.0 & 13.15867 & 8.68067 & 4.464 & 4456.870 &  8298.807 & 1832.5230 & 1671.8904 & NA & NA & 0.6585 & 0.5142\\\\\n",
       "\t 2021 &  5 & 2021-05 & 2021-05-01 & NA & NA & NA & 6071.396 &  0.0 & 13.16023 & 8.68223 & 4.464 & 6027.007 &  9605.625 & 1735.7382 & 1865.8465 & NA & NA & 0.6201 & 0.5142\\\\\n",
       "\\end{tabular}\n"
      ],
      "text/markdown": [
       "\n",
       "A tibble: 6 × 20\n",
       "\n",
       "| Ano &lt;dbl&gt; | Mes &lt;dbl&gt; | Ano_Mes &lt;chr&gt; | Fecha &lt;date&gt; | Precios_Mensuales &lt;dbl&gt; | Aportes_Energia_GWh &lt;dbl&gt; | Volumen_Util_Diario_Energia_GWh &lt;dbl&gt; | Demanda_Energia_SIN_GWh &lt;dbl&gt; | ONI &lt;dbl&gt; | CEN_Total &lt;dbl&gt; | CEN_Hidro &lt;dbl&gt; | CEN_Termica &lt;dbl&gt; | mean_aportes &lt;dbl&gt; | mean_reservas &lt;dbl&gt; | sd_aportes &lt;dbl&gt; | sd_reservas &lt;dbl&gt; | Aportes_Normalizados &lt;dbl&gt; | Reservas_Normalizadas &lt;dbl&gt; | Dem_CEN &lt;dbl&gt; | Termica_Hidraulica &lt;dbl&gt; |\n",
       "|---|---|---|---|---|---|---|---|---|---|---|---|---|---|---|---|---|---|---|---|\n",
       "| 2020 | 12 | 2020-12 | 2020-12-01 | NA | NA | NA | 6200.000 | -0.1 | 13.15767 | 8.67967 | 4.464 | 3587.722 | 11823.708 | 1308.8344 |  948.6318 | NA | NA | 0.6333 | 0.5143 |\n",
       "| 2021 |  1 | 2021-01 | 2021-01-01 | NA | NA | NA | 6300.000 | -0.1 | 13.15767 | 8.67967 | 4.464 | 2387.357 | 10418.906 |  860.5643 | 1018.8277 | NA | NA | 0.6436 | 0.5143 |\n",
       "| 2021 |  2 | 2021-02 | 2021-02-01 | NA | NA | NA | 6400.000 |  0.0 | 13.15867 | 8.68067 | 4.464 | 1977.469 |  8931.573 |  571.9035 |  947.0586 | NA | NA | 0.7238 | 0.5142 |\n",
       "| 2021 |  3 | 2021-03 | 2021-03-01 | NA | NA | NA | 6456.000 |  0.0 | 13.15867 | 8.68067 | 4.464 | 2921.435 |  7971.466 | 1105.0457 | 1191.9835 | NA | NA | 0.6594 | 0.5142 |\n",
       "| 2021 |  4 | 2021-04 | 2021-04-01 | NA | NA | NA | 6239.210 |  0.0 | 13.15867 | 8.68067 | 4.464 | 4456.870 |  8298.807 | 1832.5230 | 1671.8904 | NA | NA | 0.6585 | 0.5142 |\n",
       "| 2021 |  5 | 2021-05 | 2021-05-01 | NA | NA | NA | 6071.396 |  0.0 | 13.16023 | 8.68223 | 4.464 | 6027.007 |  9605.625 | 1735.7382 | 1865.8465 | NA | NA | 0.6201 | 0.5142 |\n",
       "\n"
      ],
      "text/plain": [
       "  Ano  Mes Ano_Mes Fecha      Precios_Mensuales Aportes_Energia_GWh\n",
       "1 2020 12  2020-12 2020-12-01 NA                NA                 \n",
       "2 2021  1  2021-01 2021-01-01 NA                NA                 \n",
       "3 2021  2  2021-02 2021-02-01 NA                NA                 \n",
       "4 2021  3  2021-03 2021-03-01 NA                NA                 \n",
       "5 2021  4  2021-04 2021-04-01 NA                NA                 \n",
       "6 2021  5  2021-05 2021-05-01 NA                NA                 \n",
       "  Volumen_Util_Diario_Energia_GWh Demanda_Energia_SIN_GWh ONI  CEN_Total\n",
       "1 NA                              6200.000                -0.1 13.15767 \n",
       "2 NA                              6300.000                -0.1 13.15767 \n",
       "3 NA                              6400.000                 0.0 13.15867 \n",
       "4 NA                              6456.000                 0.0 13.15867 \n",
       "5 NA                              6239.210                 0.0 13.15867 \n",
       "6 NA                              6071.396                 0.0 13.16023 \n",
       "  CEN_Hidro CEN_Termica mean_aportes mean_reservas sd_aportes sd_reservas\n",
       "1 8.67967   4.464       3587.722     11823.708     1308.8344   948.6318  \n",
       "2 8.67967   4.464       2387.357     10418.906      860.5643  1018.8277  \n",
       "3 8.68067   4.464       1977.469      8931.573      571.9035   947.0586  \n",
       "4 8.68067   4.464       2921.435      7971.466     1105.0457  1191.9835  \n",
       "5 8.68067   4.464       4456.870      8298.807     1832.5230  1671.8904  \n",
       "6 8.68223   4.464       6027.007      9605.625     1735.7382  1865.8465  \n",
       "  Aportes_Normalizados Reservas_Normalizadas Dem_CEN Termica_Hidraulica\n",
       "1 NA                   NA                    0.6333  0.5143            \n",
       "2 NA                   NA                    0.6436  0.5143            \n",
       "3 NA                   NA                    0.7238  0.5142            \n",
       "4 NA                   NA                    0.6594  0.5142            \n",
       "5 NA                   NA                    0.6585  0.5142            \n",
       "6 NA                   NA                    0.6201  0.5142            "
      ]
     },
     "metadata": {},
     "output_type": "display_data"
    }
   ],
   "source": [
    "df%>%tail"
   ]
  },
  {
   "cell_type": "code",
   "execution_count": 51,
   "metadata": {
    "scrolled": false
   },
   "outputs": [
    {
     "data": {
      "text/html": [
       "<table>\n",
       "<caption>A tibble: 5 × 20</caption>\n",
       "<thead>\n",
       "\t<tr><th scope=col>Ano</th><th scope=col>Mes</th><th scope=col>Ano_Mes</th><th scope=col>Fecha</th><th scope=col>Precios_Mensuales</th><th scope=col>Aportes_Energia_GWh</th><th scope=col>Volumen_Util_Diario_Energia_GWh</th><th scope=col>Demanda_Energia_SIN_GWh</th><th scope=col>ONI</th><th scope=col>CEN_Total</th><th scope=col>CEN_Hidro</th><th scope=col>CEN_Termica</th><th scope=col>mean_aportes</th><th scope=col>mean_reservas</th><th scope=col>sd_aportes</th><th scope=col>sd_reservas</th><th scope=col>Aportes_Normalizados</th><th scope=col>Reservas_Normalizadas</th><th scope=col>Dem_CEN</th><th scope=col>Termica_Hidraulica</th></tr>\n",
       "\t<tr><th scope=col>&lt;dbl&gt;</th><th scope=col>&lt;dbl&gt;</th><th scope=col>&lt;chr&gt;</th><th scope=col>&lt;date&gt;</th><th scope=col>&lt;dbl&gt;</th><th scope=col>&lt;dbl&gt;</th><th scope=col>&lt;dbl&gt;</th><th scope=col>&lt;dbl&gt;</th><th scope=col>&lt;dbl&gt;</th><th scope=col>&lt;dbl&gt;</th><th scope=col>&lt;dbl&gt;</th><th scope=col>&lt;dbl&gt;</th><th scope=col>&lt;dbl&gt;</th><th scope=col>&lt;dbl&gt;</th><th scope=col>&lt;dbl&gt;</th><th scope=col>&lt;dbl&gt;</th><th scope=col>&lt;dbl&gt;</th><th scope=col>&lt;dbl&gt;</th><th scope=col>&lt;dbl&gt;</th><th scope=col>&lt;dbl&gt;</th></tr>\n",
       "</thead>\n",
       "<tbody>\n",
       "\t<tr><td>2021</td><td>1</td><td>2021-01</td><td>2021-01-01</td><td>NA</td><td>NA</td><td>NA</td><td>6300.000</td><td>-0.1</td><td>13.15767</td><td>8.67967</td><td>4.464</td><td>2387.357</td><td>10418.906</td><td> 860.5643</td><td>1018.8277</td><td>NA</td><td>NA</td><td>0.6436</td><td>0.5143</td></tr>\n",
       "\t<tr><td>2021</td><td>2</td><td>2021-02</td><td>2021-02-01</td><td>NA</td><td>NA</td><td>NA</td><td>6400.000</td><td> 0.0</td><td>13.15867</td><td>8.68067</td><td>4.464</td><td>1977.469</td><td> 8931.573</td><td> 571.9035</td><td> 947.0586</td><td>NA</td><td>NA</td><td>0.7238</td><td>0.5142</td></tr>\n",
       "\t<tr><td>2021</td><td>3</td><td>2021-03</td><td>2021-03-01</td><td>NA</td><td>NA</td><td>NA</td><td>6456.000</td><td> 0.0</td><td>13.15867</td><td>8.68067</td><td>4.464</td><td>2921.435</td><td> 7971.466</td><td>1105.0457</td><td>1191.9835</td><td>NA</td><td>NA</td><td>0.6594</td><td>0.5142</td></tr>\n",
       "\t<tr><td>2021</td><td>4</td><td>2021-04</td><td>2021-04-01</td><td>NA</td><td>NA</td><td>NA</td><td>6239.210</td><td> 0.0</td><td>13.15867</td><td>8.68067</td><td>4.464</td><td>4456.870</td><td> 8298.807</td><td>1832.5230</td><td>1671.8904</td><td>NA</td><td>NA</td><td>0.6585</td><td>0.5142</td></tr>\n",
       "\t<tr><td>2021</td><td>5</td><td>2021-05</td><td>2021-05-01</td><td>NA</td><td>NA</td><td>NA</td><td>6071.396</td><td> 0.0</td><td>13.16023</td><td>8.68223</td><td>4.464</td><td>6027.007</td><td> 9605.625</td><td>1735.7382</td><td>1865.8465</td><td>NA</td><td>NA</td><td>0.6201</td><td>0.5142</td></tr>\n",
       "</tbody>\n",
       "</table>\n"
      ],
      "text/latex": [
       "A tibble: 5 × 20\n",
       "\\begin{tabular}{r|llllllllllllllllllll}\n",
       " Ano & Mes & Ano\\_Mes & Fecha & Precios\\_Mensuales & Aportes\\_Energia\\_GWh & Volumen\\_Util\\_Diario\\_Energia\\_GWh & Demanda\\_Energia\\_SIN\\_GWh & ONI & CEN\\_Total & CEN\\_Hidro & CEN\\_Termica & mean\\_aportes & mean\\_reservas & sd\\_aportes & sd\\_reservas & Aportes\\_Normalizados & Reservas\\_Normalizadas & Dem\\_CEN & Termica\\_Hidraulica\\\\\n",
       " <dbl> & <dbl> & <chr> & <date> & <dbl> & <dbl> & <dbl> & <dbl> & <dbl> & <dbl> & <dbl> & <dbl> & <dbl> & <dbl> & <dbl> & <dbl> & <dbl> & <dbl> & <dbl> & <dbl>\\\\\n",
       "\\hline\n",
       "\t 2021 & 1 & 2021-01 & 2021-01-01 & NA & NA & NA & 6300.000 & -0.1 & 13.15767 & 8.67967 & 4.464 & 2387.357 & 10418.906 &  860.5643 & 1018.8277 & NA & NA & 0.6436 & 0.5143\\\\\n",
       "\t 2021 & 2 & 2021-02 & 2021-02-01 & NA & NA & NA & 6400.000 &  0.0 & 13.15867 & 8.68067 & 4.464 & 1977.469 &  8931.573 &  571.9035 &  947.0586 & NA & NA & 0.7238 & 0.5142\\\\\n",
       "\t 2021 & 3 & 2021-03 & 2021-03-01 & NA & NA & NA & 6456.000 &  0.0 & 13.15867 & 8.68067 & 4.464 & 2921.435 &  7971.466 & 1105.0457 & 1191.9835 & NA & NA & 0.6594 & 0.5142\\\\\n",
       "\t 2021 & 4 & 2021-04 & 2021-04-01 & NA & NA & NA & 6239.210 &  0.0 & 13.15867 & 8.68067 & 4.464 & 4456.870 &  8298.807 & 1832.5230 & 1671.8904 & NA & NA & 0.6585 & 0.5142\\\\\n",
       "\t 2021 & 5 & 2021-05 & 2021-05-01 & NA & NA & NA & 6071.396 &  0.0 & 13.16023 & 8.68223 & 4.464 & 6027.007 &  9605.625 & 1735.7382 & 1865.8465 & NA & NA & 0.6201 & 0.5142\\\\\n",
       "\\end{tabular}\n"
      ],
      "text/markdown": [
       "\n",
       "A tibble: 5 × 20\n",
       "\n",
       "| Ano &lt;dbl&gt; | Mes &lt;dbl&gt; | Ano_Mes &lt;chr&gt; | Fecha &lt;date&gt; | Precios_Mensuales &lt;dbl&gt; | Aportes_Energia_GWh &lt;dbl&gt; | Volumen_Util_Diario_Energia_GWh &lt;dbl&gt; | Demanda_Energia_SIN_GWh &lt;dbl&gt; | ONI &lt;dbl&gt; | CEN_Total &lt;dbl&gt; | CEN_Hidro &lt;dbl&gt; | CEN_Termica &lt;dbl&gt; | mean_aportes &lt;dbl&gt; | mean_reservas &lt;dbl&gt; | sd_aportes &lt;dbl&gt; | sd_reservas &lt;dbl&gt; | Aportes_Normalizados &lt;dbl&gt; | Reservas_Normalizadas &lt;dbl&gt; | Dem_CEN &lt;dbl&gt; | Termica_Hidraulica &lt;dbl&gt; |\n",
       "|---|---|---|---|---|---|---|---|---|---|---|---|---|---|---|---|---|---|---|---|\n",
       "| 2021 | 1 | 2021-01 | 2021-01-01 | NA | NA | NA | 6300.000 | -0.1 | 13.15767 | 8.67967 | 4.464 | 2387.357 | 10418.906 |  860.5643 | 1018.8277 | NA | NA | 0.6436 | 0.5143 |\n",
       "| 2021 | 2 | 2021-02 | 2021-02-01 | NA | NA | NA | 6400.000 |  0.0 | 13.15867 | 8.68067 | 4.464 | 1977.469 |  8931.573 |  571.9035 |  947.0586 | NA | NA | 0.7238 | 0.5142 |\n",
       "| 2021 | 3 | 2021-03 | 2021-03-01 | NA | NA | NA | 6456.000 |  0.0 | 13.15867 | 8.68067 | 4.464 | 2921.435 |  7971.466 | 1105.0457 | 1191.9835 | NA | NA | 0.6594 | 0.5142 |\n",
       "| 2021 | 4 | 2021-04 | 2021-04-01 | NA | NA | NA | 6239.210 |  0.0 | 13.15867 | 8.68067 | 4.464 | 4456.870 |  8298.807 | 1832.5230 | 1671.8904 | NA | NA | 0.6585 | 0.5142 |\n",
       "| 2021 | 5 | 2021-05 | 2021-05-01 | NA | NA | NA | 6071.396 |  0.0 | 13.16023 | 8.68223 | 4.464 | 6027.007 |  9605.625 | 1735.7382 | 1865.8465 | NA | NA | 0.6201 | 0.5142 |\n",
       "\n"
      ],
      "text/plain": [
       "  Ano  Mes Ano_Mes Fecha      Precios_Mensuales Aportes_Energia_GWh\n",
       "1 2021 1   2021-01 2021-01-01 NA                NA                 \n",
       "2 2021 2   2021-02 2021-02-01 NA                NA                 \n",
       "3 2021 3   2021-03 2021-03-01 NA                NA                 \n",
       "4 2021 4   2021-04 2021-04-01 NA                NA                 \n",
       "5 2021 5   2021-05 2021-05-01 NA                NA                 \n",
       "  Volumen_Util_Diario_Energia_GWh Demanda_Energia_SIN_GWh ONI  CEN_Total\n",
       "1 NA                              6300.000                -0.1 13.15767 \n",
       "2 NA                              6400.000                 0.0 13.15867 \n",
       "3 NA                              6456.000                 0.0 13.15867 \n",
       "4 NA                              6239.210                 0.0 13.15867 \n",
       "5 NA                              6071.396                 0.0 13.16023 \n",
       "  CEN_Hidro CEN_Termica mean_aportes mean_reservas sd_aportes sd_reservas\n",
       "1 8.67967   4.464       2387.357     10418.906      860.5643  1018.8277  \n",
       "2 8.68067   4.464       1977.469      8931.573      571.9035   947.0586  \n",
       "3 8.68067   4.464       2921.435      7971.466     1105.0457  1191.9835  \n",
       "4 8.68067   4.464       4456.870      8298.807     1832.5230  1671.8904  \n",
       "5 8.68223   4.464       6027.007      9605.625     1735.7382  1865.8465  \n",
       "  Aportes_Normalizados Reservas_Normalizadas Dem_CEN Termica_Hidraulica\n",
       "1 NA                   NA                    0.6436  0.5143            \n",
       "2 NA                   NA                    0.7238  0.5142            \n",
       "3 NA                   NA                    0.6594  0.5142            \n",
       "4 NA                   NA                    0.6585  0.5142            \n",
       "5 NA                   NA                    0.6201  0.5142            "
      ]
     },
     "metadata": {},
     "output_type": "display_data"
    }
   ],
   "source": [
    "df%>%tail(5)#%>%select(Fecha, ONI,Aportes_Normalizados,Reservas_Normalizadas)"
   ]
  },
  {
   "cell_type": "code",
   "execution_count": 52,
   "metadata": {},
   "outputs": [],
   "source": [
    "generar_archivos<-function(df,\n",
    "                           start_at,\n",
    "                           rezagos_precios,\n",
    "                           rezagos_oni,\n",
    "                           rezagos_aportes,\n",
    "                           rezagos_reserva,\n",
    "                           rezagos_demanda,\n",
    "                           rezagos_termica_hidrica,\n",
    "                           rezagos_dem_cen,\n",
    "                           tipo_esc,\n",
    "                           n_iter,\n",
    "                           folder_location){\n",
    "    \n",
    "    \n",
    "    if(dir.exists(folder_location)){\n",
    "        while(file.remove(list.files(path = folder_location,pattern = '[0-9][0-9][0-9][0-9][0-9].csv',full.names = TRUE)[1])==TRUE){\n",
    "            list.files(path = folder_location,pattern = '[0-9][0-9][0-9][0-9][0-9].csv',full.names = TRUE)[1]\n",
    "        }\n",
    "\n",
    "        fechaini<-as.Date(start_at)\n",
    "\n",
    "        for( i in seq(n_iter)){\n",
    "            ini<-now()\n",
    "#             #Normalizar aportes\n",
    "#             #normalizar reservas\n",
    "#             #Agregar variables calculadas\n",
    "#             df<-precios(df,fechaini)\n",
    "#             df<-oni(df,fechaini)\n",
    "#             df<-aportes(df,fechaini)\n",
    "#             df<-reservas(df,fechaini)\n",
    "#             df<-demanda(df,fechaini)\n",
    "#             df<-columnas_calculadas(df)\n",
    "            df<-read_csv('df.csv',col_names = TRUE,cols(\n",
    "                          Ano = col_double(),\n",
    "                          Mes = col_double(),\n",
    "                          Ano_Mes = col_character(),\n",
    "                          Fecha = col_date(format = \"\"),\n",
    "                          Precios_Mensuales = col_double(),\n",
    "                          Aportes_Energia_GWh = col_double(),\n",
    "                          Volumen_Util_Diario_Energia_GWh = col_double(),\n",
    "                          Demanda_Energia_SIN_GWh = col_double(),\n",
    "                          ONI = col_double(),\n",
    "                          CEN_Total = col_double(),\n",
    "                          CEN_Hidro = col_double(),\n",
    "                          CEN_Termica = col_double()\n",
    "                        ))\n",
    "            \n",
    "            df<-normalizar_hidrologia(df)\n",
    "            df<-demanda(df,start_at = start_at,tipo_escenario = tipo_esc)\n",
    "            df<-columnas_calculadas(df)\n",
    "            df<-oni(df,start_at = start_at)\n",
    "            df<-aportes(df,start_at = start_at ,rezagos_oni = rezagos_oni,rezagos_aportes = rezagos_aportes)\n",
    "            df<-reservas(df,\n",
    "                         start_at = start_at,\n",
    "                         rezagos_oni = rezagos_oni,\n",
    "                         rezagos_aportes = rezagos_aportes,\n",
    "                         rezagos_reserva = rezagos_reserva,\n",
    "                         rezagos_termica_hidrica = rezagos_termica_hidrica)\n",
    "\n",
    "            df<-precios(df,start_at = start_at,\n",
    "                        rezagos_precios = rezagos_precios,\n",
    "                        rezagos_aportes = rezagos_aportes,\n",
    "                        rezagos_reserva = rezagos_reserva,\n",
    "                        rezagos_demanda = rezagos_demanda,\n",
    "                        rezagos_dem_cen = rezagos_dem_cen)\n",
    "\n",
    "            #pronostico de variables calculadas\n",
    "            write_csv(df, paste0(folder_location,str_pad(i, pad = 0, width = 5),'.csv'))\n",
    "            fin<-now()\n",
    "            cat(paste0(round(fin-ini,4), ' segundos ',str_pad(i, pad = 0, width = 5),'.csv'),collapse='\\n')\n",
    "        }\n",
    "        cat(paste0(n_iter, ' archivos generados en la ruta ',folder_location))\n",
    "    } else{\n",
    "        cat('Error: Directorio no existe en esta máquina')\n",
    "    }\n",
    "\n",
    "}"
   ]
  },
  {
   "cell_type": "code",
   "execution_count": 53,
   "metadata": {
    "scrolled": true
   },
   "outputs": [
    {
     "name": "stderr",
     "output_type": "stream",
     "text": [
      "Warning message in df$Demanda_Energia_SIN_GWh[df$Fecha >= as.Date(start_at)] <- unlist(unname(escenarios %>% :\n",
      "“número de items para para sustituir no es un múltiplo de la longitud del reemplazo”"
     ]
    },
    {
     "name": "stdout",
     "output_type": "stream",
     "text": [
      "1.2437 segundos 00001.csv \n"
     ]
    },
    {
     "name": "stderr",
     "output_type": "stream",
     "text": [
      "Warning message in df$Demanda_Energia_SIN_GWh[df$Fecha >= as.Date(start_at)] <- unlist(unname(escenarios %>% :\n",
      "“número de items para para sustituir no es un múltiplo de la longitud del reemplazo”"
     ]
    },
    {
     "name": "stdout",
     "output_type": "stream",
     "text": [
      "58.6035 segundos 00002.csv \n"
     ]
    },
    {
     "name": "stderr",
     "output_type": "stream",
     "text": [
      "Warning message in df$Demanda_Energia_SIN_GWh[df$Fecha >= as.Date(start_at)] <- unlist(unname(escenarios %>% :\n",
      "“número de items para para sustituir no es un múltiplo de la longitud del reemplazo”"
     ]
    },
    {
     "name": "stdout",
     "output_type": "stream",
     "text": [
      "51.4137 segundos 00003.csv \n"
     ]
    },
    {
     "name": "stderr",
     "output_type": "stream",
     "text": [
      "Warning message in df$Demanda_Energia_SIN_GWh[df$Fecha >= as.Date(start_at)] <- unlist(unname(escenarios %>% :\n",
      "“número de items para para sustituir no es un múltiplo de la longitud del reemplazo”"
     ]
    },
    {
     "name": "stdout",
     "output_type": "stream",
     "text": [
      "51.5518 segundos 00004.csv \n"
     ]
    },
    {
     "name": "stderr",
     "output_type": "stream",
     "text": [
      "Warning message in df$Demanda_Energia_SIN_GWh[df$Fecha >= as.Date(start_at)] <- unlist(unname(escenarios %>% :\n",
      "“número de items para para sustituir no es un múltiplo de la longitud del reemplazo”"
     ]
    },
    {
     "name": "stdout",
     "output_type": "stream",
     "text": [
      "51.43 segundos 00005.csv \n"
     ]
    },
    {
     "name": "stderr",
     "output_type": "stream",
     "text": [
      "Warning message in df$Demanda_Energia_SIN_GWh[df$Fecha >= as.Date(start_at)] <- unlist(unname(escenarios %>% :\n",
      "“número de items para para sustituir no es un múltiplo de la longitud del reemplazo”"
     ]
    },
    {
     "name": "stdout",
     "output_type": "stream",
     "text": [
      "51.3415 segundos 00006.csv \n"
     ]
    },
    {
     "name": "stderr",
     "output_type": "stream",
     "text": [
      "Warning message in df$Demanda_Energia_SIN_GWh[df$Fecha >= as.Date(start_at)] <- unlist(unname(escenarios %>% :\n",
      "“número de items para para sustituir no es un múltiplo de la longitud del reemplazo”"
     ]
    },
    {
     "name": "stdout",
     "output_type": "stream",
     "text": [
      "51.732 segundos 00007.csv \n"
     ]
    },
    {
     "name": "stderr",
     "output_type": "stream",
     "text": [
      "Warning message in df$Demanda_Energia_SIN_GWh[df$Fecha >= as.Date(start_at)] <- unlist(unname(escenarios %>% :\n",
      "“número de items para para sustituir no es un múltiplo de la longitud del reemplazo”"
     ]
    },
    {
     "name": "stdout",
     "output_type": "stream",
     "text": [
      "51.2649 segundos 00008.csv \n"
     ]
    },
    {
     "name": "stderr",
     "output_type": "stream",
     "text": [
      "Warning message in df$Demanda_Energia_SIN_GWh[df$Fecha >= as.Date(start_at)] <- unlist(unname(escenarios %>% :\n",
      "“número de items para para sustituir no es un múltiplo de la longitud del reemplazo”"
     ]
    },
    {
     "name": "stdout",
     "output_type": "stream",
     "text": [
      "51.2371 segundos 00009.csv \n"
     ]
    },
    {
     "name": "stderr",
     "output_type": "stream",
     "text": [
      "Warning message in df$Demanda_Energia_SIN_GWh[df$Fecha >= as.Date(start_at)] <- unlist(unname(escenarios %>% :\n",
      "“número de items para para sustituir no es un múltiplo de la longitud del reemplazo”"
     ]
    },
    {
     "name": "stdout",
     "output_type": "stream",
     "text": [
      "51.3592 segundos 00010.csv \n"
     ]
    },
    {
     "name": "stderr",
     "output_type": "stream",
     "text": [
      "Warning message in df$Demanda_Energia_SIN_GWh[df$Fecha >= as.Date(start_at)] <- unlist(unname(escenarios %>% :\n",
      "“número de items para para sustituir no es un múltiplo de la longitud del reemplazo”"
     ]
    },
    {
     "name": "stdout",
     "output_type": "stream",
     "text": [
      "51.275 segundos 00011.csv \n"
     ]
    },
    {
     "name": "stderr",
     "output_type": "stream",
     "text": [
      "Warning message in df$Demanda_Energia_SIN_GWh[df$Fecha >= as.Date(start_at)] <- unlist(unname(escenarios %>% :\n",
      "“número de items para para sustituir no es un múltiplo de la longitud del reemplazo”"
     ]
    },
    {
     "name": "stdout",
     "output_type": "stream",
     "text": [
      "51.4837 segundos 00012.csv \n"
     ]
    },
    {
     "name": "stderr",
     "output_type": "stream",
     "text": [
      "Warning message in df$Demanda_Energia_SIN_GWh[df$Fecha >= as.Date(start_at)] <- unlist(unname(escenarios %>% :\n",
      "“número de items para para sustituir no es un múltiplo de la longitud del reemplazo”"
     ]
    },
    {
     "name": "stdout",
     "output_type": "stream",
     "text": [
      "51.5701 segundos 00013.csv \n"
     ]
    },
    {
     "name": "stderr",
     "output_type": "stream",
     "text": [
      "Warning message in df$Demanda_Energia_SIN_GWh[df$Fecha >= as.Date(start_at)] <- unlist(unname(escenarios %>% :\n",
      "“número de items para para sustituir no es un múltiplo de la longitud del reemplazo”"
     ]
    },
    {
     "name": "stdout",
     "output_type": "stream",
     "text": [
      "51.3718 segundos 00014.csv \n"
     ]
    },
    {
     "name": "stderr",
     "output_type": "stream",
     "text": [
      "Warning message in df$Demanda_Energia_SIN_GWh[df$Fecha >= as.Date(start_at)] <- unlist(unname(escenarios %>% :\n",
      "“número de items para para sustituir no es un múltiplo de la longitud del reemplazo”"
     ]
    },
    {
     "name": "stdout",
     "output_type": "stream",
     "text": [
      "51.4243 segundos 00015.csv \n"
     ]
    },
    {
     "name": "stderr",
     "output_type": "stream",
     "text": [
      "Warning message in df$Demanda_Energia_SIN_GWh[df$Fecha >= as.Date(start_at)] <- unlist(unname(escenarios %>% :\n",
      "“número de items para para sustituir no es un múltiplo de la longitud del reemplazo”"
     ]
    },
    {
     "name": "stdout",
     "output_type": "stream",
     "text": [
      "51.1905 segundos 00016.csv \n"
     ]
    },
    {
     "name": "stderr",
     "output_type": "stream",
     "text": [
      "Warning message in df$Demanda_Energia_SIN_GWh[df$Fecha >= as.Date(start_at)] <- unlist(unname(escenarios %>% :\n",
      "“número de items para para sustituir no es un múltiplo de la longitud del reemplazo”"
     ]
    },
    {
     "name": "stdout",
     "output_type": "stream",
     "text": [
      "51.2539 segundos 00017.csv \n"
     ]
    },
    {
     "name": "stderr",
     "output_type": "stream",
     "text": [
      "Warning message in df$Demanda_Energia_SIN_GWh[df$Fecha >= as.Date(start_at)] <- unlist(unname(escenarios %>% :\n",
      "“número de items para para sustituir no es un múltiplo de la longitud del reemplazo”"
     ]
    },
    {
     "name": "stdout",
     "output_type": "stream",
     "text": [
      "51.4941 segundos 00018.csv \n"
     ]
    },
    {
     "name": "stderr",
     "output_type": "stream",
     "text": [
      "Warning message in df$Demanda_Energia_SIN_GWh[df$Fecha >= as.Date(start_at)] <- unlist(unname(escenarios %>% :\n",
      "“número de items para para sustituir no es un múltiplo de la longitud del reemplazo”"
     ]
    },
    {
     "name": "stdout",
     "output_type": "stream",
     "text": [
      "53.123 segundos 00019.csv \n"
     ]
    },
    {
     "name": "stderr",
     "output_type": "stream",
     "text": [
      "Warning message in df$Demanda_Energia_SIN_GWh[df$Fecha >= as.Date(start_at)] <- unlist(unname(escenarios %>% :\n",
      "“número de items para para sustituir no es un múltiplo de la longitud del reemplazo”"
     ]
    },
    {
     "name": "stdout",
     "output_type": "stream",
     "text": [
      "52.4191 segundos 00020.csv \n"
     ]
    },
    {
     "name": "stderr",
     "output_type": "stream",
     "text": [
      "Warning message in df$Demanda_Energia_SIN_GWh[df$Fecha >= as.Date(start_at)] <- unlist(unname(escenarios %>% :\n",
      "“número de items para para sustituir no es un múltiplo de la longitud del reemplazo”"
     ]
    },
    {
     "name": "stdout",
     "output_type": "stream",
     "text": [
      "58.1404 segundos 00021.csv \n"
     ]
    },
    {
     "name": "stderr",
     "output_type": "stream",
     "text": [
      "Warning message in df$Demanda_Energia_SIN_GWh[df$Fecha >= as.Date(start_at)] <- unlist(unname(escenarios %>% :\n",
      "“número de items para para sustituir no es un múltiplo de la longitud del reemplazo”"
     ]
    },
    {
     "name": "stdout",
     "output_type": "stream",
     "text": [
      "55.0015 segundos 00022.csv \n"
     ]
    },
    {
     "name": "stderr",
     "output_type": "stream",
     "text": [
      "Warning message in df$Demanda_Energia_SIN_GWh[df$Fecha >= as.Date(start_at)] <- unlist(unname(escenarios %>% :\n",
      "“número de items para para sustituir no es un múltiplo de la longitud del reemplazo”"
     ]
    },
    {
     "name": "stdout",
     "output_type": "stream",
     "text": [
      "51.4419 segundos 00023.csv \n"
     ]
    },
    {
     "name": "stderr",
     "output_type": "stream",
     "text": [
      "Warning message in df$Demanda_Energia_SIN_GWh[df$Fecha >= as.Date(start_at)] <- unlist(unname(escenarios %>% :\n",
      "“número de items para para sustituir no es un múltiplo de la longitud del reemplazo”"
     ]
    },
    {
     "name": "stdout",
     "output_type": "stream",
     "text": [
      "51.5073 segundos 00024.csv \n"
     ]
    },
    {
     "name": "stderr",
     "output_type": "stream",
     "text": [
      "Warning message in df$Demanda_Energia_SIN_GWh[df$Fecha >= as.Date(start_at)] <- unlist(unname(escenarios %>% :\n",
      "“número de items para para sustituir no es un múltiplo de la longitud del reemplazo”"
     ]
    },
    {
     "name": "stdout",
     "output_type": "stream",
     "text": [
      "51.2105 segundos 00025.csv \n"
     ]
    },
    {
     "name": "stderr",
     "output_type": "stream",
     "text": [
      "Warning message in df$Demanda_Energia_SIN_GWh[df$Fecha >= as.Date(start_at)] <- unlist(unname(escenarios %>% :\n",
      "“número de items para para sustituir no es un múltiplo de la longitud del reemplazo”"
     ]
    },
    {
     "name": "stdout",
     "output_type": "stream",
     "text": [
      "51.4714 segundos 00026.csv \n"
     ]
    },
    {
     "name": "stderr",
     "output_type": "stream",
     "text": [
      "Warning message in df$Demanda_Energia_SIN_GWh[df$Fecha >= as.Date(start_at)] <- unlist(unname(escenarios %>% :\n",
      "“número de items para para sustituir no es un múltiplo de la longitud del reemplazo”"
     ]
    },
    {
     "name": "stdout",
     "output_type": "stream",
     "text": [
      "51.3616 segundos 00027.csv \n"
     ]
    },
    {
     "name": "stderr",
     "output_type": "stream",
     "text": [
      "Warning message in df$Demanda_Energia_SIN_GWh[df$Fecha >= as.Date(start_at)] <- unlist(unname(escenarios %>% :\n",
      "“número de items para para sustituir no es un múltiplo de la longitud del reemplazo”"
     ]
    },
    {
     "name": "stdout",
     "output_type": "stream",
     "text": [
      "51.1856 segundos 00028.csv \n"
     ]
    },
    {
     "name": "stderr",
     "output_type": "stream",
     "text": [
      "Warning message in df$Demanda_Energia_SIN_GWh[df$Fecha >= as.Date(start_at)] <- unlist(unname(escenarios %>% :\n",
      "“número de items para para sustituir no es un múltiplo de la longitud del reemplazo”"
     ]
    },
    {
     "name": "stdout",
     "output_type": "stream",
     "text": [
      "51.3915 segundos 00029.csv \n"
     ]
    },
    {
     "name": "stderr",
     "output_type": "stream",
     "text": [
      "Warning message in df$Demanda_Energia_SIN_GWh[df$Fecha >= as.Date(start_at)] <- unlist(unname(escenarios %>% :\n",
      "“número de items para para sustituir no es un múltiplo de la longitud del reemplazo”"
     ]
    },
    {
     "name": "stdout",
     "output_type": "stream",
     "text": [
      "51.5672 segundos 00030.csv \n"
     ]
    },
    {
     "name": "stderr",
     "output_type": "stream",
     "text": [
      "Warning message in df$Demanda_Energia_SIN_GWh[df$Fecha >= as.Date(start_at)] <- unlist(unname(escenarios %>% :\n",
      "“número de items para para sustituir no es un múltiplo de la longitud del reemplazo”"
     ]
    },
    {
     "name": "stdout",
     "output_type": "stream",
     "text": [
      "51.3927 segundos 00031.csv \n"
     ]
    },
    {
     "name": "stderr",
     "output_type": "stream",
     "text": [
      "Warning message in df$Demanda_Energia_SIN_GWh[df$Fecha >= as.Date(start_at)] <- unlist(unname(escenarios %>% :\n",
      "“número de items para para sustituir no es un múltiplo de la longitud del reemplazo”"
     ]
    },
    {
     "name": "stdout",
     "output_type": "stream",
     "text": [
      "51.0931 segundos 00032.csv \n"
     ]
    },
    {
     "name": "stderr",
     "output_type": "stream",
     "text": [
      "Warning message in df$Demanda_Energia_SIN_GWh[df$Fecha >= as.Date(start_at)] <- unlist(unname(escenarios %>% :\n",
      "“número de items para para sustituir no es un múltiplo de la longitud del reemplazo”"
     ]
    },
    {
     "name": "stdout",
     "output_type": "stream",
     "text": [
      "51.0929 segundos 00033.csv \n"
     ]
    },
    {
     "name": "stderr",
     "output_type": "stream",
     "text": [
      "Warning message in df$Demanda_Energia_SIN_GWh[df$Fecha >= as.Date(start_at)] <- unlist(unname(escenarios %>% :\n",
      "“número de items para para sustituir no es un múltiplo de la longitud del reemplazo”"
     ]
    },
    {
     "name": "stdout",
     "output_type": "stream",
     "text": [
      "50.8463 segundos 00034.csv \n"
     ]
    },
    {
     "name": "stderr",
     "output_type": "stream",
     "text": [
      "Warning message in df$Demanda_Energia_SIN_GWh[df$Fecha >= as.Date(start_at)] <- unlist(unname(escenarios %>% :\n",
      "“número de items para para sustituir no es un múltiplo de la longitud del reemplazo”"
     ]
    },
    {
     "name": "stdout",
     "output_type": "stream",
     "text": [
      "50.8834 segundos 00035.csv \n"
     ]
    },
    {
     "name": "stderr",
     "output_type": "stream",
     "text": [
      "Warning message in df$Demanda_Energia_SIN_GWh[df$Fecha >= as.Date(start_at)] <- unlist(unname(escenarios %>% :\n",
      "“número de items para para sustituir no es un múltiplo de la longitud del reemplazo”"
     ]
    },
    {
     "name": "stdout",
     "output_type": "stream",
     "text": [
      "51.1843 segundos 00036.csv \n"
     ]
    },
    {
     "name": "stderr",
     "output_type": "stream",
     "text": [
      "Warning message in df$Demanda_Energia_SIN_GWh[df$Fecha >= as.Date(start_at)] <- unlist(unname(escenarios %>% :\n",
      "“número de items para para sustituir no es un múltiplo de la longitud del reemplazo”"
     ]
    },
    {
     "name": "stdout",
     "output_type": "stream",
     "text": [
      "50.853 segundos 00037.csv \n"
     ]
    },
    {
     "name": "stderr",
     "output_type": "stream",
     "text": [
      "Warning message in df$Demanda_Energia_SIN_GWh[df$Fecha >= as.Date(start_at)] <- unlist(unname(escenarios %>% :\n",
      "“número de items para para sustituir no es un múltiplo de la longitud del reemplazo”"
     ]
    },
    {
     "name": "stdout",
     "output_type": "stream",
     "text": [
      "50.9902 segundos 00038.csv \n"
     ]
    },
    {
     "name": "stderr",
     "output_type": "stream",
     "text": [
      "Warning message in df$Demanda_Energia_SIN_GWh[df$Fecha >= as.Date(start_at)] <- unlist(unname(escenarios %>% :\n",
      "“número de items para para sustituir no es un múltiplo de la longitud del reemplazo”"
     ]
    },
    {
     "name": "stdout",
     "output_type": "stream",
     "text": [
      "50.9054 segundos 00039.csv \n"
     ]
    },
    {
     "name": "stderr",
     "output_type": "stream",
     "text": [
      "Warning message in df$Demanda_Energia_SIN_GWh[df$Fecha >= as.Date(start_at)] <- unlist(unname(escenarios %>% :\n",
      "“número de items para para sustituir no es un múltiplo de la longitud del reemplazo”"
     ]
    },
    {
     "name": "stdout",
     "output_type": "stream",
     "text": [
      "50.7907 segundos 00040.csv \n"
     ]
    },
    {
     "name": "stderr",
     "output_type": "stream",
     "text": [
      "Warning message in df$Demanda_Energia_SIN_GWh[df$Fecha >= as.Date(start_at)] <- unlist(unname(escenarios %>% :\n",
      "“número de items para para sustituir no es un múltiplo de la longitud del reemplazo”"
     ]
    },
    {
     "name": "stdout",
     "output_type": "stream",
     "text": [
      "51.2187 segundos 00041.csv \n"
     ]
    },
    {
     "name": "stderr",
     "output_type": "stream",
     "text": [
      "Warning message in df$Demanda_Energia_SIN_GWh[df$Fecha >= as.Date(start_at)] <- unlist(unname(escenarios %>% :\n",
      "“número de items para para sustituir no es un múltiplo de la longitud del reemplazo”"
     ]
    },
    {
     "name": "stdout",
     "output_type": "stream",
     "text": [
      "50.9851 segundos 00042.csv \n"
     ]
    },
    {
     "name": "stderr",
     "output_type": "stream",
     "text": [
      "Warning message in df$Demanda_Energia_SIN_GWh[df$Fecha >= as.Date(start_at)] <- unlist(unname(escenarios %>% :\n",
      "“número de items para para sustituir no es un múltiplo de la longitud del reemplazo”"
     ]
    },
    {
     "name": "stdout",
     "output_type": "stream",
     "text": [
      "50.8473 segundos 00043.csv \n"
     ]
    },
    {
     "name": "stderr",
     "output_type": "stream",
     "text": [
      "Warning message in df$Demanda_Energia_SIN_GWh[df$Fecha >= as.Date(start_at)] <- unlist(unname(escenarios %>% :\n",
      "“número de items para para sustituir no es un múltiplo de la longitud del reemplazo”"
     ]
    },
    {
     "name": "stdout",
     "output_type": "stream",
     "text": [
      "50.8042 segundos 00044.csv \n"
     ]
    },
    {
     "name": "stderr",
     "output_type": "stream",
     "text": [
      "Warning message in df$Demanda_Energia_SIN_GWh[df$Fecha >= as.Date(start_at)] <- unlist(unname(escenarios %>% :\n",
      "“número de items para para sustituir no es un múltiplo de la longitud del reemplazo”"
     ]
    },
    {
     "name": "stdout",
     "output_type": "stream",
     "text": [
      "50.9022 segundos 00045.csv \n"
     ]
    },
    {
     "name": "stderr",
     "output_type": "stream",
     "text": [
      "Warning message in df$Demanda_Energia_SIN_GWh[df$Fecha >= as.Date(start_at)] <- unlist(unname(escenarios %>% :\n",
      "“número de items para para sustituir no es un múltiplo de la longitud del reemplazo”"
     ]
    },
    {
     "name": "stdout",
     "output_type": "stream",
     "text": [
      "51.3433 segundos 00046.csv \n"
     ]
    },
    {
     "name": "stderr",
     "output_type": "stream",
     "text": [
      "Warning message in df$Demanda_Energia_SIN_GWh[df$Fecha >= as.Date(start_at)] <- unlist(unname(escenarios %>% :\n",
      "“número de items para para sustituir no es un múltiplo de la longitud del reemplazo”"
     ]
    },
    {
     "name": "stdout",
     "output_type": "stream",
     "text": [
      "53.1807 segundos 00047.csv \n"
     ]
    },
    {
     "name": "stderr",
     "output_type": "stream",
     "text": [
      "Warning message in df$Demanda_Energia_SIN_GWh[df$Fecha >= as.Date(start_at)] <- unlist(unname(escenarios %>% :\n",
      "“número de items para para sustituir no es un múltiplo de la longitud del reemplazo”"
     ]
    },
    {
     "name": "stdout",
     "output_type": "stream",
     "text": [
      "52.3002 segundos 00048.csv \n"
     ]
    },
    {
     "name": "stderr",
     "output_type": "stream",
     "text": [
      "Warning message in df$Demanda_Energia_SIN_GWh[df$Fecha >= as.Date(start_at)] <- unlist(unname(escenarios %>% :\n",
      "“número de items para para sustituir no es un múltiplo de la longitud del reemplazo”"
     ]
    },
    {
     "name": "stdout",
     "output_type": "stream",
     "text": [
      "50.8789 segundos 00049.csv \n"
     ]
    },
    {
     "name": "stderr",
     "output_type": "stream",
     "text": [
      "Warning message in df$Demanda_Energia_SIN_GWh[df$Fecha >= as.Date(start_at)] <- unlist(unname(escenarios %>% :\n",
      "“número de items para para sustituir no es un múltiplo de la longitud del reemplazo”"
     ]
    },
    {
     "name": "stdout",
     "output_type": "stream",
     "text": [
      "50.7719 segundos 00050.csv \n"
     ]
    },
    {
     "name": "stderr",
     "output_type": "stream",
     "text": [
      "Warning message in df$Demanda_Energia_SIN_GWh[df$Fecha >= as.Date(start_at)] <- unlist(unname(escenarios %>% :\n",
      "“número de items para para sustituir no es un múltiplo de la longitud del reemplazo”"
     ]
    },
    {
     "name": "stdout",
     "output_type": "stream",
     "text": [
      "50.9448 segundos 00051.csv \n"
     ]
    },
    {
     "name": "stderr",
     "output_type": "stream",
     "text": [
      "Warning message in df$Demanda_Energia_SIN_GWh[df$Fecha >= as.Date(start_at)] <- unlist(unname(escenarios %>% :\n",
      "“número de items para para sustituir no es un múltiplo de la longitud del reemplazo”"
     ]
    },
    {
     "name": "stdout",
     "output_type": "stream",
     "text": [
      "50.8807 segundos 00052.csv \n"
     ]
    },
    {
     "name": "stderr",
     "output_type": "stream",
     "text": [
      "Warning message in df$Demanda_Energia_SIN_GWh[df$Fecha >= as.Date(start_at)] <- unlist(unname(escenarios %>% :\n",
      "“número de items para para sustituir no es un múltiplo de la longitud del reemplazo”"
     ]
    },
    {
     "name": "stdout",
     "output_type": "stream",
     "text": [
      "51.1445 segundos 00053.csv \n"
     ]
    },
    {
     "name": "stderr",
     "output_type": "stream",
     "text": [
      "Warning message in df$Demanda_Energia_SIN_GWh[df$Fecha >= as.Date(start_at)] <- unlist(unname(escenarios %>% :\n",
      "“número de items para para sustituir no es un múltiplo de la longitud del reemplazo”"
     ]
    },
    {
     "name": "stdout",
     "output_type": "stream",
     "text": [
      "50.9141 segundos 00054.csv \n"
     ]
    },
    {
     "name": "stderr",
     "output_type": "stream",
     "text": [
      "Warning message in df$Demanda_Energia_SIN_GWh[df$Fecha >= as.Date(start_at)] <- unlist(unname(escenarios %>% :\n",
      "“número de items para para sustituir no es un múltiplo de la longitud del reemplazo”"
     ]
    },
    {
     "name": "stdout",
     "output_type": "stream",
     "text": [
      "50.9429 segundos 00055.csv \n"
     ]
    },
    {
     "name": "stderr",
     "output_type": "stream",
     "text": [
      "Warning message in df$Demanda_Energia_SIN_GWh[df$Fecha >= as.Date(start_at)] <- unlist(unname(escenarios %>% :\n",
      "“número de items para para sustituir no es un múltiplo de la longitud del reemplazo”"
     ]
    },
    {
     "name": "stdout",
     "output_type": "stream",
     "text": [
      "50.8689 segundos 00056.csv \n"
     ]
    },
    {
     "name": "stderr",
     "output_type": "stream",
     "text": [
      "Warning message in df$Demanda_Energia_SIN_GWh[df$Fecha >= as.Date(start_at)] <- unlist(unname(escenarios %>% :\n",
      "“número de items para para sustituir no es un múltiplo de la longitud del reemplazo”"
     ]
    },
    {
     "name": "stdout",
     "output_type": "stream",
     "text": [
      "51.0107 segundos 00057.csv \n"
     ]
    },
    {
     "name": "stderr",
     "output_type": "stream",
     "text": [
      "Warning message in df$Demanda_Energia_SIN_GWh[df$Fecha >= as.Date(start_at)] <- unlist(unname(escenarios %>% :\n",
      "“número de items para para sustituir no es un múltiplo de la longitud del reemplazo”"
     ]
    },
    {
     "name": "stdout",
     "output_type": "stream",
     "text": [
      "51.3046 segundos 00058.csv \n"
     ]
    },
    {
     "name": "stderr",
     "output_type": "stream",
     "text": [
      "Warning message in df$Demanda_Energia_SIN_GWh[df$Fecha >= as.Date(start_at)] <- unlist(unname(escenarios %>% :\n",
      "“número de items para para sustituir no es un múltiplo de la longitud del reemplazo”"
     ]
    },
    {
     "name": "stdout",
     "output_type": "stream",
     "text": [
      "51.2914 segundos 00059.csv \n"
     ]
    },
    {
     "name": "stderr",
     "output_type": "stream",
     "text": [
      "Warning message in df$Demanda_Energia_SIN_GWh[df$Fecha >= as.Date(start_at)] <- unlist(unname(escenarios %>% :\n",
      "“número de items para para sustituir no es un múltiplo de la longitud del reemplazo”"
     ]
    },
    {
     "name": "stdout",
     "output_type": "stream",
     "text": [
      "50.96 segundos 00060.csv \n"
     ]
    },
    {
     "name": "stderr",
     "output_type": "stream",
     "text": [
      "Warning message in df$Demanda_Energia_SIN_GWh[df$Fecha >= as.Date(start_at)] <- unlist(unname(escenarios %>% :\n",
      "“número de items para para sustituir no es un múltiplo de la longitud del reemplazo”"
     ]
    },
    {
     "name": "stdout",
     "output_type": "stream",
     "text": [
      "51.0445 segundos 00061.csv \n"
     ]
    },
    {
     "name": "stderr",
     "output_type": "stream",
     "text": [
      "Warning message in df$Demanda_Energia_SIN_GWh[df$Fecha >= as.Date(start_at)] <- unlist(unname(escenarios %>% :\n",
      "“número de items para para sustituir no es un múltiplo de la longitud del reemplazo”"
     ]
    },
    {
     "name": "stdout",
     "output_type": "stream",
     "text": [
      "51.1978 segundos 00062.csv \n"
     ]
    },
    {
     "name": "stderr",
     "output_type": "stream",
     "text": [
      "Warning message in df$Demanda_Energia_SIN_GWh[df$Fecha >= as.Date(start_at)] <- unlist(unname(escenarios %>% :\n",
      "“número de items para para sustituir no es un múltiplo de la longitud del reemplazo”"
     ]
    },
    {
     "name": "stdout",
     "output_type": "stream",
     "text": [
      "50.884 segundos 00063.csv \n"
     ]
    },
    {
     "name": "stderr",
     "output_type": "stream",
     "text": [
      "Warning message in df$Demanda_Energia_SIN_GWh[df$Fecha >= as.Date(start_at)] <- unlist(unname(escenarios %>% :\n",
      "“número de items para para sustituir no es un múltiplo de la longitud del reemplazo”"
     ]
    },
    {
     "name": "stdout",
     "output_type": "stream",
     "text": [
      "51.0561 segundos 00064.csv \n"
     ]
    },
    {
     "name": "stderr",
     "output_type": "stream",
     "text": [
      "Warning message in df$Demanda_Energia_SIN_GWh[df$Fecha >= as.Date(start_at)] <- unlist(unname(escenarios %>% :\n",
      "“número de items para para sustituir no es un múltiplo de la longitud del reemplazo”"
     ]
    },
    {
     "name": "stdout",
     "output_type": "stream",
     "text": [
      "51.2034 segundos 00065.csv \n"
     ]
    },
    {
     "name": "stderr",
     "output_type": "stream",
     "text": [
      "Warning message in df$Demanda_Energia_SIN_GWh[df$Fecha >= as.Date(start_at)] <- unlist(unname(escenarios %>% :\n",
      "“número de items para para sustituir no es un múltiplo de la longitud del reemplazo”"
     ]
    },
    {
     "name": "stdout",
     "output_type": "stream",
     "text": [
      "51.0477 segundos 00066.csv \n"
     ]
    },
    {
     "name": "stderr",
     "output_type": "stream",
     "text": [
      "Warning message in df$Demanda_Energia_SIN_GWh[df$Fecha >= as.Date(start_at)] <- unlist(unname(escenarios %>% :\n",
      "“número de items para para sustituir no es un múltiplo de la longitud del reemplazo”"
     ]
    },
    {
     "name": "stdout",
     "output_type": "stream",
     "text": [
      "51.0023 segundos 00067.csv \n"
     ]
    },
    {
     "name": "stderr",
     "output_type": "stream",
     "text": [
      "Warning message in df$Demanda_Energia_SIN_GWh[df$Fecha >= as.Date(start_at)] <- unlist(unname(escenarios %>% :\n",
      "“número de items para para sustituir no es un múltiplo de la longitud del reemplazo”"
     ]
    },
    {
     "name": "stdout",
     "output_type": "stream",
     "text": [
      "50.794 segundos 00068.csv \n"
     ]
    },
    {
     "name": "stderr",
     "output_type": "stream",
     "text": [
      "Warning message in df$Demanda_Energia_SIN_GWh[df$Fecha >= as.Date(start_at)] <- unlist(unname(escenarios %>% :\n",
      "“número de items para para sustituir no es un múltiplo de la longitud del reemplazo”"
     ]
    },
    {
     "name": "stdout",
     "output_type": "stream",
     "text": [
      "50.9979 segundos 00069.csv \n"
     ]
    },
    {
     "name": "stderr",
     "output_type": "stream",
     "text": [
      "Warning message in df$Demanda_Energia_SIN_GWh[df$Fecha >= as.Date(start_at)] <- unlist(unname(escenarios %>% :\n",
      "“número de items para para sustituir no es un múltiplo de la longitud del reemplazo”"
     ]
    },
    {
     "name": "stdout",
     "output_type": "stream",
     "text": [
      "59.0103 segundos 00070.csv \n"
     ]
    },
    {
     "name": "stderr",
     "output_type": "stream",
     "text": [
      "Warning message in df$Demanda_Energia_SIN_GWh[df$Fecha >= as.Date(start_at)] <- unlist(unname(escenarios %>% :\n",
      "“número de items para para sustituir no es un múltiplo de la longitud del reemplazo”"
     ]
    },
    {
     "name": "stdout",
     "output_type": "stream",
     "text": [
      "51.4291 segundos 00071.csv \n"
     ]
    },
    {
     "name": "stderr",
     "output_type": "stream",
     "text": [
      "Warning message in df$Demanda_Energia_SIN_GWh[df$Fecha >= as.Date(start_at)] <- unlist(unname(escenarios %>% :\n",
      "“número de items para para sustituir no es un múltiplo de la longitud del reemplazo”"
     ]
    },
    {
     "name": "stdout",
     "output_type": "stream",
     "text": [
      "52.3416 segundos 00072.csv \n"
     ]
    },
    {
     "name": "stderr",
     "output_type": "stream",
     "text": [
      "Warning message in df$Demanda_Energia_SIN_GWh[df$Fecha >= as.Date(start_at)] <- unlist(unname(escenarios %>% :\n",
      "“número de items para para sustituir no es un múltiplo de la longitud del reemplazo”"
     ]
    },
    {
     "name": "stdout",
     "output_type": "stream",
     "text": [
      "53.7403 segundos 00073.csv \n"
     ]
    },
    {
     "name": "stderr",
     "output_type": "stream",
     "text": [
      "Warning message in df$Demanda_Energia_SIN_GWh[df$Fecha >= as.Date(start_at)] <- unlist(unname(escenarios %>% :\n",
      "“número de items para para sustituir no es un múltiplo de la longitud del reemplazo”"
     ]
    },
    {
     "name": "stdout",
     "output_type": "stream",
     "text": [
      "51.3605 segundos 00074.csv \n"
     ]
    },
    {
     "name": "stderr",
     "output_type": "stream",
     "text": [
      "Warning message in df$Demanda_Energia_SIN_GWh[df$Fecha >= as.Date(start_at)] <- unlist(unname(escenarios %>% :\n",
      "“número de items para para sustituir no es un múltiplo de la longitud del reemplazo”"
     ]
    },
    {
     "name": "stdout",
     "output_type": "stream",
     "text": [
      "51.0497 segundos 00075.csv \n"
     ]
    },
    {
     "name": "stderr",
     "output_type": "stream",
     "text": [
      "Warning message in df$Demanda_Energia_SIN_GWh[df$Fecha >= as.Date(start_at)] <- unlist(unname(escenarios %>% :\n",
      "“número de items para para sustituir no es un múltiplo de la longitud del reemplazo”"
     ]
    },
    {
     "name": "stdout",
     "output_type": "stream",
     "text": [
      "51.0977 segundos 00076.csv \n"
     ]
    },
    {
     "name": "stderr",
     "output_type": "stream",
     "text": [
      "Warning message in df$Demanda_Energia_SIN_GWh[df$Fecha >= as.Date(start_at)] <- unlist(unname(escenarios %>% :\n",
      "“número de items para para sustituir no es un múltiplo de la longitud del reemplazo”"
     ]
    },
    {
     "name": "stdout",
     "output_type": "stream",
     "text": [
      "50.9322 segundos 00077.csv \n"
     ]
    },
    {
     "name": "stderr",
     "output_type": "stream",
     "text": [
      "Warning message in df$Demanda_Energia_SIN_GWh[df$Fecha >= as.Date(start_at)] <- unlist(unname(escenarios %>% :\n",
      "“número de items para para sustituir no es un múltiplo de la longitud del reemplazo”"
     ]
    },
    {
     "name": "stdout",
     "output_type": "stream",
     "text": [
      "51.0098 segundos 00078.csv \n"
     ]
    },
    {
     "name": "stderr",
     "output_type": "stream",
     "text": [
      "Warning message in df$Demanda_Energia_SIN_GWh[df$Fecha >= as.Date(start_at)] <- unlist(unname(escenarios %>% :\n",
      "“número de items para para sustituir no es un múltiplo de la longitud del reemplazo”"
     ]
    },
    {
     "name": "stdout",
     "output_type": "stream",
     "text": [
      "50.9284 segundos 00079.csv \n"
     ]
    },
    {
     "name": "stderr",
     "output_type": "stream",
     "text": [
      "Warning message in df$Demanda_Energia_SIN_GWh[df$Fecha >= as.Date(start_at)] <- unlist(unname(escenarios %>% :\n",
      "“número de items para para sustituir no es un múltiplo de la longitud del reemplazo”"
     ]
    },
    {
     "name": "stdout",
     "output_type": "stream",
     "text": [
      "51.1585 segundos 00080.csv \n"
     ]
    },
    {
     "name": "stderr",
     "output_type": "stream",
     "text": [
      "Warning message in df$Demanda_Energia_SIN_GWh[df$Fecha >= as.Date(start_at)] <- unlist(unname(escenarios %>% :\n",
      "“número de items para para sustituir no es un múltiplo de la longitud del reemplazo”"
     ]
    },
    {
     "name": "stdout",
     "output_type": "stream",
     "text": [
      "50.8883 segundos 00081.csv \n"
     ]
    },
    {
     "name": "stderr",
     "output_type": "stream",
     "text": [
      "Warning message in df$Demanda_Energia_SIN_GWh[df$Fecha >= as.Date(start_at)] <- unlist(unname(escenarios %>% :\n",
      "“número de items para para sustituir no es un múltiplo de la longitud del reemplazo”"
     ]
    },
    {
     "name": "stdout",
     "output_type": "stream",
     "text": [
      "51.1623 segundos 00082.csv \n"
     ]
    },
    {
     "name": "stderr",
     "output_type": "stream",
     "text": [
      "Warning message in df$Demanda_Energia_SIN_GWh[df$Fecha >= as.Date(start_at)] <- unlist(unname(escenarios %>% :\n",
      "“número de items para para sustituir no es un múltiplo de la longitud del reemplazo”"
     ]
    },
    {
     "name": "stdout",
     "output_type": "stream",
     "text": [
      "50.9313 segundos 00083.csv \n"
     ]
    },
    {
     "name": "stderr",
     "output_type": "stream",
     "text": [
      "Warning message in df$Demanda_Energia_SIN_GWh[df$Fecha >= as.Date(start_at)] <- unlist(unname(escenarios %>% :\n",
      "“número de items para para sustituir no es un múltiplo de la longitud del reemplazo”"
     ]
    },
    {
     "name": "stdout",
     "output_type": "stream",
     "text": [
      "50.9705 segundos 00084.csv \n"
     ]
    },
    {
     "name": "stderr",
     "output_type": "stream",
     "text": [
      "Warning message in df$Demanda_Energia_SIN_GWh[df$Fecha >= as.Date(start_at)] <- unlist(unname(escenarios %>% :\n",
      "“número de items para para sustituir no es un múltiplo de la longitud del reemplazo”"
     ]
    },
    {
     "name": "stdout",
     "output_type": "stream",
     "text": [
      "51.0266 segundos 00085.csv \n"
     ]
    },
    {
     "name": "stderr",
     "output_type": "stream",
     "text": [
      "Warning message in df$Demanda_Energia_SIN_GWh[df$Fecha >= as.Date(start_at)] <- unlist(unname(escenarios %>% :\n",
      "“número de items para para sustituir no es un múltiplo de la longitud del reemplazo”"
     ]
    },
    {
     "name": "stdout",
     "output_type": "stream",
     "text": [
      "50.8092 segundos 00086.csv \n"
     ]
    },
    {
     "name": "stderr",
     "output_type": "stream",
     "text": [
      "Warning message in df$Demanda_Energia_SIN_GWh[df$Fecha >= as.Date(start_at)] <- unlist(unname(escenarios %>% :\n",
      "“número de items para para sustituir no es un múltiplo de la longitud del reemplazo”"
     ]
    },
    {
     "name": "stdout",
     "output_type": "stream",
     "text": [
      "51.0319 segundos 00087.csv \n"
     ]
    },
    {
     "name": "stderr",
     "output_type": "stream",
     "text": [
      "Warning message in df$Demanda_Energia_SIN_GWh[df$Fecha >= as.Date(start_at)] <- unlist(unname(escenarios %>% :\n",
      "“número de items para para sustituir no es un múltiplo de la longitud del reemplazo”"
     ]
    },
    {
     "name": "stdout",
     "output_type": "stream",
     "text": [
      "51.8994 segundos 00088.csv \n"
     ]
    },
    {
     "name": "stderr",
     "output_type": "stream",
     "text": [
      "Warning message in df$Demanda_Energia_SIN_GWh[df$Fecha >= as.Date(start_at)] <- unlist(unname(escenarios %>% :\n",
      "“número de items para para sustituir no es un múltiplo de la longitud del reemplazo”"
     ]
    },
    {
     "name": "stdout",
     "output_type": "stream",
     "text": [
      "51.296 segundos 00089.csv \n"
     ]
    },
    {
     "name": "stderr",
     "output_type": "stream",
     "text": [
      "Warning message in df$Demanda_Energia_SIN_GWh[df$Fecha >= as.Date(start_at)] <- unlist(unname(escenarios %>% :\n",
      "“número de items para para sustituir no es un múltiplo de la longitud del reemplazo”"
     ]
    },
    {
     "name": "stdout",
     "output_type": "stream",
     "text": [
      "50.8976 segundos 00090.csv \n"
     ]
    },
    {
     "name": "stderr",
     "output_type": "stream",
     "text": [
      "Warning message in df$Demanda_Energia_SIN_GWh[df$Fecha >= as.Date(start_at)] <- unlist(unname(escenarios %>% :\n",
      "“número de items para para sustituir no es un múltiplo de la longitud del reemplazo”"
     ]
    },
    {
     "name": "stdout",
     "output_type": "stream",
     "text": [
      "50.849 segundos 00091.csv \n"
     ]
    },
    {
     "name": "stderr",
     "output_type": "stream",
     "text": [
      "Warning message in df$Demanda_Energia_SIN_GWh[df$Fecha >= as.Date(start_at)] <- unlist(unname(escenarios %>% :\n",
      "“número de items para para sustituir no es un múltiplo de la longitud del reemplazo”"
     ]
    },
    {
     "name": "stdout",
     "output_type": "stream",
     "text": [
      "51.0321 segundos 00092.csv \n"
     ]
    },
    {
     "name": "stderr",
     "output_type": "stream",
     "text": [
      "Warning message in df$Demanda_Energia_SIN_GWh[df$Fecha >= as.Date(start_at)] <- unlist(unname(escenarios %>% :\n",
      "“número de items para para sustituir no es un múltiplo de la longitud del reemplazo”"
     ]
    },
    {
     "name": "stdout",
     "output_type": "stream",
     "text": [
      "50.7527 segundos 00093.csv \n"
     ]
    },
    {
     "name": "stderr",
     "output_type": "stream",
     "text": [
      "Warning message in df$Demanda_Energia_SIN_GWh[df$Fecha >= as.Date(start_at)] <- unlist(unname(escenarios %>% :\n",
      "“número de items para para sustituir no es un múltiplo de la longitud del reemplazo”"
     ]
    },
    {
     "name": "stdout",
     "output_type": "stream",
     "text": [
      "51.6779 segundos 00094.csv \n"
     ]
    },
    {
     "name": "stderr",
     "output_type": "stream",
     "text": [
      "Warning message in df$Demanda_Energia_SIN_GWh[df$Fecha >= as.Date(start_at)] <- unlist(unname(escenarios %>% :\n",
      "“número de items para para sustituir no es un múltiplo de la longitud del reemplazo”"
     ]
    },
    {
     "name": "stdout",
     "output_type": "stream",
     "text": [
      "50.985 segundos 00095.csv \n"
     ]
    },
    {
     "name": "stderr",
     "output_type": "stream",
     "text": [
      "Warning message in df$Demanda_Energia_SIN_GWh[df$Fecha >= as.Date(start_at)] <- unlist(unname(escenarios %>% :\n",
      "“número de items para para sustituir no es un múltiplo de la longitud del reemplazo”"
     ]
    },
    {
     "name": "stdout",
     "output_type": "stream",
     "text": [
      "50.9702 segundos 00096.csv \n"
     ]
    },
    {
     "name": "stderr",
     "output_type": "stream",
     "text": [
      "Warning message in df$Demanda_Energia_SIN_GWh[df$Fecha >= as.Date(start_at)] <- unlist(unname(escenarios %>% :\n",
      "“número de items para para sustituir no es un múltiplo de la longitud del reemplazo”"
     ]
    },
    {
     "name": "stdout",
     "output_type": "stream",
     "text": [
      "51.5447 segundos 00097.csv \n"
     ]
    },
    {
     "name": "stderr",
     "output_type": "stream",
     "text": [
      "Warning message in df$Demanda_Energia_SIN_GWh[df$Fecha >= as.Date(start_at)] <- unlist(unname(escenarios %>% :\n",
      "“número de items para para sustituir no es un múltiplo de la longitud del reemplazo”"
     ]
    },
    {
     "name": "stdout",
     "output_type": "stream",
     "text": [
      "50.8786 segundos 00098.csv \n"
     ]
    },
    {
     "name": "stderr",
     "output_type": "stream",
     "text": [
      "Warning message in df$Demanda_Energia_SIN_GWh[df$Fecha >= as.Date(start_at)] <- unlist(unname(escenarios %>% :\n",
      "“número de items para para sustituir no es un múltiplo de la longitud del reemplazo”"
     ]
    },
    {
     "name": "stdout",
     "output_type": "stream",
     "text": [
      "50.8865 segundos 00099.csv \n"
     ]
    },
    {
     "name": "stderr",
     "output_type": "stream",
     "text": [
      "Warning message in df$Demanda_Energia_SIN_GWh[df$Fecha >= as.Date(start_at)] <- unlist(unname(escenarios %>% :\n",
      "“número de items para para sustituir no es un múltiplo de la longitud del reemplazo”"
     ]
    },
    {
     "name": "stdout",
     "output_type": "stream",
     "text": [
      "51.1867 segundos 00100.csv \n"
     ]
    },
    {
     "name": "stderr",
     "output_type": "stream",
     "text": [
      "Warning message in df$Demanda_Energia_SIN_GWh[df$Fecha >= as.Date(start_at)] <- unlist(unname(escenarios %>% :\n",
      "“número de items para para sustituir no es un múltiplo de la longitud del reemplazo”"
     ]
    },
    {
     "name": "stdout",
     "output_type": "stream",
     "text": [
      "50.846 segundos 00101.csv \n"
     ]
    },
    {
     "name": "stderr",
     "output_type": "stream",
     "text": [
      "Warning message in df$Demanda_Energia_SIN_GWh[df$Fecha >= as.Date(start_at)] <- unlist(unname(escenarios %>% :\n",
      "“número de items para para sustituir no es un múltiplo de la longitud del reemplazo”"
     ]
    },
    {
     "name": "stdout",
     "output_type": "stream",
     "text": [
      "50.9527 segundos 00102.csv \n"
     ]
    },
    {
     "name": "stderr",
     "output_type": "stream",
     "text": [
      "Warning message in df$Demanda_Energia_SIN_GWh[df$Fecha >= as.Date(start_at)] <- unlist(unname(escenarios %>% :\n",
      "“número de items para para sustituir no es un múltiplo de la longitud del reemplazo”"
     ]
    },
    {
     "name": "stdout",
     "output_type": "stream",
     "text": [
      "50.9933 segundos 00103.csv \n"
     ]
    },
    {
     "name": "stderr",
     "output_type": "stream",
     "text": [
      "Warning message in df$Demanda_Energia_SIN_GWh[df$Fecha >= as.Date(start_at)] <- unlist(unname(escenarios %>% :\n",
      "“número de items para para sustituir no es un múltiplo de la longitud del reemplazo”"
     ]
    },
    {
     "name": "stdout",
     "output_type": "stream",
     "text": [
      "50.8856 segundos 00104.csv \n"
     ]
    },
    {
     "name": "stderr",
     "output_type": "stream",
     "text": [
      "Warning message in df$Demanda_Energia_SIN_GWh[df$Fecha >= as.Date(start_at)] <- unlist(unname(escenarios %>% :\n",
      "“número de items para para sustituir no es un múltiplo de la longitud del reemplazo”"
     ]
    },
    {
     "name": "stdout",
     "output_type": "stream",
     "text": [
      "51.0787 segundos 00105.csv \n"
     ]
    },
    {
     "name": "stderr",
     "output_type": "stream",
     "text": [
      "Warning message in df$Demanda_Energia_SIN_GWh[df$Fecha >= as.Date(start_at)] <- unlist(unname(escenarios %>% :\n",
      "“número de items para para sustituir no es un múltiplo de la longitud del reemplazo”"
     ]
    },
    {
     "name": "stdout",
     "output_type": "stream",
     "text": [
      "51.1458 segundos 00106.csv \n"
     ]
    },
    {
     "name": "stderr",
     "output_type": "stream",
     "text": [
      "Warning message in df$Demanda_Energia_SIN_GWh[df$Fecha >= as.Date(start_at)] <- unlist(unname(escenarios %>% :\n",
      "“número de items para para sustituir no es un múltiplo de la longitud del reemplazo”"
     ]
    },
    {
     "name": "stdout",
     "output_type": "stream",
     "text": [
      "50.7531 segundos 00107.csv \n"
     ]
    },
    {
     "name": "stderr",
     "output_type": "stream",
     "text": [
      "Warning message in df$Demanda_Energia_SIN_GWh[df$Fecha >= as.Date(start_at)] <- unlist(unname(escenarios %>% :\n",
      "“número de items para para sustituir no es un múltiplo de la longitud del reemplazo”"
     ]
    },
    {
     "name": "stdout",
     "output_type": "stream",
     "text": [
      "51.0713 segundos 00108.csv \n"
     ]
    },
    {
     "name": "stderr",
     "output_type": "stream",
     "text": [
      "Warning message in df$Demanda_Energia_SIN_GWh[df$Fecha >= as.Date(start_at)] <- unlist(unname(escenarios %>% :\n",
      "“número de items para para sustituir no es un múltiplo de la longitud del reemplazo”"
     ]
    },
    {
     "name": "stdout",
     "output_type": "stream",
     "text": [
      "50.8709 segundos 00109.csv \n"
     ]
    },
    {
     "name": "stderr",
     "output_type": "stream",
     "text": [
      "Warning message in df$Demanda_Energia_SIN_GWh[df$Fecha >= as.Date(start_at)] <- unlist(unname(escenarios %>% :\n",
      "“número de items para para sustituir no es un múltiplo de la longitud del reemplazo”"
     ]
    },
    {
     "name": "stdout",
     "output_type": "stream",
     "text": [
      "50.8722 segundos 00110.csv \n"
     ]
    },
    {
     "name": "stderr",
     "output_type": "stream",
     "text": [
      "Warning message in df$Demanda_Energia_SIN_GWh[df$Fecha >= as.Date(start_at)] <- unlist(unname(escenarios %>% :\n",
      "“número de items para para sustituir no es un múltiplo de la longitud del reemplazo”"
     ]
    },
    {
     "name": "stdout",
     "output_type": "stream",
     "text": [
      "50.8974 segundos 00111.csv \n"
     ]
    },
    {
     "name": "stderr",
     "output_type": "stream",
     "text": [
      "Warning message in df$Demanda_Energia_SIN_GWh[df$Fecha >= as.Date(start_at)] <- unlist(unname(escenarios %>% :\n",
      "“número de items para para sustituir no es un múltiplo de la longitud del reemplazo”"
     ]
    },
    {
     "name": "stdout",
     "output_type": "stream",
     "text": [
      "51.2166 segundos 00112.csv \n"
     ]
    },
    {
     "name": "stderr",
     "output_type": "stream",
     "text": [
      "Warning message in df$Demanda_Energia_SIN_GWh[df$Fecha >= as.Date(start_at)] <- unlist(unname(escenarios %>% :\n",
      "“número de items para para sustituir no es un múltiplo de la longitud del reemplazo”"
     ]
    },
    {
     "name": "stdout",
     "output_type": "stream",
     "text": [
      "50.9418 segundos 00113.csv \n"
     ]
    },
    {
     "name": "stderr",
     "output_type": "stream",
     "text": [
      "Warning message in df$Demanda_Energia_SIN_GWh[df$Fecha >= as.Date(start_at)] <- unlist(unname(escenarios %>% :\n",
      "“número de items para para sustituir no es un múltiplo de la longitud del reemplazo”"
     ]
    },
    {
     "name": "stdout",
     "output_type": "stream",
     "text": [
      "50.9478 segundos 00114.csv \n"
     ]
    },
    {
     "name": "stderr",
     "output_type": "stream",
     "text": [
      "Warning message in df$Demanda_Energia_SIN_GWh[df$Fecha >= as.Date(start_at)] <- unlist(unname(escenarios %>% :\n",
      "“número de items para para sustituir no es un múltiplo de la longitud del reemplazo”"
     ]
    },
    {
     "name": "stdout",
     "output_type": "stream",
     "text": [
      "50.9512 segundos 00115.csv \n"
     ]
    },
    {
     "name": "stderr",
     "output_type": "stream",
     "text": [
      "Warning message in df$Demanda_Energia_SIN_GWh[df$Fecha >= as.Date(start_at)] <- unlist(unname(escenarios %>% :\n",
      "“número de items para para sustituir no es un múltiplo de la longitud del reemplazo”"
     ]
    },
    {
     "name": "stdout",
     "output_type": "stream",
     "text": [
      "50.8929 segundos 00116.csv \n"
     ]
    },
    {
     "name": "stderr",
     "output_type": "stream",
     "text": [
      "Warning message in df$Demanda_Energia_SIN_GWh[df$Fecha >= as.Date(start_at)] <- unlist(unname(escenarios %>% :\n",
      "“número de items para para sustituir no es un múltiplo de la longitud del reemplazo”"
     ]
    },
    {
     "name": "stdout",
     "output_type": "stream",
     "text": [
      "51.0107 segundos 00117.csv \n"
     ]
    },
    {
     "name": "stderr",
     "output_type": "stream",
     "text": [
      "Warning message in df$Demanda_Energia_SIN_GWh[df$Fecha >= as.Date(start_at)] <- unlist(unname(escenarios %>% :\n",
      "“número de items para para sustituir no es un múltiplo de la longitud del reemplazo”"
     ]
    },
    {
     "name": "stdout",
     "output_type": "stream",
     "text": [
      "51.1196 segundos 00118.csv \n"
     ]
    },
    {
     "name": "stderr",
     "output_type": "stream",
     "text": [
      "Warning message in df$Demanda_Energia_SIN_GWh[df$Fecha >= as.Date(start_at)] <- unlist(unname(escenarios %>% :\n",
      "“número de items para para sustituir no es un múltiplo de la longitud del reemplazo”"
     ]
    },
    {
     "name": "stdout",
     "output_type": "stream",
     "text": [
      "51.0394 segundos 00119.csv \n"
     ]
    },
    {
     "name": "stderr",
     "output_type": "stream",
     "text": [
      "Warning message in df$Demanda_Energia_SIN_GWh[df$Fecha >= as.Date(start_at)] <- unlist(unname(escenarios %>% :\n",
      "“número de items para para sustituir no es un múltiplo de la longitud del reemplazo”"
     ]
    },
    {
     "name": "stdout",
     "output_type": "stream",
     "text": [
      "50.966 segundos 00120.csv \n"
     ]
    },
    {
     "name": "stderr",
     "output_type": "stream",
     "text": [
      "Warning message in df$Demanda_Energia_SIN_GWh[df$Fecha >= as.Date(start_at)] <- unlist(unname(escenarios %>% :\n",
      "“número de items para para sustituir no es un múltiplo de la longitud del reemplazo”"
     ]
    },
    {
     "name": "stdout",
     "output_type": "stream",
     "text": [
      "51.0735 segundos 00121.csv \n"
     ]
    },
    {
     "name": "stderr",
     "output_type": "stream",
     "text": [
      "Warning message in df$Demanda_Energia_SIN_GWh[df$Fecha >= as.Date(start_at)] <- unlist(unname(escenarios %>% :\n",
      "“número de items para para sustituir no es un múltiplo de la longitud del reemplazo”"
     ]
    },
    {
     "name": "stdout",
     "output_type": "stream",
     "text": [
      "50.9281 segundos 00122.csv \n"
     ]
    },
    {
     "name": "stderr",
     "output_type": "stream",
     "text": [
      "Warning message in df$Demanda_Energia_SIN_GWh[df$Fecha >= as.Date(start_at)] <- unlist(unname(escenarios %>% :\n",
      "“número de items para para sustituir no es un múltiplo de la longitud del reemplazo”"
     ]
    },
    {
     "name": "stdout",
     "output_type": "stream",
     "text": [
      "51.1045 segundos 00123.csv \n"
     ]
    },
    {
     "name": "stderr",
     "output_type": "stream",
     "text": [
      "Warning message in df$Demanda_Energia_SIN_GWh[df$Fecha >= as.Date(start_at)] <- unlist(unname(escenarios %>% :\n",
      "“número de items para para sustituir no es un múltiplo de la longitud del reemplazo”"
     ]
    },
    {
     "name": "stdout",
     "output_type": "stream",
     "text": [
      "50.9164 segundos 00124.csv \n"
     ]
    },
    {
     "name": "stderr",
     "output_type": "stream",
     "text": [
      "Warning message in df$Demanda_Energia_SIN_GWh[df$Fecha >= as.Date(start_at)] <- unlist(unname(escenarios %>% :\n",
      "“número de items para para sustituir no es un múltiplo de la longitud del reemplazo”"
     ]
    },
    {
     "name": "stdout",
     "output_type": "stream",
     "text": [
      "50.9381 segundos 00125.csv \n"
     ]
    },
    {
     "name": "stderr",
     "output_type": "stream",
     "text": [
      "Warning message in df$Demanda_Energia_SIN_GWh[df$Fecha >= as.Date(start_at)] <- unlist(unname(escenarios %>% :\n",
      "“número de items para para sustituir no es un múltiplo de la longitud del reemplazo”"
     ]
    },
    {
     "name": "stdout",
     "output_type": "stream",
     "text": [
      "50.8871 segundos 00126.csv \n"
     ]
    },
    {
     "name": "stderr",
     "output_type": "stream",
     "text": [
      "Warning message in df$Demanda_Energia_SIN_GWh[df$Fecha >= as.Date(start_at)] <- unlist(unname(escenarios %>% :\n",
      "“número de items para para sustituir no es un múltiplo de la longitud del reemplazo”"
     ]
    },
    {
     "name": "stdout",
     "output_type": "stream",
     "text": [
      "51.015 segundos 00127.csv \n"
     ]
    },
    {
     "name": "stderr",
     "output_type": "stream",
     "text": [
      "Warning message in df$Demanda_Energia_SIN_GWh[df$Fecha >= as.Date(start_at)] <- unlist(unname(escenarios %>% :\n",
      "“número de items para para sustituir no es un múltiplo de la longitud del reemplazo”"
     ]
    },
    {
     "name": "stdout",
     "output_type": "stream",
     "text": [
      "50.8667 segundos 00128.csv \n"
     ]
    },
    {
     "name": "stderr",
     "output_type": "stream",
     "text": [
      "Warning message in df$Demanda_Energia_SIN_GWh[df$Fecha >= as.Date(start_at)] <- unlist(unname(escenarios %>% :\n",
      "“número de items para para sustituir no es un múltiplo de la longitud del reemplazo”"
     ]
    },
    {
     "name": "stdout",
     "output_type": "stream",
     "text": [
      "51.1862 segundos 00129.csv \n"
     ]
    },
    {
     "name": "stderr",
     "output_type": "stream",
     "text": [
      "Warning message in df$Demanda_Energia_SIN_GWh[df$Fecha >= as.Date(start_at)] <- unlist(unname(escenarios %>% :\n",
      "“número de items para para sustituir no es un múltiplo de la longitud del reemplazo”"
     ]
    },
    {
     "name": "stdout",
     "output_type": "stream",
     "text": [
      "50.9429 segundos 00130.csv \n"
     ]
    },
    {
     "name": "stderr",
     "output_type": "stream",
     "text": [
      "Warning message in df$Demanda_Energia_SIN_GWh[df$Fecha >= as.Date(start_at)] <- unlist(unname(escenarios %>% :\n",
      "“número de items para para sustituir no es un múltiplo de la longitud del reemplazo”"
     ]
    },
    {
     "name": "stdout",
     "output_type": "stream",
     "text": [
      "51.0621 segundos 00131.csv \n"
     ]
    },
    {
     "name": "stderr",
     "output_type": "stream",
     "text": [
      "Warning message in df$Demanda_Energia_SIN_GWh[df$Fecha >= as.Date(start_at)] <- unlist(unname(escenarios %>% :\n",
      "“número de items para para sustituir no es un múltiplo de la longitud del reemplazo”"
     ]
    },
    {
     "name": "stdout",
     "output_type": "stream",
     "text": [
      "51.1374 segundos 00132.csv \n"
     ]
    },
    {
     "name": "stderr",
     "output_type": "stream",
     "text": [
      "Warning message in df$Demanda_Energia_SIN_GWh[df$Fecha >= as.Date(start_at)] <- unlist(unname(escenarios %>% :\n",
      "“número de items para para sustituir no es un múltiplo de la longitud del reemplazo”"
     ]
    },
    {
     "name": "stdout",
     "output_type": "stream",
     "text": [
      "51.0634 segundos 00133.csv \n"
     ]
    },
    {
     "name": "stderr",
     "output_type": "stream",
     "text": [
      "Warning message in df$Demanda_Energia_SIN_GWh[df$Fecha >= as.Date(start_at)] <- unlist(unname(escenarios %>% :\n",
      "“número de items para para sustituir no es un múltiplo de la longitud del reemplazo”"
     ]
    },
    {
     "name": "stdout",
     "output_type": "stream",
     "text": [
      "50.9384 segundos 00134.csv \n"
     ]
    },
    {
     "name": "stderr",
     "output_type": "stream",
     "text": [
      "Warning message in df$Demanda_Energia_SIN_GWh[df$Fecha >= as.Date(start_at)] <- unlist(unname(escenarios %>% :\n",
      "“número de items para para sustituir no es un múltiplo de la longitud del reemplazo”"
     ]
    },
    {
     "name": "stdout",
     "output_type": "stream",
     "text": [
      "51.2297 segundos 00135.csv \n"
     ]
    },
    {
     "name": "stderr",
     "output_type": "stream",
     "text": [
      "Warning message in df$Demanda_Energia_SIN_GWh[df$Fecha >= as.Date(start_at)] <- unlist(unname(escenarios %>% :\n",
      "“número de items para para sustituir no es un múltiplo de la longitud del reemplazo”"
     ]
    },
    {
     "name": "stdout",
     "output_type": "stream",
     "text": [
      "51.0049 segundos 00136.csv \n"
     ]
    },
    {
     "name": "stderr",
     "output_type": "stream",
     "text": [
      "Warning message in df$Demanda_Energia_SIN_GWh[df$Fecha >= as.Date(start_at)] <- unlist(unname(escenarios %>% :\n",
      "“número de items para para sustituir no es un múltiplo de la longitud del reemplazo”"
     ]
    },
    {
     "name": "stdout",
     "output_type": "stream",
     "text": [
      "51.0114 segundos 00137.csv \n"
     ]
    },
    {
     "name": "stderr",
     "output_type": "stream",
     "text": [
      "Warning message in df$Demanda_Energia_SIN_GWh[df$Fecha >= as.Date(start_at)] <- unlist(unname(escenarios %>% :\n",
      "“número de items para para sustituir no es un múltiplo de la longitud del reemplazo”"
     ]
    },
    {
     "name": "stdout",
     "output_type": "stream",
     "text": [
      "50.8816 segundos 00138.csv \n"
     ]
    },
    {
     "name": "stderr",
     "output_type": "stream",
     "text": [
      "Warning message in df$Demanda_Energia_SIN_GWh[df$Fecha >= as.Date(start_at)] <- unlist(unname(escenarios %>% :\n",
      "“número de items para para sustituir no es un múltiplo de la longitud del reemplazo”"
     ]
    },
    {
     "name": "stdout",
     "output_type": "stream",
     "text": [
      "50.9718 segundos 00139.csv \n"
     ]
    },
    {
     "name": "stderr",
     "output_type": "stream",
     "text": [
      "Warning message in df$Demanda_Energia_SIN_GWh[df$Fecha >= as.Date(start_at)] <- unlist(unname(escenarios %>% :\n",
      "“número de items para para sustituir no es un múltiplo de la longitud del reemplazo”"
     ]
    },
    {
     "name": "stdout",
     "output_type": "stream",
     "text": [
      "50.9801 segundos 00140.csv \n"
     ]
    },
    {
     "name": "stderr",
     "output_type": "stream",
     "text": [
      "Warning message in df$Demanda_Energia_SIN_GWh[df$Fecha >= as.Date(start_at)] <- unlist(unname(escenarios %>% :\n",
      "“número de items para para sustituir no es un múltiplo de la longitud del reemplazo”"
     ]
    },
    {
     "name": "stdout",
     "output_type": "stream",
     "text": [
      "51.2718 segundos 00141.csv \n"
     ]
    },
    {
     "name": "stderr",
     "output_type": "stream",
     "text": [
      "Warning message in df$Demanda_Energia_SIN_GWh[df$Fecha >= as.Date(start_at)] <- unlist(unname(escenarios %>% :\n",
      "“número de items para para sustituir no es un múltiplo de la longitud del reemplazo”"
     ]
    },
    {
     "name": "stdout",
     "output_type": "stream",
     "text": [
      "50.9675 segundos 00142.csv \n"
     ]
    },
    {
     "name": "stderr",
     "output_type": "stream",
     "text": [
      "Warning message in df$Demanda_Energia_SIN_GWh[df$Fecha >= as.Date(start_at)] <- unlist(unname(escenarios %>% :\n",
      "“número de items para para sustituir no es un múltiplo de la longitud del reemplazo”"
     ]
    },
    {
     "name": "stdout",
     "output_type": "stream",
     "text": [
      "51.0608 segundos 00143.csv \n"
     ]
    },
    {
     "name": "stderr",
     "output_type": "stream",
     "text": [
      "Warning message in df$Demanda_Energia_SIN_GWh[df$Fecha >= as.Date(start_at)] <- unlist(unname(escenarios %>% :\n",
      "“número de items para para sustituir no es un múltiplo de la longitud del reemplazo”"
     ]
    },
    {
     "name": "stdout",
     "output_type": "stream",
     "text": [
      "51.0181 segundos 00144.csv \n"
     ]
    },
    {
     "name": "stderr",
     "output_type": "stream",
     "text": [
      "Warning message in df$Demanda_Energia_SIN_GWh[df$Fecha >= as.Date(start_at)] <- unlist(unname(escenarios %>% :\n",
      "“número de items para para sustituir no es un múltiplo de la longitud del reemplazo”"
     ]
    },
    {
     "name": "stdout",
     "output_type": "stream",
     "text": [
      "50.8233 segundos 00145.csv \n"
     ]
    },
    {
     "name": "stderr",
     "output_type": "stream",
     "text": [
      "Warning message in df$Demanda_Energia_SIN_GWh[df$Fecha >= as.Date(start_at)] <- unlist(unname(escenarios %>% :\n",
      "“número de items para para sustituir no es un múltiplo de la longitud del reemplazo”"
     ]
    },
    {
     "name": "stdout",
     "output_type": "stream",
     "text": [
      "51.1 segundos 00146.csv \n"
     ]
    },
    {
     "name": "stderr",
     "output_type": "stream",
     "text": [
      "Warning message in df$Demanda_Energia_SIN_GWh[df$Fecha >= as.Date(start_at)] <- unlist(unname(escenarios %>% :\n",
      "“número de items para para sustituir no es un múltiplo de la longitud del reemplazo”"
     ]
    },
    {
     "name": "stdout",
     "output_type": "stream",
     "text": [
      "51.1634 segundos 00147.csv \n"
     ]
    },
    {
     "name": "stderr",
     "output_type": "stream",
     "text": [
      "Warning message in df$Demanda_Energia_SIN_GWh[df$Fecha >= as.Date(start_at)] <- unlist(unname(escenarios %>% :\n",
      "“número de items para para sustituir no es un múltiplo de la longitud del reemplazo”"
     ]
    },
    {
     "name": "stdout",
     "output_type": "stream",
     "text": [
      "50.9717 segundos 00148.csv \n"
     ]
    },
    {
     "name": "stderr",
     "output_type": "stream",
     "text": [
      "Warning message in df$Demanda_Energia_SIN_GWh[df$Fecha >= as.Date(start_at)] <- unlist(unname(escenarios %>% :\n",
      "“número de items para para sustituir no es un múltiplo de la longitud del reemplazo”"
     ]
    },
    {
     "name": "stdout",
     "output_type": "stream",
     "text": [
      "50.9447 segundos 00149.csv \n"
     ]
    },
    {
     "name": "stderr",
     "output_type": "stream",
     "text": [
      "Warning message in df$Demanda_Energia_SIN_GWh[df$Fecha >= as.Date(start_at)] <- unlist(unname(escenarios %>% :\n",
      "“número de items para para sustituir no es un múltiplo de la longitud del reemplazo”"
     ]
    },
    {
     "name": "stdout",
     "output_type": "stream",
     "text": [
      "51.0098 segundos 00150.csv \n"
     ]
    },
    {
     "name": "stderr",
     "output_type": "stream",
     "text": [
      "Warning message in df$Demanda_Energia_SIN_GWh[df$Fecha >= as.Date(start_at)] <- unlist(unname(escenarios %>% :\n",
      "“número de items para para sustituir no es un múltiplo de la longitud del reemplazo”"
     ]
    },
    {
     "name": "stdout",
     "output_type": "stream",
     "text": [
      "51.0808 segundos 00151.csv \n"
     ]
    },
    {
     "name": "stderr",
     "output_type": "stream",
     "text": [
      "Warning message in df$Demanda_Energia_SIN_GWh[df$Fecha >= as.Date(start_at)] <- unlist(unname(escenarios %>% :\n",
      "“número de items para para sustituir no es un múltiplo de la longitud del reemplazo”"
     ]
    },
    {
     "name": "stdout",
     "output_type": "stream",
     "text": [
      "50.8862 segundos 00152.csv \n"
     ]
    },
    {
     "name": "stderr",
     "output_type": "stream",
     "text": [
      "Warning message in df$Demanda_Energia_SIN_GWh[df$Fecha >= as.Date(start_at)] <- unlist(unname(escenarios %>% :\n",
      "“número de items para para sustituir no es un múltiplo de la longitud del reemplazo”"
     ]
    },
    {
     "name": "stdout",
     "output_type": "stream",
     "text": [
      "53.3695 segundos 00153.csv \n"
     ]
    },
    {
     "name": "stderr",
     "output_type": "stream",
     "text": [
      "Warning message in df$Demanda_Energia_SIN_GWh[df$Fecha >= as.Date(start_at)] <- unlist(unname(escenarios %>% :\n",
      "“número de items para para sustituir no es un múltiplo de la longitud del reemplazo”"
     ]
    },
    {
     "name": "stdout",
     "output_type": "stream",
     "text": [
      "50.8384 segundos 00154.csv \n"
     ]
    },
    {
     "name": "stderr",
     "output_type": "stream",
     "text": [
      "Warning message in df$Demanda_Energia_SIN_GWh[df$Fecha >= as.Date(start_at)] <- unlist(unname(escenarios %>% :\n",
      "“número de items para para sustituir no es un múltiplo de la longitud del reemplazo”"
     ]
    },
    {
     "name": "stdout",
     "output_type": "stream",
     "text": [
      "50.8961 segundos 00155.csv \n"
     ]
    },
    {
     "name": "stderr",
     "output_type": "stream",
     "text": [
      "Warning message in df$Demanda_Energia_SIN_GWh[df$Fecha >= as.Date(start_at)] <- unlist(unname(escenarios %>% :\n",
      "“número de items para para sustituir no es un múltiplo de la longitud del reemplazo”"
     ]
    },
    {
     "name": "stdout",
     "output_type": "stream",
     "text": [
      "50.9615 segundos 00156.csv \n"
     ]
    },
    {
     "name": "stderr",
     "output_type": "stream",
     "text": [
      "Warning message in df$Demanda_Energia_SIN_GWh[df$Fecha >= as.Date(start_at)] <- unlist(unname(escenarios %>% :\n",
      "“número de items para para sustituir no es un múltiplo de la longitud del reemplazo”"
     ]
    },
    {
     "name": "stdout",
     "output_type": "stream",
     "text": [
      "51.008 segundos 00157.csv \n"
     ]
    },
    {
     "name": "stderr",
     "output_type": "stream",
     "text": [
      "Warning message in df$Demanda_Energia_SIN_GWh[df$Fecha >= as.Date(start_at)] <- unlist(unname(escenarios %>% :\n",
      "“número de items para para sustituir no es un múltiplo de la longitud del reemplazo”"
     ]
    },
    {
     "name": "stdout",
     "output_type": "stream",
     "text": [
      "50.8436 segundos 00158.csv \n"
     ]
    },
    {
     "name": "stderr",
     "output_type": "stream",
     "text": [
      "Warning message in df$Demanda_Energia_SIN_GWh[df$Fecha >= as.Date(start_at)] <- unlist(unname(escenarios %>% :\n",
      "“número de items para para sustituir no es un múltiplo de la longitud del reemplazo”"
     ]
    },
    {
     "name": "stdout",
     "output_type": "stream",
     "text": [
      "51.1894 segundos 00159.csv \n"
     ]
    },
    {
     "name": "stderr",
     "output_type": "stream",
     "text": [
      "Warning message in df$Demanda_Energia_SIN_GWh[df$Fecha >= as.Date(start_at)] <- unlist(unname(escenarios %>% :\n",
      "“número de items para para sustituir no es un múltiplo de la longitud del reemplazo”"
     ]
    },
    {
     "name": "stdout",
     "output_type": "stream",
     "text": [
      "51.0892 segundos 00160.csv \n"
     ]
    },
    {
     "name": "stderr",
     "output_type": "stream",
     "text": [
      "Warning message in df$Demanda_Energia_SIN_GWh[df$Fecha >= as.Date(start_at)] <- unlist(unname(escenarios %>% :\n",
      "“número de items para para sustituir no es un múltiplo de la longitud del reemplazo”"
     ]
    },
    {
     "name": "stdout",
     "output_type": "stream",
     "text": [
      "50.93 segundos 00161.csv \n"
     ]
    },
    {
     "name": "stderr",
     "output_type": "stream",
     "text": [
      "Warning message in df$Demanda_Energia_SIN_GWh[df$Fecha >= as.Date(start_at)] <- unlist(unname(escenarios %>% :\n",
      "“número de items para para sustituir no es un múltiplo de la longitud del reemplazo”"
     ]
    },
    {
     "name": "stdout",
     "output_type": "stream",
     "text": [
      "50.9281 segundos 00162.csv \n"
     ]
    },
    {
     "name": "stderr",
     "output_type": "stream",
     "text": [
      "Warning message in df$Demanda_Energia_SIN_GWh[df$Fecha >= as.Date(start_at)] <- unlist(unname(escenarios %>% :\n",
      "“número de items para para sustituir no es un múltiplo de la longitud del reemplazo”"
     ]
    },
    {
     "name": "stdout",
     "output_type": "stream",
     "text": [
      "51.1428 segundos 00163.csv \n"
     ]
    },
    {
     "name": "stderr",
     "output_type": "stream",
     "text": [
      "Warning message in df$Demanda_Energia_SIN_GWh[df$Fecha >= as.Date(start_at)] <- unlist(unname(escenarios %>% :\n",
      "“número de items para para sustituir no es un múltiplo de la longitud del reemplazo”"
     ]
    },
    {
     "name": "stdout",
     "output_type": "stream",
     "text": [
      "50.9217 segundos 00164.csv \n"
     ]
    },
    {
     "name": "stderr",
     "output_type": "stream",
     "text": [
      "Warning message in df$Demanda_Energia_SIN_GWh[df$Fecha >= as.Date(start_at)] <- unlist(unname(escenarios %>% :\n",
      "“número de items para para sustituir no es un múltiplo de la longitud del reemplazo”"
     ]
    },
    {
     "name": "stdout",
     "output_type": "stream",
     "text": [
      "51.295 segundos 00165.csv \n"
     ]
    },
    {
     "name": "stderr",
     "output_type": "stream",
     "text": [
      "Warning message in df$Demanda_Energia_SIN_GWh[df$Fecha >= as.Date(start_at)] <- unlist(unname(escenarios %>% :\n",
      "“número de items para para sustituir no es un múltiplo de la longitud del reemplazo”"
     ]
    },
    {
     "name": "stdout",
     "output_type": "stream",
     "text": [
      "50.9595 segundos 00166.csv \n"
     ]
    },
    {
     "name": "stderr",
     "output_type": "stream",
     "text": [
      "Warning message in df$Demanda_Energia_SIN_GWh[df$Fecha >= as.Date(start_at)] <- unlist(unname(escenarios %>% :\n",
      "“número de items para para sustituir no es un múltiplo de la longitud del reemplazo”"
     ]
    },
    {
     "name": "stdout",
     "output_type": "stream",
     "text": [
      "50.9939 segundos 00167.csv \n"
     ]
    },
    {
     "name": "stderr",
     "output_type": "stream",
     "text": [
      "Warning message in df$Demanda_Energia_SIN_GWh[df$Fecha >= as.Date(start_at)] <- unlist(unname(escenarios %>% :\n",
      "“número de items para para sustituir no es un múltiplo de la longitud del reemplazo”"
     ]
    },
    {
     "name": "stdout",
     "output_type": "stream",
     "text": [
      "50.9008 segundos 00168.csv \n"
     ]
    },
    {
     "name": "stderr",
     "output_type": "stream",
     "text": [
      "Warning message in df$Demanda_Energia_SIN_GWh[df$Fecha >= as.Date(start_at)] <- unlist(unname(escenarios %>% :\n",
      "“número de items para para sustituir no es un múltiplo de la longitud del reemplazo”"
     ]
    },
    {
     "name": "stdout",
     "output_type": "stream",
     "text": [
      "50.9159 segundos 00169.csv \n"
     ]
    },
    {
     "name": "stderr",
     "output_type": "stream",
     "text": [
      "Warning message in df$Demanda_Energia_SIN_GWh[df$Fecha >= as.Date(start_at)] <- unlist(unname(escenarios %>% :\n",
      "“número de items para para sustituir no es un múltiplo de la longitud del reemplazo”"
     ]
    },
    {
     "name": "stdout",
     "output_type": "stream",
     "text": [
      "51.0538 segundos 00170.csv \n"
     ]
    },
    {
     "name": "stderr",
     "output_type": "stream",
     "text": [
      "Warning message in df$Demanda_Energia_SIN_GWh[df$Fecha >= as.Date(start_at)] <- unlist(unname(escenarios %>% :\n",
      "“número de items para para sustituir no es un múltiplo de la longitud del reemplazo”"
     ]
    },
    {
     "name": "stdout",
     "output_type": "stream",
     "text": [
      "51.0543 segundos 00171.csv \n"
     ]
    },
    {
     "name": "stderr",
     "output_type": "stream",
     "text": [
      "Warning message in df$Demanda_Energia_SIN_GWh[df$Fecha >= as.Date(start_at)] <- unlist(unname(escenarios %>% :\n",
      "“número de items para para sustituir no es un múltiplo de la longitud del reemplazo”"
     ]
    },
    {
     "name": "stdout",
     "output_type": "stream",
     "text": [
      "50.847 segundos 00172.csv \n"
     ]
    },
    {
     "name": "stderr",
     "output_type": "stream",
     "text": [
      "Warning message in df$Demanda_Energia_SIN_GWh[df$Fecha >= as.Date(start_at)] <- unlist(unname(escenarios %>% :\n",
      "“número de items para para sustituir no es un múltiplo de la longitud del reemplazo”"
     ]
    },
    {
     "name": "stdout",
     "output_type": "stream",
     "text": [
      "50.8658 segundos 00173.csv \n"
     ]
    },
    {
     "name": "stderr",
     "output_type": "stream",
     "text": [
      "Warning message in df$Demanda_Energia_SIN_GWh[df$Fecha >= as.Date(start_at)] <- unlist(unname(escenarios %>% :\n",
      "“número de items para para sustituir no es un múltiplo de la longitud del reemplazo”"
     ]
    },
    {
     "name": "stdout",
     "output_type": "stream",
     "text": [
      "51.1733 segundos 00174.csv \n"
     ]
    },
    {
     "name": "stderr",
     "output_type": "stream",
     "text": [
      "Warning message in df$Demanda_Energia_SIN_GWh[df$Fecha >= as.Date(start_at)] <- unlist(unname(escenarios %>% :\n",
      "“número de items para para sustituir no es un múltiplo de la longitud del reemplazo”"
     ]
    },
    {
     "name": "stdout",
     "output_type": "stream",
     "text": [
      "50.8721 segundos 00175.csv \n"
     ]
    },
    {
     "name": "stderr",
     "output_type": "stream",
     "text": [
      "Warning message in df$Demanda_Energia_SIN_GWh[df$Fecha >= as.Date(start_at)] <- unlist(unname(escenarios %>% :\n",
      "“número de items para para sustituir no es un múltiplo de la longitud del reemplazo”"
     ]
    },
    {
     "name": "stdout",
     "output_type": "stream",
     "text": [
      "51.3018 segundos 00176.csv \n"
     ]
    },
    {
     "name": "stderr",
     "output_type": "stream",
     "text": [
      "Warning message in df$Demanda_Energia_SIN_GWh[df$Fecha >= as.Date(start_at)] <- unlist(unname(escenarios %>% :\n",
      "“número de items para para sustituir no es un múltiplo de la longitud del reemplazo”"
     ]
    },
    {
     "name": "stdout",
     "output_type": "stream",
     "text": [
      "51.0121 segundos 00177.csv \n"
     ]
    },
    {
     "name": "stderr",
     "output_type": "stream",
     "text": [
      "Warning message in df$Demanda_Energia_SIN_GWh[df$Fecha >= as.Date(start_at)] <- unlist(unname(escenarios %>% :\n",
      "“número de items para para sustituir no es un múltiplo de la longitud del reemplazo”"
     ]
    },
    {
     "name": "stdout",
     "output_type": "stream",
     "text": [
      "50.9816 segundos 00178.csv \n"
     ]
    },
    {
     "name": "stderr",
     "output_type": "stream",
     "text": [
      "Warning message in df$Demanda_Energia_SIN_GWh[df$Fecha >= as.Date(start_at)] <- unlist(unname(escenarios %>% :\n",
      "“número de items para para sustituir no es un múltiplo de la longitud del reemplazo”"
     ]
    },
    {
     "name": "stdout",
     "output_type": "stream",
     "text": [
      "50.9954 segundos 00179.csv \n"
     ]
    },
    {
     "name": "stderr",
     "output_type": "stream",
     "text": [
      "Warning message in df$Demanda_Energia_SIN_GWh[df$Fecha >= as.Date(start_at)] <- unlist(unname(escenarios %>% :\n",
      "“número de items para para sustituir no es un múltiplo de la longitud del reemplazo”"
     ]
    },
    {
     "name": "stdout",
     "output_type": "stream",
     "text": [
      "50.9961 segundos 00180.csv \n"
     ]
    },
    {
     "name": "stderr",
     "output_type": "stream",
     "text": [
      "Warning message in df$Demanda_Energia_SIN_GWh[df$Fecha >= as.Date(start_at)] <- unlist(unname(escenarios %>% :\n",
      "“número de items para para sustituir no es un múltiplo de la longitud del reemplazo”"
     ]
    },
    {
     "name": "stdout",
     "output_type": "stream",
     "text": [
      "50.933 segundos 00181.csv \n"
     ]
    },
    {
     "name": "stderr",
     "output_type": "stream",
     "text": [
      "Warning message in df$Demanda_Energia_SIN_GWh[df$Fecha >= as.Date(start_at)] <- unlist(unname(escenarios %>% :\n",
      "“número de items para para sustituir no es un múltiplo de la longitud del reemplazo”"
     ]
    },
    {
     "name": "stdout",
     "output_type": "stream",
     "text": [
      "51.3889 segundos 00182.csv \n"
     ]
    },
    {
     "name": "stderr",
     "output_type": "stream",
     "text": [
      "Warning message in df$Demanda_Energia_SIN_GWh[df$Fecha >= as.Date(start_at)] <- unlist(unname(escenarios %>% :\n",
      "“número de items para para sustituir no es un múltiplo de la longitud del reemplazo”"
     ]
    },
    {
     "name": "stdout",
     "output_type": "stream",
     "text": [
      "50.9418 segundos 00183.csv \n"
     ]
    },
    {
     "name": "stderr",
     "output_type": "stream",
     "text": [
      "Warning message in df$Demanda_Energia_SIN_GWh[df$Fecha >= as.Date(start_at)] <- unlist(unname(escenarios %>% :\n",
      "“número de items para para sustituir no es un múltiplo de la longitud del reemplazo”"
     ]
    },
    {
     "name": "stdout",
     "output_type": "stream",
     "text": [
      "51.0382 segundos 00184.csv \n"
     ]
    },
    {
     "name": "stderr",
     "output_type": "stream",
     "text": [
      "Warning message in df$Demanda_Energia_SIN_GWh[df$Fecha >= as.Date(start_at)] <- unlist(unname(escenarios %>% :\n",
      "“número de items para para sustituir no es un múltiplo de la longitud del reemplazo”"
     ]
    },
    {
     "name": "stdout",
     "output_type": "stream",
     "text": [
      "50.9516 segundos 00185.csv \n"
     ]
    },
    {
     "name": "stderr",
     "output_type": "stream",
     "text": [
      "Warning message in df$Demanda_Energia_SIN_GWh[df$Fecha >= as.Date(start_at)] <- unlist(unname(escenarios %>% :\n",
      "“número de items para para sustituir no es un múltiplo de la longitud del reemplazo”"
     ]
    },
    {
     "name": "stdout",
     "output_type": "stream",
     "text": [
      "50.999 segundos 00186.csv \n"
     ]
    },
    {
     "name": "stderr",
     "output_type": "stream",
     "text": [
      "Warning message in df$Demanda_Energia_SIN_GWh[df$Fecha >= as.Date(start_at)] <- unlist(unname(escenarios %>% :\n",
      "“número de items para para sustituir no es un múltiplo de la longitud del reemplazo”"
     ]
    },
    {
     "name": "stdout",
     "output_type": "stream",
     "text": [
      "50.9296 segundos 00187.csv \n"
     ]
    },
    {
     "name": "stderr",
     "output_type": "stream",
     "text": [
      "Warning message in df$Demanda_Energia_SIN_GWh[df$Fecha >= as.Date(start_at)] <- unlist(unname(escenarios %>% :\n",
      "“número de items para para sustituir no es un múltiplo de la longitud del reemplazo”"
     ]
    },
    {
     "name": "stdout",
     "output_type": "stream",
     "text": [
      "51.2246 segundos 00188.csv \n"
     ]
    },
    {
     "name": "stderr",
     "output_type": "stream",
     "text": [
      "Warning message in df$Demanda_Energia_SIN_GWh[df$Fecha >= as.Date(start_at)] <- unlist(unname(escenarios %>% :\n",
      "“número de items para para sustituir no es un múltiplo de la longitud del reemplazo”"
     ]
    },
    {
     "name": "stdout",
     "output_type": "stream",
     "text": [
      "50.9836 segundos 00189.csv \n"
     ]
    },
    {
     "name": "stderr",
     "output_type": "stream",
     "text": [
      "Warning message in df$Demanda_Energia_SIN_GWh[df$Fecha >= as.Date(start_at)] <- unlist(unname(escenarios %>% :\n",
      "“número de items para para sustituir no es un múltiplo de la longitud del reemplazo”"
     ]
    },
    {
     "name": "stdout",
     "output_type": "stream",
     "text": [
      "51.0234 segundos 00190.csv \n"
     ]
    },
    {
     "name": "stderr",
     "output_type": "stream",
     "text": [
      "Warning message in df$Demanda_Energia_SIN_GWh[df$Fecha >= as.Date(start_at)] <- unlist(unname(escenarios %>% :\n",
      "“número de items para para sustituir no es un múltiplo de la longitud del reemplazo”"
     ]
    },
    {
     "name": "stdout",
     "output_type": "stream",
     "text": [
      "51.0889 segundos 00191.csv \n"
     ]
    },
    {
     "name": "stderr",
     "output_type": "stream",
     "text": [
      "Warning message in df$Demanda_Energia_SIN_GWh[df$Fecha >= as.Date(start_at)] <- unlist(unname(escenarios %>% :\n",
      "“número de items para para sustituir no es un múltiplo de la longitud del reemplazo”"
     ]
    },
    {
     "name": "stdout",
     "output_type": "stream",
     "text": [
      "51.0461 segundos 00192.csv \n"
     ]
    },
    {
     "name": "stderr",
     "output_type": "stream",
     "text": [
      "Warning message in df$Demanda_Energia_SIN_GWh[df$Fecha >= as.Date(start_at)] <- unlist(unname(escenarios %>% :\n",
      "“número de items para para sustituir no es un múltiplo de la longitud del reemplazo”"
     ]
    },
    {
     "name": "stdout",
     "output_type": "stream",
     "text": [
      "51.0351 segundos 00193.csv \n"
     ]
    },
    {
     "name": "stderr",
     "output_type": "stream",
     "text": [
      "Warning message in df$Demanda_Energia_SIN_GWh[df$Fecha >= as.Date(start_at)] <- unlist(unname(escenarios %>% :\n",
      "“número de items para para sustituir no es un múltiplo de la longitud del reemplazo”"
     ]
    },
    {
     "name": "stdout",
     "output_type": "stream",
     "text": [
      "51.2984 segundos 00194.csv \n"
     ]
    },
    {
     "name": "stderr",
     "output_type": "stream",
     "text": [
      "Warning message in df$Demanda_Energia_SIN_GWh[df$Fecha >= as.Date(start_at)] <- unlist(unname(escenarios %>% :\n",
      "“número de items para para sustituir no es un múltiplo de la longitud del reemplazo”"
     ]
    },
    {
     "name": "stdout",
     "output_type": "stream",
     "text": [
      "50.9575 segundos 00195.csv \n"
     ]
    },
    {
     "name": "stderr",
     "output_type": "stream",
     "text": [
      "Warning message in df$Demanda_Energia_SIN_GWh[df$Fecha >= as.Date(start_at)] <- unlist(unname(escenarios %>% :\n",
      "“número de items para para sustituir no es un múltiplo de la longitud del reemplazo”"
     ]
    },
    {
     "name": "stdout",
     "output_type": "stream",
     "text": [
      "50.8567 segundos 00196.csv \n"
     ]
    },
    {
     "name": "stderr",
     "output_type": "stream",
     "text": [
      "Warning message in df$Demanda_Energia_SIN_GWh[df$Fecha >= as.Date(start_at)] <- unlist(unname(escenarios %>% :\n",
      "“número de items para para sustituir no es un múltiplo de la longitud del reemplazo”"
     ]
    },
    {
     "name": "stdout",
     "output_type": "stream",
     "text": [
      "50.8426 segundos 00197.csv \n"
     ]
    },
    {
     "name": "stderr",
     "output_type": "stream",
     "text": [
      "Warning message in df$Demanda_Energia_SIN_GWh[df$Fecha >= as.Date(start_at)] <- unlist(unname(escenarios %>% :\n",
      "“número de items para para sustituir no es un múltiplo de la longitud del reemplazo”"
     ]
    },
    {
     "name": "stdout",
     "output_type": "stream",
     "text": [
      "50.8689 segundos 00198.csv \n"
     ]
    },
    {
     "name": "stderr",
     "output_type": "stream",
     "text": [
      "Warning message in df$Demanda_Energia_SIN_GWh[df$Fecha >= as.Date(start_at)] <- unlist(unname(escenarios %>% :\n",
      "“número de items para para sustituir no es un múltiplo de la longitud del reemplazo”"
     ]
    },
    {
     "name": "stdout",
     "output_type": "stream",
     "text": [
      "50.6799 segundos 00199.csv \n"
     ]
    },
    {
     "name": "stderr",
     "output_type": "stream",
     "text": [
      "Warning message in df$Demanda_Energia_SIN_GWh[df$Fecha >= as.Date(start_at)] <- unlist(unname(escenarios %>% :\n",
      "“número de items para para sustituir no es un múltiplo de la longitud del reemplazo”"
     ]
    },
    {
     "name": "stdout",
     "output_type": "stream",
     "text": [
      "51.1369 segundos 00200.csv \n"
     ]
    },
    {
     "name": "stderr",
     "output_type": "stream",
     "text": [
      "Warning message in df$Demanda_Energia_SIN_GWh[df$Fecha >= as.Date(start_at)] <- unlist(unname(escenarios %>% :\n",
      "“número de items para para sustituir no es un múltiplo de la longitud del reemplazo”"
     ]
    },
    {
     "name": "stdout",
     "output_type": "stream",
     "text": [
      "50.9268 segundos 00201.csv \n"
     ]
    },
    {
     "name": "stderr",
     "output_type": "stream",
     "text": [
      "Warning message in df$Demanda_Energia_SIN_GWh[df$Fecha >= as.Date(start_at)] <- unlist(unname(escenarios %>% :\n",
      "“número de items para para sustituir no es un múltiplo de la longitud del reemplazo”"
     ]
    },
    {
     "name": "stdout",
     "output_type": "stream",
     "text": [
      "51.2299 segundos 00202.csv \n"
     ]
    },
    {
     "name": "stderr",
     "output_type": "stream",
     "text": [
      "Warning message in df$Demanda_Energia_SIN_GWh[df$Fecha >= as.Date(start_at)] <- unlist(unname(escenarios %>% :\n",
      "“número de items para para sustituir no es un múltiplo de la longitud del reemplazo”"
     ]
    },
    {
     "name": "stdout",
     "output_type": "stream",
     "text": [
      "50.9493 segundos 00203.csv \n"
     ]
    },
    {
     "name": "stderr",
     "output_type": "stream",
     "text": [
      "Warning message in df$Demanda_Energia_SIN_GWh[df$Fecha >= as.Date(start_at)] <- unlist(unname(escenarios %>% :\n",
      "“número de items para para sustituir no es un múltiplo de la longitud del reemplazo”"
     ]
    },
    {
     "name": "stdout",
     "output_type": "stream",
     "text": [
      "50.8086 segundos 00204.csv \n"
     ]
    },
    {
     "name": "stderr",
     "output_type": "stream",
     "text": [
      "Warning message in df$Demanda_Energia_SIN_GWh[df$Fecha >= as.Date(start_at)] <- unlist(unname(escenarios %>% :\n",
      "“número de items para para sustituir no es un múltiplo de la longitud del reemplazo”"
     ]
    },
    {
     "name": "stdout",
     "output_type": "stream",
     "text": [
      "50.7921 segundos 00205.csv \n"
     ]
    },
    {
     "name": "stderr",
     "output_type": "stream",
     "text": [
      "Warning message in df$Demanda_Energia_SIN_GWh[df$Fecha >= as.Date(start_at)] <- unlist(unname(escenarios %>% :\n",
      "“número de items para para sustituir no es un múltiplo de la longitud del reemplazo”"
     ]
    },
    {
     "name": "stdout",
     "output_type": "stream",
     "text": [
      "51.1653 segundos 00206.csv \n"
     ]
    },
    {
     "name": "stderr",
     "output_type": "stream",
     "text": [
      "Warning message in df$Demanda_Energia_SIN_GWh[df$Fecha >= as.Date(start_at)] <- unlist(unname(escenarios %>% :\n",
      "“número de items para para sustituir no es un múltiplo de la longitud del reemplazo”"
     ]
    },
    {
     "name": "stdout",
     "output_type": "stream",
     "text": [
      "50.7827 segundos 00207.csv \n"
     ]
    },
    {
     "name": "stderr",
     "output_type": "stream",
     "text": [
      "Warning message in df$Demanda_Energia_SIN_GWh[df$Fecha >= as.Date(start_at)] <- unlist(unname(escenarios %>% :\n",
      "“número de items para para sustituir no es un múltiplo de la longitud del reemplazo”"
     ]
    },
    {
     "name": "stdout",
     "output_type": "stream",
     "text": [
      "50.7536 segundos 00208.csv \n"
     ]
    },
    {
     "name": "stderr",
     "output_type": "stream",
     "text": [
      "Warning message in df$Demanda_Energia_SIN_GWh[df$Fecha >= as.Date(start_at)] <- unlist(unname(escenarios %>% :\n",
      "“número de items para para sustituir no es un múltiplo de la longitud del reemplazo”"
     ]
    },
    {
     "name": "stdout",
     "output_type": "stream",
     "text": [
      "50.8072 segundos 00209.csv \n"
     ]
    },
    {
     "name": "stderr",
     "output_type": "stream",
     "text": [
      "Warning message in df$Demanda_Energia_SIN_GWh[df$Fecha >= as.Date(start_at)] <- unlist(unname(escenarios %>% :\n",
      "“número de items para para sustituir no es un múltiplo de la longitud del reemplazo”"
     ]
    },
    {
     "name": "stdout",
     "output_type": "stream",
     "text": [
      "50.8747 segundos 00210.csv \n"
     ]
    },
    {
     "name": "stderr",
     "output_type": "stream",
     "text": [
      "Warning message in df$Demanda_Energia_SIN_GWh[df$Fecha >= as.Date(start_at)] <- unlist(unname(escenarios %>% :\n",
      "“número de items para para sustituir no es un múltiplo de la longitud del reemplazo”"
     ]
    },
    {
     "name": "stdout",
     "output_type": "stream",
     "text": [
      "50.7332 segundos 00211.csv \n"
     ]
    },
    {
     "name": "stderr",
     "output_type": "stream",
     "text": [
      "Warning message in df$Demanda_Energia_SIN_GWh[df$Fecha >= as.Date(start_at)] <- unlist(unname(escenarios %>% :\n",
      "“número de items para para sustituir no es un múltiplo de la longitud del reemplazo”"
     ]
    },
    {
     "name": "stdout",
     "output_type": "stream",
     "text": [
      "51.1304 segundos 00212.csv \n"
     ]
    },
    {
     "name": "stderr",
     "output_type": "stream",
     "text": [
      "Warning message in df$Demanda_Energia_SIN_GWh[df$Fecha >= as.Date(start_at)] <- unlist(unname(escenarios %>% :\n",
      "“número de items para para sustituir no es un múltiplo de la longitud del reemplazo”"
     ]
    },
    {
     "name": "stdout",
     "output_type": "stream",
     "text": [
      "50.7754 segundos 00213.csv \n"
     ]
    },
    {
     "name": "stderr",
     "output_type": "stream",
     "text": [
      "Warning message in df$Demanda_Energia_SIN_GWh[df$Fecha >= as.Date(start_at)] <- unlist(unname(escenarios %>% :\n",
      "“número de items para para sustituir no es un múltiplo de la longitud del reemplazo”"
     ]
    },
    {
     "name": "stdout",
     "output_type": "stream",
     "text": [
      "50.8048 segundos 00214.csv \n"
     ]
    },
    {
     "name": "stderr",
     "output_type": "stream",
     "text": [
      "Warning message in df$Demanda_Energia_SIN_GWh[df$Fecha >= as.Date(start_at)] <- unlist(unname(escenarios %>% :\n",
      "“número de items para para sustituir no es un múltiplo de la longitud del reemplazo”"
     ]
    },
    {
     "name": "stdout",
     "output_type": "stream",
     "text": [
      "50.6882 segundos 00215.csv \n"
     ]
    },
    {
     "name": "stderr",
     "output_type": "stream",
     "text": [
      "Warning message in df$Demanda_Energia_SIN_GWh[df$Fecha >= as.Date(start_at)] <- unlist(unname(escenarios %>% :\n",
      "“número de items para para sustituir no es un múltiplo de la longitud del reemplazo”"
     ]
    },
    {
     "name": "stdout",
     "output_type": "stream",
     "text": [
      "50.7318 segundos 00216.csv \n"
     ]
    },
    {
     "name": "stderr",
     "output_type": "stream",
     "text": [
      "Warning message in df$Demanda_Energia_SIN_GWh[df$Fecha >= as.Date(start_at)] <- unlist(unname(escenarios %>% :\n",
      "“número de items para para sustituir no es un múltiplo de la longitud del reemplazo”"
     ]
    },
    {
     "name": "stdout",
     "output_type": "stream",
     "text": [
      "50.6997 segundos 00217.csv \n"
     ]
    },
    {
     "name": "stderr",
     "output_type": "stream",
     "text": [
      "Warning message in df$Demanda_Energia_SIN_GWh[df$Fecha >= as.Date(start_at)] <- unlist(unname(escenarios %>% :\n",
      "“número de items para para sustituir no es un múltiplo de la longitud del reemplazo”"
     ]
    },
    {
     "name": "stdout",
     "output_type": "stream",
     "text": [
      "50.9509 segundos 00218.csv \n"
     ]
    },
    {
     "name": "stderr",
     "output_type": "stream",
     "text": [
      "Warning message in df$Demanda_Energia_SIN_GWh[df$Fecha >= as.Date(start_at)] <- unlist(unname(escenarios %>% :\n",
      "“número de items para para sustituir no es un múltiplo de la longitud del reemplazo”"
     ]
    },
    {
     "name": "stdout",
     "output_type": "stream",
     "text": [
      "50.7699 segundos 00219.csv \n"
     ]
    },
    {
     "name": "stderr",
     "output_type": "stream",
     "text": [
      "Warning message in df$Demanda_Energia_SIN_GWh[df$Fecha >= as.Date(start_at)] <- unlist(unname(escenarios %>% :\n",
      "“número de items para para sustituir no es un múltiplo de la longitud del reemplazo”"
     ]
    },
    {
     "name": "stdout",
     "output_type": "stream",
     "text": [
      "50.6427 segundos 00220.csv \n"
     ]
    },
    {
     "name": "stderr",
     "output_type": "stream",
     "text": [
      "Warning message in df$Demanda_Energia_SIN_GWh[df$Fecha >= as.Date(start_at)] <- unlist(unname(escenarios %>% :\n",
      "“número de items para para sustituir no es un múltiplo de la longitud del reemplazo”"
     ]
    },
    {
     "name": "stdout",
     "output_type": "stream",
     "text": [
      "50.8269 segundos 00221.csv \n"
     ]
    },
    {
     "name": "stderr",
     "output_type": "stream",
     "text": [
      "Warning message in df$Demanda_Energia_SIN_GWh[df$Fecha >= as.Date(start_at)] <- unlist(unname(escenarios %>% :\n",
      "“número de items para para sustituir no es un múltiplo de la longitud del reemplazo”"
     ]
    },
    {
     "name": "stdout",
     "output_type": "stream",
     "text": [
      "50.8076 segundos 00222.csv \n"
     ]
    },
    {
     "name": "stderr",
     "output_type": "stream",
     "text": [
      "Warning message in df$Demanda_Energia_SIN_GWh[df$Fecha >= as.Date(start_at)] <- unlist(unname(escenarios %>% :\n",
      "“número de items para para sustituir no es un múltiplo de la longitud del reemplazo”"
     ]
    },
    {
     "name": "stdout",
     "output_type": "stream",
     "text": [
      "51.1733 segundos 00223.csv \n"
     ]
    },
    {
     "name": "stderr",
     "output_type": "stream",
     "text": [
      "Warning message in df$Demanda_Energia_SIN_GWh[df$Fecha >= as.Date(start_at)] <- unlist(unname(escenarios %>% :\n",
      "“número de items para para sustituir no es un múltiplo de la longitud del reemplazo”"
     ]
    },
    {
     "name": "stdout",
     "output_type": "stream",
     "text": [
      "50.8199 segundos 00224.csv \n"
     ]
    },
    {
     "name": "stderr",
     "output_type": "stream",
     "text": [
      "Warning message in df$Demanda_Energia_SIN_GWh[df$Fecha >= as.Date(start_at)] <- unlist(unname(escenarios %>% :\n",
      "“número de items para para sustituir no es un múltiplo de la longitud del reemplazo”"
     ]
    },
    {
     "name": "stdout",
     "output_type": "stream",
     "text": [
      "50.9139 segundos 00225.csv \n"
     ]
    },
    {
     "name": "stderr",
     "output_type": "stream",
     "text": [
      "Warning message in df$Demanda_Energia_SIN_GWh[df$Fecha >= as.Date(start_at)] <- unlist(unname(escenarios %>% :\n",
      "“número de items para para sustituir no es un múltiplo de la longitud del reemplazo”"
     ]
    },
    {
     "name": "stdout",
     "output_type": "stream",
     "text": [
      "51.1349 segundos 00226.csv \n"
     ]
    },
    {
     "name": "stderr",
     "output_type": "stream",
     "text": [
      "Warning message in df$Demanda_Energia_SIN_GWh[df$Fecha >= as.Date(start_at)] <- unlist(unname(escenarios %>% :\n",
      "“número de items para para sustituir no es un múltiplo de la longitud del reemplazo”"
     ]
    },
    {
     "name": "stdout",
     "output_type": "stream",
     "text": [
      "50.7224 segundos 00227.csv \n"
     ]
    },
    {
     "name": "stderr",
     "output_type": "stream",
     "text": [
      "Warning message in df$Demanda_Energia_SIN_GWh[df$Fecha >= as.Date(start_at)] <- unlist(unname(escenarios %>% :\n",
      "“número de items para para sustituir no es un múltiplo de la longitud del reemplazo”"
     ]
    },
    {
     "name": "stdout",
     "output_type": "stream",
     "text": [
      "50.7033 segundos 00228.csv \n"
     ]
    },
    {
     "name": "stderr",
     "output_type": "stream",
     "text": [
      "Warning message in df$Demanda_Energia_SIN_GWh[df$Fecha >= as.Date(start_at)] <- unlist(unname(escenarios %>% :\n",
      "“número de items para para sustituir no es un múltiplo de la longitud del reemplazo”"
     ]
    },
    {
     "name": "stdout",
     "output_type": "stream",
     "text": [
      "50.949 segundos 00229.csv \n"
     ]
    },
    {
     "name": "stderr",
     "output_type": "stream",
     "text": [
      "Warning message in df$Demanda_Energia_SIN_GWh[df$Fecha >= as.Date(start_at)] <- unlist(unname(escenarios %>% :\n",
      "“número de items para para sustituir no es un múltiplo de la longitud del reemplazo”"
     ]
    },
    {
     "name": "stdout",
     "output_type": "stream",
     "text": [
      "50.7121 segundos 00230.csv \n"
     ]
    },
    {
     "name": "stderr",
     "output_type": "stream",
     "text": [
      "Warning message in df$Demanda_Energia_SIN_GWh[df$Fecha >= as.Date(start_at)] <- unlist(unname(escenarios %>% :\n",
      "“número de items para para sustituir no es un múltiplo de la longitud del reemplazo”"
     ]
    },
    {
     "name": "stdout",
     "output_type": "stream",
     "text": [
      "50.7085 segundos 00231.csv \n"
     ]
    },
    {
     "name": "stderr",
     "output_type": "stream",
     "text": [
      "Warning message in df$Demanda_Energia_SIN_GWh[df$Fecha >= as.Date(start_at)] <- unlist(unname(escenarios %>% :\n",
      "“número de items para para sustituir no es un múltiplo de la longitud del reemplazo”"
     ]
    },
    {
     "name": "stdout",
     "output_type": "stream",
     "text": [
      "50.7936 segundos 00232.csv \n"
     ]
    },
    {
     "name": "stderr",
     "output_type": "stream",
     "text": [
      "Warning message in df$Demanda_Energia_SIN_GWh[df$Fecha >= as.Date(start_at)] <- unlist(unname(escenarios %>% :\n",
      "“número de items para para sustituir no es un múltiplo de la longitud del reemplazo”"
     ]
    },
    {
     "name": "stdout",
     "output_type": "stream",
     "text": [
      "50.9008 segundos 00233.csv \n"
     ]
    },
    {
     "name": "stderr",
     "output_type": "stream",
     "text": [
      "Warning message in df$Demanda_Energia_SIN_GWh[df$Fecha >= as.Date(start_at)] <- unlist(unname(escenarios %>% :\n",
      "“número de items para para sustituir no es un múltiplo de la longitud del reemplazo”"
     ]
    },
    {
     "name": "stdout",
     "output_type": "stream",
     "text": [
      "50.6299 segundos 00234.csv \n"
     ]
    },
    {
     "name": "stderr",
     "output_type": "stream",
     "text": [
      "Warning message in df$Demanda_Energia_SIN_GWh[df$Fecha >= as.Date(start_at)] <- unlist(unname(escenarios %>% :\n",
      "“número de items para para sustituir no es un múltiplo de la longitud del reemplazo”"
     ]
    },
    {
     "name": "stdout",
     "output_type": "stream",
     "text": [
      "51.0839 segundos 00235.csv \n"
     ]
    },
    {
     "name": "stderr",
     "output_type": "stream",
     "text": [
      "Warning message in df$Demanda_Energia_SIN_GWh[df$Fecha >= as.Date(start_at)] <- unlist(unname(escenarios %>% :\n",
      "“número de items para para sustituir no es un múltiplo de la longitud del reemplazo”"
     ]
    },
    {
     "name": "stdout",
     "output_type": "stream",
     "text": [
      "50.7741 segundos 00236.csv \n"
     ]
    },
    {
     "name": "stderr",
     "output_type": "stream",
     "text": [
      "Warning message in df$Demanda_Energia_SIN_GWh[df$Fecha >= as.Date(start_at)] <- unlist(unname(escenarios %>% :\n",
      "“número de items para para sustituir no es un múltiplo de la longitud del reemplazo”"
     ]
    },
    {
     "name": "stdout",
     "output_type": "stream",
     "text": [
      "50.9934 segundos 00237.csv \n"
     ]
    },
    {
     "name": "stderr",
     "output_type": "stream",
     "text": [
      "Warning message in df$Demanda_Energia_SIN_GWh[df$Fecha >= as.Date(start_at)] <- unlist(unname(escenarios %>% :\n",
      "“número de items para para sustituir no es un múltiplo de la longitud del reemplazo”"
     ]
    },
    {
     "name": "stdout",
     "output_type": "stream",
     "text": [
      "51.3014 segundos 00238.csv \n"
     ]
    },
    {
     "name": "stderr",
     "output_type": "stream",
     "text": [
      "Warning message in df$Demanda_Energia_SIN_GWh[df$Fecha >= as.Date(start_at)] <- unlist(unname(escenarios %>% :\n",
      "“número de items para para sustituir no es un múltiplo de la longitud del reemplazo”"
     ]
    },
    {
     "name": "stdout",
     "output_type": "stream",
     "text": [
      "50.8332 segundos 00239.csv \n"
     ]
    },
    {
     "name": "stderr",
     "output_type": "stream",
     "text": [
      "Warning message in df$Demanda_Energia_SIN_GWh[df$Fecha >= as.Date(start_at)] <- unlist(unname(escenarios %>% :\n",
      "“número de items para para sustituir no es un múltiplo de la longitud del reemplazo”"
     ]
    },
    {
     "name": "stdout",
     "output_type": "stream",
     "text": [
      "50.8056 segundos 00240.csv \n"
     ]
    },
    {
     "name": "stderr",
     "output_type": "stream",
     "text": [
      "Warning message in df$Demanda_Energia_SIN_GWh[df$Fecha >= as.Date(start_at)] <- unlist(unname(escenarios %>% :\n",
      "“número de items para para sustituir no es un múltiplo de la longitud del reemplazo”"
     ]
    },
    {
     "name": "stdout",
     "output_type": "stream",
     "text": [
      "50.9595 segundos 00241.csv \n"
     ]
    },
    {
     "name": "stderr",
     "output_type": "stream",
     "text": [
      "Warning message in df$Demanda_Energia_SIN_GWh[df$Fecha >= as.Date(start_at)] <- unlist(unname(escenarios %>% :\n",
      "“número de items para para sustituir no es un múltiplo de la longitud del reemplazo”"
     ]
    },
    {
     "name": "stdout",
     "output_type": "stream",
     "text": [
      "50.7935 segundos 00242.csv \n"
     ]
    },
    {
     "name": "stderr",
     "output_type": "stream",
     "text": [
      "Warning message in df$Demanda_Energia_SIN_GWh[df$Fecha >= as.Date(start_at)] <- unlist(unname(escenarios %>% :\n",
      "“número de items para para sustituir no es un múltiplo de la longitud del reemplazo”"
     ]
    },
    {
     "name": "stdout",
     "output_type": "stream",
     "text": [
      "50.765 segundos 00243.csv \n"
     ]
    },
    {
     "name": "stderr",
     "output_type": "stream",
     "text": [
      "Warning message in df$Demanda_Energia_SIN_GWh[df$Fecha >= as.Date(start_at)] <- unlist(unname(escenarios %>% :\n",
      "“número de items para para sustituir no es un múltiplo de la longitud del reemplazo”"
     ]
    },
    {
     "name": "stdout",
     "output_type": "stream",
     "text": [
      "51.0219 segundos 00244.csv \n"
     ]
    },
    {
     "name": "stderr",
     "output_type": "stream",
     "text": [
      "Warning message in df$Demanda_Energia_SIN_GWh[df$Fecha >= as.Date(start_at)] <- unlist(unname(escenarios %>% :\n",
      "“número de items para para sustituir no es un múltiplo de la longitud del reemplazo”"
     ]
    },
    {
     "name": "stdout",
     "output_type": "stream",
     "text": [
      "50.7666 segundos 00245.csv \n"
     ]
    },
    {
     "name": "stderr",
     "output_type": "stream",
     "text": [
      "Warning message in df$Demanda_Energia_SIN_GWh[df$Fecha >= as.Date(start_at)] <- unlist(unname(escenarios %>% :\n",
      "“número de items para para sustituir no es un múltiplo de la longitud del reemplazo”"
     ]
    },
    {
     "name": "stdout",
     "output_type": "stream",
     "text": [
      "50.729 segundos 00246.csv \n"
     ]
    },
    {
     "name": "stderr",
     "output_type": "stream",
     "text": [
      "Warning message in df$Demanda_Energia_SIN_GWh[df$Fecha >= as.Date(start_at)] <- unlist(unname(escenarios %>% :\n",
      "“número de items para para sustituir no es un múltiplo de la longitud del reemplazo”"
     ]
    },
    {
     "name": "stdout",
     "output_type": "stream",
     "text": [
      "51.178 segundos 00247.csv \n"
     ]
    },
    {
     "name": "stderr",
     "output_type": "stream",
     "text": [
      "Warning message in df$Demanda_Energia_SIN_GWh[df$Fecha >= as.Date(start_at)] <- unlist(unname(escenarios %>% :\n",
      "“número de items para para sustituir no es un múltiplo de la longitud del reemplazo”"
     ]
    },
    {
     "name": "stdout",
     "output_type": "stream",
     "text": [
      "50.9193 segundos 00248.csv \n"
     ]
    },
    {
     "name": "stderr",
     "output_type": "stream",
     "text": [
      "Warning message in df$Demanda_Energia_SIN_GWh[df$Fecha >= as.Date(start_at)] <- unlist(unname(escenarios %>% :\n",
      "“número de items para para sustituir no es un múltiplo de la longitud del reemplazo”"
     ]
    },
    {
     "name": "stdout",
     "output_type": "stream",
     "text": [
      "50.8517 segundos 00249.csv \n"
     ]
    },
    {
     "name": "stderr",
     "output_type": "stream",
     "text": [
      "Warning message in df$Demanda_Energia_SIN_GWh[df$Fecha >= as.Date(start_at)] <- unlist(unname(escenarios %>% :\n",
      "“número de items para para sustituir no es un múltiplo de la longitud del reemplazo”"
     ]
    },
    {
     "name": "stdout",
     "output_type": "stream",
     "text": [
      "50.7348 segundos 00250.csv \n"
     ]
    },
    {
     "name": "stderr",
     "output_type": "stream",
     "text": [
      "Warning message in df$Demanda_Energia_SIN_GWh[df$Fecha >= as.Date(start_at)] <- unlist(unname(escenarios %>% :\n",
      "“número de items para para sustituir no es un múltiplo de la longitud del reemplazo”"
     ]
    },
    {
     "name": "stdout",
     "output_type": "stream",
     "text": [
      "50.7387 segundos 00251.csv \n"
     ]
    },
    {
     "name": "stderr",
     "output_type": "stream",
     "text": [
      "Warning message in df$Demanda_Energia_SIN_GWh[df$Fecha >= as.Date(start_at)] <- unlist(unname(escenarios %>% :\n",
      "“número de items para para sustituir no es un múltiplo de la longitud del reemplazo”"
     ]
    },
    {
     "name": "stdout",
     "output_type": "stream",
     "text": [
      "50.8049 segundos 00252.csv \n"
     ]
    },
    {
     "name": "stderr",
     "output_type": "stream",
     "text": [
      "Warning message in df$Demanda_Energia_SIN_GWh[df$Fecha >= as.Date(start_at)] <- unlist(unname(escenarios %>% :\n",
      "“número de items para para sustituir no es un múltiplo de la longitud del reemplazo”"
     ]
    },
    {
     "name": "stdout",
     "output_type": "stream",
     "text": [
      "50.8482 segundos 00253.csv \n"
     ]
    },
    {
     "name": "stderr",
     "output_type": "stream",
     "text": [
      "Warning message in df$Demanda_Energia_SIN_GWh[df$Fecha >= as.Date(start_at)] <- unlist(unname(escenarios %>% :\n",
      "“número de items para para sustituir no es un múltiplo de la longitud del reemplazo”"
     ]
    },
    {
     "name": "stdout",
     "output_type": "stream",
     "text": [
      "50.6875 segundos 00254.csv \n"
     ]
    },
    {
     "name": "stderr",
     "output_type": "stream",
     "text": [
      "Warning message in df$Demanda_Energia_SIN_GWh[df$Fecha >= as.Date(start_at)] <- unlist(unname(escenarios %>% :\n",
      "“número de items para para sustituir no es un múltiplo de la longitud del reemplazo”"
     ]
    },
    {
     "name": "stdout",
     "output_type": "stream",
     "text": [
      "50.8346 segundos 00255.csv \n"
     ]
    },
    {
     "name": "stderr",
     "output_type": "stream",
     "text": [
      "Warning message in df$Demanda_Energia_SIN_GWh[df$Fecha >= as.Date(start_at)] <- unlist(unname(escenarios %>% :\n",
      "“número de items para para sustituir no es un múltiplo de la longitud del reemplazo”"
     ]
    },
    {
     "name": "stdout",
     "output_type": "stream",
     "text": [
      "50.7464 segundos 00256.csv \n"
     ]
    },
    {
     "name": "stderr",
     "output_type": "stream",
     "text": [
      "Warning message in df$Demanda_Energia_SIN_GWh[df$Fecha >= as.Date(start_at)] <- unlist(unname(escenarios %>% :\n",
      "“número de items para para sustituir no es un múltiplo de la longitud del reemplazo”"
     ]
    },
    {
     "name": "stdout",
     "output_type": "stream",
     "text": [
      "50.726 segundos 00257.csv \n"
     ]
    },
    {
     "name": "stderr",
     "output_type": "stream",
     "text": [
      "Warning message in df$Demanda_Energia_SIN_GWh[df$Fecha >= as.Date(start_at)] <- unlist(unname(escenarios %>% :\n",
      "“número de items para para sustituir no es un múltiplo de la longitud del reemplazo”"
     ]
    },
    {
     "name": "stdout",
     "output_type": "stream",
     "text": [
      "50.7157 segundos 00258.csv \n"
     ]
    },
    {
     "name": "stderr",
     "output_type": "stream",
     "text": [
      "Warning message in df$Demanda_Energia_SIN_GWh[df$Fecha >= as.Date(start_at)] <- unlist(unname(escenarios %>% :\n",
      "“número de items para para sustituir no es un múltiplo de la longitud del reemplazo”"
     ]
    },
    {
     "name": "stdout",
     "output_type": "stream",
     "text": [
      "51.0015 segundos 00259.csv \n"
     ]
    },
    {
     "name": "stderr",
     "output_type": "stream",
     "text": [
      "Warning message in df$Demanda_Energia_SIN_GWh[df$Fecha >= as.Date(start_at)] <- unlist(unname(escenarios %>% :\n",
      "“número de items para para sustituir no es un múltiplo de la longitud del reemplazo”"
     ]
    },
    {
     "name": "stdout",
     "output_type": "stream",
     "text": [
      "50.7186 segundos 00260.csv \n"
     ]
    },
    {
     "name": "stderr",
     "output_type": "stream",
     "text": [
      "Warning message in df$Demanda_Energia_SIN_GWh[df$Fecha >= as.Date(start_at)] <- unlist(unname(escenarios %>% :\n",
      "“número de items para para sustituir no es un múltiplo de la longitud del reemplazo”"
     ]
    },
    {
     "name": "stdout",
     "output_type": "stream",
     "text": [
      "50.7939 segundos 00261.csv \n"
     ]
    },
    {
     "name": "stderr",
     "output_type": "stream",
     "text": [
      "Warning message in df$Demanda_Energia_SIN_GWh[df$Fecha >= as.Date(start_at)] <- unlist(unname(escenarios %>% :\n",
      "“número de items para para sustituir no es un múltiplo de la longitud del reemplazo”"
     ]
    },
    {
     "name": "stdout",
     "output_type": "stream",
     "text": [
      "50.8232 segundos 00262.csv \n"
     ]
    },
    {
     "name": "stderr",
     "output_type": "stream",
     "text": [
      "Warning message in df$Demanda_Energia_SIN_GWh[df$Fecha >= as.Date(start_at)] <- unlist(unname(escenarios %>% :\n",
      "“número de items para para sustituir no es un múltiplo de la longitud del reemplazo”"
     ]
    },
    {
     "name": "stdout",
     "output_type": "stream",
     "text": [
      "50.7714 segundos 00263.csv \n"
     ]
    },
    {
     "name": "stderr",
     "output_type": "stream",
     "text": [
      "Warning message in df$Demanda_Energia_SIN_GWh[df$Fecha >= as.Date(start_at)] <- unlist(unname(escenarios %>% :\n",
      "“número de items para para sustituir no es un múltiplo de la longitud del reemplazo”"
     ]
    },
    {
     "name": "stdout",
     "output_type": "stream",
     "text": [
      "50.709 segundos 00264.csv \n"
     ]
    },
    {
     "name": "stderr",
     "output_type": "stream",
     "text": [
      "Warning message in df$Demanda_Energia_SIN_GWh[df$Fecha >= as.Date(start_at)] <- unlist(unname(escenarios %>% :\n",
      "“número de items para para sustituir no es un múltiplo de la longitud del reemplazo”"
     ]
    },
    {
     "name": "stdout",
     "output_type": "stream",
     "text": [
      "51.1576 segundos 00265.csv \n"
     ]
    },
    {
     "name": "stderr",
     "output_type": "stream",
     "text": [
      "Warning message in df$Demanda_Energia_SIN_GWh[df$Fecha >= as.Date(start_at)] <- unlist(unname(escenarios %>% :\n",
      "“número de items para para sustituir no es un múltiplo de la longitud del reemplazo”"
     ]
    },
    {
     "name": "stdout",
     "output_type": "stream",
     "text": [
      "50.8967 segundos 00266.csv \n"
     ]
    },
    {
     "name": "stderr",
     "output_type": "stream",
     "text": [
      "Warning message in df$Demanda_Energia_SIN_GWh[df$Fecha >= as.Date(start_at)] <- unlist(unname(escenarios %>% :\n",
      "“número de items para para sustituir no es un múltiplo de la longitud del reemplazo”"
     ]
    },
    {
     "name": "stdout",
     "output_type": "stream",
     "text": [
      "50.6524 segundos 00267.csv \n"
     ]
    },
    {
     "name": "stderr",
     "output_type": "stream",
     "text": [
      "Warning message in df$Demanda_Energia_SIN_GWh[df$Fecha >= as.Date(start_at)] <- unlist(unname(escenarios %>% :\n",
      "“número de items para para sustituir no es un múltiplo de la longitud del reemplazo”"
     ]
    },
    {
     "name": "stdout",
     "output_type": "stream",
     "text": [
      "50.8164 segundos 00268.csv \n"
     ]
    },
    {
     "name": "stderr",
     "output_type": "stream",
     "text": [
      "Warning message in df$Demanda_Energia_SIN_GWh[df$Fecha >= as.Date(start_at)] <- unlist(unname(escenarios %>% :\n",
      "“número de items para para sustituir no es un múltiplo de la longitud del reemplazo”"
     ]
    },
    {
     "name": "stdout",
     "output_type": "stream",
     "text": [
      "50.8136 segundos 00269.csv \n"
     ]
    },
    {
     "name": "stderr",
     "output_type": "stream",
     "text": [
      "Warning message in df$Demanda_Energia_SIN_GWh[df$Fecha >= as.Date(start_at)] <- unlist(unname(escenarios %>% :\n",
      "“número de items para para sustituir no es un múltiplo de la longitud del reemplazo”"
     ]
    },
    {
     "name": "stdout",
     "output_type": "stream",
     "text": [
      "50.8487 segundos 00270.csv \n"
     ]
    },
    {
     "name": "stderr",
     "output_type": "stream",
     "text": [
      "Warning message in df$Demanda_Energia_SIN_GWh[df$Fecha >= as.Date(start_at)] <- unlist(unname(escenarios %>% :\n",
      "“número de items para para sustituir no es un múltiplo de la longitud del reemplazo”"
     ]
    },
    {
     "name": "stdout",
     "output_type": "stream",
     "text": [
      "51.0689 segundos 00271.csv \n"
     ]
    },
    {
     "name": "stderr",
     "output_type": "stream",
     "text": [
      "Warning message in df$Demanda_Energia_SIN_GWh[df$Fecha >= as.Date(start_at)] <- unlist(unname(escenarios %>% :\n",
      "“número de items para para sustituir no es un múltiplo de la longitud del reemplazo”"
     ]
    },
    {
     "name": "stdout",
     "output_type": "stream",
     "text": [
      "50.9043 segundos 00272.csv \n"
     ]
    },
    {
     "name": "stderr",
     "output_type": "stream",
     "text": [
      "Warning message in df$Demanda_Energia_SIN_GWh[df$Fecha >= as.Date(start_at)] <- unlist(unname(escenarios %>% :\n",
      "“número de items para para sustituir no es un múltiplo de la longitud del reemplazo”"
     ]
    },
    {
     "name": "stdout",
     "output_type": "stream",
     "text": [
      "51.1581 segundos 00273.csv \n"
     ]
    },
    {
     "name": "stderr",
     "output_type": "stream",
     "text": [
      "Warning message in df$Demanda_Energia_SIN_GWh[df$Fecha >= as.Date(start_at)] <- unlist(unname(escenarios %>% :\n",
      "“número de items para para sustituir no es un múltiplo de la longitud del reemplazo”"
     ]
    },
    {
     "name": "stdout",
     "output_type": "stream",
     "text": [
      "50.9696 segundos 00274.csv \n"
     ]
    },
    {
     "name": "stderr",
     "output_type": "stream",
     "text": [
      "Warning message in df$Demanda_Energia_SIN_GWh[df$Fecha >= as.Date(start_at)] <- unlist(unname(escenarios %>% :\n",
      "“número de items para para sustituir no es un múltiplo de la longitud del reemplazo”"
     ]
    },
    {
     "name": "stdout",
     "output_type": "stream",
     "text": [
      "50.6968 segundos 00275.csv \n"
     ]
    },
    {
     "name": "stderr",
     "output_type": "stream",
     "text": [
      "Warning message in df$Demanda_Energia_SIN_GWh[df$Fecha >= as.Date(start_at)] <- unlist(unname(escenarios %>% :\n",
      "“número de items para para sustituir no es un múltiplo de la longitud del reemplazo”"
     ]
    },
    {
     "name": "stdout",
     "output_type": "stream",
     "text": [
      "50.9296 segundos 00276.csv \n"
     ]
    },
    {
     "name": "stderr",
     "output_type": "stream",
     "text": [
      "Warning message in df$Demanda_Energia_SIN_GWh[df$Fecha >= as.Date(start_at)] <- unlist(unname(escenarios %>% :\n",
      "“número de items para para sustituir no es un múltiplo de la longitud del reemplazo”"
     ]
    },
    {
     "name": "stdout",
     "output_type": "stream",
     "text": [
      "51.1739 segundos 00277.csv \n"
     ]
    },
    {
     "name": "stderr",
     "output_type": "stream",
     "text": [
      "Warning message in df$Demanda_Energia_SIN_GWh[df$Fecha >= as.Date(start_at)] <- unlist(unname(escenarios %>% :\n",
      "“número de items para para sustituir no es un múltiplo de la longitud del reemplazo”"
     ]
    },
    {
     "name": "stdout",
     "output_type": "stream",
     "text": [
      "50.9267 segundos 00278.csv \n"
     ]
    },
    {
     "name": "stderr",
     "output_type": "stream",
     "text": [
      "Warning message in df$Demanda_Energia_SIN_GWh[df$Fecha >= as.Date(start_at)] <- unlist(unname(escenarios %>% :\n",
      "“número de items para para sustituir no es un múltiplo de la longitud del reemplazo”"
     ]
    },
    {
     "name": "stdout",
     "output_type": "stream",
     "text": [
      "50.7619 segundos 00279.csv \n"
     ]
    },
    {
     "name": "stderr",
     "output_type": "stream",
     "text": [
      "Warning message in df$Demanda_Energia_SIN_GWh[df$Fecha >= as.Date(start_at)] <- unlist(unname(escenarios %>% :\n",
      "“número de items para para sustituir no es un múltiplo de la longitud del reemplazo”"
     ]
    },
    {
     "name": "stdout",
     "output_type": "stream",
     "text": [
      "50.8891 segundos 00280.csv \n"
     ]
    },
    {
     "name": "stderr",
     "output_type": "stream",
     "text": [
      "Warning message in df$Demanda_Energia_SIN_GWh[df$Fecha >= as.Date(start_at)] <- unlist(unname(escenarios %>% :\n",
      "“número de items para para sustituir no es un múltiplo de la longitud del reemplazo”"
     ]
    },
    {
     "name": "stdout",
     "output_type": "stream",
     "text": [
      "50.8106 segundos 00281.csv \n"
     ]
    },
    {
     "name": "stderr",
     "output_type": "stream",
     "text": [
      "Warning message in df$Demanda_Energia_SIN_GWh[df$Fecha >= as.Date(start_at)] <- unlist(unname(escenarios %>% :\n",
      "“número de items para para sustituir no es un múltiplo de la longitud del reemplazo”"
     ]
    },
    {
     "name": "stdout",
     "output_type": "stream",
     "text": [
      "51.1071 segundos 00282.csv \n"
     ]
    },
    {
     "name": "stderr",
     "output_type": "stream",
     "text": [
      "Warning message in df$Demanda_Energia_SIN_GWh[df$Fecha >= as.Date(start_at)] <- unlist(unname(escenarios %>% :\n",
      "“número de items para para sustituir no es un múltiplo de la longitud del reemplazo”"
     ]
    },
    {
     "name": "stdout",
     "output_type": "stream",
     "text": [
      "50.9526 segundos 00283.csv \n"
     ]
    },
    {
     "name": "stderr",
     "output_type": "stream",
     "text": [
      "Warning message in df$Demanda_Energia_SIN_GWh[df$Fecha >= as.Date(start_at)] <- unlist(unname(escenarios %>% :\n",
      "“número de items para para sustituir no es un múltiplo de la longitud del reemplazo”"
     ]
    },
    {
     "name": "stdout",
     "output_type": "stream",
     "text": [
      "50.8667 segundos 00284.csv \n"
     ]
    },
    {
     "name": "stderr",
     "output_type": "stream",
     "text": [
      "Warning message in df$Demanda_Energia_SIN_GWh[df$Fecha >= as.Date(start_at)] <- unlist(unname(escenarios %>% :\n",
      "“número de items para para sustituir no es un múltiplo de la longitud del reemplazo”"
     ]
    },
    {
     "name": "stdout",
     "output_type": "stream",
     "text": [
      "50.8498 segundos 00285.csv \n"
     ]
    },
    {
     "name": "stderr",
     "output_type": "stream",
     "text": [
      "Warning message in df$Demanda_Energia_SIN_GWh[df$Fecha >= as.Date(start_at)] <- unlist(unname(escenarios %>% :\n",
      "“número de items para para sustituir no es un múltiplo de la longitud del reemplazo”"
     ]
    },
    {
     "name": "stdout",
     "output_type": "stream",
     "text": [
      "50.8182 segundos 00286.csv \n"
     ]
    },
    {
     "name": "stderr",
     "output_type": "stream",
     "text": [
      "Warning message in df$Demanda_Energia_SIN_GWh[df$Fecha >= as.Date(start_at)] <- unlist(unname(escenarios %>% :\n",
      "“número de items para para sustituir no es un múltiplo de la longitud del reemplazo”"
     ]
    },
    {
     "name": "stdout",
     "output_type": "stream",
     "text": [
      "50.8468 segundos 00287.csv \n"
     ]
    },
    {
     "name": "stderr",
     "output_type": "stream",
     "text": [
      "Warning message in df$Demanda_Energia_SIN_GWh[df$Fecha >= as.Date(start_at)] <- unlist(unname(escenarios %>% :\n",
      "“número de items para para sustituir no es un múltiplo de la longitud del reemplazo”"
     ]
    },
    {
     "name": "stdout",
     "output_type": "stream",
     "text": [
      "50.8224 segundos 00288.csv \n"
     ]
    },
    {
     "name": "stderr",
     "output_type": "stream",
     "text": [
      "Warning message in df$Demanda_Energia_SIN_GWh[df$Fecha >= as.Date(start_at)] <- unlist(unname(escenarios %>% :\n",
      "“número de items para para sustituir no es un múltiplo de la longitud del reemplazo”"
     ]
    },
    {
     "name": "stdout",
     "output_type": "stream",
     "text": [
      "50.8657 segundos 00289.csv \n"
     ]
    },
    {
     "name": "stderr",
     "output_type": "stream",
     "text": [
      "Warning message in df$Demanda_Energia_SIN_GWh[df$Fecha >= as.Date(start_at)] <- unlist(unname(escenarios %>% :\n",
      "“número de items para para sustituir no es un múltiplo de la longitud del reemplazo”"
     ]
    },
    {
     "name": "stdout",
     "output_type": "stream",
     "text": [
      "50.806 segundos 00290.csv \n"
     ]
    },
    {
     "name": "stderr",
     "output_type": "stream",
     "text": [
      "Warning message in df$Demanda_Energia_SIN_GWh[df$Fecha >= as.Date(start_at)] <- unlist(unname(escenarios %>% :\n",
      "“número de items para para sustituir no es un múltiplo de la longitud del reemplazo”"
     ]
    },
    {
     "name": "stdout",
     "output_type": "stream",
     "text": [
      "50.906 segundos 00291.csv \n"
     ]
    },
    {
     "name": "stderr",
     "output_type": "stream",
     "text": [
      "Warning message in df$Demanda_Energia_SIN_GWh[df$Fecha >= as.Date(start_at)] <- unlist(unname(escenarios %>% :\n",
      "“número de items para para sustituir no es un múltiplo de la longitud del reemplazo”"
     ]
    },
    {
     "name": "stdout",
     "output_type": "stream",
     "text": [
      "50.9384 segundos 00292.csv \n"
     ]
    },
    {
     "name": "stderr",
     "output_type": "stream",
     "text": [
      "Warning message in df$Demanda_Energia_SIN_GWh[df$Fecha >= as.Date(start_at)] <- unlist(unname(escenarios %>% :\n",
      "“número de items para para sustituir no es un múltiplo de la longitud del reemplazo”"
     ]
    },
    {
     "name": "stdout",
     "output_type": "stream",
     "text": [
      "50.9404 segundos 00293.csv \n"
     ]
    },
    {
     "name": "stderr",
     "output_type": "stream",
     "text": [
      "Warning message in df$Demanda_Energia_SIN_GWh[df$Fecha >= as.Date(start_at)] <- unlist(unname(escenarios %>% :\n",
      "“número de items para para sustituir no es un múltiplo de la longitud del reemplazo”"
     ]
    },
    {
     "name": "stdout",
     "output_type": "stream",
     "text": [
      "51.2474 segundos 00294.csv \n"
     ]
    },
    {
     "name": "stderr",
     "output_type": "stream",
     "text": [
      "Warning message in df$Demanda_Energia_SIN_GWh[df$Fecha >= as.Date(start_at)] <- unlist(unname(escenarios %>% :\n",
      "“número de items para para sustituir no es un múltiplo de la longitud del reemplazo”"
     ]
    },
    {
     "name": "stdout",
     "output_type": "stream",
     "text": [
      "51.0598 segundos 00295.csv \n"
     ]
    },
    {
     "name": "stderr",
     "output_type": "stream",
     "text": [
      "Warning message in df$Demanda_Energia_SIN_GWh[df$Fecha >= as.Date(start_at)] <- unlist(unname(escenarios %>% :\n",
      "“número de items para para sustituir no es un múltiplo de la longitud del reemplazo”"
     ]
    },
    {
     "name": "stdout",
     "output_type": "stream",
     "text": [
      "50.9575 segundos 00296.csv \n"
     ]
    },
    {
     "name": "stderr",
     "output_type": "stream",
     "text": [
      "Warning message in df$Demanda_Energia_SIN_GWh[df$Fecha >= as.Date(start_at)] <- unlist(unname(escenarios %>% :\n",
      "“número de items para para sustituir no es un múltiplo de la longitud del reemplazo”"
     ]
    },
    {
     "name": "stdout",
     "output_type": "stream",
     "text": [
      "50.802 segundos 00297.csv \n"
     ]
    },
    {
     "name": "stderr",
     "output_type": "stream",
     "text": [
      "Warning message in df$Demanda_Energia_SIN_GWh[df$Fecha >= as.Date(start_at)] <- unlist(unname(escenarios %>% :\n",
      "“número de items para para sustituir no es un múltiplo de la longitud del reemplazo”"
     ]
    },
    {
     "name": "stdout",
     "output_type": "stream",
     "text": [
      "50.7636 segundos 00298.csv \n"
     ]
    },
    {
     "name": "stderr",
     "output_type": "stream",
     "text": [
      "Warning message in df$Demanda_Energia_SIN_GWh[df$Fecha >= as.Date(start_at)] <- unlist(unname(escenarios %>% :\n",
      "“número de items para para sustituir no es un múltiplo de la longitud del reemplazo”"
     ]
    },
    {
     "name": "stdout",
     "output_type": "stream",
     "text": [
      "50.9644 segundos 00299.csv \n"
     ]
    },
    {
     "name": "stderr",
     "output_type": "stream",
     "text": [
      "Warning message in df$Demanda_Energia_SIN_GWh[df$Fecha >= as.Date(start_at)] <- unlist(unname(escenarios %>% :\n",
      "“número de items para para sustituir no es un múltiplo de la longitud del reemplazo”"
     ]
    },
    {
     "name": "stdout",
     "output_type": "stream",
     "text": [
      "50.9548 segundos 00300.csv \n"
     ]
    },
    {
     "name": "stderr",
     "output_type": "stream",
     "text": [
      "Warning message in df$Demanda_Energia_SIN_GWh[df$Fecha >= as.Date(start_at)] <- unlist(unname(escenarios %>% :\n",
      "“número de items para para sustituir no es un múltiplo de la longitud del reemplazo”"
     ]
    },
    {
     "name": "stdout",
     "output_type": "stream",
     "text": [
      "50.9095 segundos 00301.csv \n"
     ]
    },
    {
     "name": "stderr",
     "output_type": "stream",
     "text": [
      "Warning message in df$Demanda_Energia_SIN_GWh[df$Fecha >= as.Date(start_at)] <- unlist(unname(escenarios %>% :\n",
      "“número de items para para sustituir no es un múltiplo de la longitud del reemplazo”"
     ]
    },
    {
     "name": "stdout",
     "output_type": "stream",
     "text": [
      "50.9458 segundos 00302.csv \n"
     ]
    },
    {
     "name": "stderr",
     "output_type": "stream",
     "text": [
      "Warning message in df$Demanda_Energia_SIN_GWh[df$Fecha >= as.Date(start_at)] <- unlist(unname(escenarios %>% :\n",
      "“número de items para para sustituir no es un múltiplo de la longitud del reemplazo”"
     ]
    },
    {
     "name": "stdout",
     "output_type": "stream",
     "text": [
      "50.784 segundos 00303.csv \n"
     ]
    },
    {
     "name": "stderr",
     "output_type": "stream",
     "text": [
      "Warning message in df$Demanda_Energia_SIN_GWh[df$Fecha >= as.Date(start_at)] <- unlist(unname(escenarios %>% :\n",
      "“número de items para para sustituir no es un múltiplo de la longitud del reemplazo”"
     ]
    },
    {
     "name": "stdout",
     "output_type": "stream",
     "text": [
      "50.9762 segundos 00304.csv \n"
     ]
    },
    {
     "name": "stderr",
     "output_type": "stream",
     "text": [
      "Warning message in df$Demanda_Energia_SIN_GWh[df$Fecha >= as.Date(start_at)] <- unlist(unname(escenarios %>% :\n",
      "“número de items para para sustituir no es un múltiplo de la longitud del reemplazo”"
     ]
    },
    {
     "name": "stdout",
     "output_type": "stream",
     "text": [
      "50.8964 segundos 00305.csv \n"
     ]
    },
    {
     "name": "stderr",
     "output_type": "stream",
     "text": [
      "Warning message in df$Demanda_Energia_SIN_GWh[df$Fecha >= as.Date(start_at)] <- unlist(unname(escenarios %>% :\n",
      "“número de items para para sustituir no es un múltiplo de la longitud del reemplazo”"
     ]
    },
    {
     "name": "stdout",
     "output_type": "stream",
     "text": [
      "52.1019 segundos 00306.csv \n"
     ]
    },
    {
     "name": "stderr",
     "output_type": "stream",
     "text": [
      "Warning message in df$Demanda_Energia_SIN_GWh[df$Fecha >= as.Date(start_at)] <- unlist(unname(escenarios %>% :\n",
      "“número de items para para sustituir no es un múltiplo de la longitud del reemplazo”"
     ]
    },
    {
     "name": "stdout",
     "output_type": "stream",
     "text": [
      "50.782 segundos 00307.csv \n"
     ]
    },
    {
     "name": "stderr",
     "output_type": "stream",
     "text": [
      "Warning message in df$Demanda_Energia_SIN_GWh[df$Fecha >= as.Date(start_at)] <- unlist(unname(escenarios %>% :\n",
      "“número de items para para sustituir no es un múltiplo de la longitud del reemplazo”"
     ]
    },
    {
     "name": "stdout",
     "output_type": "stream",
     "text": [
      "50.7557 segundos 00308.csv \n"
     ]
    },
    {
     "name": "stderr",
     "output_type": "stream",
     "text": [
      "Warning message in df$Demanda_Energia_SIN_GWh[df$Fecha >= as.Date(start_at)] <- unlist(unname(escenarios %>% :\n",
      "“número de items para para sustituir no es un múltiplo de la longitud del reemplazo”"
     ]
    },
    {
     "name": "stdout",
     "output_type": "stream",
     "text": [
      "50.7241 segundos 00309.csv \n"
     ]
    },
    {
     "name": "stderr",
     "output_type": "stream",
     "text": [
      "Warning message in df$Demanda_Energia_SIN_GWh[df$Fecha >= as.Date(start_at)] <- unlist(unname(escenarios %>% :\n",
      "“número de items para para sustituir no es un múltiplo de la longitud del reemplazo”"
     ]
    },
    {
     "name": "stdout",
     "output_type": "stream",
     "text": [
      "50.5836 segundos 00310.csv \n"
     ]
    },
    {
     "name": "stderr",
     "output_type": "stream",
     "text": [
      "Warning message in df$Demanda_Energia_SIN_GWh[df$Fecha >= as.Date(start_at)] <- unlist(unname(escenarios %>% :\n",
      "“número de items para para sustituir no es un múltiplo de la longitud del reemplazo”"
     ]
    },
    {
     "name": "stdout",
     "output_type": "stream",
     "text": [
      "50.8059 segundos 00311.csv \n"
     ]
    },
    {
     "name": "stderr",
     "output_type": "stream",
     "text": [
      "Warning message in df$Demanda_Energia_SIN_GWh[df$Fecha >= as.Date(start_at)] <- unlist(unname(escenarios %>% :\n",
      "“número de items para para sustituir no es un múltiplo de la longitud del reemplazo”"
     ]
    },
    {
     "name": "stdout",
     "output_type": "stream",
     "text": [
      "50.7838 segundos 00312.csv \n"
     ]
    },
    {
     "name": "stderr",
     "output_type": "stream",
     "text": [
      "Warning message in df$Demanda_Energia_SIN_GWh[df$Fecha >= as.Date(start_at)] <- unlist(unname(escenarios %>% :\n",
      "“número de items para para sustituir no es un múltiplo de la longitud del reemplazo”"
     ]
    },
    {
     "name": "stdout",
     "output_type": "stream",
     "text": [
      "50.7374 segundos 00313.csv \n"
     ]
    },
    {
     "name": "stderr",
     "output_type": "stream",
     "text": [
      "Warning message in df$Demanda_Energia_SIN_GWh[df$Fecha >= as.Date(start_at)] <- unlist(unname(escenarios %>% :\n",
      "“número de items para para sustituir no es un múltiplo de la longitud del reemplazo”"
     ]
    },
    {
     "name": "stdout",
     "output_type": "stream",
     "text": [
      "50.6953 segundos 00314.csv \n"
     ]
    },
    {
     "name": "stderr",
     "output_type": "stream",
     "text": [
      "Warning message in df$Demanda_Energia_SIN_GWh[df$Fecha >= as.Date(start_at)] <- unlist(unname(escenarios %>% :\n",
      "“número de items para para sustituir no es un múltiplo de la longitud del reemplazo”"
     ]
    },
    {
     "name": "stdout",
     "output_type": "stream",
     "text": [
      "50.7594 segundos 00315.csv \n"
     ]
    },
    {
     "name": "stderr",
     "output_type": "stream",
     "text": [
      "Warning message in df$Demanda_Energia_SIN_GWh[df$Fecha >= as.Date(start_at)] <- unlist(unname(escenarios %>% :\n",
      "“número de items para para sustituir no es un múltiplo de la longitud del reemplazo”"
     ]
    },
    {
     "name": "stdout",
     "output_type": "stream",
     "text": [
      "50.682 segundos 00316.csv \n"
     ]
    },
    {
     "name": "stderr",
     "output_type": "stream",
     "text": [
      "Warning message in df$Demanda_Energia_SIN_GWh[df$Fecha >= as.Date(start_at)] <- unlist(unname(escenarios %>% :\n",
      "“número de items para para sustituir no es un múltiplo de la longitud del reemplazo”"
     ]
    },
    {
     "name": "stdout",
     "output_type": "stream",
     "text": [
      "50.7311 segundos 00317.csv \n"
     ]
    },
    {
     "name": "stderr",
     "output_type": "stream",
     "text": [
      "Warning message in df$Demanda_Energia_SIN_GWh[df$Fecha >= as.Date(start_at)] <- unlist(unname(escenarios %>% :\n",
      "“número de items para para sustituir no es un múltiplo de la longitud del reemplazo”"
     ]
    },
    {
     "name": "stdout",
     "output_type": "stream",
     "text": [
      "51.1218 segundos 00318.csv \n"
     ]
    },
    {
     "name": "stderr",
     "output_type": "stream",
     "text": [
      "Warning message in df$Demanda_Energia_SIN_GWh[df$Fecha >= as.Date(start_at)] <- unlist(unname(escenarios %>% :\n",
      "“número de items para para sustituir no es un múltiplo de la longitud del reemplazo”"
     ]
    },
    {
     "name": "stdout",
     "output_type": "stream",
     "text": [
      "50.6477 segundos 00319.csv \n"
     ]
    },
    {
     "name": "stderr",
     "output_type": "stream",
     "text": [
      "Warning message in df$Demanda_Energia_SIN_GWh[df$Fecha >= as.Date(start_at)] <- unlist(unname(escenarios %>% :\n",
      "“número de items para para sustituir no es un múltiplo de la longitud del reemplazo”"
     ]
    },
    {
     "name": "stdout",
     "output_type": "stream",
     "text": [
      "50.8775 segundos 00320.csv \n"
     ]
    },
    {
     "name": "stderr",
     "output_type": "stream",
     "text": [
      "Warning message in df$Demanda_Energia_SIN_GWh[df$Fecha >= as.Date(start_at)] <- unlist(unname(escenarios %>% :\n",
      "“número de items para para sustituir no es un múltiplo de la longitud del reemplazo”"
     ]
    },
    {
     "name": "stdout",
     "output_type": "stream",
     "text": [
      "50.5207 segundos 00321.csv \n"
     ]
    },
    {
     "name": "stderr",
     "output_type": "stream",
     "text": [
      "Warning message in df$Demanda_Energia_SIN_GWh[df$Fecha >= as.Date(start_at)] <- unlist(unname(escenarios %>% :\n",
      "“número de items para para sustituir no es un múltiplo de la longitud del reemplazo”"
     ]
    },
    {
     "name": "stdout",
     "output_type": "stream",
     "text": [
      "50.5986 segundos 00322.csv \n"
     ]
    },
    {
     "name": "stderr",
     "output_type": "stream",
     "text": [
      "Warning message in df$Demanda_Energia_SIN_GWh[df$Fecha >= as.Date(start_at)] <- unlist(unname(escenarios %>% :\n",
      "“número de items para para sustituir no es un múltiplo de la longitud del reemplazo”"
     ]
    },
    {
     "name": "stdout",
     "output_type": "stream",
     "text": [
      "50.9541 segundos 00323.csv \n"
     ]
    },
    {
     "name": "stderr",
     "output_type": "stream",
     "text": [
      "Warning message in df$Demanda_Energia_SIN_GWh[df$Fecha >= as.Date(start_at)] <- unlist(unname(escenarios %>% :\n",
      "“número de items para para sustituir no es un múltiplo de la longitud del reemplazo”"
     ]
    },
    {
     "name": "stdout",
     "output_type": "stream",
     "text": [
      "50.83 segundos 00324.csv \n"
     ]
    },
    {
     "name": "stderr",
     "output_type": "stream",
     "text": [
      "Warning message in df$Demanda_Energia_SIN_GWh[df$Fecha >= as.Date(start_at)] <- unlist(unname(escenarios %>% :\n",
      "“número de items para para sustituir no es un múltiplo de la longitud del reemplazo”"
     ]
    },
    {
     "name": "stdout",
     "output_type": "stream",
     "text": [
      "50.6873 segundos 00325.csv \n"
     ]
    },
    {
     "name": "stderr",
     "output_type": "stream",
     "text": [
      "Warning message in df$Demanda_Energia_SIN_GWh[df$Fecha >= as.Date(start_at)] <- unlist(unname(escenarios %>% :\n",
      "“número de items para para sustituir no es un múltiplo de la longitud del reemplazo”"
     ]
    },
    {
     "name": "stdout",
     "output_type": "stream",
     "text": [
      "50.6824 segundos 00326.csv \n"
     ]
    },
    {
     "name": "stderr",
     "output_type": "stream",
     "text": [
      "Warning message in df$Demanda_Energia_SIN_GWh[df$Fecha >= as.Date(start_at)] <- unlist(unname(escenarios %>% :\n",
      "“número de items para para sustituir no es un múltiplo de la longitud del reemplazo”"
     ]
    },
    {
     "name": "stdout",
     "output_type": "stream",
     "text": [
      "50.5479 segundos 00327.csv \n"
     ]
    },
    {
     "name": "stderr",
     "output_type": "stream",
     "text": [
      "Warning message in df$Demanda_Energia_SIN_GWh[df$Fecha >= as.Date(start_at)] <- unlist(unname(escenarios %>% :\n",
      "“número de items para para sustituir no es un múltiplo de la longitud del reemplazo”"
     ]
    },
    {
     "name": "stdout",
     "output_type": "stream",
     "text": [
      "50.6446 segundos 00328.csv \n"
     ]
    },
    {
     "name": "stderr",
     "output_type": "stream",
     "text": [
      "Warning message in df$Demanda_Energia_SIN_GWh[df$Fecha >= as.Date(start_at)] <- unlist(unname(escenarios %>% :\n",
      "“número de items para para sustituir no es un múltiplo de la longitud del reemplazo”"
     ]
    },
    {
     "name": "stdout",
     "output_type": "stream",
     "text": [
      "50.9343 segundos 00329.csv \n"
     ]
    },
    {
     "name": "stderr",
     "output_type": "stream",
     "text": [
      "Warning message in df$Demanda_Energia_SIN_GWh[df$Fecha >= as.Date(start_at)] <- unlist(unname(escenarios %>% :\n",
      "“número de items para para sustituir no es un múltiplo de la longitud del reemplazo”"
     ]
    },
    {
     "name": "stdout",
     "output_type": "stream",
     "text": [
      "51.0655 segundos 00330.csv \n"
     ]
    },
    {
     "name": "stderr",
     "output_type": "stream",
     "text": [
      "Warning message in df$Demanda_Energia_SIN_GWh[df$Fecha >= as.Date(start_at)] <- unlist(unname(escenarios %>% :\n",
      "“número de items para para sustituir no es un múltiplo de la longitud del reemplazo”"
     ]
    },
    {
     "name": "stdout",
     "output_type": "stream",
     "text": [
      "50.5801 segundos 00331.csv \n"
     ]
    },
    {
     "name": "stderr",
     "output_type": "stream",
     "text": [
      "Warning message in df$Demanda_Energia_SIN_GWh[df$Fecha >= as.Date(start_at)] <- unlist(unname(escenarios %>% :\n",
      "“número de items para para sustituir no es un múltiplo de la longitud del reemplazo”"
     ]
    },
    {
     "name": "stdout",
     "output_type": "stream",
     "text": [
      "50.8609 segundos 00332.csv \n"
     ]
    },
    {
     "name": "stderr",
     "output_type": "stream",
     "text": [
      "Warning message in df$Demanda_Energia_SIN_GWh[df$Fecha >= as.Date(start_at)] <- unlist(unname(escenarios %>% :\n",
      "“número de items para para sustituir no es un múltiplo de la longitud del reemplazo”"
     ]
    },
    {
     "name": "stdout",
     "output_type": "stream",
     "text": [
      "50.7387 segundos 00333.csv \n"
     ]
    },
    {
     "name": "stderr",
     "output_type": "stream",
     "text": [
      "Warning message in df$Demanda_Energia_SIN_GWh[df$Fecha >= as.Date(start_at)] <- unlist(unname(escenarios %>% :\n",
      "“número de items para para sustituir no es un múltiplo de la longitud del reemplazo”"
     ]
    },
    {
     "name": "stdout",
     "output_type": "stream",
     "text": [
      "50.8158 segundos 00334.csv \n"
     ]
    },
    {
     "name": "stderr",
     "output_type": "stream",
     "text": [
      "Warning message in df$Demanda_Energia_SIN_GWh[df$Fecha >= as.Date(start_at)] <- unlist(unname(escenarios %>% :\n",
      "“número de items para para sustituir no es un múltiplo de la longitud del reemplazo”"
     ]
    },
    {
     "name": "stdout",
     "output_type": "stream",
     "text": [
      "50.7121 segundos 00335.csv \n"
     ]
    },
    {
     "name": "stderr",
     "output_type": "stream",
     "text": [
      "Warning message in df$Demanda_Energia_SIN_GWh[df$Fecha >= as.Date(start_at)] <- unlist(unname(escenarios %>% :\n",
      "“número de items para para sustituir no es un múltiplo de la longitud del reemplazo”"
     ]
    },
    {
     "name": "stdout",
     "output_type": "stream",
     "text": [
      "50.7673 segundos 00336.csv \n"
     ]
    },
    {
     "name": "stderr",
     "output_type": "stream",
     "text": [
      "Warning message in df$Demanda_Energia_SIN_GWh[df$Fecha >= as.Date(start_at)] <- unlist(unname(escenarios %>% :\n",
      "“número de items para para sustituir no es un múltiplo de la longitud del reemplazo”"
     ]
    },
    {
     "name": "stdout",
     "output_type": "stream",
     "text": [
      "50.7829 segundos 00337.csv \n"
     ]
    },
    {
     "name": "stderr",
     "output_type": "stream",
     "text": [
      "Warning message in df$Demanda_Energia_SIN_GWh[df$Fecha >= as.Date(start_at)] <- unlist(unname(escenarios %>% :\n",
      "“número de items para para sustituir no es un múltiplo de la longitud del reemplazo”"
     ]
    },
    {
     "name": "stdout",
     "output_type": "stream",
     "text": [
      "50.7831 segundos 00338.csv \n"
     ]
    },
    {
     "name": "stderr",
     "output_type": "stream",
     "text": [
      "Warning message in df$Demanda_Energia_SIN_GWh[df$Fecha >= as.Date(start_at)] <- unlist(unname(escenarios %>% :\n",
      "“número de items para para sustituir no es un múltiplo de la longitud del reemplazo”"
     ]
    },
    {
     "name": "stdout",
     "output_type": "stream",
     "text": [
      "50.8995 segundos 00339.csv \n"
     ]
    },
    {
     "name": "stderr",
     "output_type": "stream",
     "text": [
      "Warning message in df$Demanda_Energia_SIN_GWh[df$Fecha >= as.Date(start_at)] <- unlist(unname(escenarios %>% :\n",
      "“número de items para para sustituir no es un múltiplo de la longitud del reemplazo”"
     ]
    },
    {
     "name": "stdout",
     "output_type": "stream",
     "text": [
      "50.8884 segundos 00340.csv \n"
     ]
    },
    {
     "name": "stderr",
     "output_type": "stream",
     "text": [
      "Warning message in df$Demanda_Energia_SIN_GWh[df$Fecha >= as.Date(start_at)] <- unlist(unname(escenarios %>% :\n",
      "“número de items para para sustituir no es un múltiplo de la longitud del reemplazo”"
     ]
    },
    {
     "name": "stdout",
     "output_type": "stream",
     "text": [
      "50.9897 segundos 00341.csv \n"
     ]
    },
    {
     "name": "stderr",
     "output_type": "stream",
     "text": [
      "Warning message in df$Demanda_Energia_SIN_GWh[df$Fecha >= as.Date(start_at)] <- unlist(unname(escenarios %>% :\n",
      "“número de items para para sustituir no es un múltiplo de la longitud del reemplazo”"
     ]
    },
    {
     "name": "stdout",
     "output_type": "stream",
     "text": [
      "50.8736 segundos 00342.csv \n"
     ]
    },
    {
     "name": "stderr",
     "output_type": "stream",
     "text": [
      "Warning message in df$Demanda_Energia_SIN_GWh[df$Fecha >= as.Date(start_at)] <- unlist(unname(escenarios %>% :\n",
      "“número de items para para sustituir no es un múltiplo de la longitud del reemplazo”"
     ]
    },
    {
     "name": "stdout",
     "output_type": "stream",
     "text": [
      "50.7101 segundos 00343.csv \n"
     ]
    },
    {
     "name": "stderr",
     "output_type": "stream",
     "text": [
      "Warning message in df$Demanda_Energia_SIN_GWh[df$Fecha >= as.Date(start_at)] <- unlist(unname(escenarios %>% :\n",
      "“número de items para para sustituir no es un múltiplo de la longitud del reemplazo”"
     ]
    },
    {
     "name": "stdout",
     "output_type": "stream",
     "text": [
      "50.9339 segundos 00344.csv \n"
     ]
    },
    {
     "name": "stderr",
     "output_type": "stream",
     "text": [
      "Warning message in df$Demanda_Energia_SIN_GWh[df$Fecha >= as.Date(start_at)] <- unlist(unname(escenarios %>% :\n",
      "“número de items para para sustituir no es un múltiplo de la longitud del reemplazo”"
     ]
    },
    {
     "name": "stdout",
     "output_type": "stream",
     "text": [
      "50.8684 segundos 00345.csv \n"
     ]
    },
    {
     "name": "stderr",
     "output_type": "stream",
     "text": [
      "Warning message in df$Demanda_Energia_SIN_GWh[df$Fecha >= as.Date(start_at)] <- unlist(unname(escenarios %>% :\n",
      "“número de items para para sustituir no es un múltiplo de la longitud del reemplazo”"
     ]
    },
    {
     "name": "stdout",
     "output_type": "stream",
     "text": [
      "50.7868 segundos 00346.csv \n"
     ]
    },
    {
     "name": "stderr",
     "output_type": "stream",
     "text": [
      "Warning message in df$Demanda_Energia_SIN_GWh[df$Fecha >= as.Date(start_at)] <- unlist(unname(escenarios %>% :\n",
      "“número de items para para sustituir no es un múltiplo de la longitud del reemplazo”"
     ]
    },
    {
     "name": "stdout",
     "output_type": "stream",
     "text": [
      "50.9829 segundos 00347.csv \n"
     ]
    },
    {
     "name": "stderr",
     "output_type": "stream",
     "text": [
      "Warning message in df$Demanda_Energia_SIN_GWh[df$Fecha >= as.Date(start_at)] <- unlist(unname(escenarios %>% :\n",
      "“número de items para para sustituir no es un múltiplo de la longitud del reemplazo”"
     ]
    },
    {
     "name": "stdout",
     "output_type": "stream",
     "text": [
      "50.9883 segundos 00348.csv \n"
     ]
    },
    {
     "name": "stderr",
     "output_type": "stream",
     "text": [
      "Warning message in df$Demanda_Energia_SIN_GWh[df$Fecha >= as.Date(start_at)] <- unlist(unname(escenarios %>% :\n",
      "“número de items para para sustituir no es un múltiplo de la longitud del reemplazo”"
     ]
    },
    {
     "name": "stdout",
     "output_type": "stream",
     "text": [
      "50.8285 segundos 00349.csv \n"
     ]
    },
    {
     "name": "stderr",
     "output_type": "stream",
     "text": [
      "Warning message in df$Demanda_Energia_SIN_GWh[df$Fecha >= as.Date(start_at)] <- unlist(unname(escenarios %>% :\n",
      "“número de items para para sustituir no es un múltiplo de la longitud del reemplazo”"
     ]
    },
    {
     "name": "stdout",
     "output_type": "stream",
     "text": [
      "50.9165 segundos 00350.csv \n"
     ]
    },
    {
     "name": "stderr",
     "output_type": "stream",
     "text": [
      "Warning message in df$Demanda_Energia_SIN_GWh[df$Fecha >= as.Date(start_at)] <- unlist(unname(escenarios %>% :\n",
      "“número de items para para sustituir no es un múltiplo de la longitud del reemplazo”"
     ]
    },
    {
     "name": "stdout",
     "output_type": "stream",
     "text": [
      "50.8331 segundos 00351.csv \n"
     ]
    },
    {
     "name": "stderr",
     "output_type": "stream",
     "text": [
      "Warning message in df$Demanda_Energia_SIN_GWh[df$Fecha >= as.Date(start_at)] <- unlist(unname(escenarios %>% :\n",
      "“número de items para para sustituir no es un múltiplo de la longitud del reemplazo”"
     ]
    },
    {
     "name": "stdout",
     "output_type": "stream",
     "text": [
      "50.7435 segundos 00352.csv \n"
     ]
    },
    {
     "name": "stderr",
     "output_type": "stream",
     "text": [
      "Warning message in df$Demanda_Energia_SIN_GWh[df$Fecha >= as.Date(start_at)] <- unlist(unname(escenarios %>% :\n",
      "“número de items para para sustituir no es un múltiplo de la longitud del reemplazo”"
     ]
    },
    {
     "name": "stdout",
     "output_type": "stream",
     "text": [
      "51.0364 segundos 00353.csv \n"
     ]
    },
    {
     "name": "stderr",
     "output_type": "stream",
     "text": [
      "Warning message in df$Demanda_Energia_SIN_GWh[df$Fecha >= as.Date(start_at)] <- unlist(unname(escenarios %>% :\n",
      "“número de items para para sustituir no es un múltiplo de la longitud del reemplazo”"
     ]
    },
    {
     "name": "stdout",
     "output_type": "stream",
     "text": [
      "50.8243 segundos 00354.csv \n"
     ]
    },
    {
     "name": "stderr",
     "output_type": "stream",
     "text": [
      "Warning message in df$Demanda_Energia_SIN_GWh[df$Fecha >= as.Date(start_at)] <- unlist(unname(escenarios %>% :\n",
      "“número de items para para sustituir no es un múltiplo de la longitud del reemplazo”"
     ]
    },
    {
     "name": "stdout",
     "output_type": "stream",
     "text": [
      "50.8878 segundos 00355.csv \n"
     ]
    },
    {
     "name": "stderr",
     "output_type": "stream",
     "text": [
      "Warning message in df$Demanda_Energia_SIN_GWh[df$Fecha >= as.Date(start_at)] <- unlist(unname(escenarios %>% :\n",
      "“número de items para para sustituir no es un múltiplo de la longitud del reemplazo”"
     ]
    },
    {
     "name": "stdout",
     "output_type": "stream",
     "text": [
      "50.7759 segundos 00356.csv \n"
     ]
    },
    {
     "name": "stderr",
     "output_type": "stream",
     "text": [
      "Warning message in df$Demanda_Energia_SIN_GWh[df$Fecha >= as.Date(start_at)] <- unlist(unname(escenarios %>% :\n",
      "“número de items para para sustituir no es un múltiplo de la longitud del reemplazo”"
     ]
    },
    {
     "name": "stdout",
     "output_type": "stream",
     "text": [
      "50.7731 segundos 00357.csv \n"
     ]
    },
    {
     "name": "stderr",
     "output_type": "stream",
     "text": [
      "Warning message in df$Demanda_Energia_SIN_GWh[df$Fecha >= as.Date(start_at)] <- unlist(unname(escenarios %>% :\n",
      "“número de items para para sustituir no es un múltiplo de la longitud del reemplazo”"
     ]
    },
    {
     "name": "stdout",
     "output_type": "stream",
     "text": [
      "50.8328 segundos 00358.csv \n"
     ]
    },
    {
     "name": "stderr",
     "output_type": "stream",
     "text": [
      "Warning message in df$Demanda_Energia_SIN_GWh[df$Fecha >= as.Date(start_at)] <- unlist(unname(escenarios %>% :\n",
      "“número de items para para sustituir no es un múltiplo de la longitud del reemplazo”"
     ]
    },
    {
     "name": "stdout",
     "output_type": "stream",
     "text": [
      "51.0053 segundos 00359.csv \n"
     ]
    },
    {
     "name": "stderr",
     "output_type": "stream",
     "text": [
      "Warning message in df$Demanda_Energia_SIN_GWh[df$Fecha >= as.Date(start_at)] <- unlist(unname(escenarios %>% :\n",
      "“número de items para para sustituir no es un múltiplo de la longitud del reemplazo”"
     ]
    },
    {
     "name": "stdout",
     "output_type": "stream",
     "text": [
      "50.9543 segundos 00360.csv \n"
     ]
    },
    {
     "name": "stderr",
     "output_type": "stream",
     "text": [
      "Warning message in df$Demanda_Energia_SIN_GWh[df$Fecha >= as.Date(start_at)] <- unlist(unname(escenarios %>% :\n",
      "“número de items para para sustituir no es un múltiplo de la longitud del reemplazo”"
     ]
    },
    {
     "name": "stdout",
     "output_type": "stream",
     "text": [
      "50.7883 segundos 00361.csv \n"
     ]
    },
    {
     "name": "stderr",
     "output_type": "stream",
     "text": [
      "Warning message in df$Demanda_Energia_SIN_GWh[df$Fecha >= as.Date(start_at)] <- unlist(unname(escenarios %>% :\n",
      "“número de items para para sustituir no es un múltiplo de la longitud del reemplazo”"
     ]
    },
    {
     "name": "stdout",
     "output_type": "stream",
     "text": [
      "50.7917 segundos 00362.csv \n"
     ]
    },
    {
     "name": "stderr",
     "output_type": "stream",
     "text": [
      "Warning message in df$Demanda_Energia_SIN_GWh[df$Fecha >= as.Date(start_at)] <- unlist(unname(escenarios %>% :\n",
      "“número de items para para sustituir no es un múltiplo de la longitud del reemplazo”"
     ]
    },
    {
     "name": "stdout",
     "output_type": "stream",
     "text": [
      "51 segundos 00363.csv \n"
     ]
    },
    {
     "name": "stderr",
     "output_type": "stream",
     "text": [
      "Warning message in df$Demanda_Energia_SIN_GWh[df$Fecha >= as.Date(start_at)] <- unlist(unname(escenarios %>% :\n",
      "“número de items para para sustituir no es un múltiplo de la longitud del reemplazo”"
     ]
    },
    {
     "name": "stdout",
     "output_type": "stream",
     "text": [
      "51.0232 segundos 00364.csv \n"
     ]
    },
    {
     "name": "stderr",
     "output_type": "stream",
     "text": [
      "Warning message in df$Demanda_Energia_SIN_GWh[df$Fecha >= as.Date(start_at)] <- unlist(unname(escenarios %>% :\n",
      "“número de items para para sustituir no es un múltiplo de la longitud del reemplazo”"
     ]
    },
    {
     "name": "stdout",
     "output_type": "stream",
     "text": [
      "51.2948 segundos 00365.csv \n"
     ]
    },
    {
     "name": "stderr",
     "output_type": "stream",
     "text": [
      "Warning message in df$Demanda_Energia_SIN_GWh[df$Fecha >= as.Date(start_at)] <- unlist(unname(escenarios %>% :\n",
      "“número de items para para sustituir no es un múltiplo de la longitud del reemplazo”"
     ]
    },
    {
     "name": "stdout",
     "output_type": "stream",
     "text": [
      "50.727 segundos 00366.csv \n"
     ]
    },
    {
     "name": "stderr",
     "output_type": "stream",
     "text": [
      "Warning message in df$Demanda_Energia_SIN_GWh[df$Fecha >= as.Date(start_at)] <- unlist(unname(escenarios %>% :\n",
      "“número de items para para sustituir no es un múltiplo de la longitud del reemplazo”"
     ]
    },
    {
     "name": "stdout",
     "output_type": "stream",
     "text": [
      "51.1975 segundos 00367.csv \n"
     ]
    },
    {
     "name": "stderr",
     "output_type": "stream",
     "text": [
      "Warning message in df$Demanda_Energia_SIN_GWh[df$Fecha >= as.Date(start_at)] <- unlist(unname(escenarios %>% :\n",
      "“número de items para para sustituir no es un múltiplo de la longitud del reemplazo”"
     ]
    },
    {
     "name": "stdout",
     "output_type": "stream",
     "text": [
      "50.9835 segundos 00368.csv \n"
     ]
    },
    {
     "name": "stderr",
     "output_type": "stream",
     "text": [
      "Warning message in df$Demanda_Energia_SIN_GWh[df$Fecha >= as.Date(start_at)] <- unlist(unname(escenarios %>% :\n",
      "“número de items para para sustituir no es un múltiplo de la longitud del reemplazo”"
     ]
    },
    {
     "name": "stdout",
     "output_type": "stream",
     "text": [
      "53.9899 segundos 00369.csv \n"
     ]
    },
    {
     "name": "stderr",
     "output_type": "stream",
     "text": [
      "Warning message in df$Demanda_Energia_SIN_GWh[df$Fecha >= as.Date(start_at)] <- unlist(unname(escenarios %>% :\n",
      "“número de items para para sustituir no es un múltiplo de la longitud del reemplazo”"
     ]
    },
    {
     "name": "stdout",
     "output_type": "stream",
     "text": [
      "51.5308 segundos 00370.csv \n"
     ]
    },
    {
     "name": "stderr",
     "output_type": "stream",
     "text": [
      "Warning message in df$Demanda_Energia_SIN_GWh[df$Fecha >= as.Date(start_at)] <- unlist(unname(escenarios %>% :\n",
      "“número de items para para sustituir no es un múltiplo de la longitud del reemplazo”"
     ]
    },
    {
     "name": "stdout",
     "output_type": "stream",
     "text": [
      "50.9619 segundos 00371.csv \n"
     ]
    },
    {
     "name": "stderr",
     "output_type": "stream",
     "text": [
      "Warning message in df$Demanda_Energia_SIN_GWh[df$Fecha >= as.Date(start_at)] <- unlist(unname(escenarios %>% :\n",
      "“número de items para para sustituir no es un múltiplo de la longitud del reemplazo”"
     ]
    },
    {
     "name": "stdout",
     "output_type": "stream",
     "text": [
      "50.9342 segundos 00372.csv \n"
     ]
    },
    {
     "name": "stderr",
     "output_type": "stream",
     "text": [
      "Warning message in df$Demanda_Energia_SIN_GWh[df$Fecha >= as.Date(start_at)] <- unlist(unname(escenarios %>% :\n",
      "“número de items para para sustituir no es un múltiplo de la longitud del reemplazo”"
     ]
    },
    {
     "name": "stdout",
     "output_type": "stream",
     "text": [
      "50.7942 segundos 00373.csv \n"
     ]
    },
    {
     "name": "stderr",
     "output_type": "stream",
     "text": [
      "Warning message in df$Demanda_Energia_SIN_GWh[df$Fecha >= as.Date(start_at)] <- unlist(unname(escenarios %>% :\n",
      "“número de items para para sustituir no es un múltiplo de la longitud del reemplazo”"
     ]
    },
    {
     "name": "stdout",
     "output_type": "stream",
     "text": [
      "50.7201 segundos 00374.csv \n"
     ]
    },
    {
     "name": "stderr",
     "output_type": "stream",
     "text": [
      "Warning message in df$Demanda_Energia_SIN_GWh[df$Fecha >= as.Date(start_at)] <- unlist(unname(escenarios %>% :\n",
      "“número de items para para sustituir no es un múltiplo de la longitud del reemplazo”"
     ]
    },
    {
     "name": "stdout",
     "output_type": "stream",
     "text": [
      "51.1084 segundos 00375.csv \n"
     ]
    },
    {
     "name": "stderr",
     "output_type": "stream",
     "text": [
      "Warning message in df$Demanda_Energia_SIN_GWh[df$Fecha >= as.Date(start_at)] <- unlist(unname(escenarios %>% :\n",
      "“número de items para para sustituir no es un múltiplo de la longitud del reemplazo”"
     ]
    },
    {
     "name": "stdout",
     "output_type": "stream",
     "text": [
      "50.7851 segundos 00376.csv \n"
     ]
    },
    {
     "name": "stderr",
     "output_type": "stream",
     "text": [
      "Warning message in df$Demanda_Energia_SIN_GWh[df$Fecha >= as.Date(start_at)] <- unlist(unname(escenarios %>% :\n",
      "“número de items para para sustituir no es un múltiplo de la longitud del reemplazo”"
     ]
    },
    {
     "name": "stdout",
     "output_type": "stream",
     "text": [
      "51.3518 segundos 00377.csv \n"
     ]
    },
    {
     "name": "stderr",
     "output_type": "stream",
     "text": [
      "Warning message in df$Demanda_Energia_SIN_GWh[df$Fecha >= as.Date(start_at)] <- unlist(unname(escenarios %>% :\n",
      "“número de items para para sustituir no es un múltiplo de la longitud del reemplazo”"
     ]
    },
    {
     "name": "stdout",
     "output_type": "stream",
     "text": [
      "50.8172 segundos 00378.csv \n"
     ]
    },
    {
     "name": "stderr",
     "output_type": "stream",
     "text": [
      "Warning message in df$Demanda_Energia_SIN_GWh[df$Fecha >= as.Date(start_at)] <- unlist(unname(escenarios %>% :\n",
      "“número de items para para sustituir no es un múltiplo de la longitud del reemplazo”"
     ]
    },
    {
     "name": "stdout",
     "output_type": "stream",
     "text": [
      "51.1561 segundos 00379.csv \n"
     ]
    },
    {
     "name": "stderr",
     "output_type": "stream",
     "text": [
      "Warning message in df$Demanda_Energia_SIN_GWh[df$Fecha >= as.Date(start_at)] <- unlist(unname(escenarios %>% :\n",
      "“número de items para para sustituir no es un múltiplo de la longitud del reemplazo”"
     ]
    },
    {
     "name": "stdout",
     "output_type": "stream",
     "text": [
      "50.8758 segundos 00380.csv \n"
     ]
    },
    {
     "name": "stderr",
     "output_type": "stream",
     "text": [
      "Warning message in df$Demanda_Energia_SIN_GWh[df$Fecha >= as.Date(start_at)] <- unlist(unname(escenarios %>% :\n",
      "“número de items para para sustituir no es un múltiplo de la longitud del reemplazo”"
     ]
    },
    {
     "name": "stdout",
     "output_type": "stream",
     "text": [
      "50.884 segundos 00381.csv \n"
     ]
    },
    {
     "name": "stderr",
     "output_type": "stream",
     "text": [
      "Warning message in df$Demanda_Energia_SIN_GWh[df$Fecha >= as.Date(start_at)] <- unlist(unname(escenarios %>% :\n",
      "“número de items para para sustituir no es un múltiplo de la longitud del reemplazo”"
     ]
    },
    {
     "name": "stdout",
     "output_type": "stream",
     "text": [
      "51.0168 segundos 00382.csv \n"
     ]
    },
    {
     "name": "stderr",
     "output_type": "stream",
     "text": [
      "Warning message in df$Demanda_Energia_SIN_GWh[df$Fecha >= as.Date(start_at)] <- unlist(unname(escenarios %>% :\n",
      "“número de items para para sustituir no es un múltiplo de la longitud del reemplazo”"
     ]
    },
    {
     "name": "stdout",
     "output_type": "stream",
     "text": [
      "54.2208 segundos 00383.csv \n"
     ]
    },
    {
     "name": "stderr",
     "output_type": "stream",
     "text": [
      "Warning message in df$Demanda_Energia_SIN_GWh[df$Fecha >= as.Date(start_at)] <- unlist(unname(escenarios %>% :\n",
      "“número de items para para sustituir no es un múltiplo de la longitud del reemplazo”"
     ]
    },
    {
     "name": "stdout",
     "output_type": "stream",
     "text": [
      "55.5031 segundos 00384.csv \n"
     ]
    },
    {
     "name": "stderr",
     "output_type": "stream",
     "text": [
      "Warning message in df$Demanda_Energia_SIN_GWh[df$Fecha >= as.Date(start_at)] <- unlist(unname(escenarios %>% :\n",
      "“número de items para para sustituir no es un múltiplo de la longitud del reemplazo”"
     ]
    },
    {
     "name": "stdout",
     "output_type": "stream",
     "text": [
      "54.4844 segundos 00385.csv \n"
     ]
    },
    {
     "name": "stderr",
     "output_type": "stream",
     "text": [
      "Warning message in df$Demanda_Energia_SIN_GWh[df$Fecha >= as.Date(start_at)] <- unlist(unname(escenarios %>% :\n",
      "“número de items para para sustituir no es un múltiplo de la longitud del reemplazo”"
     ]
    },
    {
     "name": "stdout",
     "output_type": "stream",
     "text": [
      "51.2546 segundos 00386.csv \n"
     ]
    },
    {
     "name": "stderr",
     "output_type": "stream",
     "text": [
      "Warning message in df$Demanda_Energia_SIN_GWh[df$Fecha >= as.Date(start_at)] <- unlist(unname(escenarios %>% :\n",
      "“número de items para para sustituir no es un múltiplo de la longitud del reemplazo”"
     ]
    },
    {
     "name": "stdout",
     "output_type": "stream",
     "text": [
      "50.9132 segundos 00387.csv \n"
     ]
    },
    {
     "name": "stderr",
     "output_type": "stream",
     "text": [
      "Warning message in df$Demanda_Energia_SIN_GWh[df$Fecha >= as.Date(start_at)] <- unlist(unname(escenarios %>% :\n",
      "“número de items para para sustituir no es un múltiplo de la longitud del reemplazo”"
     ]
    },
    {
     "name": "stdout",
     "output_type": "stream",
     "text": [
      "51.3388 segundos 00388.csv \n"
     ]
    },
    {
     "name": "stderr",
     "output_type": "stream",
     "text": [
      "Warning message in df$Demanda_Energia_SIN_GWh[df$Fecha >= as.Date(start_at)] <- unlist(unname(escenarios %>% :\n",
      "“número de items para para sustituir no es un múltiplo de la longitud del reemplazo”"
     ]
    },
    {
     "name": "stdout",
     "output_type": "stream",
     "text": [
      "51.0408 segundos 00389.csv \n"
     ]
    },
    {
     "name": "stderr",
     "output_type": "stream",
     "text": [
      "Warning message in df$Demanda_Energia_SIN_GWh[df$Fecha >= as.Date(start_at)] <- unlist(unname(escenarios %>% :\n",
      "“número de items para para sustituir no es un múltiplo de la longitud del reemplazo”"
     ]
    },
    {
     "name": "stdout",
     "output_type": "stream",
     "text": [
      "51.057 segundos 00390.csv \n"
     ]
    },
    {
     "name": "stderr",
     "output_type": "stream",
     "text": [
      "Warning message in df$Demanda_Energia_SIN_GWh[df$Fecha >= as.Date(start_at)] <- unlist(unname(escenarios %>% :\n",
      "“número de items para para sustituir no es un múltiplo de la longitud del reemplazo”"
     ]
    },
    {
     "name": "stdout",
     "output_type": "stream",
     "text": [
      "51.1623 segundos 00391.csv \n"
     ]
    },
    {
     "name": "stderr",
     "output_type": "stream",
     "text": [
      "Warning message in df$Demanda_Energia_SIN_GWh[df$Fecha >= as.Date(start_at)] <- unlist(unname(escenarios %>% :\n",
      "“número de items para para sustituir no es un múltiplo de la longitud del reemplazo”"
     ]
    },
    {
     "name": "stdout",
     "output_type": "stream",
     "text": [
      "50.9876 segundos 00392.csv \n"
     ]
    },
    {
     "name": "stderr",
     "output_type": "stream",
     "text": [
      "Warning message in df$Demanda_Energia_SIN_GWh[df$Fecha >= as.Date(start_at)] <- unlist(unname(escenarios %>% :\n",
      "“número de items para para sustituir no es un múltiplo de la longitud del reemplazo”"
     ]
    },
    {
     "name": "stdout",
     "output_type": "stream",
     "text": [
      "51.1785 segundos 00393.csv \n"
     ]
    },
    {
     "name": "stderr",
     "output_type": "stream",
     "text": [
      "Warning message in df$Demanda_Energia_SIN_GWh[df$Fecha >= as.Date(start_at)] <- unlist(unname(escenarios %>% :\n",
      "“número de items para para sustituir no es un múltiplo de la longitud del reemplazo”"
     ]
    },
    {
     "name": "stdout",
     "output_type": "stream",
     "text": [
      "51.1774 segundos 00394.csv \n"
     ]
    },
    {
     "name": "stderr",
     "output_type": "stream",
     "text": [
      "Warning message in df$Demanda_Energia_SIN_GWh[df$Fecha >= as.Date(start_at)] <- unlist(unname(escenarios %>% :\n",
      "“número de items para para sustituir no es un múltiplo de la longitud del reemplazo”"
     ]
    },
    {
     "name": "stdout",
     "output_type": "stream",
     "text": [
      "50.9672 segundos 00395.csv \n"
     ]
    },
    {
     "name": "stderr",
     "output_type": "stream",
     "text": [
      "Warning message in df$Demanda_Energia_SIN_GWh[df$Fecha >= as.Date(start_at)] <- unlist(unname(escenarios %>% :\n",
      "“número de items para para sustituir no es un múltiplo de la longitud del reemplazo”"
     ]
    },
    {
     "name": "stdout",
     "output_type": "stream",
     "text": [
      "50.9285 segundos 00396.csv \n"
     ]
    },
    {
     "name": "stderr",
     "output_type": "stream",
     "text": [
      "Warning message in df$Demanda_Energia_SIN_GWh[df$Fecha >= as.Date(start_at)] <- unlist(unname(escenarios %>% :\n",
      "“número de items para para sustituir no es un múltiplo de la longitud del reemplazo”"
     ]
    },
    {
     "name": "stdout",
     "output_type": "stream",
     "text": [
      "51.2738 segundos 00397.csv \n"
     ]
    },
    {
     "name": "stderr",
     "output_type": "stream",
     "text": [
      "Warning message in df$Demanda_Energia_SIN_GWh[df$Fecha >= as.Date(start_at)] <- unlist(unname(escenarios %>% :\n",
      "“número de items para para sustituir no es un múltiplo de la longitud del reemplazo”"
     ]
    },
    {
     "name": "stdout",
     "output_type": "stream",
     "text": [
      "51.0963 segundos 00398.csv \n"
     ]
    },
    {
     "name": "stderr",
     "output_type": "stream",
     "text": [
      "Warning message in df$Demanda_Energia_SIN_GWh[df$Fecha >= as.Date(start_at)] <- unlist(unname(escenarios %>% :\n",
      "“número de items para para sustituir no es un múltiplo de la longitud del reemplazo”"
     ]
    },
    {
     "name": "stdout",
     "output_type": "stream",
     "text": [
      "50.9784 segundos 00399.csv \n"
     ]
    },
    {
     "name": "stderr",
     "output_type": "stream",
     "text": [
      "Warning message in df$Demanda_Energia_SIN_GWh[df$Fecha >= as.Date(start_at)] <- unlist(unname(escenarios %>% :\n",
      "“número de items para para sustituir no es un múltiplo de la longitud del reemplazo”"
     ]
    },
    {
     "name": "stdout",
     "output_type": "stream",
     "text": [
      "51.5385 segundos 00400.csv \n"
     ]
    },
    {
     "name": "stderr",
     "output_type": "stream",
     "text": [
      "Warning message in df$Demanda_Energia_SIN_GWh[df$Fecha >= as.Date(start_at)] <- unlist(unname(escenarios %>% :\n",
      "“número de items para para sustituir no es un múltiplo de la longitud del reemplazo”"
     ]
    },
    {
     "name": "stdout",
     "output_type": "stream",
     "text": [
      "50.8686 segundos 00401.csv \n"
     ]
    },
    {
     "name": "stderr",
     "output_type": "stream",
     "text": [
      "Warning message in df$Demanda_Energia_SIN_GWh[df$Fecha >= as.Date(start_at)] <- unlist(unname(escenarios %>% :\n",
      "“número de items para para sustituir no es un múltiplo de la longitud del reemplazo”"
     ]
    },
    {
     "name": "stdout",
     "output_type": "stream",
     "text": [
      "50.9944 segundos 00402.csv \n"
     ]
    },
    {
     "name": "stderr",
     "output_type": "stream",
     "text": [
      "Warning message in df$Demanda_Energia_SIN_GWh[df$Fecha >= as.Date(start_at)] <- unlist(unname(escenarios %>% :\n",
      "“número de items para para sustituir no es un múltiplo de la longitud del reemplazo”"
     ]
    },
    {
     "name": "stdout",
     "output_type": "stream",
     "text": [
      "51.0399 segundos 00403.csv \n"
     ]
    },
    {
     "name": "stderr",
     "output_type": "stream",
     "text": [
      "Warning message in df$Demanda_Energia_SIN_GWh[df$Fecha >= as.Date(start_at)] <- unlist(unname(escenarios %>% :\n",
      "“número de items para para sustituir no es un múltiplo de la longitud del reemplazo”"
     ]
    },
    {
     "name": "stdout",
     "output_type": "stream",
     "text": [
      "50.9801 segundos 00404.csv \n"
     ]
    },
    {
     "name": "stderr",
     "output_type": "stream",
     "text": [
      "Warning message in df$Demanda_Energia_SIN_GWh[df$Fecha >= as.Date(start_at)] <- unlist(unname(escenarios %>% :\n",
      "“número de items para para sustituir no es un múltiplo de la longitud del reemplazo”"
     ]
    },
    {
     "name": "stdout",
     "output_type": "stream",
     "text": [
      "50.9824 segundos 00405.csv \n"
     ]
    },
    {
     "name": "stderr",
     "output_type": "stream",
     "text": [
      "Warning message in df$Demanda_Energia_SIN_GWh[df$Fecha >= as.Date(start_at)] <- unlist(unname(escenarios %>% :\n",
      "“número de items para para sustituir no es un múltiplo de la longitud del reemplazo”"
     ]
    },
    {
     "name": "stdout",
     "output_type": "stream",
     "text": [
      "51.0864 segundos 00406.csv \n"
     ]
    },
    {
     "name": "stderr",
     "output_type": "stream",
     "text": [
      "Warning message in df$Demanda_Energia_SIN_GWh[df$Fecha >= as.Date(start_at)] <- unlist(unname(escenarios %>% :\n",
      "“número de items para para sustituir no es un múltiplo de la longitud del reemplazo”"
     ]
    },
    {
     "name": "stdout",
     "output_type": "stream",
     "text": [
      "51.1521 segundos 00407.csv \n"
     ]
    },
    {
     "name": "stderr",
     "output_type": "stream",
     "text": [
      "Warning message in df$Demanda_Energia_SIN_GWh[df$Fecha >= as.Date(start_at)] <- unlist(unname(escenarios %>% :\n",
      "“número de items para para sustituir no es un múltiplo de la longitud del reemplazo”"
     ]
    },
    {
     "name": "stdout",
     "output_type": "stream",
     "text": [
      "50.8231 segundos 00408.csv \n"
     ]
    },
    {
     "name": "stderr",
     "output_type": "stream",
     "text": [
      "Warning message in df$Demanda_Energia_SIN_GWh[df$Fecha >= as.Date(start_at)] <- unlist(unname(escenarios %>% :\n",
      "“número de items para para sustituir no es un múltiplo de la longitud del reemplazo”"
     ]
    },
    {
     "name": "stdout",
     "output_type": "stream",
     "text": [
      "51.692 segundos 00409.csv \n"
     ]
    },
    {
     "name": "stderr",
     "output_type": "stream",
     "text": [
      "Warning message in df$Demanda_Energia_SIN_GWh[df$Fecha >= as.Date(start_at)] <- unlist(unname(escenarios %>% :\n",
      "“número de items para para sustituir no es un múltiplo de la longitud del reemplazo”"
     ]
    },
    {
     "name": "stdout",
     "output_type": "stream",
     "text": [
      "50.9374 segundos 00410.csv \n"
     ]
    },
    {
     "name": "stderr",
     "output_type": "stream",
     "text": [
      "Warning message in df$Demanda_Energia_SIN_GWh[df$Fecha >= as.Date(start_at)] <- unlist(unname(escenarios %>% :\n",
      "“número de items para para sustituir no es un múltiplo de la longitud del reemplazo”"
     ]
    },
    {
     "name": "stdout",
     "output_type": "stream",
     "text": [
      "50.9723 segundos 00411.csv \n"
     ]
    },
    {
     "name": "stderr",
     "output_type": "stream",
     "text": [
      "Warning message in df$Demanda_Energia_SIN_GWh[df$Fecha >= as.Date(start_at)] <- unlist(unname(escenarios %>% :\n",
      "“número de items para para sustituir no es un múltiplo de la longitud del reemplazo”"
     ]
    },
    {
     "name": "stdout",
     "output_type": "stream",
     "text": [
      "51.2927 segundos 00412.csv \n"
     ]
    },
    {
     "name": "stderr",
     "output_type": "stream",
     "text": [
      "Warning message in df$Demanda_Energia_SIN_GWh[df$Fecha >= as.Date(start_at)] <- unlist(unname(escenarios %>% :\n",
      "“número de items para para sustituir no es un múltiplo de la longitud del reemplazo”"
     ]
    },
    {
     "name": "stdout",
     "output_type": "stream",
     "text": [
      "55.4522 segundos 00413.csv \n"
     ]
    },
    {
     "name": "stderr",
     "output_type": "stream",
     "text": [
      "Warning message in df$Demanda_Energia_SIN_GWh[df$Fecha >= as.Date(start_at)] <- unlist(unname(escenarios %>% :\n",
      "“número de items para para sustituir no es un múltiplo de la longitud del reemplazo”"
     ]
    },
    {
     "name": "stdout",
     "output_type": "stream",
     "text": [
      "51.0363 segundos 00414.csv \n"
     ]
    },
    {
     "name": "stderr",
     "output_type": "stream",
     "text": [
      "Warning message in df$Demanda_Energia_SIN_GWh[df$Fecha >= as.Date(start_at)] <- unlist(unname(escenarios %>% :\n",
      "“número de items para para sustituir no es un múltiplo de la longitud del reemplazo”"
     ]
    },
    {
     "name": "stdout",
     "output_type": "stream",
     "text": [
      "50.895 segundos 00415.csv \n"
     ]
    },
    {
     "name": "stderr",
     "output_type": "stream",
     "text": [
      "Warning message in df$Demanda_Energia_SIN_GWh[df$Fecha >= as.Date(start_at)] <- unlist(unname(escenarios %>% :\n",
      "“número de items para para sustituir no es un múltiplo de la longitud del reemplazo”"
     ]
    },
    {
     "name": "stdout",
     "output_type": "stream",
     "text": [
      "50.7913 segundos 00416.csv \n"
     ]
    },
    {
     "name": "stderr",
     "output_type": "stream",
     "text": [
      "Warning message in df$Demanda_Energia_SIN_GWh[df$Fecha >= as.Date(start_at)] <- unlist(unname(escenarios %>% :\n",
      "“número de items para para sustituir no es un múltiplo de la longitud del reemplazo”"
     ]
    },
    {
     "name": "stdout",
     "output_type": "stream",
     "text": [
      "50.9379 segundos 00417.csv \n"
     ]
    },
    {
     "name": "stderr",
     "output_type": "stream",
     "text": [
      "Warning message in df$Demanda_Energia_SIN_GWh[df$Fecha >= as.Date(start_at)] <- unlist(unname(escenarios %>% :\n",
      "“número de items para para sustituir no es un múltiplo de la longitud del reemplazo”"
     ]
    },
    {
     "name": "stdout",
     "output_type": "stream",
     "text": [
      "51.0414 segundos 00418.csv \n"
     ]
    },
    {
     "name": "stderr",
     "output_type": "stream",
     "text": [
      "Warning message in df$Demanda_Energia_SIN_GWh[df$Fecha >= as.Date(start_at)] <- unlist(unname(escenarios %>% :\n",
      "“número de items para para sustituir no es un múltiplo de la longitud del reemplazo”"
     ]
    },
    {
     "name": "stdout",
     "output_type": "stream",
     "text": [
      "52.6149 segundos 00419.csv \n"
     ]
    },
    {
     "name": "stderr",
     "output_type": "stream",
     "text": [
      "Warning message in df$Demanda_Energia_SIN_GWh[df$Fecha >= as.Date(start_at)] <- unlist(unname(escenarios %>% :\n",
      "“número de items para para sustituir no es un múltiplo de la longitud del reemplazo”"
     ]
    },
    {
     "name": "stdout",
     "output_type": "stream",
     "text": [
      "1.0969 segundos 00420.csv \n"
     ]
    },
    {
     "name": "stderr",
     "output_type": "stream",
     "text": [
      "Warning message in df$Demanda_Energia_SIN_GWh[df$Fecha >= as.Date(start_at)] <- unlist(unname(escenarios %>% :\n",
      "“número de items para para sustituir no es un múltiplo de la longitud del reemplazo”"
     ]
    },
    {
     "name": "stdout",
     "output_type": "stream",
     "text": [
      "1.0626 segundos 00421.csv \n"
     ]
    },
    {
     "name": "stderr",
     "output_type": "stream",
     "text": [
      "Warning message in df$Demanda_Energia_SIN_GWh[df$Fecha >= as.Date(start_at)] <- unlist(unname(escenarios %>% :\n",
      "“número de items para para sustituir no es un múltiplo de la longitud del reemplazo”"
     ]
    },
    {
     "name": "stdout",
     "output_type": "stream",
     "text": [
      "1.0252 segundos 00422.csv \n"
     ]
    },
    {
     "name": "stderr",
     "output_type": "stream",
     "text": [
      "Warning message in df$Demanda_Energia_SIN_GWh[df$Fecha >= as.Date(start_at)] <- unlist(unname(escenarios %>% :\n",
      "“número de items para para sustituir no es un múltiplo de la longitud del reemplazo”"
     ]
    },
    {
     "name": "stdout",
     "output_type": "stream",
     "text": [
      "59.318 segundos 00423.csv \n"
     ]
    },
    {
     "name": "stderr",
     "output_type": "stream",
     "text": [
      "Warning message in df$Demanda_Energia_SIN_GWh[df$Fecha >= as.Date(start_at)] <- unlist(unname(escenarios %>% :\n",
      "“número de items para para sustituir no es un múltiplo de la longitud del reemplazo”"
     ]
    },
    {
     "name": "stdout",
     "output_type": "stream",
     "text": [
      "59.8519 segundos 00424.csv \n"
     ]
    },
    {
     "name": "stderr",
     "output_type": "stream",
     "text": [
      "Warning message in df$Demanda_Energia_SIN_GWh[df$Fecha >= as.Date(start_at)] <- unlist(unname(escenarios %>% :\n",
      "“número de items para para sustituir no es un múltiplo de la longitud del reemplazo”"
     ]
    },
    {
     "name": "stdout",
     "output_type": "stream",
     "text": [
      "1.0197 segundos 00425.csv \n"
     ]
    },
    {
     "name": "stderr",
     "output_type": "stream",
     "text": [
      "Warning message in df$Demanda_Energia_SIN_GWh[df$Fecha >= as.Date(start_at)] <- unlist(unname(escenarios %>% :\n",
      "“número de items para para sustituir no es un múltiplo de la longitud del reemplazo”"
     ]
    },
    {
     "name": "stdout",
     "output_type": "stream",
     "text": [
      "56.6886 segundos 00426.csv \n"
     ]
    },
    {
     "name": "stderr",
     "output_type": "stream",
     "text": [
      "Warning message in df$Demanda_Energia_SIN_GWh[df$Fecha >= as.Date(start_at)] <- unlist(unname(escenarios %>% :\n",
      "“número de items para para sustituir no es un múltiplo de la longitud del reemplazo”"
     ]
    },
    {
     "name": "stdout",
     "output_type": "stream",
     "text": [
      "1.0224 segundos 00427.csv \n"
     ]
    },
    {
     "name": "stderr",
     "output_type": "stream",
     "text": [
      "Warning message in df$Demanda_Energia_SIN_GWh[df$Fecha >= as.Date(start_at)] <- unlist(unname(escenarios %>% :\n",
      "“número de items para para sustituir no es un múltiplo de la longitud del reemplazo”"
     ]
    },
    {
     "name": "stdout",
     "output_type": "stream",
     "text": [
      "57.2617 segundos 00428.csv \n"
     ]
    },
    {
     "name": "stderr",
     "output_type": "stream",
     "text": [
      "Warning message in df$Demanda_Energia_SIN_GWh[df$Fecha >= as.Date(start_at)] <- unlist(unname(escenarios %>% :\n",
      "“número de items para para sustituir no es un múltiplo de la longitud del reemplazo”"
     ]
    },
    {
     "name": "stdout",
     "output_type": "stream",
     "text": [
      "1.0108 segundos 00429.csv \n"
     ]
    },
    {
     "name": "stderr",
     "output_type": "stream",
     "text": [
      "Warning message in df$Demanda_Energia_SIN_GWh[df$Fecha >= as.Date(start_at)] <- unlist(unname(escenarios %>% :\n",
      "“número de items para para sustituir no es un múltiplo de la longitud del reemplazo”"
     ]
    },
    {
     "name": "stdout",
     "output_type": "stream",
     "text": [
      "53.7429 segundos 00430.csv \n"
     ]
    },
    {
     "name": "stderr",
     "output_type": "stream",
     "text": [
      "Warning message in df$Demanda_Energia_SIN_GWh[df$Fecha >= as.Date(start_at)] <- unlist(unname(escenarios %>% :\n",
      "“número de items para para sustituir no es un múltiplo de la longitud del reemplazo”"
     ]
    },
    {
     "name": "stdout",
     "output_type": "stream",
     "text": [
      "57.352 segundos 00431.csv \n"
     ]
    },
    {
     "name": "stderr",
     "output_type": "stream",
     "text": [
      "Warning message in df$Demanda_Energia_SIN_GWh[df$Fecha >= as.Date(start_at)] <- unlist(unname(escenarios %>% :\n",
      "“número de items para para sustituir no es un múltiplo de la longitud del reemplazo”"
     ]
    },
    {
     "name": "stdout",
     "output_type": "stream",
     "text": [
      "1.0914 segundos 00432.csv \n"
     ]
    },
    {
     "name": "stderr",
     "output_type": "stream",
     "text": [
      "Warning message in df$Demanda_Energia_SIN_GWh[df$Fecha >= as.Date(start_at)] <- unlist(unname(escenarios %>% :\n",
      "“número de items para para sustituir no es un múltiplo de la longitud del reemplazo”"
     ]
    },
    {
     "name": "stdout",
     "output_type": "stream",
     "text": [
      "1.0361 segundos 00433.csv \n"
     ]
    },
    {
     "name": "stderr",
     "output_type": "stream",
     "text": [
      "Warning message in df$Demanda_Energia_SIN_GWh[df$Fecha >= as.Date(start_at)] <- unlist(unname(escenarios %>% :\n",
      "“número de items para para sustituir no es un múltiplo de la longitud del reemplazo”"
     ]
    },
    {
     "name": "stdout",
     "output_type": "stream",
     "text": [
      "57.6163 segundos 00434.csv \n"
     ]
    },
    {
     "name": "stderr",
     "output_type": "stream",
     "text": [
      "Warning message in df$Demanda_Energia_SIN_GWh[df$Fecha >= as.Date(start_at)] <- unlist(unname(escenarios %>% :\n",
      "“número de items para para sustituir no es un múltiplo de la longitud del reemplazo”"
     ]
    },
    {
     "name": "stdout",
     "output_type": "stream",
     "text": [
      "1.0105 segundos 00435.csv \n"
     ]
    },
    {
     "name": "stderr",
     "output_type": "stream",
     "text": [
      "Warning message in df$Demanda_Energia_SIN_GWh[df$Fecha >= as.Date(start_at)] <- unlist(unname(escenarios %>% :\n",
      "“número de items para para sustituir no es un múltiplo de la longitud del reemplazo”"
     ]
    },
    {
     "name": "stdout",
     "output_type": "stream",
     "text": [
      "1.0898 segundos 00436.csv \n"
     ]
    },
    {
     "name": "stderr",
     "output_type": "stream",
     "text": [
      "Warning message in df$Demanda_Energia_SIN_GWh[df$Fecha >= as.Date(start_at)] <- unlist(unname(escenarios %>% :\n",
      "“número de items para para sustituir no es un múltiplo de la longitud del reemplazo”"
     ]
    },
    {
     "name": "stdout",
     "output_type": "stream",
     "text": [
      "58.9968 segundos 00437.csv \n"
     ]
    },
    {
     "name": "stderr",
     "output_type": "stream",
     "text": [
      "Warning message in df$Demanda_Energia_SIN_GWh[df$Fecha >= as.Date(start_at)] <- unlist(unname(escenarios %>% :\n",
      "“número de items para para sustituir no es un múltiplo de la longitud del reemplazo”"
     ]
    },
    {
     "name": "stdout",
     "output_type": "stream",
     "text": [
      "58.2425 segundos 00438.csv \n"
     ]
    },
    {
     "name": "stderr",
     "output_type": "stream",
     "text": [
      "Warning message in df$Demanda_Energia_SIN_GWh[df$Fecha >= as.Date(start_at)] <- unlist(unname(escenarios %>% :\n",
      "“número de items para para sustituir no es un múltiplo de la longitud del reemplazo”"
     ]
    },
    {
     "name": "stdout",
     "output_type": "stream",
     "text": [
      "1.1572 segundos 00439.csv \n"
     ]
    },
    {
     "name": "stderr",
     "output_type": "stream",
     "text": [
      "Warning message in df$Demanda_Energia_SIN_GWh[df$Fecha >= as.Date(start_at)] <- unlist(unname(escenarios %>% :\n",
      "“número de items para para sustituir no es un múltiplo de la longitud del reemplazo”"
     ]
    },
    {
     "name": "stdout",
     "output_type": "stream",
     "text": [
      "58.0087 segundos 00440.csv \n"
     ]
    },
    {
     "name": "stderr",
     "output_type": "stream",
     "text": [
      "Warning message in df$Demanda_Energia_SIN_GWh[df$Fecha >= as.Date(start_at)] <- unlist(unname(escenarios %>% :\n",
      "“número de items para para sustituir no es un múltiplo de la longitud del reemplazo”"
     ]
    },
    {
     "name": "stdout",
     "output_type": "stream",
     "text": [
      "51.0175 segundos 00441.csv \n"
     ]
    },
    {
     "name": "stderr",
     "output_type": "stream",
     "text": [
      "Warning message in df$Demanda_Energia_SIN_GWh[df$Fecha >= as.Date(start_at)] <- unlist(unname(escenarios %>% :\n",
      "“número de items para para sustituir no es un múltiplo de la longitud del reemplazo”"
     ]
    },
    {
     "name": "stdout",
     "output_type": "stream",
     "text": [
      "50.6429 segundos 00442.csv \n"
     ]
    },
    {
     "name": "stderr",
     "output_type": "stream",
     "text": [
      "Warning message in df$Demanda_Energia_SIN_GWh[df$Fecha >= as.Date(start_at)] <- unlist(unname(escenarios %>% :\n",
      "“número de items para para sustituir no es un múltiplo de la longitud del reemplazo”"
     ]
    },
    {
     "name": "stdout",
     "output_type": "stream",
     "text": [
      "51.1713 segundos 00443.csv \n"
     ]
    },
    {
     "name": "stderr",
     "output_type": "stream",
     "text": [
      "Warning message in df$Demanda_Energia_SIN_GWh[df$Fecha >= as.Date(start_at)] <- unlist(unname(escenarios %>% :\n",
      "“número de items para para sustituir no es un múltiplo de la longitud del reemplazo”"
     ]
    },
    {
     "name": "stdout",
     "output_type": "stream",
     "text": [
      "50.7318 segundos 00444.csv \n"
     ]
    },
    {
     "name": "stderr",
     "output_type": "stream",
     "text": [
      "Warning message in df$Demanda_Energia_SIN_GWh[df$Fecha >= as.Date(start_at)] <- unlist(unname(escenarios %>% :\n",
      "“número de items para para sustituir no es un múltiplo de la longitud del reemplazo”"
     ]
    },
    {
     "name": "stdout",
     "output_type": "stream",
     "text": [
      "51.0984 segundos 00445.csv \n"
     ]
    },
    {
     "name": "stderr",
     "output_type": "stream",
     "text": [
      "Warning message in df$Demanda_Energia_SIN_GWh[df$Fecha >= as.Date(start_at)] <- unlist(unname(escenarios %>% :\n",
      "“número de items para para sustituir no es un múltiplo de la longitud del reemplazo”"
     ]
    },
    {
     "name": "stdout",
     "output_type": "stream",
     "text": [
      "50.94 segundos 00446.csv \n"
     ]
    },
    {
     "name": "stderr",
     "output_type": "stream",
     "text": [
      "Warning message in df$Demanda_Energia_SIN_GWh[df$Fecha >= as.Date(start_at)] <- unlist(unname(escenarios %>% :\n",
      "“número de items para para sustituir no es un múltiplo de la longitud del reemplazo”"
     ]
    },
    {
     "name": "stdout",
     "output_type": "stream",
     "text": [
      "50.6536 segundos 00447.csv \n"
     ]
    },
    {
     "name": "stderr",
     "output_type": "stream",
     "text": [
      "Warning message in df$Demanda_Energia_SIN_GWh[df$Fecha >= as.Date(start_at)] <- unlist(unname(escenarios %>% :\n",
      "“número de items para para sustituir no es un múltiplo de la longitud del reemplazo”"
     ]
    },
    {
     "name": "stdout",
     "output_type": "stream",
     "text": [
      "52.5674 segundos 00448.csv \n"
     ]
    },
    {
     "name": "stderr",
     "output_type": "stream",
     "text": [
      "Warning message in df$Demanda_Energia_SIN_GWh[df$Fecha >= as.Date(start_at)] <- unlist(unname(escenarios %>% :\n",
      "“número de items para para sustituir no es un múltiplo de la longitud del reemplazo”"
     ]
    },
    {
     "name": "stdout",
     "output_type": "stream",
     "text": [
      "54.3883 segundos 00449.csv \n"
     ]
    },
    {
     "name": "stderr",
     "output_type": "stream",
     "text": [
      "Warning message in df$Demanda_Energia_SIN_GWh[df$Fecha >= as.Date(start_at)] <- unlist(unname(escenarios %>% :\n",
      "“número de items para para sustituir no es un múltiplo de la longitud del reemplazo”"
     ]
    },
    {
     "name": "stdout",
     "output_type": "stream",
     "text": [
      "50.9177 segundos 00450.csv \n"
     ]
    },
    {
     "name": "stderr",
     "output_type": "stream",
     "text": [
      "Warning message in df$Demanda_Energia_SIN_GWh[df$Fecha >= as.Date(start_at)] <- unlist(unname(escenarios %>% :\n",
      "“número de items para para sustituir no es un múltiplo de la longitud del reemplazo”"
     ]
    },
    {
     "name": "stdout",
     "output_type": "stream",
     "text": [
      "50.7547 segundos 00451.csv \n"
     ]
    },
    {
     "name": "stderr",
     "output_type": "stream",
     "text": [
      "Warning message in df$Demanda_Energia_SIN_GWh[df$Fecha >= as.Date(start_at)] <- unlist(unname(escenarios %>% :\n",
      "“número de items para para sustituir no es un múltiplo de la longitud del reemplazo”"
     ]
    },
    {
     "name": "stdout",
     "output_type": "stream",
     "text": [
      "50.957 segundos 00452.csv \n"
     ]
    },
    {
     "name": "stderr",
     "output_type": "stream",
     "text": [
      "Warning message in df$Demanda_Energia_SIN_GWh[df$Fecha >= as.Date(start_at)] <- unlist(unname(escenarios %>% :\n",
      "“número de items para para sustituir no es un múltiplo de la longitud del reemplazo”"
     ]
    },
    {
     "name": "stdout",
     "output_type": "stream",
     "text": [
      "50.9224 segundos 00453.csv \n"
     ]
    },
    {
     "name": "stderr",
     "output_type": "stream",
     "text": [
      "Warning message in df$Demanda_Energia_SIN_GWh[df$Fecha >= as.Date(start_at)] <- unlist(unname(escenarios %>% :\n",
      "“número de items para para sustituir no es un múltiplo de la longitud del reemplazo”"
     ]
    },
    {
     "name": "stdout",
     "output_type": "stream",
     "text": [
      "50.7604 segundos 00454.csv \n"
     ]
    },
    {
     "name": "stderr",
     "output_type": "stream",
     "text": [
      "Warning message in df$Demanda_Energia_SIN_GWh[df$Fecha >= as.Date(start_at)] <- unlist(unname(escenarios %>% :\n",
      "“número de items para para sustituir no es un múltiplo de la longitud del reemplazo”"
     ]
    },
    {
     "name": "stdout",
     "output_type": "stream",
     "text": [
      "51.3515 segundos 00455.csv \n"
     ]
    },
    {
     "name": "stderr",
     "output_type": "stream",
     "text": [
      "Warning message in df$Demanda_Energia_SIN_GWh[df$Fecha >= as.Date(start_at)] <- unlist(unname(escenarios %>% :\n",
      "“número de items para para sustituir no es un múltiplo de la longitud del reemplazo”"
     ]
    },
    {
     "name": "stdout",
     "output_type": "stream",
     "text": [
      "50.8979 segundos 00456.csv \n"
     ]
    },
    {
     "name": "stderr",
     "output_type": "stream",
     "text": [
      "Warning message in df$Demanda_Energia_SIN_GWh[df$Fecha >= as.Date(start_at)] <- unlist(unname(escenarios %>% :\n",
      "“número de items para para sustituir no es un múltiplo de la longitud del reemplazo”"
     ]
    },
    {
     "name": "stdout",
     "output_type": "stream",
     "text": [
      "51.1533 segundos 00457.csv \n"
     ]
    },
    {
     "name": "stderr",
     "output_type": "stream",
     "text": [
      "Warning message in df$Demanda_Energia_SIN_GWh[df$Fecha >= as.Date(start_at)] <- unlist(unname(escenarios %>% :\n",
      "“número de items para para sustituir no es un múltiplo de la longitud del reemplazo”"
     ]
    },
    {
     "name": "stdout",
     "output_type": "stream",
     "text": [
      "50.7147 segundos 00458.csv \n"
     ]
    },
    {
     "name": "stderr",
     "output_type": "stream",
     "text": [
      "Warning message in df$Demanda_Energia_SIN_GWh[df$Fecha >= as.Date(start_at)] <- unlist(unname(escenarios %>% :\n",
      "“número de items para para sustituir no es un múltiplo de la longitud del reemplazo”"
     ]
    },
    {
     "name": "stdout",
     "output_type": "stream",
     "text": [
      "50.8069 segundos 00459.csv \n"
     ]
    },
    {
     "name": "stderr",
     "output_type": "stream",
     "text": [
      "Warning message in df$Demanda_Energia_SIN_GWh[df$Fecha >= as.Date(start_at)] <- unlist(unname(escenarios %>% :\n",
      "“número de items para para sustituir no es un múltiplo de la longitud del reemplazo”"
     ]
    },
    {
     "name": "stdout",
     "output_type": "stream",
     "text": [
      "51.0841 segundos 00460.csv \n"
     ]
    },
    {
     "name": "stderr",
     "output_type": "stream",
     "text": [
      "Warning message in df$Demanda_Energia_SIN_GWh[df$Fecha >= as.Date(start_at)] <- unlist(unname(escenarios %>% :\n",
      "“número de items para para sustituir no es un múltiplo de la longitud del reemplazo”"
     ]
    },
    {
     "name": "stdout",
     "output_type": "stream",
     "text": [
      "50.909 segundos 00461.csv \n"
     ]
    },
    {
     "name": "stderr",
     "output_type": "stream",
     "text": [
      "Warning message in df$Demanda_Energia_SIN_GWh[df$Fecha >= as.Date(start_at)] <- unlist(unname(escenarios %>% :\n",
      "“número de items para para sustituir no es un múltiplo de la longitud del reemplazo”"
     ]
    },
    {
     "name": "stdout",
     "output_type": "stream",
     "text": [
      "50.9557 segundos 00462.csv \n"
     ]
    },
    {
     "name": "stderr",
     "output_type": "stream",
     "text": [
      "Warning message in df$Demanda_Energia_SIN_GWh[df$Fecha >= as.Date(start_at)] <- unlist(unname(escenarios %>% :\n",
      "“número de items para para sustituir no es un múltiplo de la longitud del reemplazo”"
     ]
    },
    {
     "name": "stdout",
     "output_type": "stream",
     "text": [
      "50.7776 segundos 00463.csv \n"
     ]
    },
    {
     "name": "stderr",
     "output_type": "stream",
     "text": [
      "Warning message in df$Demanda_Energia_SIN_GWh[df$Fecha >= as.Date(start_at)] <- unlist(unname(escenarios %>% :\n",
      "“número de items para para sustituir no es un múltiplo de la longitud del reemplazo”"
     ]
    },
    {
     "name": "stdout",
     "output_type": "stream",
     "text": [
      "51.9591 segundos 00464.csv \n"
     ]
    },
    {
     "name": "stderr",
     "output_type": "stream",
     "text": [
      "Warning message in df$Demanda_Energia_SIN_GWh[df$Fecha >= as.Date(start_at)] <- unlist(unname(escenarios %>% :\n",
      "“número de items para para sustituir no es un múltiplo de la longitud del reemplazo”"
     ]
    },
    {
     "name": "stdout",
     "output_type": "stream",
     "text": [
      "50.7474 segundos 00465.csv \n"
     ]
    },
    {
     "name": "stderr",
     "output_type": "stream",
     "text": [
      "Warning message in df$Demanda_Energia_SIN_GWh[df$Fecha >= as.Date(start_at)] <- unlist(unname(escenarios %>% :\n",
      "“número de items para para sustituir no es un múltiplo de la longitud del reemplazo”"
     ]
    },
    {
     "name": "stdout",
     "output_type": "stream",
     "text": [
      "51.0896 segundos 00466.csv \n"
     ]
    },
    {
     "name": "stderr",
     "output_type": "stream",
     "text": [
      "Warning message in df$Demanda_Energia_SIN_GWh[df$Fecha >= as.Date(start_at)] <- unlist(unname(escenarios %>% :\n",
      "“número de items para para sustituir no es un múltiplo de la longitud del reemplazo”"
     ]
    },
    {
     "name": "stdout",
     "output_type": "stream",
     "text": [
      "50.8997 segundos 00467.csv \n"
     ]
    },
    {
     "name": "stderr",
     "output_type": "stream",
     "text": [
      "Warning message in df$Demanda_Energia_SIN_GWh[df$Fecha >= as.Date(start_at)] <- unlist(unname(escenarios %>% :\n",
      "“número de items para para sustituir no es un múltiplo de la longitud del reemplazo”"
     ]
    },
    {
     "name": "stdout",
     "output_type": "stream",
     "text": [
      "50.594 segundos 00468.csv \n"
     ]
    },
    {
     "name": "stderr",
     "output_type": "stream",
     "text": [
      "Warning message in df$Demanda_Energia_SIN_GWh[df$Fecha >= as.Date(start_at)] <- unlist(unname(escenarios %>% :\n",
      "“número de items para para sustituir no es un múltiplo de la longitud del reemplazo”"
     ]
    },
    {
     "name": "stdout",
     "output_type": "stream",
     "text": [
      "50.8339 segundos 00469.csv \n"
     ]
    },
    {
     "name": "stderr",
     "output_type": "stream",
     "text": [
      "Warning message in df$Demanda_Energia_SIN_GWh[df$Fecha >= as.Date(start_at)] <- unlist(unname(escenarios %>% :\n",
      "“número de items para para sustituir no es un múltiplo de la longitud del reemplazo”"
     ]
    },
    {
     "name": "stdout",
     "output_type": "stream",
     "text": [
      "50.861 segundos 00470.csv \n"
     ]
    },
    {
     "name": "stderr",
     "output_type": "stream",
     "text": [
      "Warning message in df$Demanda_Energia_SIN_GWh[df$Fecha >= as.Date(start_at)] <- unlist(unname(escenarios %>% :\n",
      "“número de items para para sustituir no es un múltiplo de la longitud del reemplazo”"
     ]
    },
    {
     "name": "stdout",
     "output_type": "stream",
     "text": [
      "50.9132 segundos 00471.csv \n"
     ]
    },
    {
     "name": "stderr",
     "output_type": "stream",
     "text": [
      "Warning message in df$Demanda_Energia_SIN_GWh[df$Fecha >= as.Date(start_at)] <- unlist(unname(escenarios %>% :\n",
      "“número de items para para sustituir no es un múltiplo de la longitud del reemplazo”"
     ]
    },
    {
     "name": "stdout",
     "output_type": "stream",
     "text": [
      "50.8712 segundos 00472.csv \n"
     ]
    },
    {
     "name": "stderr",
     "output_type": "stream",
     "text": [
      "Warning message in df$Demanda_Energia_SIN_GWh[df$Fecha >= as.Date(start_at)] <- unlist(unname(escenarios %>% :\n",
      "“número de items para para sustituir no es un múltiplo de la longitud del reemplazo”"
     ]
    },
    {
     "name": "stdout",
     "output_type": "stream",
     "text": [
      "50.829 segundos 00473.csv \n"
     ]
    },
    {
     "name": "stderr",
     "output_type": "stream",
     "text": [
      "Warning message in df$Demanda_Energia_SIN_GWh[df$Fecha >= as.Date(start_at)] <- unlist(unname(escenarios %>% :\n",
      "“número de items para para sustituir no es un múltiplo de la longitud del reemplazo”"
     ]
    },
    {
     "name": "stdout",
     "output_type": "stream",
     "text": [
      "50.9848 segundos 00474.csv \n"
     ]
    },
    {
     "name": "stderr",
     "output_type": "stream",
     "text": [
      "Warning message in df$Demanda_Energia_SIN_GWh[df$Fecha >= as.Date(start_at)] <- unlist(unname(escenarios %>% :\n",
      "“número de items para para sustituir no es un múltiplo de la longitud del reemplazo”"
     ]
    },
    {
     "name": "stdout",
     "output_type": "stream",
     "text": [
      "50.8581 segundos 00475.csv \n"
     ]
    },
    {
     "name": "stderr",
     "output_type": "stream",
     "text": [
      "Warning message in df$Demanda_Energia_SIN_GWh[df$Fecha >= as.Date(start_at)] <- unlist(unname(escenarios %>% :\n",
      "“número de items para para sustituir no es un múltiplo de la longitud del reemplazo”"
     ]
    },
    {
     "name": "stdout",
     "output_type": "stream",
     "text": [
      "50.8617 segundos 00476.csv \n"
     ]
    },
    {
     "name": "stderr",
     "output_type": "stream",
     "text": [
      "Warning message in df$Demanda_Energia_SIN_GWh[df$Fecha >= as.Date(start_at)] <- unlist(unname(escenarios %>% :\n",
      "“número de items para para sustituir no es un múltiplo de la longitud del reemplazo”"
     ]
    },
    {
     "name": "stdout",
     "output_type": "stream",
     "text": [
      "50.8191 segundos 00477.csv \n"
     ]
    },
    {
     "name": "stderr",
     "output_type": "stream",
     "text": [
      "Warning message in df$Demanda_Energia_SIN_GWh[df$Fecha >= as.Date(start_at)] <- unlist(unname(escenarios %>% :\n",
      "“número de items para para sustituir no es un múltiplo de la longitud del reemplazo”"
     ]
    },
    {
     "name": "stdout",
     "output_type": "stream",
     "text": [
      "51.3383 segundos 00478.csv \n"
     ]
    },
    {
     "name": "stderr",
     "output_type": "stream",
     "text": [
      "Warning message in df$Demanda_Energia_SIN_GWh[df$Fecha >= as.Date(start_at)] <- unlist(unname(escenarios %>% :\n",
      "“número de items para para sustituir no es un múltiplo de la longitud del reemplazo”"
     ]
    },
    {
     "name": "stdout",
     "output_type": "stream",
     "text": [
      "50.7128 segundos 00479.csv \n"
     ]
    },
    {
     "name": "stderr",
     "output_type": "stream",
     "text": [
      "Warning message in df$Demanda_Energia_SIN_GWh[df$Fecha >= as.Date(start_at)] <- unlist(unname(escenarios %>% :\n",
      "“número de items para para sustituir no es un múltiplo de la longitud del reemplazo”"
     ]
    },
    {
     "name": "stdout",
     "output_type": "stream",
     "text": [
      "51.969 segundos 00480.csv \n"
     ]
    },
    {
     "name": "stderr",
     "output_type": "stream",
     "text": [
      "Warning message in df$Demanda_Energia_SIN_GWh[df$Fecha >= as.Date(start_at)] <- unlist(unname(escenarios %>% :\n",
      "“número de items para para sustituir no es un múltiplo de la longitud del reemplazo”"
     ]
    },
    {
     "name": "stdout",
     "output_type": "stream",
     "text": [
      "51.0263 segundos 00481.csv \n"
     ]
    },
    {
     "name": "stderr",
     "output_type": "stream",
     "text": [
      "Warning message in df$Demanda_Energia_SIN_GWh[df$Fecha >= as.Date(start_at)] <- unlist(unname(escenarios %>% :\n",
      "“número de items para para sustituir no es un múltiplo de la longitud del reemplazo”"
     ]
    },
    {
     "name": "stdout",
     "output_type": "stream",
     "text": [
      "50.9768 segundos 00482.csv \n"
     ]
    },
    {
     "name": "stderr",
     "output_type": "stream",
     "text": [
      "Warning message in df$Demanda_Energia_SIN_GWh[df$Fecha >= as.Date(start_at)] <- unlist(unname(escenarios %>% :\n",
      "“número de items para para sustituir no es un múltiplo de la longitud del reemplazo”"
     ]
    },
    {
     "name": "stdout",
     "output_type": "stream",
     "text": [
      "50.8921 segundos 00483.csv \n"
     ]
    },
    {
     "name": "stderr",
     "output_type": "stream",
     "text": [
      "Warning message in df$Demanda_Energia_SIN_GWh[df$Fecha >= as.Date(start_at)] <- unlist(unname(escenarios %>% :\n",
      "“número de items para para sustituir no es un múltiplo de la longitud del reemplazo”"
     ]
    },
    {
     "name": "stdout",
     "output_type": "stream",
     "text": [
      "51.0944 segundos 00484.csv \n"
     ]
    },
    {
     "name": "stderr",
     "output_type": "stream",
     "text": [
      "Warning message in df$Demanda_Energia_SIN_GWh[df$Fecha >= as.Date(start_at)] <- unlist(unname(escenarios %>% :\n",
      "“número de items para para sustituir no es un múltiplo de la longitud del reemplazo”"
     ]
    },
    {
     "name": "stdout",
     "output_type": "stream",
     "text": [
      "50.92 segundos 00485.csv \n"
     ]
    },
    {
     "name": "stderr",
     "output_type": "stream",
     "text": [
      "Warning message in df$Demanda_Energia_SIN_GWh[df$Fecha >= as.Date(start_at)] <- unlist(unname(escenarios %>% :\n",
      "“número de items para para sustituir no es un múltiplo de la longitud del reemplazo”"
     ]
    },
    {
     "name": "stdout",
     "output_type": "stream",
     "text": [
      "50.9593 segundos 00486.csv \n"
     ]
    },
    {
     "name": "stderr",
     "output_type": "stream",
     "text": [
      "Warning message in df$Demanda_Energia_SIN_GWh[df$Fecha >= as.Date(start_at)] <- unlist(unname(escenarios %>% :\n",
      "“número de items para para sustituir no es un múltiplo de la longitud del reemplazo”"
     ]
    },
    {
     "name": "stdout",
     "output_type": "stream",
     "text": [
      "51.1235 segundos 00487.csv \n"
     ]
    },
    {
     "name": "stderr",
     "output_type": "stream",
     "text": [
      "Warning message in df$Demanda_Energia_SIN_GWh[df$Fecha >= as.Date(start_at)] <- unlist(unname(escenarios %>% :\n",
      "“número de items para para sustituir no es un múltiplo de la longitud del reemplazo”"
     ]
    },
    {
     "name": "stdout",
     "output_type": "stream",
     "text": [
      "51.7927 segundos 00488.csv \n"
     ]
    },
    {
     "name": "stderr",
     "output_type": "stream",
     "text": [
      "Warning message in df$Demanda_Energia_SIN_GWh[df$Fecha >= as.Date(start_at)] <- unlist(unname(escenarios %>% :\n",
      "“número de items para para sustituir no es un múltiplo de la longitud del reemplazo”"
     ]
    },
    {
     "name": "stdout",
     "output_type": "stream",
     "text": [
      "50.8469 segundos 00489.csv \n"
     ]
    },
    {
     "name": "stderr",
     "output_type": "stream",
     "text": [
      "Warning message in df$Demanda_Energia_SIN_GWh[df$Fecha >= as.Date(start_at)] <- unlist(unname(escenarios %>% :\n",
      "“número de items para para sustituir no es un múltiplo de la longitud del reemplazo”"
     ]
    },
    {
     "name": "stdout",
     "output_type": "stream",
     "text": [
      "51.2423 segundos 00490.csv \n"
     ]
    },
    {
     "name": "stderr",
     "output_type": "stream",
     "text": [
      "Warning message in df$Demanda_Energia_SIN_GWh[df$Fecha >= as.Date(start_at)] <- unlist(unname(escenarios %>% :\n",
      "“número de items para para sustituir no es un múltiplo de la longitud del reemplazo”"
     ]
    },
    {
     "name": "stdout",
     "output_type": "stream",
     "text": [
      "51.1772 segundos 00491.csv \n"
     ]
    },
    {
     "name": "stderr",
     "output_type": "stream",
     "text": [
      "Warning message in df$Demanda_Energia_SIN_GWh[df$Fecha >= as.Date(start_at)] <- unlist(unname(escenarios %>% :\n",
      "“número de items para para sustituir no es un múltiplo de la longitud del reemplazo”"
     ]
    },
    {
     "name": "stdout",
     "output_type": "stream",
     "text": [
      "50.8665 segundos 00492.csv \n"
     ]
    },
    {
     "name": "stderr",
     "output_type": "stream",
     "text": [
      "Warning message in df$Demanda_Energia_SIN_GWh[df$Fecha >= as.Date(start_at)] <- unlist(unname(escenarios %>% :\n",
      "“número de items para para sustituir no es un múltiplo de la longitud del reemplazo”"
     ]
    },
    {
     "name": "stdout",
     "output_type": "stream",
     "text": [
      "51.0936 segundos 00493.csv \n"
     ]
    },
    {
     "name": "stderr",
     "output_type": "stream",
     "text": [
      "Warning message in df$Demanda_Energia_SIN_GWh[df$Fecha >= as.Date(start_at)] <- unlist(unname(escenarios %>% :\n",
      "“número de items para para sustituir no es un múltiplo de la longitud del reemplazo”"
     ]
    },
    {
     "name": "stdout",
     "output_type": "stream",
     "text": [
      "50.7709 segundos 00494.csv \n"
     ]
    },
    {
     "name": "stderr",
     "output_type": "stream",
     "text": [
      "Warning message in df$Demanda_Energia_SIN_GWh[df$Fecha >= as.Date(start_at)] <- unlist(unname(escenarios %>% :\n",
      "“número de items para para sustituir no es un múltiplo de la longitud del reemplazo”"
     ]
    },
    {
     "name": "stdout",
     "output_type": "stream",
     "text": [
      "51.0166 segundos 00495.csv \n"
     ]
    },
    {
     "name": "stderr",
     "output_type": "stream",
     "text": [
      "Warning message in df$Demanda_Energia_SIN_GWh[df$Fecha >= as.Date(start_at)] <- unlist(unname(escenarios %>% :\n",
      "“número de items para para sustituir no es un múltiplo de la longitud del reemplazo”"
     ]
    },
    {
     "name": "stdout",
     "output_type": "stream",
     "text": [
      "51.0908 segundos 00496.csv \n"
     ]
    },
    {
     "name": "stderr",
     "output_type": "stream",
     "text": [
      "Warning message in df$Demanda_Energia_SIN_GWh[df$Fecha >= as.Date(start_at)] <- unlist(unname(escenarios %>% :\n",
      "“número de items para para sustituir no es un múltiplo de la longitud del reemplazo”"
     ]
    },
    {
     "name": "stdout",
     "output_type": "stream",
     "text": [
      "50.9864 segundos 00497.csv \n"
     ]
    },
    {
     "name": "stderr",
     "output_type": "stream",
     "text": [
      "Warning message in df$Demanda_Energia_SIN_GWh[df$Fecha >= as.Date(start_at)] <- unlist(unname(escenarios %>% :\n",
      "“número de items para para sustituir no es un múltiplo de la longitud del reemplazo”"
     ]
    },
    {
     "name": "stdout",
     "output_type": "stream",
     "text": [
      "50.8332 segundos 00498.csv \n"
     ]
    },
    {
     "name": "stderr",
     "output_type": "stream",
     "text": [
      "Warning message in df$Demanda_Energia_SIN_GWh[df$Fecha >= as.Date(start_at)] <- unlist(unname(escenarios %>% :\n",
      "“número de items para para sustituir no es un múltiplo de la longitud del reemplazo”"
     ]
    },
    {
     "name": "stdout",
     "output_type": "stream",
     "text": [
      "50.8407 segundos 00499.csv \n"
     ]
    },
    {
     "name": "stderr",
     "output_type": "stream",
     "text": [
      "Warning message in df$Demanda_Energia_SIN_GWh[df$Fecha >= as.Date(start_at)] <- unlist(unname(escenarios %>% :\n",
      "“número de items para para sustituir no es un múltiplo de la longitud del reemplazo”"
     ]
    },
    {
     "name": "stdout",
     "output_type": "stream",
     "text": [
      "51.2088 segundos 00500.csv \n",
      "500 archivos generados en la ruta ./Resultados/"
     ]
    }
   ],
   "source": [
    "generar_archivos(df,start_at = '2018-01-01', \n",
    "                                             rezagos_precios =24,\n",
    "                                             rezagos_oni = 12, \n",
    "                                             rezagos_aportes = 24,\n",
    "                                             rezagos_reserva = 24,\n",
    "                                             rezagos_demanda = 24,\n",
    "                                             rezagos_dem_cen = 24,\n",
    "                                             rezagos_termica_hidrica=24,\n",
    "                                             tipo_esc='Medio',\n",
    "                                             n_iter = 500,\n",
    "                                             folder_location = './Resultados/')"
   ]
  },
  {
   "cell_type": "markdown",
   "metadata": {},
   "source": [
    "# Tareas"
   ]
  },
  {
   "cell_type": "markdown",
   "metadata": {},
   "source": [
    "1. Descargar repositorio y correr en maquina de adriana\n",
    "2. Actualizar informacion desde junio hasta lo mas actual\n",
    "3. Correr modelos con escenario bajo, medio y alto"
   ]
  },
  {
   "cell_type": "code",
   "execution_count": null,
   "metadata": {},
   "outputs": [],
   "source": []
  }
 ],
 "metadata": {
  "kernelspec": {
   "display_name": "R",
   "language": "R",
   "name": "ir"
  },
  "language_info": {
   "codemirror_mode": "r",
   "file_extension": ".r",
   "mimetype": "text/x-r-source",
   "name": "R",
   "pygments_lexer": "r",
   "version": "3.5.1"
  }
 },
 "nbformat": 4,
 "nbformat_minor": 2
}
