{
 "cells": [
  {
   "cell_type": "code",
   "execution_count": 103,
   "metadata": {},
   "outputs": [],
   "source": [
    "library(tidyverse)\n",
    "library(lubridate)"
   ]
  },
  {
   "cell_type": "code",
   "execution_count": 114,
   "metadata": {},
   "outputs": [],
   "source": [
    "df<-read_csv('df.csv',col_names = TRUE,cols(\n",
    "  Ano = col_double(),\n",
    "  Mes = col_double(),\n",
    "  Ano_Mes = col_character(),\n",
    "  Fecha = col_date(format = \"\"),\n",
    "  Precios_Mensuales = col_double(),\n",
    "  Aportes_Energia_GWh = col_double(),\n",
    "  Volumen_Util_Diario_Energia_GWh = col_double(),\n",
    "  Demanda_Energia_SIN_GWh = col_double(),\n",
    "  ONI = col_double(),\n",
    "  CEN_Total = col_double(),\n",
    "  CEN_Hidro = col_double(),\n",
    "  CEN_Termica = col_double()\n",
    "))"
   ]
  },
  {
   "cell_type": "code",
   "execution_count": 115,
   "metadata": {},
   "outputs": [
    {
     "name": "stdout",
     "output_type": "stream",
     "text": [
      "Classes ‘spec_tbl_df’, ‘tbl_df’, ‘tbl’ and 'data.frame':\t257 obs. of  12 variables:\n",
      " $ Ano                            : num  2000 2000 2000 2000 2000 2000 2000 2000 2000 2000 ...\n",
      " $ Mes                            : num  1 2 3 4 5 6 7 8 9 10 ...\n",
      " $ Ano_Mes                        : chr  \"2000-01\" \"2000-02\" \"2000-03\" \"2000-04\" ...\n",
      " $ Fecha                          : Date, format: \"2000-01-01\" \"2000-02-01\" ...\n",
      " $ Precios_Mensuales              : num  36.8 40.3 37.6 44.3 37.3 ...\n",
      " $ Aportes_Energia_GWh            : num  1901 1994 2253 2430 4818 ...\n",
      " $ Volumen_Util_Diario_Energia_GWh: num  10116 9705 9223 8946 10131 ...\n",
      " $ Demanda_Energia_SIN_GWh        : num  3354 3278 3495 3298 3502 ...\n",
      " $ ONI                            : num  -1.7 -1.4 -1.1 -0.8 -0.7 -0.6 -0.6 -0.5 -0.5 -0.6 ...\n",
      " $ CEN_Total                      : num  11.9 11.9 12 12.1 12.3 ...\n",
      " $ CEN_Hidro                      : num  7.97 7.97 8.06 8.14 8.23 ...\n",
      " $ CEN_Termica                    : num  3.9 3.9 3.9 3.9 4.05 ...\n",
      " - attr(*, \"spec\")=\n",
      "  .. cols(\n",
      "  ..   Ano = col_double(),\n",
      "  ..   Mes = col_double(),\n",
      "  ..   Ano_Mes = col_character(),\n",
      "  ..   Fecha = col_date(format = \"\"),\n",
      "  ..   Precios_Mensuales = col_double(),\n",
      "  ..   Aportes_Energia_GWh = col_double(),\n",
      "  ..   Volumen_Util_Diario_Energia_GWh = col_double(),\n",
      "  ..   Demanda_Energia_SIN_GWh = col_double(),\n",
      "  ..   ONI = col_double(),\n",
      "  ..   CEN_Total = col_double(),\n",
      "  ..   CEN_Hidro = col_double(),\n",
      "  ..   CEN_Termica = col_double()\n",
      "  .. )\n"
     ]
    }
   ],
   "source": [
    "str(df)"
   ]
  },
  {
   "cell_type": "markdown",
   "metadata": {},
   "source": [
    "# Creacion de funciones"
   ]
  },
  {
   "cell_type": "code",
   "execution_count": 87,
   "metadata": {},
   "outputs": [],
   "source": [
    "oni<-function(df, start_at){\n",
    "    \n",
    "    fechaini<-as.Date(start_at)\n",
    "    n_aleatorios<-df%>%filter(Fecha>=start_at)%>%select(ONI)%>%nrow\n",
    "    df$ONI[df$Fecha>=as.Date(start_at)]<-round(runif(n_aleatorios,-0.5,0.5),1)\n",
    "    \n",
    "    return(df)\n",
    "}"
   ]
  },
  {
   "cell_type": "code",
   "execution_count": 88,
   "metadata": {},
   "outputs": [],
   "source": [
    "aportes<-function(df, start_at){\n",
    "    \n",
    "    fechaini<-as.Date(start_at)\n",
    "    n_aleatorios<-df%>%filter(Fecha>=start_at)%>%select(Aportes_Energia_GWh)%>%nrow\n",
    "    df$Aportes_Energia_GWh[df$Fecha>=as.Date(start_at)]<-round(runif(n_aleatorios,min(df$Aportes_Energia_GWh,na.rm = TRUE),max(df$Aportes_Energia_GWh,na.rm = TRUE)),3)\n",
    "    \n",
    "    return(df)\n",
    "}"
   ]
  },
  {
   "cell_type": "code",
   "execution_count": 89,
   "metadata": {
    "collapsed": true
   },
   "outputs": [],
   "source": [
    "reservas<-function(df, start_at){\n",
    "    \n",
    "    fechaini<-as.Date(start_at)\n",
    "    n_aleatorios<-df%>%filter(Fecha>=start_at)%>%select(Volumen_Util_Diario_Energia_GWh)%>%nrow\n",
    "    df$Volumen_Util_Diario_Energia_GWh[df$Fecha>=as.Date(start_at)]<-round(runif(n_aleatorios,min(df$Volumen_Util_Diario_Energia_GWh,na.rm = TRUE),max(df$Volumen_Util_Diario_Energia_GWh,na.rm = TRUE)),3)\n",
    "    \n",
    "    return(df)\n",
    "}"
   ]
  },
  {
   "cell_type": "code",
   "execution_count": 90,
   "metadata": {
    "collapsed": true
   },
   "outputs": [],
   "source": [
    "precios<-function(df, start_at){\n",
    "    \n",
    "    fechaini<-as.Date(start_at)\n",
    "    n_aleatorios<-df%>%filter(Fecha>=start_at)%>%select(Precios_Mensuales)%>%nrow\n",
    "    df$Precios_Mensuales[df$Fecha>=as.Date(start_at)]<-round(runif(n_aleatorios,min(df$Precios_Mensuales,na.rm = TRUE),max(df$Precios_Mensuales,na.rm = TRUE)),3)\n",
    "    \n",
    "    return(df)\n",
    "}"
   ]
  },
  {
   "cell_type": "code",
   "execution_count": 91,
   "metadata": {
    "collapsed": true
   },
   "outputs": [],
   "source": [
    "demanda<-function(df, start_at){\n",
    "    \n",
    "    fechaini<-as.Date(start_at)\n",
    "    n_aleatorios<-df%>%filter(Fecha>=start_at)%>%select(Demanda_Energia_SIN_GWh)%>%nrow\n",
    "    df$Demanda_Energia_SIN_GWh[df$Fecha>=as.Date(start_at)]<-round(runif(n_aleatorios,min(df$Demanda_Energia_SIN_GWh,na.rm = TRUE),max(df$Demanda_Energia_SIN_GWh,na.rm = TRUE)),3)\n",
    "    \n",
    "    return(df)\n",
    "}"
   ]
  },
  {
   "cell_type": "code",
   "execution_count": 120,
   "metadata": {},
   "outputs": [],
   "source": [
    "columnas_calculadas<-function(df){\n",
    "    #debo montar dem_CEN\n",
    "    df$Dem_CEN<-round(df$Demanda_Energia_SIN_GWh/(as.vector(days_in_month(df$Fecha))*df$CEN_Total*24),4)\n",
    "    #debo montar Term_Hidro\n",
    "    df$Termica_Hidraulica<-round(df$CEN_Termica/df$CEN_Hidro,4)\n",
    "    \n",
    "    return(df)\n",
    "}"
   ]
  },
  {
   "cell_type": "code",
   "execution_count": 117,
   "metadata": {
    "collapsed": true
   },
   "outputs": [],
   "source": [
    "normalizar_hidrologia<-function(df){\n",
    "    #Normalizar aportes\n",
    "    #Normalizar reservas\n",
    "}"
   ]
  },
  {
   "cell_type": "markdown",
   "metadata": {},
   "source": [
    "# Probar funciones"
   ]
  },
  {
   "cell_type": "code",
   "execution_count": 123,
   "metadata": {},
   "outputs": [],
   "source": [
    "# df<-precios(df,start_at = '2019-06-01')\n",
    "# df<-oni(df,start_at = '2019-06-01')\n",
    "# df<-aportes(df,start_at = '2019-06-01')\n",
    "# df<-reservas(df,start_at = '2019-06-01')\n",
    "# df<-demanda(df,start_at = '2019-06-01')\n",
    "# df<-columnas_calculadas(df)\n",
    "\n",
    "# str(df)"
   ]
  },
  {
   "cell_type": "code",
   "execution_count": 100,
   "metadata": {},
   "outputs": [
    {
     "data": {
      "text/html": [
       "<table>\n",
       "<thead><tr><th scope=col>Ano</th><th scope=col>Mes</th><th scope=col>Ano_Mes</th><th scope=col>Fecha</th><th scope=col>Precios_Mensuales</th><th scope=col>Aportes_Energia_GWh</th><th scope=col>Volumen_Util_Diario_Energia_GWh</th><th scope=col>Demanda_Energia_SIN_GWh</th><th scope=col>ONI</th><th scope=col>CEN_Total</th><th scope=col>CEN_Hidro</th><th scope=col>CEN_Termica</th></tr></thead>\n",
       "<tbody>\n",
       "\t<tr><td>2000      </td><td>1         </td><td>2000-01   </td><td>2000-01-01</td><td>36.77878  </td><td>1900.660  </td><td>10115.866 </td><td>3354.237  </td><td>-1.7      </td><td>11.88597  </td><td>7.97497   </td><td>3.897     </td></tr>\n",
       "\t<tr><td>2000      </td><td>2         </td><td>2000-02   </td><td>2000-02-01</td><td>40.26148  </td><td>1993.636  </td><td> 9705.065 </td><td>3278.267  </td><td>-1.4      </td><td>11.88597  </td><td>7.97497   </td><td>3.897     </td></tr>\n",
       "\t<tr><td>2000      </td><td>3         </td><td>2000-03   </td><td>2000-03-01</td><td>37.63730  </td><td>2253.361  </td><td> 9222.966 </td><td>3495.203  </td><td>-1.1      </td><td>11.96897  </td><td>8.05797   </td><td>3.897     </td></tr>\n",
       "\t<tr><td>2000      </td><td>4         </td><td>2000-04   </td><td>2000-04-01</td><td>44.29806  </td><td>2429.651  </td><td> 8945.684 </td><td>3298.386  </td><td>-0.8      </td><td>12.05397  </td><td>8.14297   </td><td>3.897     </td></tr>\n",
       "\t<tr><td>2000      </td><td>5         </td><td>2000-05   </td><td>2000-05-01</td><td>37.29112  </td><td>4817.901  </td><td>10131.148 </td><td>3502.127  </td><td>-0.7      </td><td>12.29927  </td><td>8.23427   </td><td>4.051     </td></tr>\n",
       "\t<tr><td>2000      </td><td>6         </td><td>2000-06   </td><td>2000-06-01</td><td>39.99320  </td><td>4889.563  </td><td>11020.110 </td><td>3367.886  </td><td>-0.6      </td><td>12.44327  </td><td>8.23427   </td><td>4.195     </td></tr>\n",
       "</tbody>\n",
       "</table>\n"
      ],
      "text/latex": [
       "\\begin{tabular}{r|llllllllllll}\n",
       " Ano & Mes & Ano\\_Mes & Fecha & Precios\\_Mensuales & Aportes\\_Energia\\_GWh & Volumen\\_Util\\_Diario\\_Energia\\_GWh & Demanda\\_Energia\\_SIN\\_GWh & ONI & CEN\\_Total & CEN\\_Hidro & CEN\\_Termica\\\\\n",
       "\\hline\n",
       "\t 2000       & 1          & 2000-01    & 2000-01-01 & 36.77878   & 1900.660   & 10115.866  & 3354.237   & -1.7       & 11.88597   & 7.97497    & 3.897     \\\\\n",
       "\t 2000       & 2          & 2000-02    & 2000-02-01 & 40.26148   & 1993.636   &  9705.065  & 3278.267   & -1.4       & 11.88597   & 7.97497    & 3.897     \\\\\n",
       "\t 2000       & 3          & 2000-03    & 2000-03-01 & 37.63730   & 2253.361   &  9222.966  & 3495.203   & -1.1       & 11.96897   & 8.05797    & 3.897     \\\\\n",
       "\t 2000       & 4          & 2000-04    & 2000-04-01 & 44.29806   & 2429.651   &  8945.684  & 3298.386   & -0.8       & 12.05397   & 8.14297    & 3.897     \\\\\n",
       "\t 2000       & 5          & 2000-05    & 2000-05-01 & 37.29112   & 4817.901   & 10131.148  & 3502.127   & -0.7       & 12.29927   & 8.23427    & 4.051     \\\\\n",
       "\t 2000       & 6          & 2000-06    & 2000-06-01 & 39.99320   & 4889.563   & 11020.110  & 3367.886   & -0.6       & 12.44327   & 8.23427    & 4.195     \\\\\n",
       "\\end{tabular}\n"
      ],
      "text/markdown": [
       "\n",
       "Ano | Mes | Ano_Mes | Fecha | Precios_Mensuales | Aportes_Energia_GWh | Volumen_Util_Diario_Energia_GWh | Demanda_Energia_SIN_GWh | ONI | CEN_Total | CEN_Hidro | CEN_Termica | \n",
       "|---|---|---|---|---|---|\n",
       "| 2000       | 1          | 2000-01    | 2000-01-01 | 36.77878   | 1900.660   | 10115.866  | 3354.237   | -1.7       | 11.88597   | 7.97497    | 3.897      | \n",
       "| 2000       | 2          | 2000-02    | 2000-02-01 | 40.26148   | 1993.636   |  9705.065  | 3278.267   | -1.4       | 11.88597   | 7.97497    | 3.897      | \n",
       "| 2000       | 3          | 2000-03    | 2000-03-01 | 37.63730   | 2253.361   |  9222.966  | 3495.203   | -1.1       | 11.96897   | 8.05797    | 3.897      | \n",
       "| 2000       | 4          | 2000-04    | 2000-04-01 | 44.29806   | 2429.651   |  8945.684  | 3298.386   | -0.8       | 12.05397   | 8.14297    | 3.897      | \n",
       "| 2000       | 5          | 2000-05    | 2000-05-01 | 37.29112   | 4817.901   | 10131.148  | 3502.127   | -0.7       | 12.29927   | 8.23427    | 4.051      | \n",
       "| 2000       | 6          | 2000-06    | 2000-06-01 | 39.99320   | 4889.563   | 11020.110  | 3367.886   | -0.6       | 12.44327   | 8.23427    | 4.195      | \n",
       "\n",
       "\n"
      ],
      "text/plain": [
       "  Ano  Mes Ano_Mes Fecha      Precios_Mensuales Aportes_Energia_GWh\n",
       "1 2000 1   2000-01 2000-01-01 36.77878          1900.660           \n",
       "2 2000 2   2000-02 2000-02-01 40.26148          1993.636           \n",
       "3 2000 3   2000-03 2000-03-01 37.63730          2253.361           \n",
       "4 2000 4   2000-04 2000-04-01 44.29806          2429.651           \n",
       "5 2000 5   2000-05 2000-05-01 37.29112          4817.901           \n",
       "6 2000 6   2000-06 2000-06-01 39.99320          4889.563           \n",
       "  Volumen_Util_Diario_Energia_GWh Demanda_Energia_SIN_GWh ONI  CEN_Total\n",
       "1 10115.866                       3354.237                -1.7 11.88597 \n",
       "2  9705.065                       3278.267                -1.4 11.88597 \n",
       "3  9222.966                       3495.203                -1.1 11.96897 \n",
       "4  8945.684                       3298.386                -0.8 12.05397 \n",
       "5 10131.148                       3502.127                -0.7 12.29927 \n",
       "6 11020.110                       3367.886                -0.6 12.44327 \n",
       "  CEN_Hidro CEN_Termica\n",
       "1 7.97497   3.897      \n",
       "2 7.97497   3.897      \n",
       "3 8.05797   3.897      \n",
       "4 8.14297   3.897      \n",
       "5 8.23427   4.051      \n",
       "6 8.23427   4.195      "
      ]
     },
     "metadata": {},
     "output_type": "display_data"
    }
   ],
   "source": [
    "head(df)"
   ]
  },
  {
   "cell_type": "code",
   "execution_count": 175,
   "metadata": {},
   "outputs": [],
   "source": [
    "generar_archivos<-function(df, start_at, n_iter, folder_location){\n",
    "    \n",
    "    \n",
    "    if(dir.exists('./Resultados/')){\n",
    "        while(file.remove(list.files(path = folder_location,pattern = '[0-9][0-9][0-9][0-9][0-9].csv',full.names = TRUE)[1])==TRUE){\n",
    "            list.files(path = folder_location,pattern = '[0-9][0-9][0-9][0-9][0-9].csv',full.names = TRUE)[1]\n",
    "        }\n",
    "\n",
    "        fechaini<-as.Date(start_at)\n",
    "\n",
    "        for( i in seq(n_iter)){\n",
    "\n",
    "            #Normalizar aportes\n",
    "            #normalizar reservas\n",
    "            #Agregar variables calculadas\n",
    "            df<-precios(df,fechaini)\n",
    "            df<-oni(df,fechaini)\n",
    "            df<-aportes(df,fechaini)\n",
    "            df<-reservas(df,fechaini)\n",
    "            df<-demanda(df,fechaini)\n",
    "            df<-columnas_calculadas(df)\n",
    "\n",
    "            #pronostico de variables calculadas\n",
    "            write_csv(df, paste0(folder_location,str_pad(i, pad = 0, width = 5),'.csv'))\n",
    "        }\n",
    "    } else{\n",
    "        cat('Error: Directorio no existe en esta mquina')\n",
    "    }\n",
    "}"
   ]
  },
  {
   "cell_type": "code",
   "execution_count": 176,
   "metadata": {
    "collapsed": true
   },
   "outputs": [],
   "source": [
    "generar_archivos(df,start_at = '2019-06-01',n_iter = 20,folder_location = './Resultados/')"
   ]
  },
  {
   "cell_type": "markdown",
   "metadata": {},
   "source": [
    "# Tareas"
   ]
  },
  {
   "cell_type": "code",
   "execution_count": 95,
   "metadata": {
    "collapsed": true
   },
   "outputs": [],
   "source": [
    "#para el oni es un AR qe estime el P optimo y genere hacia adelante una serie sintetica y llenar 2h\n",
    "#para aportes normalizar y hacer el arx pronosticar uno a uno y tiene como entrada el ONI y se devuelven las unidades 2h\n",
    "#para embalses normalizar y hacer arx con oni, aportes, relacion T/H y me devuelvo 2h\n",
    "#un modelo simple de precio 2h"
   ]
  }
 ],
 "metadata": {
  "kernelspec": {
   "display_name": "R",
   "language": "R",
   "name": "ir"
  },
  "language_info": {
   "codemirror_mode": "r",
   "file_extension": ".r",
   "mimetype": "text/x-r-source",
   "name": "R",
   "pygments_lexer": "r",
   "version": "3.3.3"
  }
 },
 "nbformat": 4,
 "nbformat_minor": 2
}
