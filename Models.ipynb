{
 "cells": [
  {
   "cell_type": "code",
   "execution_count": 201,
   "metadata": {},
   "outputs": [],
   "source": [
    "library(tidyverse)\n",
    "library(lubridate)"
   ]
  },
  {
   "cell_type": "code",
   "execution_count": 202,
   "metadata": {},
   "outputs": [],
   "source": [
    "df<-read_csv('df.csv',col_names = TRUE,cols(\n",
    "  Ano = col_double(),\n",
    "  Mes = col_double(),\n",
    "  Ano_Mes = col_character(),\n",
    "  Fecha = col_date(format = \"\"),\n",
    "  Precios_Mensuales = col_double(),\n",
    "  Aportes_Energia_GWh = col_double(),\n",
    "  Volumen_Util_Diario_Energia_GWh = col_double(),\n",
    "  Demanda_Energia_SIN_GWh = col_double(),\n",
    "  ONI = col_double(),\n",
    "  CEN_Total = col_double(),\n",
    "  CEN_Hidro = col_double(),\n",
    "  CEN_Termica = col_double()\n",
    "))"
   ]
  },
  {
   "cell_type": "code",
   "execution_count": 203,
   "metadata": {},
   "outputs": [
    {
     "name": "stdout",
     "output_type": "stream",
     "text": [
      "Classes ‘spec_tbl_df’, ‘tbl_df’, ‘tbl’ and 'data.frame':\t257 obs. of  12 variables:\n",
      " $ Ano                            : num  2000 2000 2000 2000 2000 2000 2000 2000 2000 2000 ...\n",
      " $ Mes                            : num  1 2 3 4 5 6 7 8 9 10 ...\n",
      " $ Ano_Mes                        : chr  \"2000-01\" \"2000-02\" \"2000-03\" \"2000-04\" ...\n",
      " $ Fecha                          : Date, format: \"2000-01-01\" \"2000-02-01\" ...\n",
      " $ Precios_Mensuales              : num  36.8 40.3 37.6 44.3 37.3 ...\n",
      " $ Aportes_Energia_GWh            : num  1901 1994 2253 2430 4818 ...\n",
      " $ Volumen_Util_Diario_Energia_GWh: num  10116 9705 9223 8946 10131 ...\n",
      " $ Demanda_Energia_SIN_GWh        : num  3354 3278 3495 3298 3502 ...\n",
      " $ ONI                            : num  -1.7 -1.4 -1.1 -0.8 -0.7 -0.6 -0.6 -0.5 -0.5 -0.6 ...\n",
      " $ CEN_Total                      : num  11.9 11.9 12 12.1 12.3 ...\n",
      " $ CEN_Hidro                      : num  7.97 7.97 8.06 8.14 8.23 ...\n",
      " $ CEN_Termica                    : num  3.9 3.9 3.9 3.9 4.05 ...\n",
      " - attr(*, \"spec\")=\n",
      "  .. cols(\n",
      "  ..   Ano = col_double(),\n",
      "  ..   Mes = col_double(),\n",
      "  ..   Ano_Mes = col_character(),\n",
      "  ..   Fecha = col_date(format = \"\"),\n",
      "  ..   Precios_Mensuales = col_double(),\n",
      "  ..   Aportes_Energia_GWh = col_double(),\n",
      "  ..   Volumen_Util_Diario_Energia_GWh = col_double(),\n",
      "  ..   Demanda_Energia_SIN_GWh = col_double(),\n",
      "  ..   ONI = col_double(),\n",
      "  ..   CEN_Total = col_double(),\n",
      "  ..   CEN_Hidro = col_double(),\n",
      "  ..   CEN_Termica = col_double()\n",
      "  .. )\n"
     ]
    }
   ],
   "source": [
    "str(df)"
   ]
  },
  {
   "cell_type": "markdown",
   "metadata": {},
   "source": [
    "# Creacion de funciones"
   ]
  },
  {
   "cell_type": "code",
   "execution_count": 204,
   "metadata": {},
   "outputs": [],
   "source": [
    "oni<-function(df, start_at){\n",
    "    \n",
    "    fechaini<-as.Date(start_at)\n",
    "    n_aleatorios<-df%>%filter(Fecha>=start_at)%>%select(ONI)%>%nrow\n",
    "    df$ONI[df$Fecha>=as.Date(start_at)]<-round(runif(n_aleatorios,-0.5,0.5),1)\n",
    "    \n",
    "    return(df)\n",
    "}"
   ]
  },
  {
   "cell_type": "code",
   "execution_count": 205,
   "metadata": {},
   "outputs": [],
   "source": [
    "aportes<-function(df, start_at){\n",
    "    \n",
    "    fechaini<-as.Date(start_at)\n",
    "    n_aleatorios<-df%>%filter(Fecha>=start_at)%>%select(Aportes_Energia_GWh)%>%nrow\n",
    "    df$Aportes_Energia_GWh[df$Fecha>=as.Date(start_at)]<-round(runif(n_aleatorios,min(df$Aportes_Energia_GWh,na.rm = TRUE),max(df$Aportes_Energia_GWh,na.rm = TRUE)),3)\n",
    "    \n",
    "    return(df)\n",
    "}"
   ]
  },
  {
   "cell_type": "code",
   "execution_count": 206,
   "metadata": {
    "collapsed": true
   },
   "outputs": [],
   "source": [
    "reservas<-function(df, start_at){\n",
    "    \n",
    "    fechaini<-as.Date(start_at)\n",
    "    n_aleatorios<-df%>%filter(Fecha>=start_at)%>%select(Volumen_Util_Diario_Energia_GWh)%>%nrow\n",
    "    df$Volumen_Util_Diario_Energia_GWh[df$Fecha>=as.Date(start_at)]<-round(runif(n_aleatorios,min(df$Volumen_Util_Diario_Energia_GWh,na.rm = TRUE),max(df$Volumen_Util_Diario_Energia_GWh,na.rm = TRUE)),3)\n",
    "    \n",
    "    return(df)\n",
    "}"
   ]
  },
  {
   "cell_type": "code",
   "execution_count": 207,
   "metadata": {
    "collapsed": true
   },
   "outputs": [],
   "source": [
    "precios<-function(df, start_at){\n",
    "    \n",
    "    fechaini<-as.Date(start_at)\n",
    "    n_aleatorios<-df%>%filter(Fecha>=start_at)%>%select(Precios_Mensuales)%>%nrow\n",
    "    df$Precios_Mensuales[df$Fecha>=as.Date(start_at)]<-round(runif(n_aleatorios,min(df$Precios_Mensuales,na.rm = TRUE),max(df$Precios_Mensuales,na.rm = TRUE)),3)\n",
    "    \n",
    "    return(df)\n",
    "}"
   ]
  },
  {
   "cell_type": "code",
   "execution_count": 208,
   "metadata": {
    "collapsed": true
   },
   "outputs": [],
   "source": [
    "demanda<-function(df, start_at){\n",
    "    \n",
    "    fechaini<-as.Date(start_at)\n",
    "    n_aleatorios<-df%>%filter(Fecha>=start_at)%>%select(Demanda_Energia_SIN_GWh)%>%nrow\n",
    "    df$Demanda_Energia_SIN_GWh[df$Fecha>=as.Date(start_at)]<-round(runif(n_aleatorios,min(df$Demanda_Energia_SIN_GWh,na.rm = TRUE),max(df$Demanda_Energia_SIN_GWh,na.rm = TRUE)),3)\n",
    "    \n",
    "    return(df)\n",
    "}"
   ]
  },
  {
   "cell_type": "code",
   "execution_count": 209,
   "metadata": {},
   "outputs": [],
   "source": [
    "columnas_calculadas<-function(df){\n",
    "    #debo montar dem_CEN\n",
    "    df$Dem_CEN<-round(df$Demanda_Energia_SIN_GWh/(as.vector(days_in_month(df$Fecha))*df$CEN_Total*24),4)\n",
    "    #debo montar Term_Hidro\n",
    "    df$Termica_Hidraulica<-round(df$CEN_Termica/df$CEN_Hidro,4)\n",
    "    \n",
    "    return(df)\n",
    "}"
   ]
  },
  {
   "cell_type": "code",
   "execution_count": 210,
   "metadata": {
    "collapsed": true
   },
   "outputs": [],
   "source": [
    "normalizar_hidrologia<-function(df){\n",
    "    df<-df%>%\n",
    "        left_join(\n",
    "                df%>%arrange(Mes)%>%group_by(Mes)%>%summarize(mean_aportes = mean(Aportes_Energia_GWh,na.rm = TRUE), \n",
    "                                                              mean_reservas = mean(Volumen_Util_Diario_Energia_GWh,na.rm = TRUE),\n",
    "                                                              sd_aportes = sd(Aportes_Energia_GWh, na.rm = TRUE),\n",
    "                                                              sd_reservas = sd(Volumen_Util_Diario_Energia_GWh,na.rm = TRUE)),by='Mes')%>%\n",
    "    mutate(\n",
    "        Aportes_Normalizados = (Aportes_Energia_GWh-mean_aportes)/sd_aportes,\n",
    "        Reservas_Normalizadas = (Volumen_Util_Diario_Energia_GWh-mean_reservas)/sd_reservas)\n",
    "    \n",
    "    return(df)\n",
    "}"
   ]
  },
  {
   "cell_type": "code",
   "execution_count": 211,
   "metadata": {},
   "outputs": [
    {
     "data": {
      "text/html": [
       "<table>\n",
       "<thead><tr><th scope=col>Ano</th><th scope=col>Mes</th><th scope=col>Ano_Mes</th><th scope=col>Fecha</th><th scope=col>Precios_Mensuales</th><th scope=col>Aportes_Energia_GWh</th><th scope=col>Volumen_Util_Diario_Energia_GWh</th><th scope=col>Demanda_Energia_SIN_GWh</th><th scope=col>ONI</th><th scope=col>CEN_Total</th><th scope=col>CEN_Hidro</th><th scope=col>CEN_Termica</th></tr></thead>\n",
       "<tbody>\n",
       "\t<tr><td>2000      </td><td>1         </td><td>2000-01   </td><td>2000-01-01</td><td>36.77878  </td><td>1900.660  </td><td>10115.866 </td><td>3354.237  </td><td>-1.7      </td><td>11.88597  </td><td>7.97497   </td><td>3.897     </td></tr>\n",
       "\t<tr><td>2000      </td><td>2         </td><td>2000-02   </td><td>2000-02-01</td><td>40.26148  </td><td>1993.636  </td><td> 9705.065 </td><td>3278.267  </td><td>-1.4      </td><td>11.88597  </td><td>7.97497   </td><td>3.897     </td></tr>\n",
       "\t<tr><td>2000      </td><td>3         </td><td>2000-03   </td><td>2000-03-01</td><td>37.63730  </td><td>2253.361  </td><td> 9222.966 </td><td>3495.203  </td><td>-1.1      </td><td>11.96897  </td><td>8.05797   </td><td>3.897     </td></tr>\n",
       "\t<tr><td>2000      </td><td>4         </td><td>2000-04   </td><td>2000-04-01</td><td>44.29806  </td><td>2429.651  </td><td> 8945.684 </td><td>3298.386  </td><td>-0.8      </td><td>12.05397  </td><td>8.14297   </td><td>3.897     </td></tr>\n",
       "\t<tr><td>2000      </td><td>5         </td><td>2000-05   </td><td>2000-05-01</td><td>37.29112  </td><td>4817.901  </td><td>10131.148 </td><td>3502.127  </td><td>-0.7      </td><td>12.29927  </td><td>8.23427   </td><td>4.051     </td></tr>\n",
       "\t<tr><td>2000      </td><td>6         </td><td>2000-06   </td><td>2000-06-01</td><td>39.99320  </td><td>4889.563  </td><td>11020.110 </td><td>3367.886  </td><td>-0.6      </td><td>12.44327  </td><td>8.23427   </td><td>4.195     </td></tr>\n",
       "</tbody>\n",
       "</table>\n"
      ],
      "text/latex": [
       "\\begin{tabular}{r|llllllllllll}\n",
       " Ano & Mes & Ano\\_Mes & Fecha & Precios\\_Mensuales & Aportes\\_Energia\\_GWh & Volumen\\_Util\\_Diario\\_Energia\\_GWh & Demanda\\_Energia\\_SIN\\_GWh & ONI & CEN\\_Total & CEN\\_Hidro & CEN\\_Termica\\\\\n",
       "\\hline\n",
       "\t 2000       & 1          & 2000-01    & 2000-01-01 & 36.77878   & 1900.660   & 10115.866  & 3354.237   & -1.7       & 11.88597   & 7.97497    & 3.897     \\\\\n",
       "\t 2000       & 2          & 2000-02    & 2000-02-01 & 40.26148   & 1993.636   &  9705.065  & 3278.267   & -1.4       & 11.88597   & 7.97497    & 3.897     \\\\\n",
       "\t 2000       & 3          & 2000-03    & 2000-03-01 & 37.63730   & 2253.361   &  9222.966  & 3495.203   & -1.1       & 11.96897   & 8.05797    & 3.897     \\\\\n",
       "\t 2000       & 4          & 2000-04    & 2000-04-01 & 44.29806   & 2429.651   &  8945.684  & 3298.386   & -0.8       & 12.05397   & 8.14297    & 3.897     \\\\\n",
       "\t 2000       & 5          & 2000-05    & 2000-05-01 & 37.29112   & 4817.901   & 10131.148  & 3502.127   & -0.7       & 12.29927   & 8.23427    & 4.051     \\\\\n",
       "\t 2000       & 6          & 2000-06    & 2000-06-01 & 39.99320   & 4889.563   & 11020.110  & 3367.886   & -0.6       & 12.44327   & 8.23427    & 4.195     \\\\\n",
       "\\end{tabular}\n"
      ],
      "text/markdown": [
       "\n",
       "Ano | Mes | Ano_Mes | Fecha | Precios_Mensuales | Aportes_Energia_GWh | Volumen_Util_Diario_Energia_GWh | Demanda_Energia_SIN_GWh | ONI | CEN_Total | CEN_Hidro | CEN_Termica | \n",
       "|---|---|---|---|---|---|\n",
       "| 2000       | 1          | 2000-01    | 2000-01-01 | 36.77878   | 1900.660   | 10115.866  | 3354.237   | -1.7       | 11.88597   | 7.97497    | 3.897      | \n",
       "| 2000       | 2          | 2000-02    | 2000-02-01 | 40.26148   | 1993.636   |  9705.065  | 3278.267   | -1.4       | 11.88597   | 7.97497    | 3.897      | \n",
       "| 2000       | 3          | 2000-03    | 2000-03-01 | 37.63730   | 2253.361   |  9222.966  | 3495.203   | -1.1       | 11.96897   | 8.05797    | 3.897      | \n",
       "| 2000       | 4          | 2000-04    | 2000-04-01 | 44.29806   | 2429.651   |  8945.684  | 3298.386   | -0.8       | 12.05397   | 8.14297    | 3.897      | \n",
       "| 2000       | 5          | 2000-05    | 2000-05-01 | 37.29112   | 4817.901   | 10131.148  | 3502.127   | -0.7       | 12.29927   | 8.23427    | 4.051      | \n",
       "| 2000       | 6          | 2000-06    | 2000-06-01 | 39.99320   | 4889.563   | 11020.110  | 3367.886   | -0.6       | 12.44327   | 8.23427    | 4.195      | \n",
       "\n",
       "\n"
      ],
      "text/plain": [
       "  Ano  Mes Ano_Mes Fecha      Precios_Mensuales Aportes_Energia_GWh\n",
       "1 2000 1   2000-01 2000-01-01 36.77878          1900.660           \n",
       "2 2000 2   2000-02 2000-02-01 40.26148          1993.636           \n",
       "3 2000 3   2000-03 2000-03-01 37.63730          2253.361           \n",
       "4 2000 4   2000-04 2000-04-01 44.29806          2429.651           \n",
       "5 2000 5   2000-05 2000-05-01 37.29112          4817.901           \n",
       "6 2000 6   2000-06 2000-06-01 39.99320          4889.563           \n",
       "  Volumen_Util_Diario_Energia_GWh Demanda_Energia_SIN_GWh ONI  CEN_Total\n",
       "1 10115.866                       3354.237                -1.7 11.88597 \n",
       "2  9705.065                       3278.267                -1.4 11.88597 \n",
       "3  9222.966                       3495.203                -1.1 11.96897 \n",
       "4  8945.684                       3298.386                -0.8 12.05397 \n",
       "5 10131.148                       3502.127                -0.7 12.29927 \n",
       "6 11020.110                       3367.886                -0.6 12.44327 \n",
       "  CEN_Hidro CEN_Termica\n",
       "1 7.97497   3.897      \n",
       "2 7.97497   3.897      \n",
       "3 8.05797   3.897      \n",
       "4 8.14297   3.897      \n",
       "5 8.23427   4.051      \n",
       "6 8.23427   4.195      "
      ]
     },
     "metadata": {},
     "output_type": "display_data"
    }
   ],
   "source": [
    "head(df)"
   ]
  },
  {
   "cell_type": "code",
   "execution_count": 212,
   "metadata": {},
   "outputs": [],
   "source": [
    "#df%>%arrange(Mes)%>%group_by(Mes)%>%summarize(mean_aportes = mean(Aportes_Energia_GWh), mean_reservas = mean(Volumen_Util_Diario_Energia_GWh),sd_aportes = sd(Aportes_Energia_GWh),sd_reservas = sd(Volumen_Util_Diario_Energia_GWh))\n",
    "# df<-df%>%\n",
    "#     left_join(\n",
    "#             df%>%arrange(Mes)%>%group_by(Mes)%>%summarize(mean_aportes = mean(Aportes_Energia_GWh), \n",
    "#                                                           mean_reservas = mean(Volumen_Util_Diario_Energia_GWh),\n",
    "#                                                           sd_aportes = sd(Aportes_Energia_GWh),\n",
    "#                                                           sd_reservas = sd(Volumen_Util_Diario_Energia_GWh)),by='Mes')%>%\n",
    "# mutate(\n",
    "#     Aportes_Normalizados = (Aportes_Energia_GWh-mean_aportes)/sd_aportes,\n",
    "#     Reservas_Normalizadas = (Volumen_Util_Diario_Energia_GWh-mean_reservas)/sd_reservas)"
   ]
  },
  {
   "cell_type": "markdown",
   "metadata": {},
   "source": [
    "# Probar funciones"
   ]
  },
  {
   "cell_type": "code",
   "execution_count": 213,
   "metadata": {},
   "outputs": [
    {
     "name": "stdout",
     "output_type": "stream",
     "text": [
      "Classes ‘tbl_df’, ‘tbl’ and 'data.frame':\t257 obs. of  20 variables:\n",
      " $ Ano                            : num  2000 2000 2000 2000 2000 2000 2000 2000 2000 2000 ...\n",
      " $ Mes                            : num  1 2 3 4 5 6 7 8 9 10 ...\n",
      " $ Ano_Mes                        : chr  \"2000-01\" \"2000-02\" \"2000-03\" \"2000-04\" ...\n",
      " $ Fecha                          : Date, format: \"2000-01-01\" \"2000-02-01\" ...\n",
      " $ Precios_Mensuales              : num  36.8 40.3 37.6 44.3 37.3 ...\n",
      " $ Aportes_Energia_GWh            : num  1901 1994 2253 2430 4818 ...\n",
      " $ Volumen_Util_Diario_Energia_GWh: num  10116 9705 9223 8946 10131 ...\n",
      " $ Demanda_Energia_SIN_GWh        : num  3354 3278 3495 3298 3502 ...\n",
      " $ ONI                            : num  -1.7 -1.4 -1.1 -0.8 -0.7 -0.6 -0.6 -0.5 -0.5 -0.6 ...\n",
      " $ CEN_Total                      : num  11.9 11.9 12 12.1 12.3 ...\n",
      " $ CEN_Hidro                      : num  7.97 7.97 8.06 8.14 8.23 ...\n",
      " $ CEN_Termica                    : num  3.9 3.9 3.9 3.9 4.05 ...\n",
      " $ Dem_CEN                        : num  0.379 0.396 0.393 0.38 0.383 ...\n",
      " $ Termica_Hidraulica             : num  0.489 0.489 0.484 0.479 0.492 ...\n",
      " $ mean_aportes                   : num  2387 2154 3088 4630 6105 ...\n",
      " $ mean_reservas                  : num  10390 9093 8092 8384 9585 ...\n",
      " $ sd_aportes                     : num  839 871 1375 2044 1697 ...\n",
      " $ sd_reservas                    : num  1037 1048 1407 1741 1904 ...\n",
      " $ Aportes_Normalizados           : num  -0.58 -0.184 -0.607 -1.076 -0.759 ...\n",
      " $ Reservas_Normalizadas          : num  -0.264 0.584 0.804 0.323 0.287 ...\n"
     ]
    }
   ],
   "source": [
    "df<-precios(df,start_at = '2019-06-01')\n",
    "df<-oni(df,start_at = '2019-06-01')\n",
    "df<-aportes(df,start_at = '2019-06-01')\n",
    "df<-reservas(df,start_at = '2019-06-01')\n",
    "df<-demanda(df,start_at = '2019-06-01')\n",
    "df<-columnas_calculadas(df)\n",
    "df<-normalizar_hidrologia(df)\n",
    "str(df)"
   ]
  },
  {
   "cell_type": "code",
   "execution_count": 215,
   "metadata": {},
   "outputs": [
    {
     "data": {
      "text/html": [
       "<table>\n",
       "<thead><tr><th scope=col>Ano</th><th scope=col>Mes</th><th scope=col>Ano_Mes</th><th scope=col>Fecha</th><th scope=col>Precios_Mensuales</th><th scope=col>Aportes_Energia_GWh</th><th scope=col>Volumen_Util_Diario_Energia_GWh</th><th scope=col>Demanda_Energia_SIN_GWh</th><th scope=col>ONI</th><th scope=col>CEN_Total</th><th scope=col>CEN_Hidro</th><th scope=col>CEN_Termica</th><th scope=col>Dem_CEN</th><th scope=col>Termica_Hidraulica</th><th scope=col>mean_aportes</th><th scope=col>mean_reservas</th><th scope=col>sd_aportes</th><th scope=col>sd_reservas</th><th scope=col>Aportes_Normalizados</th><th scope=col>Reservas_Normalizadas</th></tr></thead>\n",
       "<tbody>\n",
       "\t<tr><td>2020      </td><td>12        </td><td>2020-12   </td><td>2020-12-01</td><td>355.625   </td><td>1422.426  </td><td>10968.126 </td><td>4097.101  </td><td> 0.0      </td><td>13.15767  </td><td>8.67967   </td><td>4.464     </td><td>0.4185    </td><td>0.5143    </td><td>3633.971  </td><td>11767.435 </td><td>1505.2603 </td><td> 921.1445 </td><td>-1.4692107</td><td>-0.8677345</td></tr>\n",
       "\t<tr><td>2021      </td><td> 1        </td><td>2021-01   </td><td>2021-01-01</td><td>683.907   </td><td>1789.253  </td><td>11259.249 </td><td>4560.358  </td><td> 0.0      </td><td>13.15767  </td><td>8.67967   </td><td>4.464     </td><td>0.4659    </td><td>0.5143    </td><td>2386.977  </td><td>10389.987 </td><td> 838.8306 </td><td>1037.1709 </td><td>-0.7125680</td><td> 0.8381090</td></tr>\n",
       "\t<tr><td>2021      </td><td> 2        </td><td>2021-02   </td><td>2021-02-01</td><td> 43.783   </td><td>2724.507  </td><td>10328.986 </td><td>3679.246  </td><td> 0.2      </td><td>13.15867  </td><td>8.68067   </td><td>4.464     </td><td>0.4161    </td><td>0.5142    </td><td>2154.000  </td><td> 9093.244 </td><td> 870.8353 </td><td>1048.3988 </td><td> 0.6551259</td><td> 1.1786950</td></tr>\n",
       "\t<tr><td>2021      </td><td> 3        </td><td>2021-03   </td><td>2021-03-01</td><td>651.253   </td><td>7031.393  </td><td> 6917.495 </td><td>3917.316  </td><td>-0.3      </td><td>13.15867  </td><td>8.68067   </td><td>4.464     </td><td>0.4001    </td><td>0.5142    </td><td>3088.159  </td><td> 8092.164 </td><td>1374.5478 </td><td>1406.5347 </td><td> 2.8687500</td><td>-0.8351509</td></tr>\n",
       "\t<tr><td>2021      </td><td> 4        </td><td>2021-04   </td><td>2021-04-01</td><td>196.528   </td><td>3413.229  </td><td>11348.939 </td><td>3477.515  </td><td>-0.1      </td><td>13.15867  </td><td>8.68067   </td><td>4.464     </td><td>0.3670    </td><td>0.5142    </td><td>4629.707  </td><td> 8383.997 </td><td>2043.8155 </td><td>1740.7662 </td><td>-0.5951994</td><td> 1.7032394</td></tr>\n",
       "\t<tr><td>2021      </td><td> 5        </td><td>2021-05   </td><td>2021-05-01</td><td>781.577   </td><td>7852.827  </td><td> 7155.444 </td><td>5609.168  </td><td>-0.1      </td><td>13.16023  </td><td>8.68223   </td><td>4.464     </td><td>0.5729    </td><td>0.5142    </td><td>6105.145  </td><td> 9585.005 </td><td>1696.6865 </td><td>1903.9624 </td><td> 1.0300557</td><td>-1.2760552</td></tr>\n",
       "</tbody>\n",
       "</table>\n"
      ],
      "text/latex": [
       "\\begin{tabular}{r|llllllllllllllllllll}\n",
       " Ano & Mes & Ano\\_Mes & Fecha & Precios\\_Mensuales & Aportes\\_Energia\\_GWh & Volumen\\_Util\\_Diario\\_Energia\\_GWh & Demanda\\_Energia\\_SIN\\_GWh & ONI & CEN\\_Total & CEN\\_Hidro & CEN\\_Termica & Dem\\_CEN & Termica\\_Hidraulica & mean\\_aportes & mean\\_reservas & sd\\_aportes & sd\\_reservas & Aportes\\_Normalizados & Reservas\\_Normalizadas\\\\\n",
       "\\hline\n",
       "\t 2020       & 12         & 2020-12    & 2020-12-01 & 355.625    & 1422.426   & 10968.126  & 4097.101   &  0.0       & 13.15767   & 8.67967    & 4.464      & 0.4185     & 0.5143     & 3633.971   & 11767.435  & 1505.2603  &  921.1445  & -1.4692107 & -0.8677345\\\\\n",
       "\t 2021       &  1         & 2021-01    & 2021-01-01 & 683.907    & 1789.253   & 11259.249  & 4560.358   &  0.0       & 13.15767   & 8.67967    & 4.464      & 0.4659     & 0.5143     & 2386.977   & 10389.987  &  838.8306  & 1037.1709  & -0.7125680 &  0.8381090\\\\\n",
       "\t 2021       &  2         & 2021-02    & 2021-02-01 &  43.783    & 2724.507   & 10328.986  & 3679.246   &  0.2       & 13.15867   & 8.68067    & 4.464      & 0.4161     & 0.5142     & 2154.000   &  9093.244  &  870.8353  & 1048.3988  &  0.6551259 &  1.1786950\\\\\n",
       "\t 2021       &  3         & 2021-03    & 2021-03-01 & 651.253    & 7031.393   &  6917.495  & 3917.316   & -0.3       & 13.15867   & 8.68067    & 4.464      & 0.4001     & 0.5142     & 3088.159   &  8092.164  & 1374.5478  & 1406.5347  &  2.8687500 & -0.8351509\\\\\n",
       "\t 2021       &  4         & 2021-04    & 2021-04-01 & 196.528    & 3413.229   & 11348.939  & 3477.515   & -0.1       & 13.15867   & 8.68067    & 4.464      & 0.3670     & 0.5142     & 4629.707   &  8383.997  & 2043.8155  & 1740.7662  & -0.5951994 &  1.7032394\\\\\n",
       "\t 2021       &  5         & 2021-05    & 2021-05-01 & 781.577    & 7852.827   &  7155.444  & 5609.168   & -0.1       & 13.16023   & 8.68223    & 4.464      & 0.5729     & 0.5142     & 6105.145   &  9585.005  & 1696.6865  & 1903.9624  &  1.0300557 & -1.2760552\\\\\n",
       "\\end{tabular}\n"
      ],
      "text/markdown": [
       "\n",
       "Ano | Mes | Ano_Mes | Fecha | Precios_Mensuales | Aportes_Energia_GWh | Volumen_Util_Diario_Energia_GWh | Demanda_Energia_SIN_GWh | ONI | CEN_Total | CEN_Hidro | CEN_Termica | Dem_CEN | Termica_Hidraulica | mean_aportes | mean_reservas | sd_aportes | sd_reservas | Aportes_Normalizados | Reservas_Normalizadas | \n",
       "|---|---|---|---|---|---|\n",
       "| 2020       | 12         | 2020-12    | 2020-12-01 | 355.625    | 1422.426   | 10968.126  | 4097.101   |  0.0       | 13.15767   | 8.67967    | 4.464      | 0.4185     | 0.5143     | 3633.971   | 11767.435  | 1505.2603  |  921.1445  | -1.4692107 | -0.8677345 | \n",
       "| 2021       |  1         | 2021-01    | 2021-01-01 | 683.907    | 1789.253   | 11259.249  | 4560.358   |  0.0       | 13.15767   | 8.67967    | 4.464      | 0.4659     | 0.5143     | 2386.977   | 10389.987  |  838.8306  | 1037.1709  | -0.7125680 |  0.8381090 | \n",
       "| 2021       |  2         | 2021-02    | 2021-02-01 |  43.783    | 2724.507   | 10328.986  | 3679.246   |  0.2       | 13.15867   | 8.68067    | 4.464      | 0.4161     | 0.5142     | 2154.000   |  9093.244  |  870.8353  | 1048.3988  |  0.6551259 |  1.1786950 | \n",
       "| 2021       |  3         | 2021-03    | 2021-03-01 | 651.253    | 7031.393   |  6917.495  | 3917.316   | -0.3       | 13.15867   | 8.68067    | 4.464      | 0.4001     | 0.5142     | 3088.159   |  8092.164  | 1374.5478  | 1406.5347  |  2.8687500 | -0.8351509 | \n",
       "| 2021       |  4         | 2021-04    | 2021-04-01 | 196.528    | 3413.229   | 11348.939  | 3477.515   | -0.1       | 13.15867   | 8.68067    | 4.464      | 0.3670     | 0.5142     | 4629.707   |  8383.997  | 2043.8155  | 1740.7662  | -0.5951994 |  1.7032394 | \n",
       "| 2021       |  5         | 2021-05    | 2021-05-01 | 781.577    | 7852.827   |  7155.444  | 5609.168   | -0.1       | 13.16023   | 8.68223    | 4.464      | 0.5729     | 0.5142     | 6105.145   |  9585.005  | 1696.6865  | 1903.9624  |  1.0300557 | -1.2760552 | \n",
       "\n",
       "\n"
      ],
      "text/plain": [
       "  Ano  Mes Ano_Mes Fecha      Precios_Mensuales Aportes_Energia_GWh\n",
       "1 2020 12  2020-12 2020-12-01 355.625           1422.426           \n",
       "2 2021  1  2021-01 2021-01-01 683.907           1789.253           \n",
       "3 2021  2  2021-02 2021-02-01  43.783           2724.507           \n",
       "4 2021  3  2021-03 2021-03-01 651.253           7031.393           \n",
       "5 2021  4  2021-04 2021-04-01 196.528           3413.229           \n",
       "6 2021  5  2021-05 2021-05-01 781.577           7852.827           \n",
       "  Volumen_Util_Diario_Energia_GWh Demanda_Energia_SIN_GWh ONI  CEN_Total\n",
       "1 10968.126                       4097.101                 0.0 13.15767 \n",
       "2 11259.249                       4560.358                 0.0 13.15767 \n",
       "3 10328.986                       3679.246                 0.2 13.15867 \n",
       "4  6917.495                       3917.316                -0.3 13.15867 \n",
       "5 11348.939                       3477.515                -0.1 13.15867 \n",
       "6  7155.444                       5609.168                -0.1 13.16023 \n",
       "  CEN_Hidro CEN_Termica Dem_CEN Termica_Hidraulica mean_aportes mean_reservas\n",
       "1 8.67967   4.464       0.4185  0.5143             3633.971     11767.435    \n",
       "2 8.67967   4.464       0.4659  0.5143             2386.977     10389.987    \n",
       "3 8.68067   4.464       0.4161  0.5142             2154.000      9093.244    \n",
       "4 8.68067   4.464       0.4001  0.5142             3088.159      8092.164    \n",
       "5 8.68067   4.464       0.3670  0.5142             4629.707      8383.997    \n",
       "6 8.68223   4.464       0.5729  0.5142             6105.145      9585.005    \n",
       "  sd_aportes sd_reservas Aportes_Normalizados Reservas_Normalizadas\n",
       "1 1505.2603   921.1445   -1.4692107           -0.8677345           \n",
       "2  838.8306  1037.1709   -0.7125680            0.8381090           \n",
       "3  870.8353  1048.3988    0.6551259            1.1786950           \n",
       "4 1374.5478  1406.5347    2.8687500           -0.8351509           \n",
       "5 2043.8155  1740.7662   -0.5951994            1.7032394           \n",
       "6 1696.6865  1903.9624    1.0300557           -1.2760552           "
      ]
     },
     "metadata": {},
     "output_type": "display_data"
    }
   ],
   "source": [
    "tail(df)"
   ]
  },
  {
   "cell_type": "code",
   "execution_count": 216,
   "metadata": {},
   "outputs": [],
   "source": [
    "generar_archivos<-function(df, start_at, n_iter, folder_location){\n",
    "    \n",
    "    \n",
    "    if(dir.exists('./Resultados/')){\n",
    "        while(file.remove(list.files(path = folder_location,pattern = '[0-9][0-9][0-9][0-9][0-9].csv',full.names = TRUE)[1])==TRUE){\n",
    "            list.files(path = folder_location,pattern = '[0-9][0-9][0-9][0-9][0-9].csv',full.names = TRUE)[1]\n",
    "        }\n",
    "\n",
    "        fechaini<-as.Date(start_at)\n",
    "\n",
    "        for( i in seq(n_iter)){\n",
    "\n",
    "            #Normalizar aportes\n",
    "            #normalizar reservas\n",
    "            #Agregar variables calculadas\n",
    "            df<-precios(df,fechaini)\n",
    "            df<-oni(df,fechaini)\n",
    "            df<-aportes(df,fechaini)\n",
    "            df<-reservas(df,fechaini)\n",
    "            df<-demanda(df,fechaini)\n",
    "            df<-columnas_calculadas(df)\n",
    "\n",
    "            #pronostico de variables calculadas\n",
    "            write_csv(df, paste0(folder_location,str_pad(i, pad = 0, width = 5),'.csv'))\n",
    "        }\n",
    "    } else{\n",
    "        cat('Error: Directorio no existe en esta mquina')\n",
    "    }\n",
    "}"
   ]
  },
  {
   "cell_type": "code",
   "execution_count": 217,
   "metadata": {
    "collapsed": true
   },
   "outputs": [],
   "source": [
    "generar_archivos(df,start_at = '2019-06-01',n_iter = 20,folder_location = './Resultados/')"
   ]
  },
  {
   "cell_type": "markdown",
   "metadata": {},
   "source": [
    "# Tareas"
   ]
  },
  {
   "cell_type": "code",
   "execution_count": 218,
   "metadata": {
    "collapsed": true
   },
   "outputs": [],
   "source": [
    "#para el oni es un AR qe estime el P optimo y genere hacia adelante una serie sintetica y llenar 2h\n",
    "#hacer el arx pronosticar uno a uno y tiene como entrada el ONI y se devuelven las unidades 2h\n",
    "#hacer arx con oni, aportes, relacion T/H y me devuelvo 2h\n",
    "#un modelo simple de precio 2h"
   ]
  },
  {
   "cell_type": "code",
   "execution_count": null,
   "metadata": {
    "collapsed": true
   },
   "outputs": [],
   "source": []
  }
 ],
 "metadata": {
  "kernelspec": {
   "display_name": "R",
   "language": "R",
   "name": "ir"
  },
  "language_info": {
   "codemirror_mode": "r",
   "file_extension": ".r",
   "mimetype": "text/x-r-source",
   "name": "R",
   "pygments_lexer": "r",
   "version": "3.3.3"
  }
 },
 "nbformat": 4,
 "nbformat_minor": 2
}
