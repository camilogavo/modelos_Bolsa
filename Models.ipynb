{
 "cells": [
  {
   "cell_type": "code",
   "execution_count": 16,
   "metadata": {},
   "outputs": [],
   "source": [
    "library(tidyverse)\n",
    "library(lubridate)\n",
    "library(forecast) # Para modelos AR"
   ]
  },
  {
   "cell_type": "code",
   "execution_count": 192,
   "metadata": {
    "collapsed": true
   },
   "outputs": [],
   "source": [
    "df<-read_csv('df.csv',col_names = TRUE,cols(\n",
    "  Ano = col_double(),\n",
    "  Mes = col_double(),\n",
    "  Ano_Mes = col_character(),\n",
    "  Fecha = col_date(format = \"\"),\n",
    "  Precios_Mensuales = col_double(),\n",
    "  Aportes_Energia_GWh = col_double(),\n",
    "  Volumen_Util_Diario_Energia_GWh = col_double(),\n",
    "  Demanda_Energia_SIN_GWh = col_double(),\n",
    "  ONI = col_double(),\n",
    "  CEN_Total = col_double(),\n",
    "  CEN_Hidro = col_double(),\n",
    "  CEN_Termica = col_double()\n",
    "))"
   ]
  },
  {
   "cell_type": "markdown",
   "metadata": {},
   "source": [
    "# Creacion de funciones"
   ]
  },
  {
   "cell_type": "code",
   "execution_count": 179,
   "metadata": {
    "collapsed": true
   },
   "outputs": [],
   "source": [
    "oni<-function(df, start_at){\n",
    "    \n",
    "    fechaini<-as.Date(start_at)\n",
    "    \n",
    "    n_pronosticos<-df%>%filter(Fecha>=start_at)%>%select(ONI)%>%nrow\n",
    "    \n",
    "    \n",
    "    while(any(is.na(df$ONI))){\n",
    "        fila<-sum(complete.cases(df$ONI))+1\n",
    "        m<-auto.arima(unlist(unname(df[1:fila-1,'ONI'])),max.q = 0,max.Q = 0,max.d = 0,max.D = 0)\n",
    "        y_est<-round(as.vector(unlist(forecast(m, 24)['mean'])),1)\n",
    "        df$ONI[is.na(df$ONI)]<-y_est\n",
    "    }\n",
    "    #df$ONI[df$Fecha>=as.Date(start_at)]<-round(runif(n_pronosticos,-0.5,0.5),1)\n",
    "    \n",
    "    return(df)\n",
    "}\n",
    "#ok"
   ]
  },
  {
   "cell_type": "code",
   "execution_count": 180,
   "metadata": {
    "collapsed": true
   },
   "outputs": [],
   "source": [
    "aportes<-function(df, start_at, rezagos_oni=12,rezagos_aportes=24){\n",
    "    \n",
    "    fechaini<-as.Date(start_at)\n",
    "    #n_aleatorios<-df%>%filter(Fecha>=start_at)%>%select(Aportes_Energia_GWh)%>%nrow\n",
    "    #df$Aportes_Energia_GWh[df$Fecha>=as.Date(start_at)]<-round(runif(n_aleatorios,min(df$Aportes_Energia_GWh,na.rm = TRUE),max(df$Aportes_Energia_GWh,na.rm = TRUE)),3)\n",
    "\n",
    "    fecha_forecast<-seq.Date(from = as.Date(fechaini),length.out = 24,by = 'month')  # Meses para iterar\n",
    "\n",
    "    for(i in seq(length(fecha_forecast))){                                       # Inicia el pronostico un paso adelante\n",
    "    \n",
    "        temp<-df%>%select(Fecha, Aportes_Energia_GWh, ONI, Aportes_Normalizados) \n",
    "        rezagos_oni<-rezagos_oni                                                #Rezagos para el ONI (parametrizable)\n",
    "        rezagos_aportes<-rezagos_aportes                                        #Rezagos para los Aportes (parametrizable)\n",
    "\n",
    "        for(j in seq(rezagos_oni)){                                             #Creacion de columnas rezagadas ONI\n",
    "            col_oni<-paste0('ONI_',j)                                           #   \n",
    "            temp[[col_oni]]<-lag(df$ONI,j)                                      #\n",
    "        }                                                                       #\n",
    "\n",
    "        for(k in seq(rezagos_aportes)){                                         #Creacion de columnas rezagadas Aportes\n",
    "            col_aportes<-paste0('Aportes_',k)                                   #\n",
    "            temp[[col_aportes]]<-lag(df$Aportes_Normalizados,k)                 #\n",
    "        }                                                                       #\n",
    "\n",
    "        new_data<-temp\n",
    "        \n",
    "        \n",
    "        \n",
    "        temp<-temp%>%select(-1,-2,-3,Aportes_Normalizados,                      #Elimina Fecha, Aportes_Energia, ONI\n",
    "                                    starts_with('Aportes_[0-9]'),               #Trae los rezagos de Aportes\n",
    "                                    starts_with('ONI_'))                        #Trae los rezagos de ONI\n",
    "\n",
    "\n",
    "        temp<-temp%>%drop_na()                                                  #Elimina las fechas con valores NA\n",
    "\n",
    "        #Aplicamos un modelo Forward Selection\n",
    "        m_FitAll<-lm(Aportes_Normalizados~.,data = temp)                        #Ajusta un modelo con todas las vars\n",
    "        m<-(step(lm(Aportes_Normalizados~1,data=temp),direction = 'forward',scope = formula(m_FitAll),trace = 0))\n",
    "\n",
    "        # Seleccionar solo variables significativas\n",
    "        toselect.x<-summary(m)$coeff[,4] < 0.01                                 #Define el parametro de tolerancia\n",
    "        relevant.x <- names(toselect.x)[toselect.x == TRUE]                  \n",
    "        sig.formula <- as.formula(paste(\"Aportes_Normalizados ~\",paste(relevant.x,collapse = '+'))) \n",
    "\n",
    "        m<-lm(formula = sig.formula,data = temp)                                #Ajusta el modelo final\n",
    "        \n",
    "        y_est<-round(as.vector(unlist(unname(forecast(m,h = 1,newdata = new_data%>%filter(Fecha==fecha_forecast[i]%m+%months(-1))%>%select(Fecha, one_of(names(summary(m)$coeff[-1,1])))%>%select(-Fecha))['mean']))),4)\n",
    "        \n",
    "        df$Aportes_Normalizados[df$Fecha==fecha_forecast[i]]<-y_est\n",
    "\n",
    "    }\n",
    "    \n",
    "    return(df)\n",
    "}"
   ]
  },
  {
   "cell_type": "code",
   "execution_count": 181,
   "metadata": {},
   "outputs": [],
   "source": [
    "reservas<-function(df, start_at, rezagos_aportes, rezagos_oni,rezagos_reserva, rezagos_termica_hidrica){\n",
    "    \n",
    "    fechaini<-as.Date(start_at)\n",
    "    #n_aleatorios<-df%>%filter(Fecha>=start_at)%>%select(Volumen_Util_Diario_Energia_GWh)%>%nrow\n",
    "    #df$Volumen_Util_Diario_Energia_GWh[df$Fecha>=as.Date(start_at)]<-round(runif(n_aleatorios,min(df$Volumen_Util_Diario_Energia_GWh,na.rm = TRUE),max(df$Volumen_Util_Diario_Energia_GWh,na.rm = TRUE)),3)\n",
    "    \n",
    "    fecha_forecast<-seq.Date(from = as.Date(fechaini),length.out = 24,by = 'month')  # Meses para iterar\n",
    "\n",
    "    for(i in seq(length(fecha_forecast))){                                       # Inicia el pronostico un paso adelante\n",
    "    \n",
    "        temp<-df%>%select(Fecha, Aportes_Energia_GWh, ONI, Aportes_Normalizados,Reservas_Normalizadas) \n",
    "        \n",
    "        rezagos_oni<-rezagos_oni                                                #Rezagos para el ONI (parametrizable)\n",
    "        rezagos_aportes<-rezagos_aportes                                        #Rezagos para los Aportes (parametrizable)\n",
    "        rezagos_reserva<-rezagos_reserva\n",
    "        rezagos_termica_hidrica<-rezagos_termica_hidrica\n",
    "        \n",
    "        for(j in seq(rezagos_oni)){                                             #Creacion de columnas rezagadas ONI\n",
    "            col_oni<-paste0('ONI_',j)                                           #   \n",
    "            temp[[col_oni]]<-lag(df$ONI,j)                                      #\n",
    "        }                                                                       #\n",
    "\n",
    "        for(k in seq(rezagos_aportes)){                                         #Creacion de columnas rezagadas Aportes\n",
    "            col_aportes<-paste0('Aportes_',k)                                   #\n",
    "            temp[[col_aportes]]<-lag(df$Aportes_Normalizados,k)                 #\n",
    "        }                                                                       #\n",
    "        \n",
    "        for(p in seq(rezagos_reserva)){                                         #Creacion de columnas rezagadas Aportes\n",
    "            col_reservas<-paste0('Reservas_',p)                                 #\n",
    "            temp[[col_reservas]]<-lag(df$Reservas_Normalizadas,p)               #\n",
    "        }                                                                       #\n",
    "        \n",
    "        for(p in seq(rezagos_termica_hidrica)){                                         #Creacion de columnas rezagadas Aportes\n",
    "            col_calc<-paste0('Term_Hidraulica_',p)                                 #\n",
    "            temp[[col_calc]]<-lag(df$Termica_Hidraulica,p)               #\n",
    "        }                                                                       #\n",
    "\n",
    "\n",
    "\n",
    "        new_data<-temp\n",
    "        \n",
    "        \n",
    "        \n",
    "        temp<-temp%>%select(-1,-2,-3,\n",
    "                                    -Aportes_Normalizados,\n",
    "                                    Reservas_Normalizadas,                     #Elimina Fecha, Aportes_Energia, ONI\n",
    "                                    starts_with('Aportes_[0-9]'),               #Trae los rezagos de Aportes\n",
    "                                    starts_with('Reservas_[0-9]'),              #Trae los rezagos de Reservas\n",
    "                                    starts_with('Term_Hidraulica_[0-9]'),       #Trae los rezagos de Term_Hidraulica (calculada)\n",
    "                                    starts_with('ONI_'))                        #Trae los rezagos de ONI\n",
    "\n",
    "\n",
    "        temp<-temp%>%drop_na()                                                  #Elimina las fechas con valores NA\n",
    "\n",
    "        #Aplicamos un modelo Forward Selection\n",
    "        m_FitAll<-lm(Reservas_Normalizadas~.,data = temp)                        #Ajusta un modelo con todas las vars\n",
    "        m<-(step(lm(Reservas_Normalizadas~1,data=temp),direction = 'forward',scope = formula(m_FitAll),trace = 0))\n",
    "\n",
    "        # Seleccionar solo variables significativas\n",
    "        toselect.x<-summary(m)$coeff[,4] < 0.01                                 #Define el parametro de tolerancia\n",
    "        relevant.x <- names(toselect.x)[toselect.x == TRUE]                  \n",
    "        sig.formula <- as.formula(paste(\"Reservas_Normalizadas ~\",paste(relevant.x,collapse = '+'))) \n",
    "\n",
    "        m<-lm(formula = sig.formula,data = temp)                                #Ajusta el modelo final\n",
    "        y_est<-round(as.vector(unlist(unname(forecast(m,h = 1,newdata = new_data%>%filter(Fecha==fecha_forecast[i]%m+%months(-1))%>%select(Fecha, one_of(names(summary(m)$coeff[-1,1])))%>%select(-Fecha))['mean']))),4)\n",
    "        \n",
    "        df$Reservas_Normalizadas[df$Fecha==fecha_forecast[i]]<-y_est\n",
    "\n",
    "    }\n",
    "\n",
    "\n",
    "    \n",
    "    return(df)\n",
    "}"
   ]
  },
  {
   "cell_type": "code",
   "execution_count": 182,
   "metadata": {},
   "outputs": [
    {
     "data": {
      "text/html": [
       "<table>\n",
       "<thead><tr><th scope=col>Ano</th><th scope=col>Mes</th><th scope=col>Ano_Mes</th><th scope=col>Fecha</th><th scope=col>Precios_Mensuales</th><th scope=col>Aportes_Energia_GWh</th><th scope=col>Volumen_Util_Diario_Energia_GWh</th><th scope=col>Demanda_Energia_SIN_GWh</th><th scope=col>ONI</th><th scope=col>CEN_Total</th><th scope=col>CEN_Hidro</th><th scope=col>CEN_Termica</th></tr></thead>\n",
       "<tbody>\n",
       "\t<tr><td>2021      </td><td>5         </td><td>2021-05   </td><td>2021-05-01</td><td>NA        </td><td>NA        </td><td>NA        </td><td>NA        </td><td>NA        </td><td>13.16023  </td><td>8.68223   </td><td>4.464     </td></tr>\n",
       "</tbody>\n",
       "</table>\n"
      ],
      "text/latex": [
       "\\begin{tabular}{r|llllllllllll}\n",
       " Ano & Mes & Ano\\_Mes & Fecha & Precios\\_Mensuales & Aportes\\_Energia\\_GWh & Volumen\\_Util\\_Diario\\_Energia\\_GWh & Demanda\\_Energia\\_SIN\\_GWh & ONI & CEN\\_Total & CEN\\_Hidro & CEN\\_Termica\\\\\n",
       "\\hline\n",
       "\t 2021       & 5          & 2021-05    & 2021-05-01 & NA         & NA         & NA         & NA         & NA         & 13.16023   & 8.68223    & 4.464     \\\\\n",
       "\\end{tabular}\n"
      ],
      "text/markdown": [
       "\n",
       "Ano | Mes | Ano_Mes | Fecha | Precios_Mensuales | Aportes_Energia_GWh | Volumen_Util_Diario_Energia_GWh | Demanda_Energia_SIN_GWh | ONI | CEN_Total | CEN_Hidro | CEN_Termica | \n",
       "|---|\n",
       "| 2021       | 5          | 2021-05    | 2021-05-01 | NA         | NA         | NA         | NA         | NA         | 13.16023   | 8.68223    | 4.464      | \n",
       "\n",
       "\n"
      ],
      "text/plain": [
       "  Ano  Mes Ano_Mes Fecha      Precios_Mensuales Aportes_Energia_GWh\n",
       "1 2021 5   2021-05 2021-05-01 NA                NA                 \n",
       "  Volumen_Util_Diario_Energia_GWh Demanda_Energia_SIN_GWh ONI CEN_Total\n",
       "1 NA                              NA                      NA  13.16023 \n",
       "  CEN_Hidro CEN_Termica\n",
       "1 8.68223   4.464      "
      ]
     },
     "metadata": {},
     "output_type": "display_data"
    }
   ],
   "source": [
    "df%>%tail(1)#%>%select(Fecha, ONI,Aportes_Normalizados,Reservas_Normalizadas)"
   ]
  },
  {
   "cell_type": "code",
   "execution_count": 183,
   "metadata": {},
   "outputs": [
    {
     "ename": "ERROR",
     "evalue": "Error in .f(.x[[i]], ...): object 'Aportes_Normalizados' not found\n",
     "output_type": "error",
     "traceback": [
      "Error in .f(.x[[i]], ...): object 'Aportes_Normalizados' not found\nTraceback:\n",
      "1. df %>% select(Fecha, Aportes_Normalizados, Reservas_Normalizadas, \n .     Demanda_Energia_SIN_GWh, Dem_CEN, Precios_Mensuales)",
      "2. withVisible(eval(quote(`_fseq`(`_lhs`)), env, env))",
      "3. eval(quote(`_fseq`(`_lhs`)), env, env)",
      "4. eval(expr, envir, enclos)",
      "5. `_fseq`(`_lhs`)",
      "6. freduce(value, `_function_list`)",
      "7. withVisible(function_list[[k]](value))",
      "8. function_list[[k]](value)",
      "9. select(., Fecha, Aportes_Normalizados, Reservas_Normalizadas, \n .     Demanda_Energia_SIN_GWh, Dem_CEN, Precios_Mensuales)",
      "10. select.data.frame(., Fecha, Aportes_Normalizados, Reservas_Normalizadas, \n  .     Demanda_Energia_SIN_GWh, Dem_CEN, Precios_Mensuales)",
      "11. tidyselect::vars_select(names(.data), !(!(!quos(...))))",
      "12. vars_select_eval(.vars, quos)",
      "13. map_if(quos, !is_helper, eval_tidy, mask)",
      "14. map(.x[sel], .f, ...)",
      "15. .f(.x[[i]], ...)"
     ]
    }
   ],
   "source": [
    "fecha_forecast<-seq.Date(from = as.Date('2016-06-01'),length.out = 24,by = 'month')  # Meses para iterar\n",
    "\n",
    "        \n",
    "\n",
    "        temp<-df%>%select(Fecha,  Aportes_Normalizados,Reservas_Normalizadas, Demanda_Energia_SIN_GWh, Dem_CEN, Precios_Mensuales) \n",
    "        \n",
    "        rezagos_precios<-24\n",
    "        rezagos_aportes<-24                                        #Rezagos para los Aportes (parametrizable)\n",
    "        rezagos_reserva<-24\n",
    "        rezagos_demanda<-24\n",
    "        rezagos_dem_cen<-24\n",
    "\n",
    "        \n",
    "         for(k in seq(rezagos_precios)){                                         #Creacion de columnas rezagadas Aportes\n",
    "            col_precios<-paste0('Precios_',k)                                   #\n",
    "            temp[[col_precios]]<-lag(df$Precios_Mensuales,k)                 #\n",
    "        }                                                                       #\n",
    "\n",
    "\n",
    "        for(k in seq(rezagos_aportes)){                                         #Creacion de columnas rezagadas Aportes\n",
    "            col_aportes<-paste0('Aportes_',k)                                   #\n",
    "            temp[[col_aportes]]<-lag(df$Aportes_Normalizados,k)                 #\n",
    "        }                                                                       #\n",
    "        \n",
    "        for(p in seq(rezagos_reserva)){                                         #Creacion de columnas rezagadas Aportes\n",
    "            col_reservas<-paste0('Reservas_',p)                                 #\n",
    "            temp[[col_reservas]]<-lag(df$Reservas_Normalizadas,p)               #\n",
    "        }                                                                       #\n",
    "        \n",
    "        for(p in seq(rezagos_demanda)){                                         #Creacion de columnas rezagadas Aportes\n",
    "            col_demanda<-paste0('Demanda_GWh_',p)                                  #\n",
    "            temp[[col_demanda]]<-lag(df$Demanda_Energia_SIN_GWh,p)                 #\n",
    "        }                                                                       #\n",
    "\n",
    "\n",
    "        for(p in seq(rezagos_dem_cen)){                                         #Creacion de columnas rezagadas Aportes\n",
    "            col_dem_cen<-paste0('Dem_cen_',p)                                      #\n",
    "            temp[[col_dem_cen]]<-lag(df$Dem_CEN,p)                                 #\n",
    "        }                                                                       #\n",
    "\n",
    "\n",
    "\n",
    "        new_data<-temp\n",
    "\n",
    "        \n",
    "\n",
    "        temp<-temp%>%select(-1,-2,-3,-4,-5, Precios_Mensuales, \n",
    "                                      starts_with('Precios_'),\n",
    "                                      starts_with('Aportes_[0-9]'),\n",
    "                                      starts_with('Reservas_[0-9]'),\n",
    "                                      starts_with('Demanda_GWh_[0-9]'),\n",
    "                                      starts_with('Dem_cen_[0-9]'))\n",
    "        temp<-temp%>%drop_na()\n",
    "\n",
    "        #Aplicamos un modelo Forward Selection\n",
    "        m_FitAll<-lm(Precios_Mensuales~.,data = temp)                        #Ajusta un modelo con todas las vars\n",
    "        m<-(step(lm(Precios_Mensuales~1,data=temp),direction = 'forward',scope = formula(m_FitAll),trace = 0))\n",
    "\n",
    "        # Seleccionar solo variables significativas\n",
    "        toselect.x<-summary(m)$coeff[,4] < 0.01                                 #Define el parametro de tolerancia\n",
    "        relevant.x <- names(toselect.x)[toselect.x == TRUE]\n",
    "        relevant.x<-relevant.x[relevant.x != '(Intercept)']\n",
    "        sig.formula <- as.formula(paste(\"Precios_Mensuales ~\",paste(relevant.x,collapse = '+'))) \n",
    "\n",
    "         m<-lm(formula = sig.formula,data = temp)                                #Ajusta el modelo final\n",
    "         y_est<-round(as.vector(unlist(unname(forecast(m,h = 1,newdata = new_data%>%filter(Fecha==fecha_forecast[1]%m+%months(-1))%>%select(Fecha, one_of(names(summary(m)$coeff[-1,1])))%>%select(-Fecha))['mean']))),4)\n",
    "         df$Precios_Mensuales[df$Fecha==fecha_forecast[1]]<-y_est\n"
   ]
  },
  {
   "cell_type": "code",
   "execution_count": 194,
   "metadata": {
    "collapsed": true
   },
   "outputs": [],
   "source": [
    "precios<-function(df, start_at,\n",
    "                  rezagos_precios,\n",
    "                  rezagos_aportes,\n",
    "                  rezagos_reserva,\n",
    "                  rezagos_demanda,\n",
    "                  rezagos_dem_cen){\n",
    "    \n",
    "    fechaini<-as.Date(start_at)\n",
    "    #n_aleatorios<-df%>%filter(Fecha>=start_at)%>%select(Precios_Mensuales)%>%nrow\n",
    "    #df$Precios_Mensuales[df$Fecha>=as.Date(start_at)]<-round(runif(n_aleatorios,min(df$Precios_Mensuales,na.rm = TRUE),max(df$Precios_Mensuales,na.rm = TRUE)),3)\n",
    "    \n",
    "    fecha_forecast<-seq.Date(from = as.Date(fechaini),length.out = 24,by = 'month')  # Meses para iterar\n",
    "\n",
    "    for(i in seq(length(fecha_forecast))){                                       # Inicia el pronostico un paso adelante\n",
    "\n",
    "        temp<-df%>%select(Fecha,  Aportes_Normalizados,Reservas_Normalizadas, Demanda_Energia_SIN_GWh, Dem_CEN, Precios_Mensuales) \n",
    "        \n",
    "        rezagos_precios<-24\n",
    "        rezagos_aportes<-24                                        #Rezagos para los Aportes (parametrizable)\n",
    "        rezagos_reserva<-24\n",
    "        rezagos_demanda<-24\n",
    "        rezagos_dem_cen<-24\n",
    "\n",
    "        \n",
    "         for(k in seq(rezagos_precios)){                                         #Creacion de columnas rezagadas Aportes\n",
    "            col_precios<-paste0('Precios_',k)                                   #\n",
    "            temp[[col_precios]]<-lag(df$Precios_Mensuales,k)                 #\n",
    "        }                                                                       #\n",
    "\n",
    "\n",
    "        for(k in seq(rezagos_aportes)){                                         #Creacion de columnas rezagadas Aportes\n",
    "            col_aportes<-paste0('Aportes_',k)                                   #\n",
    "            temp[[col_aportes]]<-lag(df$Aportes_Normalizados,k)                 #\n",
    "        }                                                                       #\n",
    "        \n",
    "        for(p in seq(rezagos_reserva)){                                         #Creacion de columnas rezagadas Aportes\n",
    "            col_reservas<-paste0('Reservas_',p)                                 #\n",
    "            temp[[col_reservas]]<-lag(df$Reservas_Normalizadas,p)               #\n",
    "        }                                                                       #\n",
    "        \n",
    "        for(p in seq(rezagos_demanda)){                                         #Creacion de columnas rezagadas Aportes\n",
    "            col_demanda<-paste0('Demanda_GWh_',p)                                  #\n",
    "            temp[[col_demanda]]<-lag(df$Demanda_Energia_SIN_GWh,p)                 #\n",
    "        }                                                                       #\n",
    "\n",
    "\n",
    "        for(p in seq(rezagos_dem_cen)){                                         #Creacion de columnas rezagadas Aportes\n",
    "            col_dem_cen<-paste0('Dem_cen_',p)                                      #\n",
    "            temp[[col_dem_cen]]<-lag(df$Dem_CEN,p)                                 #\n",
    "        }                                                                       #\n",
    "\n",
    "\n",
    "\n",
    "        new_data<-temp\n",
    "\n",
    "        \n",
    "\n",
    "        temp<-temp%>%select(-1,-2,-3,-4,-5, Precios_Mensuales, \n",
    "                                      starts_with('Precios_'),\n",
    "                                      starts_with('Aportes_[0-9]'),\n",
    "                                      starts_with('Reservas_[0-9]'),\n",
    "                                      starts_with('Demanda_GWh_[0-9]'),\n",
    "                                      starts_with('Dem_cen_[0-9]'))\n",
    "        temp<-temp%>%drop_na()\n",
    "\n",
    "        #Aplicamos un modelo Forward Selection\n",
    "        m_FitAll<-lm(Precios_Mensuales~.,data = temp)                        #Ajusta un modelo con todas las vars\n",
    "        m<-(step(lm(Precios_Mensuales~1,data=temp),direction = 'forward',scope = formula(m_FitAll),trace = 0))\n",
    "\n",
    "        # Seleccionar solo variables significativas\n",
    "        toselect.x<-summary(m)$coeff[,4] < 0.01                                 #Define el parametro de tolerancia\n",
    "        relevant.x <- names(toselect.x)[toselect.x == TRUE]\n",
    "        relevant.x<-relevant.x[relevant.x != '(Intercept)']\n",
    "        sig.formula <- as.formula(paste(\"Precios_Mensuales ~\",paste(relevant.x,collapse = '+'))) \n",
    "\n",
    "         m<-lm(formula = sig.formula,data = temp)                                #Ajusta el modelo final\n",
    "         y_est<-round(as.vector(unlist(unname(forecast(m,h = 1,newdata = new_data%>%filter(Fecha==fecha_forecast[i]%m+%months(-1))%>%select(Fecha, one_of(names(summary(m)$coeff[-1,1])))%>%select(-Fecha))['mean']))),4)\n",
    "         df$Precios_Mensuales[df$Fecha==fecha_forecast[i]]<-y_est\n",
    "        \n",
    "\n",
    "    }\n",
    "\n",
    "\n",
    "    \n",
    "    return(df)\n",
    "}"
   ]
  },
  {
   "cell_type": "code",
   "execution_count": 195,
   "metadata": {
    "collapsed": true
   },
   "outputs": [],
   "source": [
    "demanda<-function(df, start_at){\n",
    "    \n",
    "    fechaini<-as.Date(start_at)\n",
    "    n_aleatorios<-df%>%filter(Fecha>=start_at)%>%select(Demanda_Energia_SIN_GWh)%>%nrow\n",
    "    df$Demanda_Energia_SIN_GWh[df$Fecha>=as.Date(start_at)]<-round(runif(n_aleatorios,min(df$Demanda_Energia_SIN_GWh,na.rm = TRUE),max(df$Demanda_Energia_SIN_GWh,na.rm = TRUE)),3)\n",
    "    \n",
    "    return(df)\n",
    "}"
   ]
  },
  {
   "cell_type": "code",
   "execution_count": 196,
   "metadata": {
    "collapsed": true
   },
   "outputs": [],
   "source": [
    "columnas_calculadas<-function(df){\n",
    "    #debo montar dem_CEN\n",
    "    df$Dem_CEN<-round(df$Demanda_Energia_SIN_GWh/(as.vector(days_in_month(df$Fecha))*df$CEN_Total*24),4)\n",
    "    #debo montar Term_Hidro\n",
    "    df$Termica_Hidraulica<-round(df$CEN_Termica/df$CEN_Hidro,4)\n",
    "    \n",
    "    return(df)\n",
    "}"
   ]
  },
  {
   "cell_type": "code",
   "execution_count": 197,
   "metadata": {
    "collapsed": true
   },
   "outputs": [],
   "source": [
    "normalizar_hidrologia<-function(df){\n",
    "    df<-df%>%\n",
    "        left_join(\n",
    "                df%>%arrange(Mes)%>%group_by(Mes)%>%summarize(mean_aportes = mean(Aportes_Energia_GWh,na.rm = TRUE), \n",
    "                                                              mean_reservas = mean(Volumen_Util_Diario_Energia_GWh,na.rm = TRUE),\n",
    "                                                              sd_aportes = sd(Aportes_Energia_GWh, na.rm = TRUE),\n",
    "                                                              sd_reservas = sd(Volumen_Util_Diario_Energia_GWh,na.rm = TRUE)),by='Mes')%>%\n",
    "    mutate(\n",
    "        Aportes_Normalizados = (Aportes_Energia_GWh-mean_aportes)/sd_aportes,\n",
    "        Reservas_Normalizadas = (Volumen_Util_Diario_Energia_GWh-mean_reservas)/sd_reservas)\n",
    "    \n",
    "    return(df)\n",
    "}"
   ]
  },
  {
   "cell_type": "markdown",
   "metadata": {},
   "source": [
    "# Probar funciones"
   ]
  },
  {
   "cell_type": "code",
   "execution_count": 198,
   "metadata": {
    "scrolled": false
   },
   "outputs": [
    {
     "ename": "ERROR",
     "evalue": "Error in mutate_impl(.data, dots): Evaluation error: object 'mean_aportes' not found.\n",
     "output_type": "error",
     "traceback": [
      "Error in mutate_impl(.data, dots): Evaluation error: object 'mean_aportes' not found.\nTraceback:\n",
      "1. normalizar_hidrologia(df)",
      "2. df %>% left_join(df %>% arrange(Mes) %>% group_by(Mes) %>% summarize(mean_aportes = mean(Aportes_Energia_GWh, \n .     na.rm = TRUE), mean_reservas = mean(Volumen_Util_Diario_Energia_GWh, \n .     na.rm = TRUE), sd_aportes = sd(Aportes_Energia_GWh, na.rm = TRUE), \n .     sd_reservas = sd(Volumen_Util_Diario_Energia_GWh, na.rm = TRUE)), \n .     by = \"Mes\") %>% mutate(Aportes_Normalizados = (Aportes_Energia_GWh - \n .     mean_aportes)/sd_aportes, Reservas_Normalizadas = (Volumen_Util_Diario_Energia_GWh - \n .     mean_reservas)/sd_reservas)   # at line 2-10 of file <text>",
      "3. withVisible(eval(quote(`_fseq`(`_lhs`)), env, env))",
      "4. eval(quote(`_fseq`(`_lhs`)), env, env)",
      "5. eval(expr, envir, enclos)",
      "6. `_fseq`(`_lhs`)",
      "7. freduce(value, `_function_list`)",
      "8. withVisible(function_list[[k]](value))",
      "9. function_list[[k]](value)",
      "10. mutate(., Aportes_Normalizados = (Aportes_Energia_GWh - mean_aportes)/sd_aportes, \n  .     Reservas_Normalizadas = (Volumen_Util_Diario_Energia_GWh - \n  .         mean_reservas)/sd_reservas)",
      "11. mutate.tbl_df(., Aportes_Normalizados = (Aportes_Energia_GWh - \n  .     mean_aportes)/sd_aportes, Reservas_Normalizadas = (Volumen_Util_Diario_Energia_GWh - \n  .     mean_reservas)/sd_reservas)",
      "12. mutate_impl(.data, dots)"
     ]
    }
   ],
   "source": [
    "df<-normalizar_hidrologia(df)\n",
    "df<-demanda(df,start_at = '2019-06-01')\n",
    "df<-columnas_calculadas(df)\n",
    "df<-oni(df,start_at = '2019-06-01')\n",
    "df<-aportes(df,start_at = '2019-06-01',rezagos_oni = 12,rezagos_aportes = 24)\n",
    "df<-reservas(df,start_at = '2019-06-01', rezagos_oni = 12,rezagos_aportes = 24,rezagos_reserva = 24,rezagos_termica_hidrica = 12)\n",
    "df<-precios(df,start_at = '2019-06-01',rezagos_precios = 24,rezagos_aportes = 24,rezagos_reserva = 24,rezagos_demanda = 24,rezagos_dem_cen = 24)"
   ]
  },
  {
   "cell_type": "code",
   "execution_count": 174,
   "metadata": {
    "scrolled": false
   },
   "outputs": [
    {
     "data": {
      "text/html": [
       "<table>\n",
       "<thead><tr><th scope=col>Ano</th><th scope=col>Mes</th><th scope=col>Ano_Mes</th><th scope=col>Fecha</th><th scope=col>Precios_Mensuales</th><th scope=col>Aportes_Energia_GWh</th><th scope=col>Volumen_Util_Diario_Energia_GWh</th><th scope=col>Demanda_Energia_SIN_GWh</th><th scope=col>ONI</th><th scope=col>CEN_Total</th><th scope=col>CEN_Hidro</th><th scope=col>CEN_Termica</th><th scope=col>mean_aportes</th><th scope=col>mean_reservas</th><th scope=col>sd_aportes</th><th scope=col>sd_reservas</th><th scope=col>Aportes_Normalizados</th><th scope=col>Reservas_Normalizadas</th><th scope=col>Dem_CEN</th><th scope=col>Termica_Hidraulica</th></tr></thead>\n",
       "<tbody>\n",
       "\t<tr><td>2021      </td><td>1         </td><td>2021-01   </td><td>2021-01-01</td><td>NA        </td><td>NA        </td><td>NA        </td><td>5123.809  </td><td>-0.1      </td><td>13.15767  </td><td>8.67967   </td><td>4.464     </td><td>2387.357  </td><td>10418.906 </td><td> 860.5643 </td><td>1018.8277 </td><td>0.3756    </td><td>-0.1829   </td><td>NA        </td><td>0.5143    </td></tr>\n",
       "\t<tr><td>2021      </td><td>2         </td><td>2021-02   </td><td>2021-02-01</td><td>NA        </td><td>NA        </td><td>NA        </td><td>5816.269  </td><td> 0.0      </td><td>13.15867  </td><td>8.68067   </td><td>4.464     </td><td>1977.469  </td><td> 8931.573 </td><td> 571.9035 </td><td> 947.0586 </td><td>0.3597    </td><td>-0.2316   </td><td>NA        </td><td>0.5142    </td></tr>\n",
       "\t<tr><td>2021      </td><td>3         </td><td>2021-03   </td><td>2021-03-01</td><td>NA        </td><td>NA        </td><td>NA        </td><td>3974.901  </td><td> 0.0      </td><td>13.15867  </td><td>8.68067   </td><td>4.464     </td><td>2921.435  </td><td> 7971.466 </td><td>1105.0457 </td><td>1191.9835 </td><td>0.3392    </td><td>-0.2086   </td><td>NA        </td><td>0.5142    </td></tr>\n",
       "\t<tr><td>2021      </td><td>4         </td><td>2021-04   </td><td>2021-04-01</td><td>NA        </td><td>NA        </td><td>NA        </td><td>5594.153  </td><td> 0.0      </td><td>13.15867  </td><td>8.68067   </td><td>4.464     </td><td>4456.870  </td><td> 8298.807 </td><td>1832.5230 </td><td>1671.8904 </td><td>0.3010    </td><td>-0.2603   </td><td>NA        </td><td>0.5142    </td></tr>\n",
       "\t<tr><td>2021      </td><td>5         </td><td>2021-05   </td><td>2021-05-01</td><td>NA        </td><td>NA        </td><td>NA        </td><td>5046.454  </td><td> 0.0      </td><td>13.16023  </td><td>8.68223   </td><td>4.464     </td><td>6027.007  </td><td> 9605.625 </td><td>1735.7382 </td><td>1865.8465 </td><td>0.2774    </td><td>-0.2338   </td><td>NA        </td><td>0.5142    </td></tr>\n",
       "</tbody>\n",
       "</table>\n"
      ],
      "text/latex": [
       "\\begin{tabular}{r|llllllllllllllllllll}\n",
       " Ano & Mes & Ano\\_Mes & Fecha & Precios\\_Mensuales & Aportes\\_Energia\\_GWh & Volumen\\_Util\\_Diario\\_Energia\\_GWh & Demanda\\_Energia\\_SIN\\_GWh & ONI & CEN\\_Total & CEN\\_Hidro & CEN\\_Termica & mean\\_aportes & mean\\_reservas & sd\\_aportes & sd\\_reservas & Aportes\\_Normalizados & Reservas\\_Normalizadas & Dem\\_CEN & Termica\\_Hidraulica\\\\\n",
       "\\hline\n",
       "\t 2021       & 1          & 2021-01    & 2021-01-01 & NA         & NA         & NA         & 5123.809   & -0.1       & 13.15767   & 8.67967    & 4.464      & 2387.357   & 10418.906  &  860.5643  & 1018.8277  & 0.3756     & -0.1829    & NA         & 0.5143    \\\\\n",
       "\t 2021       & 2          & 2021-02    & 2021-02-01 & NA         & NA         & NA         & 5816.269   &  0.0       & 13.15867   & 8.68067    & 4.464      & 1977.469   &  8931.573  &  571.9035  &  947.0586  & 0.3597     & -0.2316    & NA         & 0.5142    \\\\\n",
       "\t 2021       & 3          & 2021-03    & 2021-03-01 & NA         & NA         & NA         & 3974.901   &  0.0       & 13.15867   & 8.68067    & 4.464      & 2921.435   &  7971.466  & 1105.0457  & 1191.9835  & 0.3392     & -0.2086    & NA         & 0.5142    \\\\\n",
       "\t 2021       & 4          & 2021-04    & 2021-04-01 & NA         & NA         & NA         & 5594.153   &  0.0       & 13.15867   & 8.68067    & 4.464      & 4456.870   &  8298.807  & 1832.5230  & 1671.8904  & 0.3010     & -0.2603    & NA         & 0.5142    \\\\\n",
       "\t 2021       & 5          & 2021-05    & 2021-05-01 & NA         & NA         & NA         & 5046.454   &  0.0       & 13.16023   & 8.68223    & 4.464      & 6027.007   &  9605.625  & 1735.7382  & 1865.8465  & 0.2774     & -0.2338    & NA         & 0.5142    \\\\\n",
       "\\end{tabular}\n"
      ],
      "text/markdown": [
       "\n",
       "Ano | Mes | Ano_Mes | Fecha | Precios_Mensuales | Aportes_Energia_GWh | Volumen_Util_Diario_Energia_GWh | Demanda_Energia_SIN_GWh | ONI | CEN_Total | CEN_Hidro | CEN_Termica | mean_aportes | mean_reservas | sd_aportes | sd_reservas | Aportes_Normalizados | Reservas_Normalizadas | Dem_CEN | Termica_Hidraulica | \n",
       "|---|---|---|---|---|\n",
       "| 2021       | 1          | 2021-01    | 2021-01-01 | NA         | NA         | NA         | 5123.809   | -0.1       | 13.15767   | 8.67967    | 4.464      | 2387.357   | 10418.906  |  860.5643  | 1018.8277  | 0.3756     | -0.1829    | NA         | 0.5143     | \n",
       "| 2021       | 2          | 2021-02    | 2021-02-01 | NA         | NA         | NA         | 5816.269   |  0.0       | 13.15867   | 8.68067    | 4.464      | 1977.469   |  8931.573  |  571.9035  |  947.0586  | 0.3597     | -0.2316    | NA         | 0.5142     | \n",
       "| 2021       | 3          | 2021-03    | 2021-03-01 | NA         | NA         | NA         | 3974.901   |  0.0       | 13.15867   | 8.68067    | 4.464      | 2921.435   |  7971.466  | 1105.0457  | 1191.9835  | 0.3392     | -0.2086    | NA         | 0.5142     | \n",
       "| 2021       | 4          | 2021-04    | 2021-04-01 | NA         | NA         | NA         | 5594.153   |  0.0       | 13.15867   | 8.68067    | 4.464      | 4456.870   |  8298.807  | 1832.5230  | 1671.8904  | 0.3010     | -0.2603    | NA         | 0.5142     | \n",
       "| 2021       | 5          | 2021-05    | 2021-05-01 | NA         | NA         | NA         | 5046.454   |  0.0       | 13.16023   | 8.68223    | 4.464      | 6027.007   |  9605.625  | 1735.7382  | 1865.8465  | 0.2774     | -0.2338    | NA         | 0.5142     | \n",
       "\n",
       "\n"
      ],
      "text/plain": [
       "  Ano  Mes Ano_Mes Fecha      Precios_Mensuales Aportes_Energia_GWh\n",
       "1 2021 1   2021-01 2021-01-01 NA                NA                 \n",
       "2 2021 2   2021-02 2021-02-01 NA                NA                 \n",
       "3 2021 3   2021-03 2021-03-01 NA                NA                 \n",
       "4 2021 4   2021-04 2021-04-01 NA                NA                 \n",
       "5 2021 5   2021-05 2021-05-01 NA                NA                 \n",
       "  Volumen_Util_Diario_Energia_GWh Demanda_Energia_SIN_GWh ONI  CEN_Total\n",
       "1 NA                              5123.809                -0.1 13.15767 \n",
       "2 NA                              5816.269                 0.0 13.15867 \n",
       "3 NA                              3974.901                 0.0 13.15867 \n",
       "4 NA                              5594.153                 0.0 13.15867 \n",
       "5 NA                              5046.454                 0.0 13.16023 \n",
       "  CEN_Hidro CEN_Termica mean_aportes mean_reservas sd_aportes sd_reservas\n",
       "1 8.67967   4.464       2387.357     10418.906      860.5643  1018.8277  \n",
       "2 8.68067   4.464       1977.469      8931.573      571.9035   947.0586  \n",
       "3 8.68067   4.464       2921.435      7971.466     1105.0457  1191.9835  \n",
       "4 8.68067   4.464       4456.870      8298.807     1832.5230  1671.8904  \n",
       "5 8.68223   4.464       6027.007      9605.625     1735.7382  1865.8465  \n",
       "  Aportes_Normalizados Reservas_Normalizadas Dem_CEN Termica_Hidraulica\n",
       "1 0.3756               -0.1829               NA      0.5143            \n",
       "2 0.3597               -0.2316               NA      0.5142            \n",
       "3 0.3392               -0.2086               NA      0.5142            \n",
       "4 0.3010               -0.2603               NA      0.5142            \n",
       "5 0.2774               -0.2338               NA      0.5142            "
      ]
     },
     "metadata": {},
     "output_type": "display_data"
    }
   ],
   "source": [
    "df%>%tail(5)#%>%select(Fecha, ONI,Aportes_Normalizados,Reservas_Normalizadas)"
   ]
  },
  {
   "cell_type": "code",
   "execution_count": 201,
   "metadata": {
    "collapsed": true
   },
   "outputs": [],
   "source": [
    "generar_archivos<-function(df,\n",
    "                           start_at,\n",
    "                           rezagos_precios,\n",
    "                           rezagos_oni,\n",
    "                           rezagos_aportes,\n",
    "                           rezagos_reserva,\n",
    "                           rezagos_demanda,\n",
    "                           rezagos_termica_hidrica,\n",
    "                           rezagos_dem_cen,\n",
    "                           n_iter,\n",
    "                           folder_location){\n",
    "    \n",
    "    \n",
    "    if(dir.exists(folder_location)){\n",
    "        while(file.remove(list.files(path = folder_location,pattern = '[0-9][0-9][0-9][0-9][0-9].csv',full.names = TRUE)[1])==TRUE){\n",
    "            list.files(path = folder_location,pattern = '[0-9][0-9][0-9][0-9][0-9].csv',full.names = TRUE)[1]\n",
    "        }\n",
    "\n",
    "        fechaini<-as.Date(start_at)\n",
    "\n",
    "        for( i in seq(n_iter)){\n",
    "            ini<-now()\n",
    "#             #Normalizar aportes\n",
    "#             #normalizar reservas\n",
    "#             #Agregar variables calculadas\n",
    "#             df<-precios(df,fechaini)\n",
    "#             df<-oni(df,fechaini)\n",
    "#             df<-aportes(df,fechaini)\n",
    "#             df<-reservas(df,fechaini)\n",
    "#             df<-demanda(df,fechaini)\n",
    "#             df<-columnas_calculadas(df)\n",
    "            df<-read_csv('df.csv',col_names = TRUE,cols(\n",
    "                          Ano = col_double(),\n",
    "                          Mes = col_double(),\n",
    "                          Ano_Mes = col_character(),\n",
    "                          Fecha = col_date(format = \"\"),\n",
    "                          Precios_Mensuales = col_double(),\n",
    "                          Aportes_Energia_GWh = col_double(),\n",
    "                          Volumen_Util_Diario_Energia_GWh = col_double(),\n",
    "                          Demanda_Energia_SIN_GWh = col_double(),\n",
    "                          ONI = col_double(),\n",
    "                          CEN_Total = col_double(),\n",
    "                          CEN_Hidro = col_double(),\n",
    "                          CEN_Termica = col_double()\n",
    "                        ))\n",
    "            \n",
    "            df<-normalizar_hidrologia(df)\n",
    "            df<-demanda(df,start_at = start_at)\n",
    "            df<-columnas_calculadas(df)\n",
    "            df<-oni(df,start_at = start_at)\n",
    "            df<-aportes(df,start_at = start_at ,rezagos_oni = rezagos_oni,rezagos_aportes = rezagos_aportes)\n",
    "            df<-reservas(df,\n",
    "                         start_at = start_at,\n",
    "                         rezagos_oni = rezagos_oni,\n",
    "                         rezagos_aportes = rezagos_aportes,\n",
    "                         rezagos_reserva = rezagos_reserva,\n",
    "                         rezagos_termica_hidrica = rezagos_termica_hidrica)\n",
    "\n",
    "            df<-precios(df,start_at = start_at,\n",
    "                        rezagos_precios = rezagos_precios,\n",
    "                        rezagos_aportes = rezagos_aportes,\n",
    "                        rezagos_reserva = rezagos_reserva,\n",
    "                        rezagos_demanda = rezagos_demanda,\n",
    "                        rezagos_dem_cen = rezagos_dem_cen)\n",
    "\n",
    "            #pronostico de variables calculadas\n",
    "            write_csv(df, paste0(folder_location,str_pad(i, pad = 0, width = 5),'.csv'))\n",
    "            fin<-now()\n",
    "            cat(paste0(round(fin-ini,4), ' segundos ',str_pad(i, pad = 0, width = 5),'.csv'),collapse='\\n')\n",
    "        }\n",
    "        cat(paste0(n_iter, ' archivos generados en la ruta ',folder_location))\n",
    "    } else{\n",
    "        cat('Error: Directorio no existe en esta máquina')\n",
    "    }\n",
    "\n",
    "}"
   ]
  },
  {
   "cell_type": "code",
   "execution_count": 203,
   "metadata": {
    "scrolled": true
   },
   "outputs": [
    {
     "name": "stdout",
     "output_type": "stream",
     "text": [
      "42.1757 segundos 00001.csv \n",
      "45.5832 segundos 00002.csv \n",
      "2 archivos generados en la ruta ./Resultados/"
     ]
    }
   ],
   "source": [
    "generar_archivos(df,start_at = '2019-06-01', \n",
    "                                             rezagos_precios =24,\n",
    "                                             rezagos_oni = 12, \n",
    "                                             rezagos_aportes = 24,\n",
    "                                             rezagos_reserva = 24,\n",
    "                                             rezagos_demanda = 24,\n",
    "                                             rezagos_dem_cen = 24,\n",
    "                                             rezagos_termica_hidrica=24,\n",
    "                                             n_iter = 2,\n",
    "                                             folder_location = './Resultados/')"
   ]
  },
  {
   "cell_type": "markdown",
   "metadata": {},
   "source": [
    "# Tareas"
   ]
  },
  {
   "cell_type": "code",
   "execution_count": null,
   "metadata": {
    "collapsed": true
   },
   "outputs": [],
   "source": [
    "#hacer el arx pronosticar uno a uno y tiene como entrada el ONI y se devuelven las unidades 2h\n",
    "#hacer arx para reservas con oni, aportes, relacion T/H y me devuelvo 2h\n",
    "#un modelo simple de precio 2h"
   ]
  },
  {
   "cell_type": "code",
   "execution_count": null,
   "metadata": {
    "collapsed": true
   },
   "outputs": [],
   "source": []
  }
 ],
 "metadata": {
  "kernelspec": {
   "display_name": "R",
   "language": "R",
   "name": "ir"
  },
  "language_info": {
   "codemirror_mode": "r",
   "file_extension": ".r",
   "mimetype": "text/x-r-source",
   "name": "R",
   "pygments_lexer": "r",
   "version": "3.3.3"
  }
 },
 "nbformat": 4,
 "nbformat_minor": 2
}
