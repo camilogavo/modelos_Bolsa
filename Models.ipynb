{
 "cells": [
  {
   "cell_type": "code",
   "execution_count": 118,
   "metadata": {},
   "outputs": [],
   "source": [
    "library(tidyverse)\n",
    "library(lubridate)\n",
    "library(forecast) # Para modelos AR"
   ]
  },
  {
   "cell_type": "code",
   "execution_count": 642,
   "metadata": {
    "collapsed": true
   },
   "outputs": [],
   "source": [
    "df<-read_csv('df.csv',col_names = TRUE,cols(\n",
    "  Ano = col_double(),\n",
    "  Mes = col_double(),\n",
    "  Ano_Mes = col_character(),\n",
    "  Fecha = col_date(format = \"\"),\n",
    "  Precios_Mensuales = col_double(),\n",
    "  Aportes_Energia_GWh = col_double(),\n",
    "  Volumen_Util_Diario_Energia_GWh = col_double(),\n",
    "  Demanda_Energia_SIN_GWh = col_double(),\n",
    "  ONI = col_double(),\n",
    "  CEN_Total = col_double(),\n",
    "  CEN_Hidro = col_double(),\n",
    "  CEN_Termica = col_double()\n",
    "))"
   ]
  },
  {
   "cell_type": "markdown",
   "metadata": {},
   "source": [
    "# Creacion de funciones"
   ]
  },
  {
   "cell_type": "code",
   "execution_count": 422,
   "metadata": {
    "collapsed": true
   },
   "outputs": [],
   "source": [
    "oni<-function(df, start_at){\n",
    "    \n",
    "    fechaini<-as.Date(start_at)\n",
    "    \n",
    "    n_pronosticos<-df%>%filter(Fecha>=start_at)%>%select(ONI)%>%nrow\n",
    "    \n",
    "    \n",
    "    while(any(is.na(df$ONI))){\n",
    "        fila<-sum(complete.cases(df$ONI))+1\n",
    "        m<-auto.arima(unlist(unname(df[1:fila-1,'ONI'])),max.q = 0,max.Q = 0,max.d = 0,max.D = 0)\n",
    "        y_est<-round(as.vector(unlist(forecast(m, 24)['mean'])),1)\n",
    "        df$ONI[is.na(df$ONI)]<-y_est\n",
    "    }\n",
    "    #df$ONI[df$Fecha>=as.Date(start_at)]<-round(runif(n_pronosticos,-0.5,0.5),1)\n",
    "    \n",
    "    return(df)\n",
    "}\n",
    "#ok"
   ]
  },
  {
   "cell_type": "code",
   "execution_count": 634,
   "metadata": {
    "collapsed": true
   },
   "outputs": [],
   "source": [
    "aportes<-function(df, start_at, rezagos_oni=12,rezagos_aportes=24){\n",
    "    \n",
    "    fechaini<-as.Date(start_at)\n",
    "    #n_aleatorios<-df%>%filter(Fecha>=start_at)%>%select(Aportes_Energia_GWh)%>%nrow\n",
    "    #df$Aportes_Energia_GWh[df$Fecha>=as.Date(start_at)]<-round(runif(n_aleatorios,min(df$Aportes_Energia_GWh,na.rm = TRUE),max(df$Aportes_Energia_GWh,na.rm = TRUE)),3)\n",
    "\n",
    "    fecha_forecast<-seq.Date(from = as.Date(fechaini),length.out = 24,by = 'month') #Parametro!!!\n",
    "\n",
    "    for(i in seq(length(fecha_forecast))){\n",
    "    \n",
    "        temp<-df%>%select(Fecha, Aportes_Energia_GWh, ONI, Aportes_Normalizados)\n",
    "        rezagos_oni<-rezagos_oni                                                          #Rezagos para el ONI (parametrizable)\n",
    "        rezagos_aportes<-rezagos_aportes                                                      #Rezagos para los Aportes (parametrizable)\n",
    "\n",
    "        for(j in seq(rezagos_oni)){                                             #Creacion de columnas rezagadas ONI\n",
    "            col_oni<-paste0('ONI_',j)                                           #   \n",
    "            temp[[col_oni]]<-lag(df$ONI,j)                                      #\n",
    "        }                                                                       #\n",
    "\n",
    "        for(k in seq(rezagos_aportes)){                                         #Creacion de columnas rezagadas Aportes\n",
    "            col_aportes<-paste0('Aportes_',k)                                   #\n",
    "            temp[[col_aportes]]<-lag(df$Aportes_Normalizados,k)                 #\n",
    "        }                                                                       #\n",
    "\n",
    "\n",
    "        #new_data<-temp%>%filter(Fecha>=as.Date('2019-06-01')%m+%months(-24)\n",
    "        new_data<-temp\n",
    "        \n",
    "        \n",
    "        \n",
    "        temp<-temp%>%select(-1,-2,-3,Aportes_Normalizados,                      #Elimina Fecha, Aportes_Energia, ONI\n",
    "                                    starts_with('Aportes_[0-9]'),               #Trae los rezagos de Aportes\n",
    "                                    starts_with('ONI_'))            #Trae los rezagos de ONI\n",
    "\n",
    "\n",
    "        #new_data<-temp\n",
    "\n",
    "        temp<-temp%>%drop_na()\n",
    "\n",
    "        #Aplicamos un modelo Forward Selection\n",
    "        m_FitAll<-lm(Aportes_Normalizados~.,data = temp)\n",
    "        m<-(step(lm(Aportes_Normalizados~1,data=temp),direction = 'forward',scope = formula(m_FitAll),trace = 0))\n",
    "\n",
    "        # Seleccionar solo variables significativas\n",
    "        toselect.x<-summary(m)$coeff[,4] < 0.01\n",
    "        relevant.x <- names(toselect.x)[toselect.x == TRUE] \n",
    "        sig.formula <- as.formula(paste(\"Aportes_Normalizados ~\",paste(relevant.x,collapse = '+'))) \n",
    "\n",
    "        m<-lm(formula = sig.formula,data = temp)\n",
    "        \n",
    "        y_est<-round(as.vector(unlist(unname(forecast(m,h = 1,newdata = new_data%>%filter(Fecha==fecha_forecast[i]%m+%months(-1))%>%select(Fecha, one_of(names(summary(m)$coeff[-1,1])))%>%select(-Fecha))['mean']))),4)\n",
    "        \n",
    "        #print(paste('para el mes', fecha_forecast[i],'se estimo un valor de', y_est,collapse = '/n' ))\n",
    "        df$Aportes_Normalizados[df$Fecha==fecha_forecast[i]]<-y_est\n",
    "\n",
    "        \n",
    "\n",
    "        #new_data<-new_data%>%select(Fecha, one_of(names(summary(m)$coeff[-1,1])))%>%filter(Fecha>='2019-06-01')%>%select(-Fecha)\n",
    "\n",
    "\n",
    "#        df$Aportes_Normalizados[is.na(df$Aportes_Normalizados)]<-round(as.vector(unlist(unname(forecast(m,h = 24,newdata = new_data)['mean']))),2)\n",
    "\n",
    "#         while(df$Aportes_Normalizados[!complete.cases(df$Aportes_Normalizados)]%>%length>0){\n",
    "#             #df[!complete.cases(df),'Aportes_Normalizados'][[1]][1]\n",
    "#             df$Aportes_Normalizados[is.na(df$Aportes_Normalizados)][1]<-unlist(unname(forecast(object = m, h = 1,newdata = new_data%>%tail(25)%>%head(1)%>%select(-1,everything()))['mean']))\n",
    "\n",
    "#             new_data<-new_data%>%drop_na()\n",
    "    }\n",
    "\n",
    "\n",
    "    \n",
    "    return(df)\n",
    "}"
   ]
  },
  {
   "cell_type": "code",
   "execution_count": 424,
   "metadata": {
    "collapsed": true
   },
   "outputs": [],
   "source": [
    "reservas<-function(df, start_at){\n",
    "    \n",
    "    fechaini<-as.Date(start_at)\n",
    "    n_aleatorios<-df%>%filter(Fecha>=start_at)%>%select(Volumen_Util_Diario_Energia_GWh)%>%nrow\n",
    "    df$Volumen_Util_Diario_Energia_GWh[df$Fecha>=as.Date(start_at)]<-round(runif(n_aleatorios,min(df$Volumen_Util_Diario_Energia_GWh,na.rm = TRUE),max(df$Volumen_Util_Diario_Energia_GWh,na.rm = TRUE)),3)\n",
    "    \n",
    "    return(df)\n",
    "}"
   ]
  },
  {
   "cell_type": "code",
   "execution_count": 425,
   "metadata": {
    "collapsed": true
   },
   "outputs": [],
   "source": [
    "precios<-function(df, start_at){\n",
    "    \n",
    "    fechaini<-as.Date(start_at)\n",
    "    n_aleatorios<-df%>%filter(Fecha>=start_at)%>%select(Precios_Mensuales)%>%nrow\n",
    "    df$Precios_Mensuales[df$Fecha>=as.Date(start_at)]<-round(runif(n_aleatorios,min(df$Precios_Mensuales,na.rm = TRUE),max(df$Precios_Mensuales,na.rm = TRUE)),3)\n",
    "    \n",
    "    return(df)\n",
    "}"
   ]
  },
  {
   "cell_type": "code",
   "execution_count": 426,
   "metadata": {
    "collapsed": true
   },
   "outputs": [],
   "source": [
    "demanda<-function(df, start_at){\n",
    "    \n",
    "    fechaini<-as.Date(start_at)\n",
    "    n_aleatorios<-df%>%filter(Fecha>=start_at)%>%select(Demanda_Energia_SIN_GWh)%>%nrow\n",
    "    df$Demanda_Energia_SIN_GWh[df$Fecha>=as.Date(start_at)]<-round(runif(n_aleatorios,min(df$Demanda_Energia_SIN_GWh,na.rm = TRUE),max(df$Demanda_Energia_SIN_GWh,na.rm = TRUE)),3)\n",
    "    \n",
    "    return(df)\n",
    "}"
   ]
  },
  {
   "cell_type": "code",
   "execution_count": 427,
   "metadata": {
    "collapsed": true
   },
   "outputs": [],
   "source": [
    "columnas_calculadas<-function(df){\n",
    "    #debo montar dem_CEN\n",
    "    df$Dem_CEN<-round(df$Demanda_Energia_SIN_GWh/(as.vector(days_in_month(df$Fecha))*df$CEN_Total*24),4)\n",
    "    #debo montar Term_Hidro\n",
    "    df$Termica_Hidraulica<-round(df$CEN_Termica/df$CEN_Hidro,4)\n",
    "    \n",
    "    return(df)\n",
    "}"
   ]
  },
  {
   "cell_type": "code",
   "execution_count": 428,
   "metadata": {
    "collapsed": true
   },
   "outputs": [],
   "source": [
    "normalizar_hidrologia<-function(df){\n",
    "    df<-df%>%\n",
    "        left_join(\n",
    "                df%>%arrange(Mes)%>%group_by(Mes)%>%summarize(mean_aportes = mean(Aportes_Energia_GWh,na.rm = TRUE), \n",
    "                                                              mean_reservas = mean(Volumen_Util_Diario_Energia_GWh,na.rm = TRUE),\n",
    "                                                              sd_aportes = sd(Aportes_Energia_GWh, na.rm = TRUE),\n",
    "                                                              sd_reservas = sd(Volumen_Util_Diario_Energia_GWh,na.rm = TRUE)),by='Mes')%>%\n",
    "    mutate(\n",
    "        Aportes_Normalizados = (Aportes_Energia_GWh-mean_aportes)/sd_aportes,\n",
    "        Reservas_Normalizadas = (Volumen_Util_Diario_Energia_GWh-mean_reservas)/sd_reservas)\n",
    "    \n",
    "    return(df)\n",
    "}"
   ]
  },
  {
   "cell_type": "markdown",
   "metadata": {},
   "source": [
    "# Probar funciones"
   ]
  },
  {
   "cell_type": "code",
   "execution_count": 637,
   "metadata": {},
   "outputs": [],
   "source": [
    "df<-normalizar_hidrologia(df)\n",
    "df<-oni(df,start_at = '2019-06-01')\n",
    "df<-aportes(df,start_at = '2019-06-01',rezagos_oni = 12,rezagos_aportes = 24)\n",
    "# df<-reservas(df,start_at = '2019-06-01')\n",
    "#df<-demanda(df,start_at = '2019-06-01')\n",
    "#df<-columnas_calculadas(df)\n",
    "#df<-precios(df,start_at = '2019-06-01')"
   ]
  },
  {
   "cell_type": "code",
   "execution_count": 639,
   "metadata": {},
   "outputs": [],
   "source": [
    "# #Definir el dataframe Aportes, ONI\n",
    "\n",
    "# fecha_forecast<-seq.Date(from = as.Date('2019-06-01'),length.out = 24,by = 'month') #Parametro!!!\n",
    "\n",
    "# for(i in seq(length(fecha_forecast))){\n",
    "    \n",
    "#     temp<-df%>%select(Fecha, Aportes_Energia_GWh, ONI, Aportes_Normalizados)\n",
    "#     rezagos_oni<-12                                                          #Rezagos para el ONI (parametrizable)\n",
    "#     rezagos_aportes<-24                                                      #Rezagos para los Aportes (parametrizable)\n",
    "\n",
    "#         for(j in seq(rezagos_oni)){                                             #Creacion de columnas rezagadas ONI\n",
    "#             col_oni<-paste0('ONI_',j)                                           #   \n",
    "#             temp[[col_oni]]<-lag(df$ONI,j)                                      #\n",
    "#         }                                                                       #\n",
    "\n",
    "#         for(k in seq(rezagos_aportes)){                                         #Creacion de columnas rezagadas Aportes\n",
    "#             col_aportes<-paste0('Aportes_',k)                                   #\n",
    "#             temp[[col_aportes]]<-lag(df$Aportes_Normalizados,k)                 #\n",
    "#         }                                                                       #\n",
    "\n",
    "\n",
    "#         #new_data<-temp%>%filter(Fecha>=as.Date('2019-06-01')%m+%months(-24)\n",
    "#         new_data<-temp\n",
    "        \n",
    "        \n",
    "        \n",
    "#         temp<-temp%>%select(-1,-2,-3,Aportes_Normalizados,                      #Elimina Fecha, Aportes_Energia, ONI\n",
    "#                                     starts_with('Aportes_[0-9]'),               #Trae los rezagos de Aportes\n",
    "#                                     starts_with('ONI_'))            #Trae los rezagos de ONI\n",
    "\n",
    "\n",
    "#         #new_data<-temp\n",
    "\n",
    "#         temp<-temp%>%drop_na()\n",
    "\n",
    "#         #Aplicamos un modelo Forward Selection\n",
    "#         m_FitAll<-lm(Aportes_Normalizados~.,data = temp)\n",
    "#         m<-(step(lm(Aportes_Normalizados~1,data=temp),direction = 'forward',scope = formula(m_FitAll),trace = 0))\n",
    "\n",
    "#         # Seleccionar solo variables significativas\n",
    "#         toselect.x<-summary(m)$coeff[,4] < 0.01\n",
    "#         relevant.x <- names(toselect.x)[toselect.x == TRUE] \n",
    "#         sig.formula <- as.formula(paste(\"Aportes_Normalizados ~\",paste(relevant.x,collapse = '+'))) \n",
    "\n",
    "#         m<-lm(formula = sig.formula,data = temp)\n",
    "        \n",
    "#         y_est<-round(as.vector(unlist(unname(forecast(m,h = 1,newdata = new_data%>%filter(Fecha==fecha_forecast[i]%m+%months(-1))%>%select(Fecha, one_of(names(summary(m)$coeff[-1,1])))%>%select(-Fecha))['mean']))),4)\n",
    "        \n",
    "#         print(paste('para el mes', fecha_forecast[i],'se estimo un valor de', y_est,collapse = '/n' ))\n",
    "#         df$Aportes_Normalizados[df$Fecha==fecha_forecast[i]]<-y_est\n",
    "\n",
    "        \n",
    "\n",
    "#         #new_data<-new_data%>%select(Fecha, one_of(names(summary(m)$coeff[-1,1])))%>%filter(Fecha>='2019-06-01')%>%select(-Fecha)\n",
    "\n",
    "\n",
    "# #        df$Aportes_Normalizados[is.na(df$Aportes_Normalizados)]<-round(as.vector(unlist(unname(forecast(m,h = 24,newdata = new_data)['mean']))),2)\n",
    "\n",
    "# #         while(df$Aportes_Normalizados[!complete.cases(df$Aportes_Normalizados)]%>%length>0){\n",
    "# #             #df[!complete.cases(df),'Aportes_Normalizados'][[1]][1]\n",
    "# #             df$Aportes_Normalizados[is.na(df$Aportes_Normalizados)][1]<-unlist(unname(forecast(object = m, h = 1,newdata = new_data%>%tail(25)%>%head(1)%>%select(-1,everything()))['mean']))\n",
    "\n",
    "# #             new_data<-new_data%>%drop_na()\n",
    "#         }\n",
    "# #return(df)"
   ]
  },
  {
   "cell_type": "code",
   "execution_count": 670,
   "metadata": {
    "collapsed": true
   },
   "outputs": [],
   "source": [
    "generar_archivos<-function(df,\n",
    "                           start_at,\n",
    "                           n_iter,\n",
    "                           folder_location){\n",
    "    \n",
    "    \n",
    "    if(dir.exists(folder_location)){\n",
    "        while(file.remove(list.files(path = folder_location,pattern = '[0-9][0-9][0-9][0-9][0-9].csv',full.names = TRUE)[1])==TRUE){\n",
    "            list.files(path = folder_location,pattern = '[0-9][0-9][0-9][0-9][0-9].csv',full.names = TRUE)[1]\n",
    "        }\n",
    "\n",
    "        fechaini<-as.Date(start_at)\n",
    "\n",
    "        for( i in seq(n_iter)){\n",
    "            ini<-now()\n",
    "#             #Normalizar aportes\n",
    "#             #normalizar reservas\n",
    "#             #Agregar variables calculadas\n",
    "#             df<-precios(df,fechaini)\n",
    "#             df<-oni(df,fechaini)\n",
    "#             df<-aportes(df,fechaini)\n",
    "#             df<-reservas(df,fechaini)\n",
    "#             df<-demanda(df,fechaini)\n",
    "#             df<-columnas_calculadas(df)\n",
    "            df<-read_csv('df.csv',col_names = TRUE,cols(\n",
    "                          Ano = col_double(),\n",
    "                          Mes = col_double(),\n",
    "                          Ano_Mes = col_character(),\n",
    "                          Fecha = col_date(format = \"\"),\n",
    "                          Precios_Mensuales = col_double(),\n",
    "                          Aportes_Energia_GWh = col_double(),\n",
    "                          Volumen_Util_Diario_Energia_GWh = col_double(),\n",
    "                          Demanda_Energia_SIN_GWh = col_double(),\n",
    "                          ONI = col_double(),\n",
    "                          CEN_Total = col_double(),\n",
    "                          CEN_Hidro = col_double(),\n",
    "                          CEN_Termica = col_double()\n",
    "                        ))\n",
    "            \n",
    "            df<-normalizar_hidrologia(df)\n",
    "            df<-oni(df,start_at = '2019-06-01')\n",
    "            df<-aportes(df,start_at = '2019-06-01',rezagos_oni = 12,rezagos_aportes = 24)\n",
    "            df<-reservas(df,start_at = '2019-06-01')\n",
    "            df<-demanda(df,start_at = '2019-06-01')\n",
    "            df<-columnas_calculadas(df)\n",
    "            df<-precios(df,start_at = '2019-06-01')\n",
    "\n",
    "            #pronostico de variables calculadas\n",
    "            write_csv(df, paste0(folder_location,str_pad(i, pad = 0, width = 5),'.csv'))\n",
    "            fin<-now()\n",
    "            cat(paste0(round(fin-ini,4), ' segundos ',str_pad(i, pad = 0, width = 5),'.csv'),collapse='\\n')\n",
    "        }\n",
    "        cat(paste0(n_iter, ' archivos generados en la ruta ',folder_location))\n",
    "    } else{\n",
    "        cat('Error: Directorio no existe en esta máquina')\n",
    "    }\n",
    "\n",
    "}"
   ]
  },
  {
   "cell_type": "code",
   "execution_count": 671,
   "metadata": {
    "scrolled": true
   },
   "outputs": [
    {
     "name": "stdout",
     "output_type": "stream",
     "text": [
      "3.6822 segundos 00001.csv \n",
      "3.6774 segundos 00002.csv \n",
      "2 archivos generados en la ruta ./Resultados/"
     ]
    }
   ],
   "source": [
    "generar_archivos(df,start_at = '2019-06-01',n_iter = 2,folder_location = './Resultados/')"
   ]
  },
  {
   "cell_type": "markdown",
   "metadata": {},
   "source": [
    "# Tareas"
   ]
  },
  {
   "cell_type": "code",
   "execution_count": 235,
   "metadata": {
    "collapsed": true
   },
   "outputs": [],
   "source": [
    "#hacer el arx pronosticar uno a uno y tiene como entrada el ONI y se devuelven las unidades 2h\n",
    "#hacer arx para reservas con oni, aportes, relacion T/H y me devuelvo 2h\n",
    "#un modelo simple de precio 2h"
   ]
  },
  {
   "cell_type": "code",
   "execution_count": null,
   "metadata": {
    "collapsed": true
   },
   "outputs": [],
   "source": []
  }
 ],
 "metadata": {
  "kernelspec": {
   "display_name": "R",
   "language": "R",
   "name": "ir"
  },
  "language_info": {
   "codemirror_mode": "r",
   "file_extension": ".r",
   "mimetype": "text/x-r-source",
   "name": "R",
   "pygments_lexer": "r",
   "version": "3.3.3"
  }
 },
 "nbformat": 4,
 "nbformat_minor": 2
}
