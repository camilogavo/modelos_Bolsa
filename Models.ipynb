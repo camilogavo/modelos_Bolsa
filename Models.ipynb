{
 "cells": [
  {
   "cell_type": "code",
   "execution_count": 354,
   "metadata": {},
   "outputs": [],
   "source": [
    "library(tidyverse)\n",
    "library(lubridate)\n",
    "library(forecast) # Para modelos AR"
   ]
  },
  {
   "cell_type": "code",
   "execution_count": 491,
   "metadata": {},
   "outputs": [],
   "source": [
    "df<-read_csv('df.csv',col_names = TRUE,cols(\n",
    "  Ano = col_double(),\n",
    "  Mes = col_double(),\n",
    "  Ano_Mes = col_character(),\n",
    "  Fecha = col_date(format = \"\"),\n",
    "  Precios_Mensuales = col_double(),\n",
    "  Aportes_Energia_GWh = col_double(),\n",
    "  Volumen_Util_Diario_Energia_GWh = col_double(),\n",
    "  Demanda_Energia_SIN_GWh = col_double(),\n",
    "  ONI = col_double(),\n",
    "  CEN_Total = col_double(),\n",
    "  CEN_Hidro = col_double(),\n",
    "  CEN_Termica = col_double()\n",
    "))"
   ]
  },
  {
   "cell_type": "markdown",
   "metadata": {},
   "source": [
    "# Creacion de funciones"
   ]
  },
  {
   "cell_type": "code",
   "execution_count": 535,
   "metadata": {},
   "outputs": [],
   "source": [
    "oni<-function(df, start_at){\n",
    "    \n",
    "    fechaini<-as.Date(start_at)\n",
    "    \n",
    "    n_pronosticos<-df%>%filter(Fecha>=start_at)%>%select(ONI)%>%nrow\n",
    "    \n",
    "    \n",
    "    while(any(is.na(df$ONI))){\n",
    "        fila<-sum(complete.cases(df$ONI))+1\n",
    "        m<-auto.arima(unlist(unname(df[1:fila-1,'ONI'])),max.q = 0,max.Q = 0,max.d = 0,max.D = 0)\n",
    "        y_est<-round(unname(unlist(forecast(m,h = 1)['mean'])),1)\n",
    "        df[fila,'ONI']<-y_est\n",
    "    }\n",
    "    #df$ONI[df$Fecha>=as.Date(start_at)]<-round(runif(n_pronosticos,-0.5,0.5),1)\n",
    "    \n",
    "    return(df)\n",
    "}"
   ]
  },
  {
   "cell_type": "code",
   "execution_count": 538,
   "metadata": {},
   "outputs": [],
   "source": [
    "aportes<-function(df, start_at){\n",
    "    \n",
    "    fechaini<-as.Date(start_at)\n",
    "    n_aleatorios<-df%>%filter(Fecha>=start_at)%>%select(Aportes_Energia_GWh)%>%nrow\n",
    "    df$Aportes_Energia_GWh[df$Fecha>=as.Date(start_at)]<-round(runif(n_aleatorios,min(df$Aportes_Energia_GWh,na.rm = TRUE),max(df$Aportes_Energia_GWh,na.rm = TRUE)),3)\n",
    "    \n",
    "    return(df)\n",
    "}"
   ]
  },
  {
   "cell_type": "code",
   "execution_count": 539,
   "metadata": {
    "collapsed": true
   },
   "outputs": [],
   "source": [
    "reservas<-function(df, start_at){\n",
    "    \n",
    "    fechaini<-as.Date(start_at)\n",
    "    n_aleatorios<-df%>%filter(Fecha>=start_at)%>%select(Volumen_Util_Diario_Energia_GWh)%>%nrow\n",
    "    df$Volumen_Util_Diario_Energia_GWh[df$Fecha>=as.Date(start_at)]<-round(runif(n_aleatorios,min(df$Volumen_Util_Diario_Energia_GWh,na.rm = TRUE),max(df$Volumen_Util_Diario_Energia_GWh,na.rm = TRUE)),3)\n",
    "    \n",
    "    return(df)\n",
    "}"
   ]
  },
  {
   "cell_type": "code",
   "execution_count": 540,
   "metadata": {
    "collapsed": true
   },
   "outputs": [],
   "source": [
    "precios<-function(df, start_at){\n",
    "    \n",
    "    fechaini<-as.Date(start_at)\n",
    "    n_aleatorios<-df%>%filter(Fecha>=start_at)%>%select(Precios_Mensuales)%>%nrow\n",
    "    df$Precios_Mensuales[df$Fecha>=as.Date(start_at)]<-round(runif(n_aleatorios,min(df$Precios_Mensuales,na.rm = TRUE),max(df$Precios_Mensuales,na.rm = TRUE)),3)\n",
    "    \n",
    "    return(df)\n",
    "}"
   ]
  },
  {
   "cell_type": "code",
   "execution_count": 541,
   "metadata": {
    "collapsed": true
   },
   "outputs": [],
   "source": [
    "demanda<-function(df, start_at){\n",
    "    \n",
    "    fechaini<-as.Date(start_at)\n",
    "    n_aleatorios<-df%>%filter(Fecha>=start_at)%>%select(Demanda_Energia_SIN_GWh)%>%nrow\n",
    "    df$Demanda_Energia_SIN_GWh[df$Fecha>=as.Date(start_at)]<-round(runif(n_aleatorios,min(df$Demanda_Energia_SIN_GWh,na.rm = TRUE),max(df$Demanda_Energia_SIN_GWh,na.rm = TRUE)),3)\n",
    "    \n",
    "    return(df)\n",
    "}"
   ]
  },
  {
   "cell_type": "code",
   "execution_count": 542,
   "metadata": {},
   "outputs": [],
   "source": [
    "columnas_calculadas<-function(df){\n",
    "    #debo montar dem_CEN\n",
    "    df$Dem_CEN<-round(df$Demanda_Energia_SIN_GWh/(as.vector(days_in_month(df$Fecha))*df$CEN_Total*24),4)\n",
    "    #debo montar Term_Hidro\n",
    "    df$Termica_Hidraulica<-round(df$CEN_Termica/df$CEN_Hidro,4)\n",
    "    \n",
    "    return(df)\n",
    "}"
   ]
  },
  {
   "cell_type": "code",
   "execution_count": 543,
   "metadata": {
    "collapsed": true
   },
   "outputs": [],
   "source": [
    "normalizar_hidrologia<-function(df){\n",
    "    df<-df%>%\n",
    "        left_join(\n",
    "                df%>%arrange(Mes)%>%group_by(Mes)%>%summarize(mean_aportes = mean(Aportes_Energia_GWh,na.rm = TRUE), \n",
    "                                                              mean_reservas = mean(Volumen_Util_Diario_Energia_GWh,na.rm = TRUE),\n",
    "                                                              sd_aportes = sd(Aportes_Energia_GWh, na.rm = TRUE),\n",
    "                                                              sd_reservas = sd(Volumen_Util_Diario_Energia_GWh,na.rm = TRUE)),by='Mes')%>%\n",
    "    mutate(\n",
    "        Aportes_Normalizados = (Aportes_Energia_GWh-mean_aportes)/sd_aportes,\n",
    "        Reservas_Normalizadas = (Volumen_Util_Diario_Energia_GWh-mean_reservas)/sd_reservas)\n",
    "    \n",
    "    return(df)\n",
    "}"
   ]
  },
  {
   "cell_type": "code",
   "execution_count": 544,
   "metadata": {},
   "outputs": [
    {
     "data": {
      "text/html": [
       "<table>\n",
       "<thead><tr><th scope=col>Ano</th><th scope=col>Mes</th><th scope=col>Ano_Mes</th><th scope=col>Fecha</th><th scope=col>Precios_Mensuales</th><th scope=col>Aportes_Energia_GWh</th><th scope=col>Volumen_Util_Diario_Energia_GWh</th><th scope=col>Demanda_Energia_SIN_GWh</th><th scope=col>ONI</th><th scope=col>CEN_Total</th><th scope=col>CEN_Hidro</th><th scope=col>CEN_Termica</th></tr></thead>\n",
       "<tbody>\n",
       "\t<tr><td>2000      </td><td>1         </td><td>2000-01   </td><td>2000-01-01</td><td>36.77878  </td><td>1900.660  </td><td>10115.866 </td><td>3354.237  </td><td>-1.7      </td><td>11.88597  </td><td>7.97497   </td><td>3.897     </td></tr>\n",
       "\t<tr><td>2000      </td><td>2         </td><td>2000-02   </td><td>2000-02-01</td><td>40.26148  </td><td>1993.636  </td><td> 9705.065 </td><td>3278.267  </td><td>-1.4      </td><td>11.88597  </td><td>7.97497   </td><td>3.897     </td></tr>\n",
       "\t<tr><td>2000      </td><td>3         </td><td>2000-03   </td><td>2000-03-01</td><td>37.63730  </td><td>2253.361  </td><td> 9222.966 </td><td>3495.203  </td><td>-1.1      </td><td>11.96897  </td><td>8.05797   </td><td>3.897     </td></tr>\n",
       "\t<tr><td>2000      </td><td>4         </td><td>2000-04   </td><td>2000-04-01</td><td>44.29806  </td><td>2429.651  </td><td> 8945.684 </td><td>3298.386  </td><td>-0.8      </td><td>12.05397  </td><td>8.14297   </td><td>3.897     </td></tr>\n",
       "\t<tr><td>2000      </td><td>5         </td><td>2000-05   </td><td>2000-05-01</td><td>37.29112  </td><td>4817.901  </td><td>10131.148 </td><td>3502.127  </td><td>-0.7      </td><td>12.29927  </td><td>8.23427   </td><td>4.051     </td></tr>\n",
       "\t<tr><td>2000      </td><td>6         </td><td>2000-06   </td><td>2000-06-01</td><td>39.99320  </td><td>4889.563  </td><td>11020.110 </td><td>3367.886  </td><td>-0.6      </td><td>12.44327  </td><td>8.23427   </td><td>4.195     </td></tr>\n",
       "</tbody>\n",
       "</table>\n"
      ],
      "text/latex": [
       "\\begin{tabular}{r|llllllllllll}\n",
       " Ano & Mes & Ano\\_Mes & Fecha & Precios\\_Mensuales & Aportes\\_Energia\\_GWh & Volumen\\_Util\\_Diario\\_Energia\\_GWh & Demanda\\_Energia\\_SIN\\_GWh & ONI & CEN\\_Total & CEN\\_Hidro & CEN\\_Termica\\\\\n",
       "\\hline\n",
       "\t 2000       & 1          & 2000-01    & 2000-01-01 & 36.77878   & 1900.660   & 10115.866  & 3354.237   & -1.7       & 11.88597   & 7.97497    & 3.897     \\\\\n",
       "\t 2000       & 2          & 2000-02    & 2000-02-01 & 40.26148   & 1993.636   &  9705.065  & 3278.267   & -1.4       & 11.88597   & 7.97497    & 3.897     \\\\\n",
       "\t 2000       & 3          & 2000-03    & 2000-03-01 & 37.63730   & 2253.361   &  9222.966  & 3495.203   & -1.1       & 11.96897   & 8.05797    & 3.897     \\\\\n",
       "\t 2000       & 4          & 2000-04    & 2000-04-01 & 44.29806   & 2429.651   &  8945.684  & 3298.386   & -0.8       & 12.05397   & 8.14297    & 3.897     \\\\\n",
       "\t 2000       & 5          & 2000-05    & 2000-05-01 & 37.29112   & 4817.901   & 10131.148  & 3502.127   & -0.7       & 12.29927   & 8.23427    & 4.051     \\\\\n",
       "\t 2000       & 6          & 2000-06    & 2000-06-01 & 39.99320   & 4889.563   & 11020.110  & 3367.886   & -0.6       & 12.44327   & 8.23427    & 4.195     \\\\\n",
       "\\end{tabular}\n"
      ],
      "text/markdown": [
       "\n",
       "Ano | Mes | Ano_Mes | Fecha | Precios_Mensuales | Aportes_Energia_GWh | Volumen_Util_Diario_Energia_GWh | Demanda_Energia_SIN_GWh | ONI | CEN_Total | CEN_Hidro | CEN_Termica | \n",
       "|---|---|---|---|---|---|\n",
       "| 2000       | 1          | 2000-01    | 2000-01-01 | 36.77878   | 1900.660   | 10115.866  | 3354.237   | -1.7       | 11.88597   | 7.97497    | 3.897      | \n",
       "| 2000       | 2          | 2000-02    | 2000-02-01 | 40.26148   | 1993.636   |  9705.065  | 3278.267   | -1.4       | 11.88597   | 7.97497    | 3.897      | \n",
       "| 2000       | 3          | 2000-03    | 2000-03-01 | 37.63730   | 2253.361   |  9222.966  | 3495.203   | -1.1       | 11.96897   | 8.05797    | 3.897      | \n",
       "| 2000       | 4          | 2000-04    | 2000-04-01 | 44.29806   | 2429.651   |  8945.684  | 3298.386   | -0.8       | 12.05397   | 8.14297    | 3.897      | \n",
       "| 2000       | 5          | 2000-05    | 2000-05-01 | 37.29112   | 4817.901   | 10131.148  | 3502.127   | -0.7       | 12.29927   | 8.23427    | 4.051      | \n",
       "| 2000       | 6          | 2000-06    | 2000-06-01 | 39.99320   | 4889.563   | 11020.110  | 3367.886   | -0.6       | 12.44327   | 8.23427    | 4.195      | \n",
       "\n",
       "\n"
      ],
      "text/plain": [
       "  Ano  Mes Ano_Mes Fecha      Precios_Mensuales Aportes_Energia_GWh\n",
       "1 2000 1   2000-01 2000-01-01 36.77878          1900.660           \n",
       "2 2000 2   2000-02 2000-02-01 40.26148          1993.636           \n",
       "3 2000 3   2000-03 2000-03-01 37.63730          2253.361           \n",
       "4 2000 4   2000-04 2000-04-01 44.29806          2429.651           \n",
       "5 2000 5   2000-05 2000-05-01 37.29112          4817.901           \n",
       "6 2000 6   2000-06 2000-06-01 39.99320          4889.563           \n",
       "  Volumen_Util_Diario_Energia_GWh Demanda_Energia_SIN_GWh ONI  CEN_Total\n",
       "1 10115.866                       3354.237                -1.7 11.88597 \n",
       "2  9705.065                       3278.267                -1.4 11.88597 \n",
       "3  9222.966                       3495.203                -1.1 11.96897 \n",
       "4  8945.684                       3298.386                -0.8 12.05397 \n",
       "5 10131.148                       3502.127                -0.7 12.29927 \n",
       "6 11020.110                       3367.886                -0.6 12.44327 \n",
       "  CEN_Hidro CEN_Termica\n",
       "1 7.97497   3.897      \n",
       "2 7.97497   3.897      \n",
       "3 8.05797   3.897      \n",
       "4 8.14297   3.897      \n",
       "5 8.23427   4.051      \n",
       "6 8.23427   4.195      "
      ]
     },
     "metadata": {},
     "output_type": "display_data"
    }
   ],
   "source": [
    "head(df)"
   ]
  },
  {
   "cell_type": "markdown",
   "metadata": {},
   "source": [
    "# Probar funciones"
   ]
  },
  {
   "cell_type": "code",
   "execution_count": 545,
   "metadata": {},
   "outputs": [
    {
     "name": "stdout",
     "output_type": "stream",
     "text": [
      "Classes ‘tbl_df’, ‘tbl’ and 'data.frame':\t257 obs. of  20 variables:\n",
      " $ Ano                            : num  2000 2000 2000 2000 2000 2000 2000 2000 2000 2000 ...\n",
      " $ Mes                            : num  1 2 3 4 5 6 7 8 9 10 ...\n",
      " $ Ano_Mes                        : chr  \"2000-01\" \"2000-02\" \"2000-03\" \"2000-04\" ...\n",
      " $ Fecha                          : Date, format: \"2000-01-01\" \"2000-02-01\" ...\n",
      " $ Precios_Mensuales              : num  36.8 40.3 37.6 44.3 37.3 ...\n",
      " $ Aportes_Energia_GWh            : num  1901 1994 2253 2430 4818 ...\n",
      " $ Volumen_Util_Diario_Energia_GWh: num  10116 9705 9223 8946 10131 ...\n",
      " $ Demanda_Energia_SIN_GWh        : num  3354 3278 3495 3298 3502 ...\n",
      " $ ONI                            : num  -1.7 -1.4 -1.1 -0.8 -0.7 -0.6 -0.6 -0.5 -0.5 -0.6 ...\n",
      " $ CEN_Total                      : num  11.9 11.9 12 12.1 12.3 ...\n",
      " $ CEN_Hidro                      : num  7.97 7.97 8.06 8.14 8.23 ...\n",
      " $ CEN_Termica                    : num  3.9 3.9 3.9 3.9 4.05 ...\n",
      " $ Dem_CEN                        : num  0.379 0.396 0.393 0.38 0.383 ...\n",
      " $ Termica_Hidraulica             : num  0.489 0.489 0.484 0.479 0.492 ...\n",
      " $ mean_aportes                   : num  2918 2042 3241 4826 6240 ...\n",
      " $ mean_reservas                  : num  10336 9246 8343 8617 9733 ...\n",
      " $ sd_aportes                     : num  1944 582 1521 2132 1845 ...\n",
      " $ sd_reservas                    : num  1012 1412 1716 1997 1843 ...\n",
      " $ Aportes_Normalizados           : num  -0.5233 -0.0823 -0.6494 -1.1241 -0.771 ...\n",
      " $ Reservas_Normalizadas          : num  -0.217 0.325 0.513 0.164 0.216 ...\n"
     ]
    }
   ],
   "source": [
    "df<-precios(df,start_at = '2019-06-01')\n",
    "df<-oni(df,start_at = '2019-06-01')\n",
    "df<-aportes(df,start_at = '2019-06-01')\n",
    "df<-reservas(df,start_at = '2019-06-01')\n",
    "df<-demanda(df,start_at = '2019-06-01')\n",
    "df<-columnas_calculadas(df)\n",
    "df<-normalizar_hidrologia(df)\n",
    "str(df)"
   ]
  },
  {
   "cell_type": "code",
   "execution_count": 546,
   "metadata": {
    "scrolled": true
   },
   "outputs": [
    {
     "data": {
      "text/html": [
       "<table>\n",
       "<thead><tr><th scope=col>Ano</th><th scope=col>Mes</th><th scope=col>Ano_Mes</th><th scope=col>Fecha</th><th scope=col>Precios_Mensuales</th><th scope=col>Aportes_Energia_GWh</th><th scope=col>Volumen_Util_Diario_Energia_GWh</th><th scope=col>Demanda_Energia_SIN_GWh</th><th scope=col>ONI</th><th scope=col>CEN_Total</th><th scope=col>CEN_Hidro</th><th scope=col>CEN_Termica</th><th scope=col>Dem_CEN</th><th scope=col>Termica_Hidraulica</th><th scope=col>mean_aportes</th><th scope=col>mean_reservas</th><th scope=col>sd_aportes</th><th scope=col>sd_reservas</th><th scope=col>Aportes_Normalizados</th><th scope=col>Reservas_Normalizadas</th></tr></thead>\n",
       "<tbody>\n",
       "\t<tr><td>2020      </td><td>12        </td><td>2020-12   </td><td>2020-12-01</td><td>892.941   </td><td>3266.028  </td><td> 7725.894 </td><td>5473.457  </td><td>0.8       </td><td>13.15767  </td><td>8.67967   </td><td>4.464     </td><td>0.5591    </td><td>0.5143    </td><td>3549.547  </td><td>11519.177 </td><td>1247.7605 </td><td>1347.602  </td><td>-0.227222 </td><td>-2.8148399</td></tr>\n",
       "\t<tr><td>2021      </td><td> 1        </td><td>2021-01   </td><td>2021-01-01</td><td>304.793   </td><td>9520.223  </td><td> 9874.873 </td><td>3915.356  </td><td>0.8       </td><td>13.15767  </td><td>8.67967   </td><td>4.464     </td><td>0.4000    </td><td>0.5143    </td><td>2918.066  </td><td>10335.935 </td><td>1944.3293 </td><td>1012.034  </td><td> 3.395596 </td><td>-0.4555798</td></tr>\n",
       "\t<tr><td>2021      </td><td> 2        </td><td>2021-02   </td><td>2021-02-01</td><td>224.495   </td><td>2714.175  </td><td>11175.058 </td><td>5746.467  </td><td>0.8       </td><td>13.15867  </td><td>8.68067   </td><td>4.464     </td><td>0.6499    </td><td>0.5142    </td><td>2041.531  </td><td> 9246.496 </td><td> 582.2503 </td><td>1411.523  </td><td> 1.155248 </td><td> 1.3662986</td></tr>\n",
       "\t<tr><td>2021      </td><td> 3        </td><td>2021-03   </td><td>2021-03-01</td><td>275.863   </td><td>5232.291  </td><td>10565.249 </td><td>3986.024  </td><td>0.8       </td><td>13.15867  </td><td>8.68067   </td><td>4.464     </td><td>0.4072    </td><td>0.5142    </td><td>3241.081  </td><td> 8343.221 </td><td>1521.0384 </td><td>1716.493  </td><td> 1.309112 </td><td> 1.2945166</td></tr>\n",
       "\t<tr><td>2021      </td><td> 4        </td><td>2021-04   </td><td>2021-04-01</td><td>584.456   </td><td>7624.242  </td><td> 9759.575 </td><td>4479.136  </td><td>0.8       </td><td>13.15867  </td><td>8.68067   </td><td>4.464     </td><td>0.4728    </td><td>0.5142    </td><td>4826.470  </td><td> 8617.229 </td><td>2132.1928 </td><td>1997.070  </td><td> 1.312157 </td><td> 0.5720111</td></tr>\n",
       "\t<tr><td>2021      </td><td> 5        </td><td>2021-05   </td><td>2021-05-01</td><td>137.428   </td><td>9823.246  </td><td>11897.966 </td><td>4041.771  </td><td>0.8       </td><td>13.16023  </td><td>8.68223   </td><td>4.464     </td><td>0.4128    </td><td>0.5142    </td><td>6240.113  </td><td> 9733.016 </td><td>1844.5686 </td><td>1842.675  </td><td> 1.942532 </td><td> 1.1748956</td></tr>\n",
       "</tbody>\n",
       "</table>\n"
      ],
      "text/latex": [
       "\\begin{tabular}{r|llllllllllllllllllll}\n",
       " Ano & Mes & Ano\\_Mes & Fecha & Precios\\_Mensuales & Aportes\\_Energia\\_GWh & Volumen\\_Util\\_Diario\\_Energia\\_GWh & Demanda\\_Energia\\_SIN\\_GWh & ONI & CEN\\_Total & CEN\\_Hidro & CEN\\_Termica & Dem\\_CEN & Termica\\_Hidraulica & mean\\_aportes & mean\\_reservas & sd\\_aportes & sd\\_reservas & Aportes\\_Normalizados & Reservas\\_Normalizadas\\\\\n",
       "\\hline\n",
       "\t 2020       & 12         & 2020-12    & 2020-12-01 & 892.941    & 3266.028   &  7725.894  & 5473.457   & 0.8        & 13.15767   & 8.67967    & 4.464      & 0.5591     & 0.5143     & 3549.547   & 11519.177  & 1247.7605  & 1347.602   & -0.227222  & -2.8148399\\\\\n",
       "\t 2021       &  1         & 2021-01    & 2021-01-01 & 304.793    & 9520.223   &  9874.873  & 3915.356   & 0.8        & 13.15767   & 8.67967    & 4.464      & 0.4000     & 0.5143     & 2918.066   & 10335.935  & 1944.3293  & 1012.034   &  3.395596  & -0.4555798\\\\\n",
       "\t 2021       &  2         & 2021-02    & 2021-02-01 & 224.495    & 2714.175   & 11175.058  & 5746.467   & 0.8        & 13.15867   & 8.68067    & 4.464      & 0.6499     & 0.5142     & 2041.531   &  9246.496  &  582.2503  & 1411.523   &  1.155248  &  1.3662986\\\\\n",
       "\t 2021       &  3         & 2021-03    & 2021-03-01 & 275.863    & 5232.291   & 10565.249  & 3986.024   & 0.8        & 13.15867   & 8.68067    & 4.464      & 0.4072     & 0.5142     & 3241.081   &  8343.221  & 1521.0384  & 1716.493   &  1.309112  &  1.2945166\\\\\n",
       "\t 2021       &  4         & 2021-04    & 2021-04-01 & 584.456    & 7624.242   &  9759.575  & 4479.136   & 0.8        & 13.15867   & 8.68067    & 4.464      & 0.4728     & 0.5142     & 4826.470   &  8617.229  & 2132.1928  & 1997.070   &  1.312157  &  0.5720111\\\\\n",
       "\t 2021       &  5         & 2021-05    & 2021-05-01 & 137.428    & 9823.246   & 11897.966  & 4041.771   & 0.8        & 13.16023   & 8.68223    & 4.464      & 0.4128     & 0.5142     & 6240.113   &  9733.016  & 1844.5686  & 1842.675   &  1.942532  &  1.1748956\\\\\n",
       "\\end{tabular}\n"
      ],
      "text/markdown": [
       "\n",
       "Ano | Mes | Ano_Mes | Fecha | Precios_Mensuales | Aportes_Energia_GWh | Volumen_Util_Diario_Energia_GWh | Demanda_Energia_SIN_GWh | ONI | CEN_Total | CEN_Hidro | CEN_Termica | Dem_CEN | Termica_Hidraulica | mean_aportes | mean_reservas | sd_aportes | sd_reservas | Aportes_Normalizados | Reservas_Normalizadas | \n",
       "|---|---|---|---|---|---|\n",
       "| 2020       | 12         | 2020-12    | 2020-12-01 | 892.941    | 3266.028   |  7725.894  | 5473.457   | 0.8        | 13.15767   | 8.67967    | 4.464      | 0.5591     | 0.5143     | 3549.547   | 11519.177  | 1247.7605  | 1347.602   | -0.227222  | -2.8148399 | \n",
       "| 2021       |  1         | 2021-01    | 2021-01-01 | 304.793    | 9520.223   |  9874.873  | 3915.356   | 0.8        | 13.15767   | 8.67967    | 4.464      | 0.4000     | 0.5143     | 2918.066   | 10335.935  | 1944.3293  | 1012.034   |  3.395596  | -0.4555798 | \n",
       "| 2021       |  2         | 2021-02    | 2021-02-01 | 224.495    | 2714.175   | 11175.058  | 5746.467   | 0.8        | 13.15867   | 8.68067    | 4.464      | 0.6499     | 0.5142     | 2041.531   |  9246.496  |  582.2503  | 1411.523   |  1.155248  |  1.3662986 | \n",
       "| 2021       |  3         | 2021-03    | 2021-03-01 | 275.863    | 5232.291   | 10565.249  | 3986.024   | 0.8        | 13.15867   | 8.68067    | 4.464      | 0.4072     | 0.5142     | 3241.081   |  8343.221  | 1521.0384  | 1716.493   |  1.309112  |  1.2945166 | \n",
       "| 2021       |  4         | 2021-04    | 2021-04-01 | 584.456    | 7624.242   |  9759.575  | 4479.136   | 0.8        | 13.15867   | 8.68067    | 4.464      | 0.4728     | 0.5142     | 4826.470   |  8617.229  | 2132.1928  | 1997.070   |  1.312157  |  0.5720111 | \n",
       "| 2021       |  5         | 2021-05    | 2021-05-01 | 137.428    | 9823.246   | 11897.966  | 4041.771   | 0.8        | 13.16023   | 8.68223    | 4.464      | 0.4128     | 0.5142     | 6240.113   |  9733.016  | 1844.5686  | 1842.675   |  1.942532  |  1.1748956 | \n",
       "\n",
       "\n"
      ],
      "text/plain": [
       "  Ano  Mes Ano_Mes Fecha      Precios_Mensuales Aportes_Energia_GWh\n",
       "1 2020 12  2020-12 2020-12-01 892.941           3266.028           \n",
       "2 2021  1  2021-01 2021-01-01 304.793           9520.223           \n",
       "3 2021  2  2021-02 2021-02-01 224.495           2714.175           \n",
       "4 2021  3  2021-03 2021-03-01 275.863           5232.291           \n",
       "5 2021  4  2021-04 2021-04-01 584.456           7624.242           \n",
       "6 2021  5  2021-05 2021-05-01 137.428           9823.246           \n",
       "  Volumen_Util_Diario_Energia_GWh Demanda_Energia_SIN_GWh ONI CEN_Total\n",
       "1  7725.894                       5473.457                0.8 13.15767 \n",
       "2  9874.873                       3915.356                0.8 13.15767 \n",
       "3 11175.058                       5746.467                0.8 13.15867 \n",
       "4 10565.249                       3986.024                0.8 13.15867 \n",
       "5  9759.575                       4479.136                0.8 13.15867 \n",
       "6 11897.966                       4041.771                0.8 13.16023 \n",
       "  CEN_Hidro CEN_Termica Dem_CEN Termica_Hidraulica mean_aportes mean_reservas\n",
       "1 8.67967   4.464       0.5591  0.5143             3549.547     11519.177    \n",
       "2 8.67967   4.464       0.4000  0.5143             2918.066     10335.935    \n",
       "3 8.68067   4.464       0.6499  0.5142             2041.531      9246.496    \n",
       "4 8.68067   4.464       0.4072  0.5142             3241.081      8343.221    \n",
       "5 8.68067   4.464       0.4728  0.5142             4826.470      8617.229    \n",
       "6 8.68223   4.464       0.4128  0.5142             6240.113      9733.016    \n",
       "  sd_aportes sd_reservas Aportes_Normalizados Reservas_Normalizadas\n",
       "1 1247.7605  1347.602    -0.227222            -2.8148399           \n",
       "2 1944.3293  1012.034     3.395596            -0.4555798           \n",
       "3  582.2503  1411.523     1.155248             1.3662986           \n",
       "4 1521.0384  1716.493     1.309112             1.2945166           \n",
       "5 2132.1928  1997.070     1.312157             0.5720111           \n",
       "6 1844.5686  1842.675     1.942532             1.1748956           "
      ]
     },
     "metadata": {},
     "output_type": "display_data"
    }
   ],
   "source": [
    "tail(df)"
   ]
  },
  {
   "cell_type": "code",
   "execution_count": 233,
   "metadata": {},
   "outputs": [],
   "source": [
    "generar_archivos<-function(df, start_at, n_iter, folder_location){\n",
    "    \n",
    "    \n",
    "    if(dir.exists(folder_location)){\n",
    "        while(file.remove(list.files(path = folder_location,pattern = '[0-9][0-9][0-9][0-9][0-9].csv',full.names = TRUE)[1])==TRUE){\n",
    "            list.files(path = folder_location,pattern = '[0-9][0-9][0-9][0-9][0-9].csv',full.names = TRUE)[1]\n",
    "        }\n",
    "\n",
    "        fechaini<-as.Date(start_at)\n",
    "\n",
    "        for( i in seq(n_iter)){\n",
    "\n",
    "            #Normalizar aportes\n",
    "            #normalizar reservas\n",
    "            #Agregar variables calculadas\n",
    "            df<-precios(df,fechaini)\n",
    "            df<-oni(df,fechaini)\n",
    "            df<-aportes(df,fechaini)\n",
    "            df<-reservas(df,fechaini)\n",
    "            df<-demanda(df,fechaini)\n",
    "            df<-columnas_calculadas(df)\n",
    "\n",
    "            #pronostico de variables calculadas\n",
    "            write_csv(df, paste0(folder_location,str_pad(i, pad = 0, width = 5),'.csv'))\n",
    "        }\n",
    "        cat(paste0(n_iter, ' archivos generados en la ruta ',folder_location))\n",
    "    } else{\n",
    "        cat('Error: Directorio no existe en esta mquina')\n",
    "    }\n",
    "\n",
    "}"
   ]
  },
  {
   "cell_type": "code",
   "execution_count": 234,
   "metadata": {},
   "outputs": [
    {
     "name": "stdout",
     "output_type": "stream",
     "text": [
      "20 archivos generados en la ruta ./Resultados/"
     ]
    }
   ],
   "source": [
    "generar_archivos(df,start_at = '2019-06-01',n_iter = 20,folder_location = './Resultados/')"
   ]
  },
  {
   "cell_type": "markdown",
   "metadata": {},
   "source": [
    "# Tareas"
   ]
  },
  {
   "cell_type": "code",
   "execution_count": 235,
   "metadata": {
    "collapsed": true
   },
   "outputs": [],
   "source": [
    "#para el oni es un AR qe estime el P optimo y genere hacia adelante una serie sintetica y llenar 2h\n",
    "#hacer el arx pronosticar uno a uno y tiene como entrada el ONI y se devuelven las unidades 2h\n",
    "#hacer arx con oni, aportes, relacion T/H y me devuelvo 2h\n",
    "#un modelo simple de precio 2h"
   ]
  },
  {
   "cell_type": "code",
   "execution_count": null,
   "metadata": {
    "collapsed": true
   },
   "outputs": [],
   "source": []
  }
 ],
 "metadata": {
  "kernelspec": {
   "display_name": "R",
   "language": "R",
   "name": "ir"
  },
  "language_info": {
   "codemirror_mode": "r",
   "file_extension": ".r",
   "mimetype": "text/x-r-source",
   "name": "R",
   "pygments_lexer": "r",
   "version": "3.3.3"
  }
 },
 "nbformat": 4,
 "nbformat_minor": 2
}
